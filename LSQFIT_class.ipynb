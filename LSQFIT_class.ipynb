{
 "cells": [
  {
   "cell_type": "code",
   "execution_count": 1,
   "id": "2130cecd-9456-41eb-a195-58e8fb5b89ab",
   "metadata": {},
   "outputs": [
    {
     "name": "stderr",
     "output_type": "stream",
     "text": [
      "\u001b[32m\u001b[1m  Activating\u001b[22m\u001b[39m project at `c:\\Users\\steal\\Downloads\\Zero2Hero-JuliaWorkshop-main\\BME-502-2025-homeworks`\n"
     ]
    }
   ],
   "source": [
    "import Pkg\n",
    "Pkg.activate(\".\")"
   ]
  },
  {
   "cell_type": "code",
   "execution_count": 2,
   "id": "89f9952e-2925-41b0-9a8f-4f3af18c66e6",
   "metadata": {},
   "outputs": [
    {
     "name": "stderr",
     "output_type": "stream",
     "text": [
      "\u001b[32m\u001b[1m   Resolving\u001b[22m\u001b[39m package versions...\n",
      "\u001b[32m\u001b[1m  No Changes\u001b[22m\u001b[39m to `C:\\Users\\steal\\Downloads\\Zero2Hero-JuliaWorkshop-main\\BME-502-2025-homeworks\\Project.toml`\n",
      "\u001b[32m\u001b[1m  No Changes\u001b[22m\u001b[39m to `C:\\Users\\steal\\Downloads\\Zero2Hero-JuliaWorkshop-main\\BME-502-2025-homeworks\\Manifest.toml`\n"
     ]
    }
   ],
   "source": [
    "Pkg.add([\"NonlinearSolve\",\"Random\",\"Plots\",\"ForwardDiff\",\"LsqFit\",\"Statistics\"])"
   ]
  },
  {
   "cell_type": "code",
   "execution_count": 3,
   "id": "33a220d3-c722-44df-9e74-a7759d5fe38e",
   "metadata": {},
   "outputs": [],
   "source": [
    "using Plots, Random, ForwardDiff, NonlinearSolve, LsqFit, Statistics "
   ]
  },
  {
   "cell_type": "code",
   "execution_count": 4,
   "id": "83c1874a-4014-49ae-8f5e-43232e849f4f",
   "metadata": {},
   "outputs": [
    {
     "data": {
      "text/plain": [
       "11-element Vector{Float64}:\n",
       " 0.0\n",
       " 0.1\n",
       " 0.2\n",
       " 0.3\n",
       " 0.4\n",
       " 0.5\n",
       " 0.6\n",
       " 0.7\n",
       " 0.8\n",
       " 0.9\n",
       " 1.0"
      ]
     },
     "metadata": {},
     "output_type": "display_data"
    }
   ],
   "source": [
    "x = collect(0:0.1:1)"
   ]
  },
  {
   "cell_type": "code",
   "execution_count": 5,
   "id": "1cea096f-3a2b-409f-9e71-3c9782e02305",
   "metadata": {},
   "outputs": [
    {
     "data": {
      "text/plain": [
       "11-element Vector{Float64}:\n",
       " 2.0\n",
       " 1.6374615061559636\n",
       " 1.3406400920712787\n",
       " 1.097623272188053\n",
       " 0.8986579282344431\n",
       " 0.7357588823428847\n",
       " 0.6023884238244043\n",
       " 0.493193927883213\n",
       " 0.40379303598931077\n",
       " 0.33059777644317306\n",
       " 0.2706705664732254"
      ]
     },
     "metadata": {},
     "output_type": "display_data"
    }
   ],
   "source": [
    "y = 2 .* exp.(-2x)"
   ]
  },
  {
   "cell_type": "code",
   "execution_count": 6,
   "id": "2d99d517-0dc2-4775-a75c-d42e91165966",
   "metadata": {},
   "outputs": [
    {
     "data": {
      "image/png": "[encoded data removed]",
      "image/svg+xml": [
       "<?xml version=\"1.0\" encoding=\"utf-8\"?>\n",
       "<svg xmlns=\"http://www.w3.org/2000/svg\" xmlns:xlink=\"http://www.w3.org/1999/xlink\" width=\"600\" height=\"400\" viewBox=\"0 0 2400 1600\">\n",
       "<defs>\n",
       "  <clipPath id=\"clip760\">\n",
       "    <rect x=\"0\" y=\"0\" width=\"2400\" height=\"1600\"/>\n",
       "  </clipPath>\n",
       "</defs>\n",
       "<path clip-path=\"url(#clip760)\" d=\"M0 1600 L2400 1600 L2400 0 L0 0  Z\" fill=\"#ffffff\" fill-rule=\"evenodd\" fill-opacity=\"1\"/>\n",
       "<defs>\n",
       "  <clipPath id=\"clip761\">\n",
       "    <rect x=\"480\" y=\"0\" width=\"1681\" height=\"1600\"/>\n",
       "  </clipPath>\n",
       "</defs>\n",
       "<path clip-path=\"url(#clip760)\" d=\"M155.765 1486.45 L2352.76 1486.45 L2352.76 47.2441 L155.765 47.2441  Z\" fill=\"#ffffff\" fill-rule=\"evenodd\" fill-opacity=\"1\"/>\n",
       "<defs>\n",
       "  <clipPath id=\"clip762\">\n",
       "    <rect x=\"155\" y=\"47\" width=\"2198\" height=\"1440\"/>\n",
       "  </clipPath>\n",
       "</defs>\n",
       "<polyline clip-path=\"url(#clip762)\" style=\"stroke:#000000; stroke-linecap:round; stroke-linejoin:round; stroke-width:2; stroke-opacity:0.1; fill:none\" points=\"217.944,1486.45 217.944,47.2441 \"/>\n",
       "<polyline clip-path=\"url(#clip762)\" style=\"stroke:#000000; stroke-linecap:round; stroke-linejoin:round; stroke-width:2; stroke-opacity:0.1; fill:none\" points=\"736.102,1486.45 736.102,47.2441 \"/>\n",
       "<polyline clip-path=\"url(#clip762)\" style=\"stroke:#000000; stroke-linecap:round; stroke-linejoin:round; stroke-width:2; stroke-opacity:0.1; fill:none\" points=\"1254.26,1486.45 1254.26,47.2441 \"/>\n",
       "<polyline clip-path=\"url(#clip762)\" style=\"stroke:#000000; stroke-linecap:round; stroke-linejoin:round; stroke-width:2; stroke-opacity:0.1; fill:none\" points=\"1772.42,1486.45 1772.42,47.2441 \"/>\n",
       "<polyline clip-path=\"url(#clip762)\" style=\"stroke:#000000; stroke-linecap:round; stroke-linejoin:round; stroke-width:2; stroke-opacity:0.1; fill:none\" points=\"2290.58,1486.45 2290.58,47.2441 \"/>\n",
       "<polyline clip-path=\"url(#clip762)\" style=\"stroke:#000000; stroke-linecap:round; stroke-linejoin:round; stroke-width:2; stroke-opacity:0.1; fill:none\" points=\"155.765,1265.66 2352.76,1265.66 \"/>\n",
       "<polyline clip-path=\"url(#clip762)\" style=\"stroke:#000000; stroke-linecap:round; stroke-linejoin:round; stroke-width:2; stroke-opacity:0.1; fill:none\" points=\"155.765,873.101 2352.76,873.101 \"/>\n",
       "<polyline clip-path=\"url(#clip762)\" style=\"stroke:#000000; stroke-linecap:round; stroke-linejoin:round; stroke-width:2; stroke-opacity:0.1; fill:none\" points=\"155.765,480.539 2352.76,480.539 \"/>\n",
       "<polyline clip-path=\"url(#clip762)\" style=\"stroke:#000000; stroke-linecap:round; stroke-linejoin:round; stroke-width:2; stroke-opacity:0.1; fill:none\" points=\"155.765,87.9763 2352.76,87.9763 \"/>\n",
       "<polyline clip-path=\"url(#clip760)\" style=\"stroke:#000000; stroke-linecap:round; stroke-linejoin:round; stroke-width:4; stroke-opacity:1; fill:none\" points=\"155.765,1486.45 2352.76,1486.45 \"/>\n",
       "<polyline clip-path=\"url(#clip760)\" style=\"stroke:#000000; stroke-linecap:round; stroke-linejoin:round; stroke-width:4; stroke-opacity:1; fill:none\" points=\"217.944,1486.45 217.944,1467.55 \"/>\n",
       "<polyline clip-path=\"url(#clip760)\" style=\"stroke:#000000; stroke-linecap:round; stroke-linejoin:round; stroke-width:4; stroke-opacity:1; fill:none\" points=\"736.102,1486.45 736.102,1467.55 \"/>\n",
       "<polyline clip-path=\"url(#clip760)\" style=\"stroke:#000000; stroke-linecap:round; stroke-linejoin:round; stroke-width:4; stroke-opacity:1; fill:none\" points=\"1254.26,1486.45 1254.26,1467.55 \"/>\n",
       "<polyline clip-path=\"url(#clip760)\" style=\"stroke:#000000; stroke-linecap:round; stroke-linejoin:round; stroke-width:4; stroke-opacity:1; fill:none\" points=\"1772.42,1486.45 1772.42,1467.55 \"/>\n",
       "<polyline clip-path=\"url(#clip760)\" style=\"stroke:#000000; stroke-linecap:round; stroke-linejoin:round; stroke-width:4; stroke-opacity:1; fill:none\" points=\"2290.58,1486.45 2290.58,1467.55 \"/>\n",
       "<path clip-path=\"url(#clip760)\" d=\"M180.247 1517.37 Q176.636 1517.37 174.808 1520.93 Q173.002 1524.47 173.002 1531.6 Q173.002 1538.71 174.808 1542.27 Q176.636 1545.82 180.247 1545.82 Q183.882 1545.82 185.687 1542.27 Q187.516 1538.71 187.516 1531.6 Q187.516 1524.47 185.687 1520.93 Q183.882 1517.37 180.247 1517.37 M180.247 1513.66 Q186.057 1513.66 189.113 1518.27 Q192.192 1522.85 192.192 1531.6 Q192.192 1540.33 189.113 1544.94 Q186.057 1549.52 180.247 1549.52 Q174.437 1549.52 171.358 1544.94 Q168.303 1540.33 168.303 1531.6 Q168.303 1522.85 171.358 1518.27 Q174.437 1513.66 180.247 1513.66 Z\" fill=\"#000000\" fill-rule=\"nonzero\" fill-opacity=\"1\" /><path clip-path=\"url(#clip760)\" d=\"M200.409 1542.97 L205.294 1542.97 L205.294 1548.85 L200.409 1548.85 L200.409 1542.97 Z\" fill=\"#000000\" fill-rule=\"nonzero\" fill-opacity=\"1\" /><path clip-path=\"url(#clip760)\" d=\"M225.479 1517.37 Q221.867 1517.37 220.039 1520.93 Q218.233 1524.47 218.233 1531.6 Q218.233 1538.71 220.039 1542.27 Q221.867 1545.82 225.479 1545.82 Q229.113 1545.82 230.918 1542.27 Q232.747 1538.71 232.747 1531.6 Q232.747 1524.47 230.918 1520.93 Q229.113 1517.37 225.479 1517.37 M225.479 1513.66 Q231.289 1513.66 234.344 1518.27 Q237.423 1522.85 237.423 1531.6 Q237.423 1540.33 234.344 1544.94 Q231.289 1549.52 225.479 1549.52 Q219.668 1549.52 216.59 1544.94 Q213.534 1540.33 213.534 1531.6 Q213.534 1522.85 216.59 1518.27 Q219.668 1513.66 225.479 1513.66 Z\" fill=\"#000000\" fill-rule=\"nonzero\" fill-opacity=\"1\" /><path clip-path=\"url(#clip760)\" d=\"M255.64 1517.37 Q252.029 1517.37 250.201 1520.93 Q248.395 1524.47 248.395 1531.6 Q248.395 1538.71 250.201 1542.27 Q252.029 1545.82 255.64 1545.82 Q259.275 1545.82 261.08 1542.27 Q262.909 1538.71 262.909 1531.6 Q262.909 1524.47 261.08 1520.93 Q259.275 1517.37 255.64 1517.37 M255.64 1513.66 Q261.451 1513.66 264.506 1518.27 Q267.585 1522.85 267.585 1531.6 Q267.585 1540.33 264.506 1544.94 Q261.451 1549.52 255.64 1549.52 Q249.83 1549.52 246.752 1544.94 Q243.696 1540.33 243.696 1531.6 Q243.696 1522.85 246.752 1518.27 Q249.83 1513.66 255.64 1513.66 Z\" fill=\"#000000\" fill-rule=\"nonzero\" fill-opacity=\"1\" /><path clip-path=\"url(#clip760)\" d=\"M698.903 1517.37 Q695.292 1517.37 693.463 1520.93 Q691.658 1524.47 691.658 1531.6 Q691.658 1538.71 693.463 1542.27 Q695.292 1545.82 698.903 1545.82 Q702.538 1545.82 704.343 1542.27 Q706.172 1538.71 706.172 1531.6 Q706.172 1524.47 704.343 1520.93 Q702.538 1517.37 698.903 1517.37 M698.903 1513.66 Q704.713 1513.66 707.769 1518.27 Q710.848 1522.85 710.848 1531.6 Q710.848 1540.33 707.769 1544.94 Q704.713 1549.52 698.903 1549.52 Q693.093 1549.52 690.014 1544.94 Q686.959 1540.33 686.959 1531.6 Q686.959 1522.85 690.014 1518.27 Q693.093 1513.66 698.903 1513.66 Z\" fill=\"#000000\" fill-rule=\"nonzero\" fill-opacity=\"1\" /><path clip-path=\"url(#clip760)\" d=\"M719.065 1542.97 L723.949 1542.97 L723.949 1548.85 L719.065 1548.85 L719.065 1542.97 Z\" fill=\"#000000\" fill-rule=\"nonzero\" fill-opacity=\"1\" /><path clip-path=\"url(#clip760)\" d=\"M738.162 1544.91 L754.482 1544.91 L754.482 1548.85 L732.537 1548.85 L732.537 1544.91 Q735.199 1542.16 739.783 1537.53 Q744.389 1532.88 745.57 1531.53 Q747.815 1529.01 748.695 1527.27 Q749.597 1525.51 749.597 1523.82 Q749.597 1521.07 747.653 1519.33 Q745.732 1517.6 742.63 1517.6 Q740.431 1517.6 737.977 1518.36 Q735.547 1519.13 732.769 1520.68 L732.769 1515.95 Q735.593 1514.82 738.047 1514.24 Q740.5 1513.66 742.537 1513.66 Q747.908 1513.66 751.102 1516.35 Q754.296 1519.03 754.296 1523.52 Q754.296 1525.65 753.486 1527.57 Q752.699 1529.47 750.593 1532.07 Q750.014 1532.74 746.912 1535.95 Q743.81 1539.15 738.162 1544.91 Z\" fill=\"#000000\" fill-rule=\"nonzero\" fill-opacity=\"1\" /><path clip-path=\"url(#clip760)\" d=\"M764.343 1514.29 L782.699 1514.29 L782.699 1518.22 L768.625 1518.22 L768.625 1526.7 Q769.644 1526.35 770.662 1526.19 Q771.681 1526 772.699 1526 Q778.486 1526 781.866 1529.17 Q785.245 1532.34 785.245 1537.76 Q785.245 1543.34 781.773 1546.44 Q778.301 1549.52 771.982 1549.52 Q769.806 1549.52 767.537 1549.15 Q765.292 1548.78 762.884 1548.04 L762.884 1543.34 Q764.968 1544.47 767.19 1545.03 Q769.412 1545.58 771.889 1545.58 Q775.894 1545.58 778.232 1543.48 Q780.57 1541.37 780.57 1537.76 Q780.57 1534.15 778.232 1532.04 Q775.894 1529.94 771.889 1529.94 Q770.014 1529.94 768.139 1530.35 Q766.287 1530.77 764.343 1531.65 L764.343 1514.29 Z\" fill=\"#000000\" fill-rule=\"nonzero\" fill-opacity=\"1\" /><path clip-path=\"url(#clip760)\" d=\"M1216.56 1517.37 Q1212.95 1517.37 1211.12 1520.93 Q1209.32 1524.47 1209.32 1531.6 Q1209.32 1538.71 1211.12 1542.27 Q1212.95 1545.82 1216.56 1545.82 Q1220.2 1545.82 1222 1542.27 Q1223.83 1538.71 1223.83 1531.6 Q1223.83 1524.47 1222 1520.93 Q1220.2 1517.37 1216.56 1517.37 M1216.56 1513.66 Q1222.37 1513.66 1225.43 1518.27 Q1228.51 1522.85 1228.51 1531.6 Q1228.51 1540.33 1225.43 1544.94 Q1222.37 1549.52 1216.56 1549.52 Q1210.75 1549.52 1207.68 1544.94 Q1204.62 1540.33 1204.62 1531.6 Q1204.62 1522.85 1207.68 1518.27 Q1210.75 1513.66 1216.56 1513.66 Z\" fill=\"#000000\" fill-rule=\"nonzero\" fill-opacity=\"1\" /><path clip-path=\"url(#clip760)\" d=\"M1236.73 1542.97 L1241.61 1542.97 L1241.61 1548.85 L1236.73 1548.85 L1236.73 1542.97 Z\" fill=\"#000000\" fill-rule=\"nonzero\" fill-opacity=\"1\" /><path clip-path=\"url(#clip760)\" d=\"M1251.84 1514.29 L1270.2 1514.29 L1270.2 1518.22 L1256.12 1518.22 L1256.12 1526.7 Q1257.14 1526.35 1258.16 1526.19 Q1259.18 1526 1260.2 1526 Q1265.98 1526 1269.36 1529.17 Q1272.74 1532.34 1272.74 1537.76 Q1272.74 1543.34 1269.27 1546.44 Q1265.8 1549.52 1259.48 1549.52 Q1257.3 1549.52 1255.04 1549.15 Q1252.79 1548.78 1250.38 1548.04 L1250.38 1543.34 Q1252.47 1544.47 1254.69 1545.03 Q1256.91 1545.58 1259.39 1545.58 Q1263.39 1545.58 1265.73 1543.48 Q1268.07 1541.37 1268.07 1537.76 Q1268.07 1534.15 1265.73 1532.04 Q1263.39 1529.94 1259.39 1529.94 Q1257.51 1529.94 1255.64 1530.35 Q1253.79 1530.77 1251.84 1531.65 L1251.84 1514.29 Z\" fill=\"#000000\" fill-rule=\"nonzero\" fill-opacity=\"1\" /><path clip-path=\"url(#clip760)\" d=\"M1291.96 1517.37 Q1288.35 1517.37 1286.52 1520.93 Q1284.71 1524.47 1284.71 1531.6 Q1284.71 1538.71 1286.52 1542.27 Q1288.35 1545.82 1291.96 1545.82 Q1295.59 1545.82 1297.4 1542.27 Q1299.23 1538.71 1299.23 1531.6 Q1299.23 1524.47 1297.4 1520.93 Q1295.59 1517.37 1291.96 1517.37 M1291.96 1513.66 Q1297.77 1513.66 1300.82 1518.27 Q1303.9 1522.85 1303.9 1531.6 Q1303.9 1540.33 1300.82 1544.94 Q1297.77 1549.52 1291.96 1549.52 Q1286.15 1549.52 1283.07 1544.94 Q1280.01 1540.33 1280.01 1531.6 Q1280.01 1522.85 1283.07 1518.27 Q1286.15 1513.66 1291.96 1513.66 Z\" fill=\"#000000\" fill-rule=\"nonzero\" fill-opacity=\"1\" /><path clip-path=\"url(#clip760)\" d=\"M1735.22 1517.37 Q1731.61 1517.37 1729.78 1520.93 Q1727.97 1524.47 1727.97 1531.6 Q1727.97 1538.71 1729.78 1542.27 Q1731.61 1545.82 1735.22 1545.82 Q1738.85 1545.82 1740.66 1542.27 Q1742.49 1538.71 1742.49 1531.6 Q1742.49 1524.47 1740.66 1520.93 Q1738.85 1517.37 1735.22 1517.37 M1735.22 1513.66 Q1741.03 1513.66 1744.09 1518.27 Q1747.16 1522.85 1747.16 1531.6 Q1747.16 1540.33 1744.09 1544.94 Q1741.03 1549.52 1735.22 1549.52 Q1729.41 1549.52 1726.33 1544.94 Q1723.28 1540.33 1723.28 1531.6 Q1723.28 1522.85 1726.33 1518.27 Q1729.41 1513.66 1735.22 1513.66 Z\" fill=\"#000000\" fill-rule=\"nonzero\" fill-opacity=\"1\" /><path clip-path=\"url(#clip760)\" d=\"M1755.38 1542.97 L1760.27 1542.97 L1760.27 1548.85 L1755.38 1548.85 L1755.38 1542.97 Z\" fill=\"#000000\" fill-rule=\"nonzero\" fill-opacity=\"1\" /><path clip-path=\"url(#clip760)\" d=\"M1769.27 1514.29 L1791.49 1514.29 L1791.49 1516.28 L1778.95 1548.85 L1774.06 1548.85 L1785.87 1518.22 L1769.27 1518.22 L1769.27 1514.29 Z\" fill=\"#000000\" fill-rule=\"nonzero\" fill-opacity=\"1\" /><path clip-path=\"url(#clip760)\" d=\"M1800.66 1514.29 L1819.02 1514.29 L1819.02 1518.22 L1804.94 1518.22 L1804.94 1526.7 Q1805.96 1526.35 1806.98 1526.19 Q1808 1526 1809.02 1526 Q1814.8 1526 1818.18 1529.17 Q1821.56 1532.34 1821.56 1537.76 Q1821.56 1543.34 1818.09 1546.44 Q1814.62 1549.52 1808.3 1549.52 Q1806.12 1549.52 1803.85 1549.15 Q1801.61 1548.78 1799.2 1548.04 L1799.2 1543.34 Q1801.28 1544.47 1803.51 1545.03 Q1805.73 1545.58 1808.21 1545.58 Q1812.21 1545.58 1814.55 1543.48 Q1816.89 1541.37 1816.89 1537.76 Q1816.89 1534.15 1814.55 1532.04 Q1812.21 1529.94 1808.21 1529.94 Q1806.33 1529.94 1804.46 1530.35 Q1802.6 1530.77 1800.66 1531.65 L1800.66 1514.29 Z\" fill=\"#000000\" fill-rule=\"nonzero\" fill-opacity=\"1\" /><path clip-path=\"url(#clip760)\" d=\"M2242.65 1544.91 L2250.29 1544.91 L2250.29 1518.55 L2241.98 1520.21 L2241.98 1515.95 L2250.24 1514.29 L2254.92 1514.29 L2254.92 1544.91 L2262.56 1544.91 L2262.56 1548.85 L2242.65 1548.85 L2242.65 1544.91 Z\" fill=\"#000000\" fill-rule=\"nonzero\" fill-opacity=\"1\" /><path clip-path=\"url(#clip760)\" d=\"M2272 1542.97 L2276.88 1542.97 L2276.88 1548.85 L2272 1548.85 L2272 1542.97 Z\" fill=\"#000000\" fill-rule=\"nonzero\" fill-opacity=\"1\" /><path clip-path=\"url(#clip760)\" d=\"M2297.07 1517.37 Q2293.46 1517.37 2291.63 1520.93 Q2289.82 1524.47 2289.82 1531.6 Q2289.82 1538.71 2291.63 1542.27 Q2293.46 1545.82 2297.07 1545.82 Q2300.7 1545.82 2302.51 1542.27 Q2304.34 1538.71 2304.34 1531.6 Q2304.34 1524.47 2302.51 1520.93 Q2300.7 1517.37 2297.07 1517.37 M2297.07 1513.66 Q2302.88 1513.66 2305.94 1518.27 Q2309.01 1522.85 2309.01 1531.6 Q2309.01 1540.33 2305.94 1544.94 Q2302.88 1549.52 2297.07 1549.52 Q2291.26 1549.52 2288.18 1544.94 Q2285.13 1540.33 2285.13 1531.6 Q2285.13 1522.85 2288.18 1518.27 Q2291.26 1513.66 2297.07 1513.66 Z\" fill=\"#000000\" fill-rule=\"nonzero\" fill-opacity=\"1\" /><path clip-path=\"url(#clip760)\" d=\"M2327.23 1517.37 Q2323.62 1517.37 2321.79 1520.93 Q2319.99 1524.47 2319.99 1531.6 Q2319.99 1538.71 2321.79 1542.27 Q2323.62 1545.82 2327.23 1545.82 Q2330.87 1545.82 2332.67 1542.27 Q2334.5 1538.71 2334.5 1531.6 Q2334.5 1524.47 2332.67 1520.93 Q2330.87 1517.37 2327.23 1517.37 M2327.23 1513.66 Q2333.04 1513.66 2336.1 1518.27 Q2339.18 1522.85 2339.18 1531.6 Q2339.18 1540.33 2336.1 1544.94 Q2333.04 1549.52 2327.23 1549.52 Q2321.42 1549.52 2318.34 1544.94 Q2315.29 1540.33 2315.29 1531.6 Q2315.29 1522.85 2318.34 1518.27 Q2321.42 1513.66 2327.23 1513.66 Z\" fill=\"#000000\" fill-rule=\"nonzero\" fill-opacity=\"1\" /><polyline clip-path=\"url(#clip760)\" style=\"stroke:#000000; stroke-linecap:round; stroke-linejoin:round; stroke-width:4; stroke-opacity:1; fill:none\" points=\"155.765,1486.45 155.765,47.2441 \"/>\n",
       "<polyline clip-path=\"url(#clip760)\" style=\"stroke:#000000; stroke-linecap:round; stroke-linejoin:round; stroke-width:4; stroke-opacity:1; fill:none\" points=\"155.765,1265.66 174.663,1265.66 \"/>\n",
       "<polyline clip-path=\"url(#clip760)\" style=\"stroke:#000000; stroke-linecap:round; stroke-linejoin:round; stroke-width:4; stroke-opacity:1; fill:none\" points=\"155.765,873.101 174.663,873.101 \"/>\n",
       "<polyline clip-path=\"url(#clip760)\" style=\"stroke:#000000; stroke-linecap:round; stroke-linejoin:round; stroke-width:4; stroke-opacity:1; fill:none\" points=\"155.765,480.539 174.663,480.539 \"/>\n",
       "<polyline clip-path=\"url(#clip760)\" style=\"stroke:#000000; stroke-linecap:round; stroke-linejoin:round; stroke-width:4; stroke-opacity:1; fill:none\" points=\"155.765,87.9763 174.663,87.9763 \"/>\n",
       "<path clip-path=\"url(#clip760)\" d=\"M63.5847 1251.46 Q59.9736 1251.46 58.1449 1255.03 Q56.3393 1258.57 56.3393 1265.7 Q56.3393 1272.8 58.1449 1276.37 Q59.9736 1279.91 63.5847 1279.91 Q67.2189 1279.91 69.0244 1276.37 Q70.8531 1272.8 70.8531 1265.7 Q70.8531 1258.57 69.0244 1255.03 Q67.2189 1251.46 63.5847 1251.46 M63.5847 1247.76 Q69.3948 1247.76 72.4503 1252.36 Q75.529 1256.95 75.529 1265.7 Q75.529 1274.42 72.4503 1279.03 Q69.3948 1283.61 63.5847 1283.61 Q57.7745 1283.61 54.6958 1279.03 Q51.6403 1274.42 51.6403 1265.7 Q51.6403 1256.95 54.6958 1252.36 Q57.7745 1247.76 63.5847 1247.76 Z\" fill=\"#000000\" fill-rule=\"nonzero\" fill-opacity=\"1\" /><path clip-path=\"url(#clip760)\" d=\"M83.7466 1277.06 L88.6308 1277.06 L88.6308 1282.94 L83.7466 1282.94 L83.7466 1277.06 Z\" fill=\"#000000\" fill-rule=\"nonzero\" fill-opacity=\"1\" /><path clip-path=\"url(#clip760)\" d=\"M98.8622 1248.38 L117.219 1248.38 L117.219 1252.32 L103.145 1252.32 L103.145 1260.79 Q104.163 1260.44 105.182 1260.28 Q106.2 1260.1 107.219 1260.1 Q113.006 1260.1 116.385 1263.27 Q119.765 1266.44 119.765 1271.86 Q119.765 1277.43 116.293 1280.54 Q112.82 1283.61 106.501 1283.61 Q104.325 1283.61 102.057 1283.24 Q99.8113 1282.87 97.4039 1282.13 L97.4039 1277.43 Q99.4872 1278.57 101.709 1279.12 Q103.932 1279.68 106.408 1279.68 Q110.413 1279.68 112.751 1277.57 Q115.089 1275.47 115.089 1271.86 Q115.089 1268.24 112.751 1266.14 Q110.413 1264.03 106.408 1264.03 Q104.534 1264.03 102.659 1264.45 Q100.807 1264.86 98.8622 1265.74 L98.8622 1248.38 Z\" fill=\"#000000\" fill-rule=\"nonzero\" fill-opacity=\"1\" /><path clip-path=\"url(#clip760)\" d=\"M53.3995 886.446 L61.0384 886.446 L61.0384 860.08 L52.7282 861.747 L52.7282 857.488 L60.9921 855.821 L65.668 855.821 L65.668 886.446 L73.3068 886.446 L73.3068 890.381 L53.3995 890.381 L53.3995 886.446 Z\" fill=\"#000000\" fill-rule=\"nonzero\" fill-opacity=\"1\" /><path clip-path=\"url(#clip760)\" d=\"M82.7512 884.501 L87.6354 884.501 L87.6354 890.381 L82.7512 890.381 L82.7512 884.501 Z\" fill=\"#000000\" fill-rule=\"nonzero\" fill-opacity=\"1\" /><path clip-path=\"url(#clip760)\" d=\"M107.821 858.9 Q104.209 858.9 102.381 862.465 Q100.575 866.006 100.575 873.136 Q100.575 880.242 102.381 883.807 Q104.209 887.349 107.821 887.349 Q111.455 887.349 113.26 883.807 Q115.089 880.242 115.089 873.136 Q115.089 866.006 113.26 862.465 Q111.455 858.9 107.821 858.9 M107.821 855.196 Q113.631 855.196 116.686 859.803 Q119.765 864.386 119.765 873.136 Q119.765 881.863 116.686 886.469 Q113.631 891.052 107.821 891.052 Q102.01 891.052 98.9317 886.469 Q95.8761 881.863 95.8761 873.136 Q95.8761 864.386 98.9317 859.803 Q102.01 855.196 107.821 855.196 Z\" fill=\"#000000\" fill-rule=\"nonzero\" fill-opacity=\"1\" /><path clip-path=\"url(#clip760)\" d=\"M54.3949 493.884 L62.0337 493.884 L62.0337 467.518 L53.7236 469.185 L53.7236 464.925 L61.9874 463.259 L66.6633 463.259 L66.6633 493.884 L74.3022 493.884 L74.3022 497.819 L54.3949 497.819 L54.3949 493.884 Z\" fill=\"#000000\" fill-rule=\"nonzero\" fill-opacity=\"1\" /><path clip-path=\"url(#clip760)\" d=\"M83.7466 491.939 L88.6308 491.939 L88.6308 497.819 L83.7466 497.819 L83.7466 491.939 Z\" fill=\"#000000\" fill-rule=\"nonzero\" fill-opacity=\"1\" /><path clip-path=\"url(#clip760)\" d=\"M98.8622 463.259 L117.219 463.259 L117.219 467.194 L103.145 467.194 L103.145 475.666 Q104.163 475.319 105.182 475.157 Q106.2 474.972 107.219 474.972 Q113.006 474.972 116.385 478.143 Q119.765 481.314 119.765 486.731 Q119.765 492.309 116.293 495.411 Q112.82 498.49 106.501 498.49 Q104.325 498.49 102.057 498.12 Q99.8113 497.749 97.4039 497.008 L97.4039 492.309 Q99.4872 493.444 101.709 493.999 Q103.932 494.555 106.408 494.555 Q110.413 494.555 112.751 492.448 Q115.089 490.342 115.089 486.731 Q115.089 483.12 112.751 481.013 Q110.413 478.907 106.408 478.907 Q104.534 478.907 102.659 479.323 Q100.807 479.74 98.8622 480.62 L98.8622 463.259 Z\" fill=\"#000000\" fill-rule=\"nonzero\" fill-opacity=\"1\" /><path clip-path=\"url(#clip760)\" d=\"M56.6171 101.321 L72.9365 101.321 L72.9365 105.256 L50.9921 105.256 L50.9921 101.321 Q53.6541 98.5665 58.2375 93.9369 Q62.8439 89.2841 64.0245 87.9416 Q66.2698 85.4184 67.1494 83.6823 Q68.0522 81.9231 68.0522 80.2333 Q68.0522 77.4786 66.1078 75.7425 Q64.1865 74.0064 61.0847 74.0064 Q58.8856 74.0064 56.4319 74.7703 Q54.0014 75.5342 51.2236 77.0851 L51.2236 72.3629 Q54.0477 71.2287 56.5014 70.65 Q58.955 70.0713 60.9921 70.0713 Q66.3624 70.0713 69.5568 72.7565 Q72.7513 75.4416 72.7513 79.9323 Q72.7513 82.062 71.9411 83.9832 Q71.1541 85.8814 69.0476 88.474 Q68.4689 89.1453 65.367 92.3628 Q62.2652 95.5573 56.6171 101.321 Z\" fill=\"#000000\" fill-rule=\"nonzero\" fill-opacity=\"1\" /><path clip-path=\"url(#clip760)\" d=\"M82.7512 99.3767 L87.6354 99.3767 L87.6354 105.256 L82.7512 105.256 L82.7512 99.3767 Z\" fill=\"#000000\" fill-rule=\"nonzero\" fill-opacity=\"1\" /><path clip-path=\"url(#clip760)\" d=\"M107.821 73.775 Q104.209 73.775 102.381 77.3398 Q100.575 80.8814 100.575 88.011 Q100.575 95.1174 102.381 98.6822 Q104.209 102.224 107.821 102.224 Q111.455 102.224 113.26 98.6822 Q115.089 95.1174 115.089 88.011 Q115.089 80.8814 113.26 77.3398 Q111.455 73.775 107.821 73.775 M107.821 70.0713 Q113.631 70.0713 116.686 74.6777 Q119.765 79.261 119.765 88.011 Q119.765 96.7378 116.686 101.344 Q113.631 105.928 107.821 105.928 Q102.01 105.928 98.9317 101.344 Q95.8761 96.7378 95.8761 88.011 Q95.8761 79.261 98.9317 74.6777 Q102.01 70.0713 107.821 70.0713 Z\" fill=\"#000000\" fill-rule=\"nonzero\" fill-opacity=\"1\" /><circle clip-path=\"url(#clip762)\" cx=\"217.944\" cy=\"87.9763\" r=\"14.4\" fill=\"#009af9\" fill-rule=\"evenodd\" fill-opacity=\"1\" stroke=\"#000000\" stroke-opacity=\"1\" stroke-width=\"3.2\"/>\n",
       "<circle clip-path=\"url(#clip762)\" cx=\"425.207\" cy=\"372.614\" r=\"14.4\" fill=\"#009af9\" fill-rule=\"evenodd\" fill-opacity=\"1\" stroke=\"#000000\" stroke-opacity=\"1\" stroke-width=\"3.2\"/>\n",
       "<circle clip-path=\"url(#clip762)\" cx=\"632.47\" cy=\"605.656\" r=\"14.4\" fill=\"#009af9\" fill-rule=\"evenodd\" fill-opacity=\"1\" stroke=\"#000000\" stroke-opacity=\"1\" stroke-width=\"3.2\"/>\n",
       "<circle clip-path=\"url(#clip762)\" cx=\"839.734\" cy=\"796.455\" r=\"14.4\" fill=\"#009af9\" fill-rule=\"evenodd\" fill-opacity=\"1\" stroke=\"#000000\" stroke-opacity=\"1\" stroke-width=\"3.2\"/>\n",
       "<circle clip-path=\"url(#clip762)\" cx=\"1047\" cy=\"952.667\" r=\"14.4\" fill=\"#009af9\" fill-rule=\"evenodd\" fill-opacity=\"1\" stroke=\"#000000\" stroke-opacity=\"1\" stroke-width=\"3.2\"/>\n",
       "<circle clip-path=\"url(#clip762)\" cx=\"1254.26\" cy=\"1080.56\" r=\"14.4\" fill=\"#009af9\" fill-rule=\"evenodd\" fill-opacity=\"1\" stroke=\"#000000\" stroke-opacity=\"1\" stroke-width=\"3.2\"/>\n",
       "<circle clip-path=\"url(#clip762)\" cx=\"1461.52\" cy=\"1185.28\" r=\"14.4\" fill=\"#009af9\" fill-rule=\"evenodd\" fill-opacity=\"1\" stroke=\"#000000\" stroke-opacity=\"1\" stroke-width=\"3.2\"/>\n",
       "<circle clip-path=\"url(#clip762)\" cx=\"1668.79\" cy=\"1271.01\" r=\"14.4\" fill=\"#009af9\" fill-rule=\"evenodd\" fill-opacity=\"1\" stroke=\"#000000\" stroke-opacity=\"1\" stroke-width=\"3.2\"/>\n",
       "<circle clip-path=\"url(#clip762)\" cx=\"1876.05\" cy=\"1341.2\" r=\"14.4\" fill=\"#009af9\" fill-rule=\"evenodd\" fill-opacity=\"1\" stroke=\"#000000\" stroke-opacity=\"1\" stroke-width=\"3.2\"/>\n",
       "<circle clip-path=\"url(#clip762)\" cx=\"2083.31\" cy=\"1398.67\" r=\"14.4\" fill=\"#009af9\" fill-rule=\"evenodd\" fill-opacity=\"1\" stroke=\"#000000\" stroke-opacity=\"1\" stroke-width=\"3.2\"/>\n",
       "<circle clip-path=\"url(#clip762)\" cx=\"2290.58\" cy=\"1445.72\" r=\"14.4\" fill=\"#009af9\" fill-rule=\"evenodd\" fill-opacity=\"1\" stroke=\"#000000\" stroke-opacity=\"1\" stroke-width=\"3.2\"/>\n",
       "<path clip-path=\"url(#clip760)\" d=\"M2007.39 198.898 L2279.52 198.898 L2279.52 95.2176 L2007.39 95.2176  Z\" fill=\"#ffffff\" fill-rule=\"evenodd\" fill-opacity=\"1\"/>\n",
       "<polyline clip-path=\"url(#clip760)\" style=\"stroke:#000000; stroke-linecap:round; stroke-linejoin:round; stroke-width:4; stroke-opacity:1; fill:none\" points=\"2007.39,198.898 2279.52,198.898 2279.52,95.2176 2007.39,95.2176 2007.39,198.898 \"/>\n",
       "<circle clip-path=\"url(#clip760)\" cx=\"2105.04\" cy=\"147.058\" r=\"20.48\" fill=\"#009af9\" fill-rule=\"evenodd\" fill-opacity=\"1\" stroke=\"#000000\" stroke-opacity=\"1\" stroke-width=\"4.55111\"/>\n",
       "<path clip-path=\"url(#clip760)\" d=\"M2216.52 166.745 Q2214.72 171.375 2213.01 172.787 Q2211.29 174.199 2208.42 174.199 L2205.02 174.199 L2205.02 170.634 L2207.52 170.634 Q2209.28 170.634 2210.25 169.8 Q2211.22 168.967 2212.4 165.865 L2213.17 163.921 L2202.68 138.412 L2207.2 138.412 L2215.3 158.689 L2223.4 138.412 L2227.91 138.412 L2216.52 166.745 Z\" fill=\"#000000\" fill-rule=\"nonzero\" fill-opacity=\"1\" /><path clip-path=\"url(#clip760)\" d=\"M2235.2 160.402 L2242.84 160.402 L2242.84 134.037 L2234.53 135.703 L2234.53 131.444 L2242.8 129.778 L2247.47 129.778 L2247.47 160.402 L2255.11 160.402 L2255.11 164.338 L2235.2 164.338 L2235.2 160.402 Z\" fill=\"#000000\" fill-rule=\"nonzero\" fill-opacity=\"1\" /></svg>\n"
      ],
      "text/html": [
       "<?xml version=\"1.0\" encoding=\"utf-8\"?>\n",
       "<svg xmlns=\"http://www.w3.org/2000/svg\" xmlns:xlink=\"http://www.w3.org/1999/xlink\" width=\"600\" height=\"400\" viewBox=\"0 0 2400 1600\">\n",
       "<defs>\n",
       "  <clipPath id=\"clip810\">\n",
       "    <rect x=\"0\" y=\"0\" width=\"2400\" height=\"1600\"/>\n",
       "  </clipPath>\n",
       "</defs>\n",
       "<path clip-path=\"url(#clip810)\" d=\"M0 1600 L2400 1600 L2400 0 L0 0  Z\" fill=\"#ffffff\" fill-rule=\"evenodd\" fill-opacity=\"1\"/>\n",
       "<defs>\n",
       "  <clipPath id=\"clip811\">\n",
       "    <rect x=\"480\" y=\"0\" width=\"1681\" height=\"1600\"/>\n",
       "  </clipPath>\n",
       "</defs>\n",
       "<path clip-path=\"url(#clip810)\" d=\"M155.765 1486.45 L2352.76 1486.45 L2352.76 47.2441 L155.765 47.2441  Z\" fill=\"#ffffff\" fill-rule=\"evenodd\" fill-opacity=\"1\"/>\n",
       "<defs>\n",
       "  <clipPath id=\"clip812\">\n",
       "    <rect x=\"155\" y=\"47\" width=\"2198\" height=\"1440\"/>\n",
       "  </clipPath>\n",
       "</defs>\n",
       "<polyline clip-path=\"url(#clip812)\" style=\"stroke:#000000; stroke-linecap:round; stroke-linejoin:round; stroke-width:2; stroke-opacity:0.1; fill:none\" points=\"217.944,1486.45 217.944,47.2441 \"/>\n",
       "<polyline clip-path=\"url(#clip812)\" style=\"stroke:#000000; stroke-linecap:round; stroke-linejoin:round; stroke-width:2; stroke-opacity:0.1; fill:none\" points=\"736.102,1486.45 736.102,47.2441 \"/>\n",
       "<polyline clip-path=\"url(#clip812)\" style=\"stroke:#000000; stroke-linecap:round; stroke-linejoin:round; stroke-width:2; stroke-opacity:0.1; fill:none\" points=\"1254.26,1486.45 1254.26,47.2441 \"/>\n",
       "<polyline clip-path=\"url(#clip812)\" style=\"stroke:#000000; stroke-linecap:round; stroke-linejoin:round; stroke-width:2; stroke-opacity:0.1; fill:none\" points=\"1772.42,1486.45 1772.42,47.2441 \"/>\n",
       "<polyline clip-path=\"url(#clip812)\" style=\"stroke:#000000; stroke-linecap:round; stroke-linejoin:round; stroke-width:2; stroke-opacity:0.1; fill:none\" points=\"2290.58,1486.45 2290.58,47.2441 \"/>\n",
       "<polyline clip-path=\"url(#clip812)\" style=\"stroke:#000000; stroke-linecap:round; stroke-linejoin:round; stroke-width:2; stroke-opacity:0.1; fill:none\" points=\"155.765,1265.66 2352.76,1265.66 \"/>\n",
       "<polyline clip-path=\"url(#clip812)\" style=\"stroke:#000000; stroke-linecap:round; stroke-linejoin:round; stroke-width:2; stroke-opacity:0.1; fill:none\" points=\"155.765,873.101 2352.76,873.101 \"/>\n",
       "<polyline clip-path=\"url(#clip812)\" style=\"stroke:#000000; stroke-linecap:round; stroke-linejoin:round; stroke-width:2; stroke-opacity:0.1; fill:none\" points=\"155.765,480.539 2352.76,480.539 \"/>\n",
       "<polyline clip-path=\"url(#clip812)\" style=\"stroke:#000000; stroke-linecap:round; stroke-linejoin:round; stroke-width:2; stroke-opacity:0.1; fill:none\" points=\"155.765,87.9763 2352.76,87.9763 \"/>\n",
       "<polyline clip-path=\"url(#clip810)\" style=\"stroke:#000000; stroke-linecap:round; stroke-linejoin:round; stroke-width:4; stroke-opacity:1; fill:none\" points=\"155.765,1486.45 2352.76,1486.45 \"/>\n",
       "<polyline clip-path=\"url(#clip810)\" style=\"stroke:#000000; stroke-linecap:round; stroke-linejoin:round; stroke-width:4; stroke-opacity:1; fill:none\" points=\"217.944,1486.45 217.944,1467.55 \"/>\n",
       "<polyline clip-path=\"url(#clip810)\" style=\"stroke:#000000; stroke-linecap:round; stroke-linejoin:round; stroke-width:4; stroke-opacity:1; fill:none\" points=\"736.102,1486.45 736.102,1467.55 \"/>\n",
       "<polyline clip-path=\"url(#clip810)\" style=\"stroke:#000000; stroke-linecap:round; stroke-linejoin:round; stroke-width:4; stroke-opacity:1; fill:none\" points=\"1254.26,1486.45 1254.26,1467.55 \"/>\n",
       "<polyline clip-path=\"url(#clip810)\" style=\"stroke:#000000; stroke-linecap:round; stroke-linejoin:round; stroke-width:4; stroke-opacity:1; fill:none\" points=\"1772.42,1486.45 1772.42,1467.55 \"/>\n",
       "<polyline clip-path=\"url(#clip810)\" style=\"stroke:#000000; stroke-linecap:round; stroke-linejoin:round; stroke-width:4; stroke-opacity:1; fill:none\" points=\"2290.58,1486.45 2290.58,1467.55 \"/>\n",
       "<path clip-path=\"url(#clip810)\" d=\"M180.247 1517.37 Q176.636 1517.37 174.808 1520.93 Q173.002 1524.47 173.002 1531.6 Q173.002 1538.71 174.808 1542.27 Q176.636 1545.82 180.247 1545.82 Q183.882 1545.82 185.687 1542.27 Q187.516 1538.71 187.516 1531.6 Q187.516 1524.47 185.687 1520.93 Q183.882 1517.37 180.247 1517.37 M180.247 1513.66 Q186.057 1513.66 189.113 1518.27 Q192.192 1522.85 192.192 1531.6 Q192.192 1540.33 189.113 1544.94 Q186.057 1549.52 180.247 1549.52 Q174.437 1549.52 171.358 1544.94 Q168.303 1540.33 168.303 1531.6 Q168.303 1522.85 171.358 1518.27 Q174.437 1513.66 180.247 1513.66 Z\" fill=\"#000000\" fill-rule=\"nonzero\" fill-opacity=\"1\" /><path clip-path=\"url(#clip810)\" d=\"M200.409 1542.97 L205.294 1542.97 L205.294 1548.85 L200.409 1548.85 L200.409 1542.97 Z\" fill=\"#000000\" fill-rule=\"nonzero\" fill-opacity=\"1\" /><path clip-path=\"url(#clip810)\" d=\"M225.479 1517.37 Q221.867 1517.37 220.039 1520.93 Q218.233 1524.47 218.233 1531.6 Q218.233 1538.71 220.039 1542.27 Q221.867 1545.82 225.479 1545.82 Q229.113 1545.82 230.918 1542.27 Q232.747 1538.71 232.747 1531.6 Q232.747 1524.47 230.918 1520.93 Q229.113 1517.37 225.479 1517.37 M225.479 1513.66 Q231.289 1513.66 234.344 1518.27 Q237.423 1522.85 237.423 1531.6 Q237.423 1540.33 234.344 1544.94 Q231.289 1549.52 225.479 1549.52 Q219.668 1549.52 216.59 1544.94 Q213.534 1540.33 213.534 1531.6 Q213.534 1522.85 216.59 1518.27 Q219.668 1513.66 225.479 1513.66 Z\" fill=\"#000000\" fill-rule=\"nonzero\" fill-opacity=\"1\" /><path clip-path=\"url(#clip810)\" d=\"M255.64 1517.37 Q252.029 1517.37 250.201 1520.93 Q248.395 1524.47 248.395 1531.6 Q248.395 1538.71 250.201 1542.27 Q252.029 1545.82 255.64 1545.82 Q259.275 1545.82 261.08 1542.27 Q262.909 1538.71 262.909 1531.6 Q262.909 1524.47 261.08 1520.93 Q259.275 1517.37 255.64 1517.37 M255.64 1513.66 Q261.451 1513.66 264.506 1518.27 Q267.585 1522.85 267.585 1531.6 Q267.585 1540.33 264.506 1544.94 Q261.451 1549.52 255.64 1549.52 Q249.83 1549.52 246.752 1544.94 Q243.696 1540.33 243.696 1531.6 Q243.696 1522.85 246.752 1518.27 Q249.83 1513.66 255.64 1513.66 Z\" fill=\"#000000\" fill-rule=\"nonzero\" fill-opacity=\"1\" /><path clip-path=\"url(#clip810)\" d=\"M698.903 1517.37 Q695.292 1517.37 693.463 1520.93 Q691.658 1524.47 691.658 1531.6 Q691.658 1538.71 693.463 1542.27 Q695.292 1545.82 698.903 1545.82 Q702.538 1545.82 704.343 1542.27 Q706.172 1538.71 706.172 1531.6 Q706.172 1524.47 704.343 1520.93 Q702.538 1517.37 698.903 1517.37 M698.903 1513.66 Q704.713 1513.66 707.769 1518.27 Q710.848 1522.85 710.848 1531.6 Q710.848 1540.33 707.769 1544.94 Q704.713 1549.52 698.903 1549.52 Q693.093 1549.52 690.014 1544.94 Q686.959 1540.33 686.959 1531.6 Q686.959 1522.85 690.014 1518.27 Q693.093 1513.66 698.903 1513.66 Z\" fill=\"#000000\" fill-rule=\"nonzero\" fill-opacity=\"1\" /><path clip-path=\"url(#clip810)\" d=\"M719.065 1542.97 L723.949 1542.97 L723.949 1548.85 L719.065 1548.85 L719.065 1542.97 Z\" fill=\"#000000\" fill-rule=\"nonzero\" fill-opacity=\"1\" /><path clip-path=\"url(#clip810)\" d=\"M738.162 1544.91 L754.482 1544.91 L754.482 1548.85 L732.537 1548.85 L732.537 1544.91 Q735.199 1542.16 739.783 1537.53 Q744.389 1532.88 745.57 1531.53 Q747.815 1529.01 748.695 1527.27 Q749.597 1525.51 749.597 1523.82 Q749.597 1521.07 747.653 1519.33 Q745.732 1517.6 742.63 1517.6 Q740.431 1517.6 737.977 1518.36 Q735.547 1519.13 732.769 1520.68 L732.769 1515.95 Q735.593 1514.82 738.047 1514.24 Q740.5 1513.66 742.537 1513.66 Q747.908 1513.66 751.102 1516.35 Q754.296 1519.03 754.296 1523.52 Q754.296 1525.65 753.486 1527.57 Q752.699 1529.47 750.593 1532.07 Q750.014 1532.74 746.912 1535.95 Q743.81 1539.15 738.162 1544.91 Z\" fill=\"#000000\" fill-rule=\"nonzero\" fill-opacity=\"1\" /><path clip-path=\"url(#clip810)\" d=\"M764.343 1514.29 L782.699 1514.29 L782.699 1518.22 L768.625 1518.22 L768.625 1526.7 Q769.644 1526.35 770.662 1526.19 Q771.681 1526 772.699 1526 Q778.486 1526 781.866 1529.17 Q785.245 1532.34 785.245 1537.76 Q785.245 1543.34 781.773 1546.44 Q778.301 1549.52 771.982 1549.52 Q769.806 1549.52 767.537 1549.15 Q765.292 1548.78 762.884 1548.04 L762.884 1543.34 Q764.968 1544.47 767.19 1545.03 Q769.412 1545.58 771.889 1545.58 Q775.894 1545.58 778.232 1543.48 Q780.57 1541.37 780.57 1537.76 Q780.57 1534.15 778.232 1532.04 Q775.894 1529.94 771.889 1529.94 Q770.014 1529.94 768.139 1530.35 Q766.287 1530.77 764.343 1531.65 L764.343 1514.29 Z\" fill=\"#000000\" fill-rule=\"nonzero\" fill-opacity=\"1\" /><path clip-path=\"url(#clip810)\" d=\"M1216.56 1517.37 Q1212.95 1517.37 1211.12 1520.93 Q1209.32 1524.47 1209.32 1531.6 Q1209.32 1538.71 1211.12 1542.27 Q1212.95 1545.82 1216.56 1545.82 Q1220.2 1545.82 1222 1542.27 Q1223.83 1538.71 1223.83 1531.6 Q1223.83 1524.47 1222 1520.93 Q1220.2 1517.37 1216.56 1517.37 M1216.56 1513.66 Q1222.37 1513.66 1225.43 1518.27 Q1228.51 1522.85 1228.51 1531.6 Q1228.51 1540.33 1225.43 1544.94 Q1222.37 1549.52 1216.56 1549.52 Q1210.75 1549.52 1207.68 1544.94 Q1204.62 1540.33 1204.62 1531.6 Q1204.62 1522.85 1207.68 1518.27 Q1210.75 1513.66 1216.56 1513.66 Z\" fill=\"#000000\" fill-rule=\"nonzero\" fill-opacity=\"1\" /><path clip-path=\"url(#clip810)\" d=\"M1236.73 1542.97 L1241.61 1542.97 L1241.61 1548.85 L1236.73 1548.85 L1236.73 1542.97 Z\" fill=\"#000000\" fill-rule=\"nonzero\" fill-opacity=\"1\" /><path clip-path=\"url(#clip810)\" d=\"M1251.84 1514.29 L1270.2 1514.29 L1270.2 1518.22 L1256.12 1518.22 L1256.12 1526.7 Q1257.14 1526.35 1258.16 1526.19 Q1259.18 1526 1260.2 1526 Q1265.98 1526 1269.36 1529.17 Q1272.74 1532.34 1272.74 1537.76 Q1272.74 1543.34 1269.27 1546.44 Q1265.8 1549.52 1259.48 1549.52 Q1257.3 1549.52 1255.04 1549.15 Q1252.79 1548.78 1250.38 1548.04 L1250.38 1543.34 Q1252.47 1544.47 1254.69 1545.03 Q1256.91 1545.58 1259.39 1545.58 Q1263.39 1545.58 1265.73 1543.48 Q1268.07 1541.37 1268.07 1537.76 Q1268.07 1534.15 1265.73 1532.04 Q1263.39 1529.94 1259.39 1529.94 Q1257.51 1529.94 1255.64 1530.35 Q1253.79 1530.77 1251.84 1531.65 L1251.84 1514.29 Z\" fill=\"#000000\" fill-rule=\"nonzero\" fill-opacity=\"1\" /><path clip-path=\"url(#clip810)\" d=\"M1291.96 1517.37 Q1288.35 1517.37 1286.52 1520.93 Q1284.71 1524.47 1284.71 1531.6 Q1284.71 1538.71 1286.52 1542.27 Q1288.35 1545.82 1291.96 1545.82 Q1295.59 1545.82 1297.4 1542.27 Q1299.23 1538.71 1299.23 1531.6 Q1299.23 1524.47 1297.4 1520.93 Q1295.59 1517.37 1291.96 1517.37 M1291.96 1513.66 Q1297.77 1513.66 1300.82 1518.27 Q1303.9 1522.85 1303.9 1531.6 Q1303.9 1540.33 1300.82 1544.94 Q1297.77 1549.52 1291.96 1549.52 Q1286.15 1549.52 1283.07 1544.94 Q1280.01 1540.33 1280.01 1531.6 Q1280.01 1522.85 1283.07 1518.27 Q1286.15 1513.66 1291.96 1513.66 Z\" fill=\"#000000\" fill-rule=\"nonzero\" fill-opacity=\"1\" /><path clip-path=\"url(#clip810)\" d=\"M1735.22 1517.37 Q1731.61 1517.37 1729.78 1520.93 Q1727.97 1524.47 1727.97 1531.6 Q1727.97 1538.71 1729.78 1542.27 Q1731.61 1545.82 1735.22 1545.82 Q1738.85 1545.82 1740.66 1542.27 Q1742.49 1538.71 1742.49 1531.6 Q1742.49 1524.47 1740.66 1520.93 Q1738.85 1517.37 1735.22 1517.37 M1735.22 1513.66 Q1741.03 1513.66 1744.09 1518.27 Q1747.16 1522.85 1747.16 1531.6 Q1747.16 1540.33 1744.09 1544.94 Q1741.03 1549.52 1735.22 1549.52 Q1729.41 1549.52 1726.33 1544.94 Q1723.28 1540.33 1723.28 1531.6 Q1723.28 1522.85 1726.33 1518.27 Q1729.41 1513.66 1735.22 1513.66 Z\" fill=\"#000000\" fill-rule=\"nonzero\" fill-opacity=\"1\" /><path clip-path=\"url(#clip810)\" d=\"M1755.38 1542.97 L1760.27 1542.97 L1760.27 1548.85 L1755.38 1548.85 L1755.38 1542.97 Z\" fill=\"#000000\" fill-rule=\"nonzero\" fill-opacity=\"1\" /><path clip-path=\"url(#clip810)\" d=\"M1769.27 1514.29 L1791.49 1514.29 L1791.49 1516.28 L1778.95 1548.85 L1774.06 1548.85 L1785.87 1518.22 L1769.27 1518.22 L1769.27 1514.29 Z\" fill=\"#000000\" fill-rule=\"nonzero\" fill-opacity=\"1\" /><path clip-path=\"url(#clip810)\" d=\"M1800.66 1514.29 L1819.02 1514.29 L1819.02 1518.22 L1804.94 1518.22 L1804.94 1526.7 Q1805.96 1526.35 1806.98 1526.19 Q1808 1526 1809.02 1526 Q1814.8 1526 1818.18 1529.17 Q1821.56 1532.34 1821.56 1537.76 Q1821.56 1543.34 1818.09 1546.44 Q1814.62 1549.52 1808.3 1549.52 Q1806.12 1549.52 1803.85 1549.15 Q1801.61 1548.78 1799.2 1548.04 L1799.2 1543.34 Q1801.28 1544.47 1803.51 1545.03 Q1805.73 1545.58 1808.21 1545.58 Q1812.21 1545.58 1814.55 1543.48 Q1816.89 1541.37 1816.89 1537.76 Q1816.89 1534.15 1814.55 1532.04 Q1812.21 1529.94 1808.21 1529.94 Q1806.33 1529.94 1804.46 1530.35 Q1802.6 1530.77 1800.66 1531.65 L1800.66 1514.29 Z\" fill=\"#000000\" fill-rule=\"nonzero\" fill-opacity=\"1\" /><path clip-path=\"url(#clip810)\" d=\"M2242.65 1544.91 L2250.29 1544.91 L2250.29 1518.55 L2241.98 1520.21 L2241.98 1515.95 L2250.24 1514.29 L2254.92 1514.29 L2254.92 1544.91 L2262.56 1544.91 L2262.56 1548.85 L2242.65 1548.85 L2242.65 1544.91 Z\" fill=\"#000000\" fill-rule=\"nonzero\" fill-opacity=\"1\" /><path clip-path=\"url(#clip810)\" d=\"M2272 1542.97 L2276.88 1542.97 L2276.88 1548.85 L2272 1548.85 L2272 1542.97 Z\" fill=\"#000000\" fill-rule=\"nonzero\" fill-opacity=\"1\" /><path clip-path=\"url(#clip810)\" d=\"M2297.07 1517.37 Q2293.46 1517.37 2291.63 1520.93 Q2289.82 1524.47 2289.82 1531.6 Q2289.82 1538.71 2291.63 1542.27 Q2293.46 1545.82 2297.07 1545.82 Q2300.7 1545.82 2302.51 1542.27 Q2304.34 1538.71 2304.34 1531.6 Q2304.34 1524.47 2302.51 1520.93 Q2300.7 1517.37 2297.07 1517.37 M2297.07 1513.66 Q2302.88 1513.66 2305.94 1518.27 Q2309.01 1522.85 2309.01 1531.6 Q2309.01 1540.33 2305.94 1544.94 Q2302.88 1549.52 2297.07 1549.52 Q2291.26 1549.52 2288.18 1544.94 Q2285.13 1540.33 2285.13 1531.6 Q2285.13 1522.85 2288.18 1518.27 Q2291.26 1513.66 2297.07 1513.66 Z\" fill=\"#000000\" fill-rule=\"nonzero\" fill-opacity=\"1\" /><path clip-path=\"url(#clip810)\" d=\"M2327.23 1517.37 Q2323.62 1517.37 2321.79 1520.93 Q2319.99 1524.47 2319.99 1531.6 Q2319.99 1538.71 2321.79 1542.27 Q2323.62 1545.82 2327.23 1545.82 Q2330.87 1545.82 2332.67 1542.27 Q2334.5 1538.71 2334.5 1531.6 Q2334.5 1524.47 2332.67 1520.93 Q2330.87 1517.37 2327.23 1517.37 M2327.23 1513.66 Q2333.04 1513.66 2336.1 1518.27 Q2339.18 1522.85 2339.18 1531.6 Q2339.18 1540.33 2336.1 1544.94 Q2333.04 1549.52 2327.23 1549.52 Q2321.42 1549.52 2318.34 1544.94 Q2315.29 1540.33 2315.29 1531.6 Q2315.29 1522.85 2318.34 1518.27 Q2321.42 1513.66 2327.23 1513.66 Z\" fill=\"#000000\" fill-rule=\"nonzero\" fill-opacity=\"1\" /><polyline clip-path=\"url(#clip810)\" style=\"stroke:#000000; stroke-linecap:round; stroke-linejoin:round; stroke-width:4; stroke-opacity:1; fill:none\" points=\"155.765,1486.45 155.765,47.2441 \"/>\n",
       "<polyline clip-path=\"url(#clip810)\" style=\"stroke:#000000; stroke-linecap:round; stroke-linejoin:round; stroke-width:4; stroke-opacity:1; fill:none\" points=\"155.765,1265.66 174.663,1265.66 \"/>\n",
       "<polyline clip-path=\"url(#clip810)\" style=\"stroke:#000000; stroke-linecap:round; stroke-linejoin:round; stroke-width:4; stroke-opacity:1; fill:none\" points=\"155.765,873.101 174.663,873.101 \"/>\n",
       "<polyline clip-path=\"url(#clip810)\" style=\"stroke:#000000; stroke-linecap:round; stroke-linejoin:round; stroke-width:4; stroke-opacity:1; fill:none\" points=\"155.765,480.539 174.663,480.539 \"/>\n",
       "<polyline clip-path=\"url(#clip810)\" style=\"stroke:#000000; stroke-linecap:round; stroke-linejoin:round; stroke-width:4; stroke-opacity:1; fill:none\" points=\"155.765,87.9763 174.663,87.9763 \"/>\n",
       "<path clip-path=\"url(#clip810)\" d=\"M63.5847 1251.46 Q59.9736 1251.46 58.1449 1255.03 Q56.3393 1258.57 56.3393 1265.7 Q56.3393 1272.8 58.1449 1276.37 Q59.9736 1279.91 63.5847 1279.91 Q67.2189 1279.91 69.0244 1276.37 Q70.8531 1272.8 70.8531 1265.7 Q70.8531 1258.57 69.0244 1255.03 Q67.2189 1251.46 63.5847 1251.46 M63.5847 1247.76 Q69.3948 1247.76 72.4503 1252.36 Q75.529 1256.95 75.529 1265.7 Q75.529 1274.42 72.4503 1279.03 Q69.3948 1283.61 63.5847 1283.61 Q57.7745 1283.61 54.6958 1279.03 Q51.6403 1274.42 51.6403 1265.7 Q51.6403 1256.95 54.6958 1252.36 Q57.7745 1247.76 63.5847 1247.76 Z\" fill=\"#000000\" fill-rule=\"nonzero\" fill-opacity=\"1\" /><path clip-path=\"url(#clip810)\" d=\"M83.7466 1277.06 L88.6308 1277.06 L88.6308 1282.94 L83.7466 1282.94 L83.7466 1277.06 Z\" fill=\"#000000\" fill-rule=\"nonzero\" fill-opacity=\"1\" /><path clip-path=\"url(#clip810)\" d=\"M98.8622 1248.38 L117.219 1248.38 L117.219 1252.32 L103.145 1252.32 L103.145 1260.79 Q104.163 1260.44 105.182 1260.28 Q106.2 1260.1 107.219 1260.1 Q113.006 1260.1 116.385 1263.27 Q119.765 1266.44 119.765 1271.86 Q119.765 1277.43 116.293 1280.54 Q112.82 1283.61 106.501 1283.61 Q104.325 1283.61 102.057 1283.24 Q99.8113 1282.87 97.4039 1282.13 L97.4039 1277.43 Q99.4872 1278.57 101.709 1279.12 Q103.932 1279.68 106.408 1279.68 Q110.413 1279.68 112.751 1277.57 Q115.089 1275.47 115.089 1271.86 Q115.089 1268.24 112.751 1266.14 Q110.413 1264.03 106.408 1264.03 Q104.534 1264.03 102.659 1264.45 Q100.807 1264.86 98.8622 1265.74 L98.8622 1248.38 Z\" fill=\"#000000\" fill-rule=\"nonzero\" fill-opacity=\"1\" /><path clip-path=\"url(#clip810)\" d=\"M53.3995 886.446 L61.0384 886.446 L61.0384 860.08 L52.7282 861.747 L52.7282 857.488 L60.9921 855.821 L65.668 855.821 L65.668 886.446 L73.3068 886.446 L73.3068 890.381 L53.3995 890.381 L53.3995 886.446 Z\" fill=\"#000000\" fill-rule=\"nonzero\" fill-opacity=\"1\" /><path clip-path=\"url(#clip810)\" d=\"M82.7512 884.501 L87.6354 884.501 L87.6354 890.381 L82.7512 890.381 L82.7512 884.501 Z\" fill=\"#000000\" fill-rule=\"nonzero\" fill-opacity=\"1\" /><path clip-path=\"url(#clip810)\" d=\"M107.821 858.9 Q104.209 858.9 102.381 862.465 Q100.575 866.006 100.575 873.136 Q100.575 880.242 102.381 883.807 Q104.209 887.349 107.821 887.349 Q111.455 887.349 113.26 883.807 Q115.089 880.242 115.089 873.136 Q115.089 866.006 113.26 862.465 Q111.455 858.9 107.821 858.9 M107.821 855.196 Q113.631 855.196 116.686 859.803 Q119.765 864.386 119.765 873.136 Q119.765 881.863 116.686 886.469 Q113.631 891.052 107.821 891.052 Q102.01 891.052 98.9317 886.469 Q95.8761 881.863 95.8761 873.136 Q95.8761 864.386 98.9317 859.803 Q102.01 855.196 107.821 855.196 Z\" fill=\"#000000\" fill-rule=\"nonzero\" fill-opacity=\"1\" /><path clip-path=\"url(#clip810)\" d=\"M54.3949 493.884 L62.0337 493.884 L62.0337 467.518 L53.7236 469.185 L53.7236 464.925 L61.9874 463.259 L66.6633 463.259 L66.6633 493.884 L74.3022 493.884 L74.3022 497.819 L54.3949 497.819 L54.3949 493.884 Z\" fill=\"#000000\" fill-rule=\"nonzero\" fill-opacity=\"1\" /><path clip-path=\"url(#clip810)\" d=\"M83.7466 491.939 L88.6308 491.939 L88.6308 497.819 L83.7466 497.819 L83.7466 491.939 Z\" fill=\"#000000\" fill-rule=\"nonzero\" fill-opacity=\"1\" /><path clip-path=\"url(#clip810)\" d=\"M98.8622 463.259 L117.219 463.259 L117.219 467.194 L103.145 467.194 L103.145 475.666 Q104.163 475.319 105.182 475.157 Q106.2 474.972 107.219 474.972 Q113.006 474.972 116.385 478.143 Q119.765 481.314 119.765 486.731 Q119.765 492.309 116.293 495.411 Q112.82 498.49 106.501 498.49 Q104.325 498.49 102.057 498.12 Q99.8113 497.749 97.4039 497.008 L97.4039 492.309 Q99.4872 493.444 101.709 493.999 Q103.932 494.555 106.408 494.555 Q110.413 494.555 112.751 492.448 Q115.089 490.342 115.089 486.731 Q115.089 483.12 112.751 481.013 Q110.413 478.907 106.408 478.907 Q104.534 478.907 102.659 479.323 Q100.807 479.74 98.8622 480.62 L98.8622 463.259 Z\" fill=\"#000000\" fill-rule=\"nonzero\" fill-opacity=\"1\" /><path clip-path=\"url(#clip810)\" d=\"M56.6171 101.321 L72.9365 101.321 L72.9365 105.256 L50.9921 105.256 L50.9921 101.321 Q53.6541 98.5665 58.2375 93.9369 Q62.8439 89.2841 64.0245 87.9416 Q66.2698 85.4184 67.1494 83.6823 Q68.0522 81.9231 68.0522 80.2333 Q68.0522 77.4786 66.1078 75.7425 Q64.1865 74.0064 61.0847 74.0064 Q58.8856 74.0064 56.4319 74.7703 Q54.0014 75.5342 51.2236 77.0851 L51.2236 72.3629 Q54.0477 71.2287 56.5014 70.65 Q58.955 70.0713 60.9921 70.0713 Q66.3624 70.0713 69.5568 72.7565 Q72.7513 75.4416 72.7513 79.9323 Q72.7513 82.062 71.9411 83.9832 Q71.1541 85.8814 69.0476 88.474 Q68.4689 89.1453 65.367 92.3628 Q62.2652 95.5573 56.6171 101.321 Z\" fill=\"#000000\" fill-rule=\"nonzero\" fill-opacity=\"1\" /><path clip-path=\"url(#clip810)\" d=\"M82.7512 99.3767 L87.6354 99.3767 L87.6354 105.256 L82.7512 105.256 L82.7512 99.3767 Z\" fill=\"#000000\" fill-rule=\"nonzero\" fill-opacity=\"1\" /><path clip-path=\"url(#clip810)\" d=\"M107.821 73.775 Q104.209 73.775 102.381 77.3398 Q100.575 80.8814 100.575 88.011 Q100.575 95.1174 102.381 98.6822 Q104.209 102.224 107.821 102.224 Q111.455 102.224 113.26 98.6822 Q115.089 95.1174 115.089 88.011 Q115.089 80.8814 113.26 77.3398 Q111.455 73.775 107.821 73.775 M107.821 70.0713 Q113.631 70.0713 116.686 74.6777 Q119.765 79.261 119.765 88.011 Q119.765 96.7378 116.686 101.344 Q113.631 105.928 107.821 105.928 Q102.01 105.928 98.9317 101.344 Q95.8761 96.7378 95.8761 88.011 Q95.8761 79.261 98.9317 74.6777 Q102.01 70.0713 107.821 70.0713 Z\" fill=\"#000000\" fill-rule=\"nonzero\" fill-opacity=\"1\" /><circle clip-path=\"url(#clip812)\" cx=\"217.944\" cy=\"87.9763\" r=\"14.4\" fill=\"#009af9\" fill-rule=\"evenodd\" fill-opacity=\"1\" stroke=\"#000000\" stroke-opacity=\"1\" stroke-width=\"3.2\"/>\n",
       "<circle clip-path=\"url(#clip812)\" cx=\"425.207\" cy=\"372.614\" r=\"14.4\" fill=\"#009af9\" fill-rule=\"evenodd\" fill-opacity=\"1\" stroke=\"#000000\" stroke-opacity=\"1\" stroke-width=\"3.2\"/>\n",
       "<circle clip-path=\"url(#clip812)\" cx=\"632.47\" cy=\"605.656\" r=\"14.4\" fill=\"#009af9\" fill-rule=\"evenodd\" fill-opacity=\"1\" stroke=\"#000000\" stroke-opacity=\"1\" stroke-width=\"3.2\"/>\n",
       "<circle clip-path=\"url(#clip812)\" cx=\"839.734\" cy=\"796.455\" r=\"14.4\" fill=\"#009af9\" fill-rule=\"evenodd\" fill-opacity=\"1\" stroke=\"#000000\" stroke-opacity=\"1\" stroke-width=\"3.2\"/>\n",
       "<circle clip-path=\"url(#clip812)\" cx=\"1047\" cy=\"952.667\" r=\"14.4\" fill=\"#009af9\" fill-rule=\"evenodd\" fill-opacity=\"1\" stroke=\"#000000\" stroke-opacity=\"1\" stroke-width=\"3.2\"/>\n",
       "<circle clip-path=\"url(#clip812)\" cx=\"1254.26\" cy=\"1080.56\" r=\"14.4\" fill=\"#009af9\" fill-rule=\"evenodd\" fill-opacity=\"1\" stroke=\"#000000\" stroke-opacity=\"1\" stroke-width=\"3.2\"/>\n",
       "<circle clip-path=\"url(#clip812)\" cx=\"1461.52\" cy=\"1185.28\" r=\"14.4\" fill=\"#009af9\" fill-rule=\"evenodd\" fill-opacity=\"1\" stroke=\"#000000\" stroke-opacity=\"1\" stroke-width=\"3.2\"/>\n",
       "<circle clip-path=\"url(#clip812)\" cx=\"1668.79\" cy=\"1271.01\" r=\"14.4\" fill=\"#009af9\" fill-rule=\"evenodd\" fill-opacity=\"1\" stroke=\"#000000\" stroke-opacity=\"1\" stroke-width=\"3.2\"/>\n",
       "<circle clip-path=\"url(#clip812)\" cx=\"1876.05\" cy=\"1341.2\" r=\"14.4\" fill=\"#009af9\" fill-rule=\"evenodd\" fill-opacity=\"1\" stroke=\"#000000\" stroke-opacity=\"1\" stroke-width=\"3.2\"/>\n",
       "<circle clip-path=\"url(#clip812)\" cx=\"2083.31\" cy=\"1398.67\" r=\"14.4\" fill=\"#009af9\" fill-rule=\"evenodd\" fill-opacity=\"1\" stroke=\"#000000\" stroke-opacity=\"1\" stroke-width=\"3.2\"/>\n",
       "<circle clip-path=\"url(#clip812)\" cx=\"2290.58\" cy=\"1445.72\" r=\"14.4\" fill=\"#009af9\" fill-rule=\"evenodd\" fill-opacity=\"1\" stroke=\"#000000\" stroke-opacity=\"1\" stroke-width=\"3.2\"/>\n",
       "<path clip-path=\"url(#clip810)\" d=\"M2007.39 198.898 L2279.52 198.898 L2279.52 95.2176 L2007.39 95.2176  Z\" fill=\"#ffffff\" fill-rule=\"evenodd\" fill-opacity=\"1\"/>\n",
       "<polyline clip-path=\"url(#clip810)\" style=\"stroke:#000000; stroke-linecap:round; stroke-linejoin:round; stroke-width:4; stroke-opacity:1; fill:none\" points=\"2007.39,198.898 2279.52,198.898 2279.52,95.2176 2007.39,95.2176 2007.39,198.898 \"/>\n",
       "<circle clip-path=\"url(#clip810)\" cx=\"2105.04\" cy=\"147.058\" r=\"20.48\" fill=\"#009af9\" fill-rule=\"evenodd\" fill-opacity=\"1\" stroke=\"#000000\" stroke-opacity=\"1\" stroke-width=\"4.55111\"/>\n",
       "<path clip-path=\"url(#clip810)\" d=\"M2216.52 166.745 Q2214.72 171.375 2213.01 172.787 Q2211.29 174.199 2208.42 174.199 L2205.02 174.199 L2205.02 170.634 L2207.52 170.634 Q2209.28 170.634 2210.25 169.8 Q2211.22 168.967 2212.4 165.865 L2213.17 163.921 L2202.68 138.412 L2207.2 138.412 L2215.3 158.689 L2223.4 138.412 L2227.91 138.412 L2216.52 166.745 Z\" fill=\"#000000\" fill-rule=\"nonzero\" fill-opacity=\"1\" /><path clip-path=\"url(#clip810)\" d=\"M2235.2 160.402 L2242.84 160.402 L2242.84 134.037 L2234.53 135.703 L2234.53 131.444 L2242.8 129.778 L2247.47 129.778 L2247.47 160.402 L2255.11 160.402 L2255.11 164.338 L2235.2 164.338 L2235.2 160.402 Z\" fill=\"#000000\" fill-rule=\"nonzero\" fill-opacity=\"1\" /></svg>\n"
      ]
     },
     "metadata": {},
     "output_type": "display_data"
    }
   ],
   "source": [
    "scatter(x,y)"
   ]
  },
  {
   "cell_type": "code",
   "execution_count": 7,
   "id": "4a1ddc16-77d4-4ff9-8a1d-f9b0d6ec34db",
   "metadata": {},
   "outputs": [
    {
     "data": {
      "text/plain": [
       "11-element Vector{Float64}:\n",
       " 1.849646049955458\n",
       " 1.6857386722822638\n",
       " 1.2572318940459772\n",
       " 1.1166246868784766\n",
       " 0.983413804741166\n",
       " 0.8505840234485093\n",
       " 0.715295519320897\n",
       " 0.6444599996030875\n",
       " 0.35758544962554567\n",
       " 0.3096965918780228\n",
       " 0.19220899681251738"
      ]
     },
     "metadata": {},
     "output_type": "display_data"
    }
   ],
   "source": [
    "y_exp = y + 0.1*randn(length(y))"
   ]
  },
  {
   "cell_type": "code",
   "execution_count": 8,
   "id": "4fb8aaf8-5ec1-40aa-a9b5-f7dd9433d217",
   "metadata": {},
   "outputs": [
    {
     "data": {
      "image/png": "[encoded data removed]",
      "image/svg+xml": [
       "<?xml version=\"1.0\" encoding=\"utf-8\"?>\n",
       "<svg xmlns=\"http://www.w3.org/2000/svg\" xmlns:xlink=\"http://www.w3.org/1999/xlink\" width=\"600\" height=\"400\" viewBox=\"0 0 2400 1600\">\n",
       "<defs>\n",
       "  <clipPath id=\"clip850\">\n",
       "    <rect x=\"0\" y=\"0\" width=\"2400\" height=\"1600\"/>\n",
       "  </clipPath>\n",
       "</defs>\n",
       "<path clip-path=\"url(#clip850)\" d=\"M0 1600 L2400 1600 L2400 0 L0 0  Z\" fill=\"#ffffff\" fill-rule=\"evenodd\" fill-opacity=\"1\"/>\n",
       "<defs>\n",
       "  <clipPath id=\"clip851\">\n",
       "    <rect x=\"480\" y=\"0\" width=\"1681\" height=\"1600\"/>\n",
       "  </clipPath>\n",
       "</defs>\n",
       "<path clip-path=\"url(#clip850)\" d=\"M186.274 1486.45 L2352.76 1486.45 L2352.76 47.2441 L186.274 47.2441  Z\" fill=\"#ffffff\" fill-rule=\"evenodd\" fill-opacity=\"1\"/>\n",
       "<defs>\n",
       "  <clipPath id=\"clip852\">\n",
       "    <rect x=\"186\" y=\"47\" width=\"2167\" height=\"1440\"/>\n",
       "  </clipPath>\n",
       "</defs>\n",
       "<polyline clip-path=\"url(#clip852)\" style=\"stroke:#000000; stroke-linecap:round; stroke-linejoin:round; stroke-width:2; stroke-opacity:0.1; fill:none\" points=\"247.59,1486.45 247.59,47.2441 \"/>\n",
       "<polyline clip-path=\"url(#clip852)\" style=\"stroke:#000000; stroke-linecap:round; stroke-linejoin:round; stroke-width:2; stroke-opacity:0.1; fill:none\" points=\"758.552,1486.45 758.552,47.2441 \"/>\n",
       "<polyline clip-path=\"url(#clip852)\" style=\"stroke:#000000; stroke-linecap:round; stroke-linejoin:round; stroke-width:2; stroke-opacity:0.1; fill:none\" points=\"1269.51,1486.45 1269.51,47.2441 \"/>\n",
       "<polyline clip-path=\"url(#clip852)\" style=\"stroke:#000000; stroke-linecap:round; stroke-linejoin:round; stroke-width:2; stroke-opacity:0.1; fill:none\" points=\"1780.48,1486.45 1780.48,47.2441 \"/>\n",
       "<polyline clip-path=\"url(#clip852)\" style=\"stroke:#000000; stroke-linecap:round; stroke-linejoin:round; stroke-width:2; stroke-opacity:0.1; fill:none\" points=\"2291.44,1486.45 2291.44,47.2441 \"/>\n",
       "<polyline clip-path=\"url(#clip852)\" style=\"stroke:#000000; stroke-linecap:round; stroke-linejoin:round; stroke-width:2; stroke-opacity:0.1; fill:none\" points=\"186.274,1398.37 2352.76,1398.37 \"/>\n",
       "<polyline clip-path=\"url(#clip852)\" style=\"stroke:#000000; stroke-linecap:round; stroke-linejoin:round; stroke-width:2; stroke-opacity:0.1; fill:none\" points=\"186.274,1193.58 2352.76,1193.58 \"/>\n",
       "<polyline clip-path=\"url(#clip852)\" style=\"stroke:#000000; stroke-linecap:round; stroke-linejoin:round; stroke-width:2; stroke-opacity:0.1; fill:none\" points=\"186.274,988.784 2352.76,988.784 \"/>\n",
       "<polyline clip-path=\"url(#clip852)\" style=\"stroke:#000000; stroke-linecap:round; stroke-linejoin:round; stroke-width:2; stroke-opacity:0.1; fill:none\" points=\"186.274,783.989 2352.76,783.989 \"/>\n",
       "<polyline clip-path=\"url(#clip852)\" style=\"stroke:#000000; stroke-linecap:round; stroke-linejoin:round; stroke-width:2; stroke-opacity:0.1; fill:none\" points=\"186.274,579.194 2352.76,579.194 \"/>\n",
       "<polyline clip-path=\"url(#clip852)\" style=\"stroke:#000000; stroke-linecap:round; stroke-linejoin:round; stroke-width:2; stroke-opacity:0.1; fill:none\" points=\"186.274,374.399 2352.76,374.399 \"/>\n",
       "<polyline clip-path=\"url(#clip852)\" style=\"stroke:#000000; stroke-linecap:round; stroke-linejoin:round; stroke-width:2; stroke-opacity:0.1; fill:none\" points=\"186.274,169.604 2352.76,169.604 \"/>\n",
       "<polyline clip-path=\"url(#clip850)\" style=\"stroke:#000000; stroke-linecap:round; stroke-linejoin:round; stroke-width:4; stroke-opacity:1; fill:none\" points=\"186.274,1486.45 2352.76,1486.45 \"/>\n",
       "<polyline clip-path=\"url(#clip850)\" style=\"stroke:#000000; stroke-linecap:round; stroke-linejoin:round; stroke-width:4; stroke-opacity:1; fill:none\" points=\"247.59,1486.45 247.59,1467.55 \"/>\n",
       "<polyline clip-path=\"url(#clip850)\" style=\"stroke:#000000; stroke-linecap:round; stroke-linejoin:round; stroke-width:4; stroke-opacity:1; fill:none\" points=\"758.552,1486.45 758.552,1467.55 \"/>\n",
       "<polyline clip-path=\"url(#clip850)\" style=\"stroke:#000000; stroke-linecap:round; stroke-linejoin:round; stroke-width:4; stroke-opacity:1; fill:none\" points=\"1269.51,1486.45 1269.51,1467.55 \"/>\n",
       "<polyline clip-path=\"url(#clip850)\" style=\"stroke:#000000; stroke-linecap:round; stroke-linejoin:round; stroke-width:4; stroke-opacity:1; fill:none\" points=\"1780.48,1486.45 1780.48,1467.55 \"/>\n",
       "<polyline clip-path=\"url(#clip850)\" style=\"stroke:#000000; stroke-linecap:round; stroke-linejoin:round; stroke-width:4; stroke-opacity:1; fill:none\" points=\"2291.44,1486.45 2291.44,1467.55 \"/>\n",
       "<path clip-path=\"url(#clip850)\" d=\"M209.893 1517.37 Q206.282 1517.37 204.453 1520.93 Q202.648 1524.47 202.648 1531.6 Q202.648 1538.71 204.453 1542.27 Q206.282 1545.82 209.893 1545.82 Q213.527 1545.82 215.333 1542.27 Q217.161 1538.71 217.161 1531.6 Q217.161 1524.47 215.333 1520.93 Q213.527 1517.37 209.893 1517.37 M209.893 1513.66 Q215.703 1513.66 218.759 1518.27 Q221.837 1522.85 221.837 1531.6 Q221.837 1540.33 218.759 1544.94 Q215.703 1549.52 209.893 1549.52 Q204.083 1549.52 201.004 1544.94 Q197.949 1540.33 197.949 1531.6 Q197.949 1522.85 201.004 1518.27 Q204.083 1513.66 209.893 1513.66 Z\" fill=\"#000000\" fill-rule=\"nonzero\" fill-opacity=\"1\" /><path clip-path=\"url(#clip850)\" d=\"M230.055 1542.97 L234.939 1542.97 L234.939 1548.85 L230.055 1548.85 L230.055 1542.97 Z\" fill=\"#000000\" fill-rule=\"nonzero\" fill-opacity=\"1\" /><path clip-path=\"url(#clip850)\" d=\"M255.124 1517.37 Q251.513 1517.37 249.684 1520.93 Q247.879 1524.47 247.879 1531.6 Q247.879 1538.71 249.684 1542.27 Q251.513 1545.82 255.124 1545.82 Q258.758 1545.82 260.564 1542.27 Q262.393 1538.71 262.393 1531.6 Q262.393 1524.47 260.564 1520.93 Q258.758 1517.37 255.124 1517.37 M255.124 1513.66 Q260.934 1513.66 263.99 1518.27 Q267.069 1522.85 267.069 1531.6 Q267.069 1540.33 263.99 1544.94 Q260.934 1549.52 255.124 1549.52 Q249.314 1549.52 246.235 1544.94 Q243.18 1540.33 243.18 1531.6 Q243.18 1522.85 246.235 1518.27 Q249.314 1513.66 255.124 1513.66 Z\" fill=\"#000000\" fill-rule=\"nonzero\" fill-opacity=\"1\" /><path clip-path=\"url(#clip850)\" d=\"M285.286 1517.37 Q281.675 1517.37 279.846 1520.93 Q278.041 1524.47 278.041 1531.6 Q278.041 1538.71 279.846 1542.27 Q281.675 1545.82 285.286 1545.82 Q288.92 1545.82 290.726 1542.27 Q292.555 1538.71 292.555 1531.6 Q292.555 1524.47 290.726 1520.93 Q288.92 1517.37 285.286 1517.37 M285.286 1513.66 Q291.096 1513.66 294.152 1518.27 Q297.23 1522.85 297.23 1531.6 Q297.23 1540.33 294.152 1544.94 Q291.096 1549.52 285.286 1549.52 Q279.476 1549.52 276.397 1544.94 Q273.342 1540.33 273.342 1531.6 Q273.342 1522.85 276.397 1518.27 Q279.476 1513.66 285.286 1513.66 Z\" fill=\"#000000\" fill-rule=\"nonzero\" fill-opacity=\"1\" /><path clip-path=\"url(#clip850)\" d=\"M721.353 1517.37 Q717.742 1517.37 715.914 1520.93 Q714.108 1524.47 714.108 1531.6 Q714.108 1538.71 715.914 1542.27 Q717.742 1545.82 721.353 1545.82 Q724.988 1545.82 726.793 1542.27 Q728.622 1538.71 728.622 1531.6 Q728.622 1524.47 726.793 1520.93 Q724.988 1517.37 721.353 1517.37 M721.353 1513.66 Q727.164 1513.66 730.219 1518.27 Q733.298 1522.85 733.298 1531.6 Q733.298 1540.33 730.219 1544.94 Q727.164 1549.52 721.353 1549.52 Q715.543 1549.52 712.465 1544.94 Q709.409 1540.33 709.409 1531.6 Q709.409 1522.85 712.465 1518.27 Q715.543 1513.66 721.353 1513.66 Z\" fill=\"#000000\" fill-rule=\"nonzero\" fill-opacity=\"1\" /><path clip-path=\"url(#clip850)\" d=\"M741.515 1542.97 L746.4 1542.97 L746.4 1548.85 L741.515 1548.85 L741.515 1542.97 Z\" fill=\"#000000\" fill-rule=\"nonzero\" fill-opacity=\"1\" /><path clip-path=\"url(#clip850)\" d=\"M760.612 1544.91 L776.932 1544.91 L776.932 1548.85 L754.987 1548.85 L754.987 1544.91 Q757.649 1542.16 762.233 1537.53 Q766.839 1532.88 768.02 1531.53 Q770.265 1529.01 771.145 1527.27 Q772.048 1525.51 772.048 1523.82 Q772.048 1521.07 770.103 1519.33 Q768.182 1517.6 765.08 1517.6 Q762.881 1517.6 760.427 1518.36 Q757.997 1519.13 755.219 1520.68 L755.219 1515.95 Q758.043 1514.82 760.497 1514.24 Q762.95 1513.66 764.987 1513.66 Q770.358 1513.66 773.552 1516.35 Q776.747 1519.03 776.747 1523.52 Q776.747 1525.65 775.936 1527.57 Q775.149 1529.47 773.043 1532.07 Q772.464 1532.74 769.362 1535.95 Q766.261 1539.15 760.612 1544.91 Z\" fill=\"#000000\" fill-rule=\"nonzero\" fill-opacity=\"1\" /><path clip-path=\"url(#clip850)\" d=\"M786.793 1514.29 L805.149 1514.29 L805.149 1518.22 L791.075 1518.22 L791.075 1526.7 Q792.094 1526.35 793.112 1526.19 Q794.131 1526 795.149 1526 Q800.936 1526 804.316 1529.17 Q807.695 1532.34 807.695 1537.76 Q807.695 1543.34 804.223 1546.44 Q800.751 1549.52 794.432 1549.52 Q792.256 1549.52 789.987 1549.15 Q787.742 1548.78 785.335 1548.04 L785.335 1543.34 Q787.418 1544.47 789.64 1545.03 Q791.862 1545.58 794.339 1545.58 Q798.344 1545.58 800.682 1543.48 Q803.02 1541.37 803.02 1537.76 Q803.02 1534.15 800.682 1532.04 Q798.344 1529.94 794.339 1529.94 Q792.464 1529.94 790.589 1530.35 Q788.737 1530.77 786.793 1531.65 L786.793 1514.29 Z\" fill=\"#000000\" fill-rule=\"nonzero\" fill-opacity=\"1\" /><path clip-path=\"url(#clip850)\" d=\"M1231.82 1517.37 Q1228.21 1517.37 1226.38 1520.93 Q1224.57 1524.47 1224.57 1531.6 Q1224.57 1538.71 1226.38 1542.27 Q1228.21 1545.82 1231.82 1545.82 Q1235.45 1545.82 1237.26 1542.27 Q1239.09 1538.71 1239.09 1531.6 Q1239.09 1524.47 1237.26 1520.93 Q1235.45 1517.37 1231.82 1517.37 M1231.82 1513.66 Q1237.63 1513.66 1240.68 1518.27 Q1243.76 1522.85 1243.76 1531.6 Q1243.76 1540.33 1240.68 1544.94 Q1237.63 1549.52 1231.82 1549.52 Q1226.01 1549.52 1222.93 1544.94 Q1219.87 1540.33 1219.87 1531.6 Q1219.87 1522.85 1222.93 1518.27 Q1226.01 1513.66 1231.82 1513.66 Z\" fill=\"#000000\" fill-rule=\"nonzero\" fill-opacity=\"1\" /><path clip-path=\"url(#clip850)\" d=\"M1251.98 1542.97 L1256.86 1542.97 L1256.86 1548.85 L1251.98 1548.85 L1251.98 1542.97 Z\" fill=\"#000000\" fill-rule=\"nonzero\" fill-opacity=\"1\" /><path clip-path=\"url(#clip850)\" d=\"M1267.1 1514.29 L1285.45 1514.29 L1285.45 1518.22 L1271.38 1518.22 L1271.38 1526.7 Q1272.4 1526.35 1273.42 1526.19 Q1274.43 1526 1275.45 1526 Q1281.24 1526 1284.62 1529.17 Q1288 1532.34 1288 1537.76 Q1288 1543.34 1284.53 1546.44 Q1281.05 1549.52 1274.73 1549.52 Q1272.56 1549.52 1270.29 1549.15 Q1268.05 1548.78 1265.64 1548.04 L1265.64 1543.34 Q1267.72 1544.47 1269.94 1545.03 Q1272.17 1545.58 1274.64 1545.58 Q1278.65 1545.58 1280.98 1543.48 Q1283.32 1541.37 1283.32 1537.76 Q1283.32 1534.15 1280.98 1532.04 Q1278.65 1529.94 1274.64 1529.94 Q1272.77 1529.94 1270.89 1530.35 Q1269.04 1530.77 1267.1 1531.65 L1267.1 1514.29 Z\" fill=\"#000000\" fill-rule=\"nonzero\" fill-opacity=\"1\" /><path clip-path=\"url(#clip850)\" d=\"M1307.21 1517.37 Q1303.6 1517.37 1301.77 1520.93 Q1299.97 1524.47 1299.97 1531.6 Q1299.97 1538.71 1301.77 1542.27 Q1303.6 1545.82 1307.21 1545.82 Q1310.85 1545.82 1312.65 1542.27 Q1314.48 1538.71 1314.48 1531.6 Q1314.48 1524.47 1312.65 1520.93 Q1310.85 1517.37 1307.21 1517.37 M1307.21 1513.66 Q1313.02 1513.66 1316.08 1518.27 Q1319.16 1522.85 1319.16 1531.6 Q1319.16 1540.33 1316.08 1544.94 Q1313.02 1549.52 1307.21 1549.52 Q1301.4 1549.52 1298.32 1544.94 Q1295.27 1540.33 1295.27 1531.6 Q1295.27 1522.85 1298.32 1518.27 Q1301.4 1513.66 1307.21 1513.66 Z\" fill=\"#000000\" fill-rule=\"nonzero\" fill-opacity=\"1\" /><path clip-path=\"url(#clip850)\" d=\"M1743.28 1517.37 Q1739.67 1517.37 1737.84 1520.93 Q1736.03 1524.47 1736.03 1531.6 Q1736.03 1538.71 1737.84 1542.27 Q1739.67 1545.82 1743.28 1545.82 Q1746.91 1545.82 1748.72 1542.27 Q1750.55 1538.71 1750.55 1531.6 Q1750.55 1524.47 1748.72 1520.93 Q1746.91 1517.37 1743.28 1517.37 M1743.28 1513.66 Q1749.09 1513.66 1752.14 1518.27 Q1755.22 1522.85 1755.22 1531.6 Q1755.22 1540.33 1752.14 1544.94 Q1749.09 1549.52 1743.28 1549.52 Q1737.47 1549.52 1734.39 1544.94 Q1731.33 1540.33 1731.33 1531.6 Q1731.33 1522.85 1734.39 1518.27 Q1737.47 1513.66 1743.28 1513.66 Z\" fill=\"#000000\" fill-rule=\"nonzero\" fill-opacity=\"1\" /><path clip-path=\"url(#clip850)\" d=\"M1763.44 1542.97 L1768.32 1542.97 L1768.32 1548.85 L1763.44 1548.85 L1763.44 1542.97 Z\" fill=\"#000000\" fill-rule=\"nonzero\" fill-opacity=\"1\" /><path clip-path=\"url(#clip850)\" d=\"M1777.33 1514.29 L1799.55 1514.29 L1799.55 1516.28 L1787.01 1548.85 L1782.12 1548.85 L1793.93 1518.22 L1777.33 1518.22 L1777.33 1514.29 Z\" fill=\"#000000\" fill-rule=\"nonzero\" fill-opacity=\"1\" /><path clip-path=\"url(#clip850)\" d=\"M1808.72 1514.29 L1827.07 1514.29 L1827.07 1518.22 L1813 1518.22 L1813 1526.7 Q1814.02 1526.35 1815.04 1526.19 Q1816.06 1526 1817.07 1526 Q1822.86 1526 1826.24 1529.17 Q1829.62 1532.34 1829.62 1537.76 Q1829.62 1543.34 1826.15 1546.44 Q1822.68 1549.52 1816.36 1549.52 Q1814.18 1549.52 1811.91 1549.15 Q1809.67 1548.78 1807.26 1548.04 L1807.26 1543.34 Q1809.34 1544.47 1811.57 1545.03 Q1813.79 1545.58 1816.26 1545.58 Q1820.27 1545.58 1822.61 1543.48 Q1824.95 1541.37 1824.95 1537.76 Q1824.95 1534.15 1822.61 1532.04 Q1820.27 1529.94 1816.26 1529.94 Q1814.39 1529.94 1812.51 1530.35 Q1810.66 1530.77 1808.72 1531.65 L1808.72 1514.29 Z\" fill=\"#000000\" fill-rule=\"nonzero\" fill-opacity=\"1\" /><path clip-path=\"url(#clip850)\" d=\"M2243.51 1544.91 L2251.15 1544.91 L2251.15 1518.55 L2242.84 1520.21 L2242.84 1515.95 L2251.1 1514.29 L2255.78 1514.29 L2255.78 1544.91 L2263.42 1544.91 L2263.42 1548.85 L2243.51 1548.85 L2243.51 1544.91 Z\" fill=\"#000000\" fill-rule=\"nonzero\" fill-opacity=\"1\" /><path clip-path=\"url(#clip850)\" d=\"M2272.86 1542.97 L2277.75 1542.97 L2277.75 1548.85 L2272.86 1548.85 L2272.86 1542.97 Z\" fill=\"#000000\" fill-rule=\"nonzero\" fill-opacity=\"1\" /><path clip-path=\"url(#clip850)\" d=\"M2297.93 1517.37 Q2294.32 1517.37 2292.49 1520.93 Q2290.69 1524.47 2290.69 1531.6 Q2290.69 1538.71 2292.49 1542.27 Q2294.32 1545.82 2297.93 1545.82 Q2301.57 1545.82 2303.37 1542.27 Q2305.2 1538.71 2305.2 1531.6 Q2305.2 1524.47 2303.37 1520.93 Q2301.57 1517.37 2297.93 1517.37 M2297.93 1513.66 Q2303.74 1513.66 2306.8 1518.27 Q2309.88 1522.85 2309.88 1531.6 Q2309.88 1540.33 2306.8 1544.94 Q2303.74 1549.52 2297.93 1549.52 Q2292.12 1549.52 2289.04 1544.94 Q2285.99 1540.33 2285.99 1531.6 Q2285.99 1522.85 2289.04 1518.27 Q2292.12 1513.66 2297.93 1513.66 Z\" fill=\"#000000\" fill-rule=\"nonzero\" fill-opacity=\"1\" /><path clip-path=\"url(#clip850)\" d=\"M2328.1 1517.37 Q2324.48 1517.37 2322.66 1520.93 Q2320.85 1524.47 2320.85 1531.6 Q2320.85 1538.71 2322.66 1542.27 Q2324.48 1545.82 2328.1 1545.82 Q2331.73 1545.82 2333.54 1542.27 Q2335.36 1538.71 2335.36 1531.6 Q2335.36 1524.47 2333.54 1520.93 Q2331.73 1517.37 2328.1 1517.37 M2328.1 1513.66 Q2333.91 1513.66 2336.96 1518.27 Q2340.04 1522.85 2340.04 1531.6 Q2340.04 1540.33 2336.96 1544.94 Q2333.91 1549.52 2328.1 1549.52 Q2322.29 1549.52 2319.21 1544.94 Q2316.15 1540.33 2316.15 1531.6 Q2316.15 1522.85 2319.21 1518.27 Q2322.29 1513.66 2328.1 1513.66 Z\" fill=\"#000000\" fill-rule=\"nonzero\" fill-opacity=\"1\" /><polyline clip-path=\"url(#clip850)\" style=\"stroke:#000000; stroke-linecap:round; stroke-linejoin:round; stroke-width:4; stroke-opacity:1; fill:none\" points=\"186.274,1486.45 186.274,47.2441 \"/>\n",
       "<polyline clip-path=\"url(#clip850)\" style=\"stroke:#000000; stroke-linecap:round; stroke-linejoin:round; stroke-width:4; stroke-opacity:1; fill:none\" points=\"186.274,1398.37 205.172,1398.37 \"/>\n",
       "<polyline clip-path=\"url(#clip850)\" style=\"stroke:#000000; stroke-linecap:round; stroke-linejoin:round; stroke-width:4; stroke-opacity:1; fill:none\" points=\"186.274,1193.58 205.172,1193.58 \"/>\n",
       "<polyline clip-path=\"url(#clip850)\" style=\"stroke:#000000; stroke-linecap:round; stroke-linejoin:round; stroke-width:4; stroke-opacity:1; fill:none\" points=\"186.274,988.784 205.172,988.784 \"/>\n",
       "<polyline clip-path=\"url(#clip850)\" style=\"stroke:#000000; stroke-linecap:round; stroke-linejoin:round; stroke-width:4; stroke-opacity:1; fill:none\" points=\"186.274,783.989 205.172,783.989 \"/>\n",
       "<polyline clip-path=\"url(#clip850)\" style=\"stroke:#000000; stroke-linecap:round; stroke-linejoin:round; stroke-width:4; stroke-opacity:1; fill:none\" points=\"186.274,579.194 205.172,579.194 \"/>\n",
       "<polyline clip-path=\"url(#clip850)\" style=\"stroke:#000000; stroke-linecap:round; stroke-linejoin:round; stroke-width:4; stroke-opacity:1; fill:none\" points=\"186.274,374.399 205.172,374.399 \"/>\n",
       "<polyline clip-path=\"url(#clip850)\" style=\"stroke:#000000; stroke-linecap:round; stroke-linejoin:round; stroke-width:4; stroke-opacity:1; fill:none\" points=\"186.274,169.604 205.172,169.604 \"/>\n",
       "<path clip-path=\"url(#clip850)\" d=\"M63.9319 1384.17 Q60.3208 1384.17 58.4921 1387.74 Q56.6865 1391.28 56.6865 1398.41 Q56.6865 1405.52 58.4921 1409.08 Q60.3208 1412.62 63.9319 1412.62 Q67.5661 1412.62 69.3717 1409.08 Q71.2004 1405.52 71.2004 1398.41 Q71.2004 1391.28 69.3717 1387.74 Q67.5661 1384.17 63.9319 1384.17 M63.9319 1380.47 Q69.742 1380.47 72.7976 1385.08 Q75.8763 1389.66 75.8763 1398.41 Q75.8763 1407.14 72.7976 1411.74 Q69.742 1416.33 63.9319 1416.33 Q58.1217 1416.33 55.043 1411.74 Q51.9875 1407.14 51.9875 1398.41 Q51.9875 1389.66 55.043 1385.08 Q58.1217 1380.47 63.9319 1380.47 Z\" fill=\"#000000\" fill-rule=\"nonzero\" fill-opacity=\"1\" /><path clip-path=\"url(#clip850)\" d=\"M84.0938 1409.77 L88.978 1409.77 L88.978 1415.65 L84.0938 1415.65 L84.0938 1409.77 Z\" fill=\"#000000\" fill-rule=\"nonzero\" fill-opacity=\"1\" /><path clip-path=\"url(#clip850)\" d=\"M103.191 1411.72 L119.51 1411.72 L119.51 1415.65 L97.566 1415.65 L97.566 1411.72 Q100.228 1408.96 104.811 1404.34 Q109.418 1399.68 110.598 1398.34 Q112.844 1395.82 113.723 1394.08 Q114.626 1392.32 114.626 1390.63 Q114.626 1387.88 112.682 1386.14 Q110.76 1384.4 107.658 1384.4 Q105.459 1384.4 103.006 1385.17 Q100.575 1385.93 97.7974 1387.48 L97.7974 1382.76 Q100.621 1381.63 103.075 1381.05 Q105.529 1380.47 107.566 1380.47 Q112.936 1380.47 116.131 1383.15 Q119.325 1385.84 119.325 1390.33 Q119.325 1392.46 118.515 1394.38 Q117.728 1396.28 115.621 1398.87 Q115.043 1399.54 111.941 1402.76 Q108.839 1405.96 103.191 1411.72 Z\" fill=\"#000000\" fill-rule=\"nonzero\" fill-opacity=\"1\" /><path clip-path=\"url(#clip850)\" d=\"M129.371 1381.09 L147.728 1381.09 L147.728 1385.03 L133.654 1385.03 L133.654 1393.5 Q134.672 1393.15 135.691 1392.99 Q136.709 1392.81 137.728 1392.81 Q143.515 1392.81 146.894 1395.98 Q150.274 1399.15 150.274 1404.57 Q150.274 1410.15 146.802 1413.25 Q143.33 1416.33 137.01 1416.33 Q134.834 1416.33 132.566 1415.96 Q130.32 1415.59 127.913 1414.84 L127.913 1410.15 Q129.996 1411.28 132.219 1411.84 Q134.441 1412.39 136.918 1412.39 Q140.922 1412.39 143.26 1410.28 Q145.598 1408.18 145.598 1404.57 Q145.598 1400.96 143.26 1398.85 Q140.922 1396.74 136.918 1396.74 Q135.043 1396.74 133.168 1397.16 Q131.316 1397.58 129.371 1398.46 L129.371 1381.09 Z\" fill=\"#000000\" fill-rule=\"nonzero\" fill-opacity=\"1\" /><path clip-path=\"url(#clip850)\" d=\"M62.9365 1179.38 Q59.3254 1179.38 57.4967 1182.94 Q55.6912 1186.48 55.6912 1193.61 Q55.6912 1200.72 57.4967 1204.29 Q59.3254 1207.83 62.9365 1207.83 Q66.5707 1207.83 68.3763 1204.29 Q70.205 1200.72 70.205 1193.61 Q70.205 1186.48 68.3763 1182.94 Q66.5707 1179.38 62.9365 1179.38 M62.9365 1175.67 Q68.7467 1175.67 71.8022 1180.28 Q74.8809 1184.86 74.8809 1193.61 Q74.8809 1202.34 71.8022 1206.95 Q68.7467 1211.53 62.9365 1211.53 Q57.1264 1211.53 54.0477 1206.95 Q50.9921 1202.34 50.9921 1193.61 Q50.9921 1184.86 54.0477 1180.28 Q57.1264 1175.67 62.9365 1175.67 Z\" fill=\"#000000\" fill-rule=\"nonzero\" fill-opacity=\"1\" /><path clip-path=\"url(#clip850)\" d=\"M83.0984 1204.98 L87.9827 1204.98 L87.9827 1210.86 L83.0984 1210.86 L83.0984 1204.98 Z\" fill=\"#000000\" fill-rule=\"nonzero\" fill-opacity=\"1\" /><path clip-path=\"url(#clip850)\" d=\"M98.2141 1176.3 L116.57 1176.3 L116.57 1180.23 L102.496 1180.23 L102.496 1188.71 Q103.515 1188.36 104.534 1188.2 Q105.552 1188.01 106.571 1188.01 Q112.358 1188.01 115.737 1191.18 Q119.117 1194.35 119.117 1199.77 Q119.117 1205.35 115.645 1208.45 Q112.172 1211.53 105.853 1211.53 Q103.677 1211.53 101.409 1211.16 Q99.1632 1210.79 96.7558 1210.05 L96.7558 1205.35 Q98.8391 1206.48 101.061 1207.04 Q103.284 1207.6 105.76 1207.6 Q109.765 1207.6 112.103 1205.49 Q114.441 1203.38 114.441 1199.77 Q114.441 1196.16 112.103 1194.05 Q109.765 1191.95 105.76 1191.95 Q103.885 1191.95 102.01 1192.36 Q100.159 1192.78 98.2141 1193.66 L98.2141 1176.3 Z\" fill=\"#000000\" fill-rule=\"nonzero\" fill-opacity=\"1\" /><path clip-path=\"url(#clip850)\" d=\"M138.33 1179.38 Q134.719 1179.38 132.89 1182.94 Q131.084 1186.48 131.084 1193.61 Q131.084 1200.72 132.89 1204.29 Q134.719 1207.83 138.33 1207.83 Q141.964 1207.83 143.769 1204.29 Q145.598 1200.72 145.598 1193.61 Q145.598 1186.48 143.769 1182.94 Q141.964 1179.38 138.33 1179.38 M138.33 1175.67 Q144.14 1175.67 147.195 1180.28 Q150.274 1184.86 150.274 1193.61 Q150.274 1202.34 147.195 1206.95 Q144.14 1211.53 138.33 1211.53 Q132.519 1211.53 129.441 1206.95 Q126.385 1202.34 126.385 1193.61 Q126.385 1184.86 129.441 1180.28 Q132.519 1175.67 138.33 1175.67 Z\" fill=\"#000000\" fill-rule=\"nonzero\" fill-opacity=\"1\" /><path clip-path=\"url(#clip850)\" d=\"M63.9319 974.583 Q60.3208 974.583 58.4921 978.148 Q56.6865 981.69 56.6865 988.819 Q56.6865 995.926 58.4921 999.49 Q60.3208 1003.03 63.9319 1003.03 Q67.5661 1003.03 69.3717 999.49 Q71.2004 995.926 71.2004 988.819 Q71.2004 981.69 69.3717 978.148 Q67.5661 974.583 63.9319 974.583 M63.9319 970.879 Q69.742 970.879 72.7976 975.486 Q75.8763 980.069 75.8763 988.819 Q75.8763 997.546 72.7976 1002.15 Q69.742 1006.74 63.9319 1006.74 Q58.1217 1006.74 55.043 1002.15 Q51.9875 997.546 51.9875 988.819 Q51.9875 980.069 55.043 975.486 Q58.1217 970.879 63.9319 970.879 Z\" fill=\"#000000\" fill-rule=\"nonzero\" fill-opacity=\"1\" /><path clip-path=\"url(#clip850)\" d=\"M84.0938 1000.18 L88.978 1000.18 L88.978 1006.06 L84.0938 1006.06 L84.0938 1000.18 Z\" fill=\"#000000\" fill-rule=\"nonzero\" fill-opacity=\"1\" /><path clip-path=\"url(#clip850)\" d=\"M97.9826 971.504 L120.205 971.504 L120.205 973.495 L107.658 1006.06 L102.774 1006.06 L114.58 975.44 L97.9826 975.44 L97.9826 971.504 Z\" fill=\"#000000\" fill-rule=\"nonzero\" fill-opacity=\"1\" /><path clip-path=\"url(#clip850)\" d=\"M129.371 971.504 L147.728 971.504 L147.728 975.44 L133.654 975.44 L133.654 983.912 Q134.672 983.565 135.691 983.402 Q136.709 983.217 137.728 983.217 Q143.515 983.217 146.894 986.389 Q150.274 989.56 150.274 994.977 Q150.274 1000.56 146.802 1003.66 Q143.33 1006.74 137.01 1006.74 Q134.834 1006.74 132.566 1006.37 Q130.32 1005.99 127.913 1005.25 L127.913 1000.56 Q129.996 1001.69 132.219 1002.24 Q134.441 1002.8 136.918 1002.8 Q140.922 1002.8 143.26 1000.69 Q145.598 998.588 145.598 994.977 Q145.598 991.365 143.26 989.259 Q140.922 987.152 136.918 987.152 Q135.043 987.152 133.168 987.569 Q131.316 987.986 129.371 988.865 L129.371 971.504 Z\" fill=\"#000000\" fill-rule=\"nonzero\" fill-opacity=\"1\" /><path clip-path=\"url(#clip850)\" d=\"M53.7467 797.334 L61.3856 797.334 L61.3856 770.969 L53.0754 772.635 L53.0754 768.376 L61.3393 766.709 L66.0152 766.709 L66.0152 797.334 L73.654 797.334 L73.654 801.269 L53.7467 801.269 L53.7467 797.334 Z\" fill=\"#000000\" fill-rule=\"nonzero\" fill-opacity=\"1\" /><path clip-path=\"url(#clip850)\" d=\"M83.0984 795.39 L87.9827 795.39 L87.9827 801.269 L83.0984 801.269 L83.0984 795.39 Z\" fill=\"#000000\" fill-rule=\"nonzero\" fill-opacity=\"1\" /><path clip-path=\"url(#clip850)\" d=\"M108.168 769.788 Q104.557 769.788 102.728 773.353 Q100.922 776.895 100.922 784.024 Q100.922 791.131 102.728 794.695 Q104.557 798.237 108.168 798.237 Q111.802 798.237 113.608 794.695 Q115.436 791.131 115.436 784.024 Q115.436 776.895 113.608 773.353 Q111.802 769.788 108.168 769.788 M108.168 766.084 Q113.978 766.084 117.033 770.691 Q120.112 775.274 120.112 784.024 Q120.112 792.751 117.033 797.357 Q113.978 801.941 108.168 801.941 Q102.358 801.941 99.2789 797.357 Q96.2234 792.751 96.2234 784.024 Q96.2234 775.274 99.2789 770.691 Q102.358 766.084 108.168 766.084 Z\" fill=\"#000000\" fill-rule=\"nonzero\" fill-opacity=\"1\" /><path clip-path=\"url(#clip850)\" d=\"M138.33 769.788 Q134.719 769.788 132.89 773.353 Q131.084 776.895 131.084 784.024 Q131.084 791.131 132.89 794.695 Q134.719 798.237 138.33 798.237 Q141.964 798.237 143.769 794.695 Q145.598 791.131 145.598 784.024 Q145.598 776.895 143.769 773.353 Q141.964 769.788 138.33 769.788 M138.33 766.084 Q144.14 766.084 147.195 770.691 Q150.274 775.274 150.274 784.024 Q150.274 792.751 147.195 797.357 Q144.14 801.941 138.33 801.941 Q132.519 801.941 129.441 797.357 Q126.385 792.751 126.385 784.024 Q126.385 775.274 129.441 770.691 Q132.519 766.084 138.33 766.084 Z\" fill=\"#000000\" fill-rule=\"nonzero\" fill-opacity=\"1\" /><path clip-path=\"url(#clip850)\" d=\"M54.7421 592.539 L62.381 592.539 L62.381 566.174 L54.0708 567.84 L54.0708 563.581 L62.3347 561.914 L67.0106 561.914 L67.0106 592.539 L74.6494 592.539 L74.6494 596.474 L54.7421 596.474 L54.7421 592.539 Z\" fill=\"#000000\" fill-rule=\"nonzero\" fill-opacity=\"1\" /><path clip-path=\"url(#clip850)\" d=\"M84.0938 590.595 L88.978 590.595 L88.978 596.474 L84.0938 596.474 L84.0938 590.595 Z\" fill=\"#000000\" fill-rule=\"nonzero\" fill-opacity=\"1\" /><path clip-path=\"url(#clip850)\" d=\"M103.191 592.539 L119.51 592.539 L119.51 596.474 L97.566 596.474 L97.566 592.539 Q100.228 589.785 104.811 585.155 Q109.418 580.502 110.598 579.16 Q112.844 576.637 113.723 574.9 Q114.626 573.141 114.626 571.451 Q114.626 568.697 112.682 566.961 Q110.76 565.225 107.658 565.225 Q105.459 565.225 103.006 565.988 Q100.575 566.752 97.7974 568.303 L97.7974 563.581 Q100.621 562.447 103.075 561.868 Q105.529 561.289 107.566 561.289 Q112.936 561.289 116.131 563.975 Q119.325 566.66 119.325 571.15 Q119.325 573.28 118.515 575.201 Q117.728 577.099 115.621 579.692 Q115.043 580.363 111.941 583.581 Q108.839 586.775 103.191 592.539 Z\" fill=\"#000000\" fill-rule=\"nonzero\" fill-opacity=\"1\" /><path clip-path=\"url(#clip850)\" d=\"M129.371 561.914 L147.728 561.914 L147.728 565.85 L133.654 565.85 L133.654 574.322 Q134.672 573.974 135.691 573.812 Q136.709 573.627 137.728 573.627 Q143.515 573.627 146.894 576.799 Q150.274 579.97 150.274 585.386 Q150.274 590.965 146.802 594.067 Q143.33 597.146 137.01 597.146 Q134.834 597.146 132.566 596.775 Q130.32 596.405 127.913 595.664 L127.913 590.965 Q129.996 592.099 132.219 592.655 Q134.441 593.211 136.918 593.211 Q140.922 593.211 143.26 591.104 Q145.598 588.998 145.598 585.386 Q145.598 581.775 143.26 579.669 Q140.922 577.562 136.918 577.562 Q135.043 577.562 133.168 577.979 Q131.316 578.396 129.371 579.275 L129.371 561.914 Z\" fill=\"#000000\" fill-rule=\"nonzero\" fill-opacity=\"1\" /><path clip-path=\"url(#clip850)\" d=\"M53.7467 387.744 L61.3856 387.744 L61.3856 361.379 L53.0754 363.045 L53.0754 358.786 L61.3393 357.119 L66.0152 357.119 L66.0152 387.744 L73.654 387.744 L73.654 391.679 L53.7467 391.679 L53.7467 387.744 Z\" fill=\"#000000\" fill-rule=\"nonzero\" fill-opacity=\"1\" /><path clip-path=\"url(#clip850)\" d=\"M83.0984 385.8 L87.9827 385.8 L87.9827 391.679 L83.0984 391.679 L83.0984 385.8 Z\" fill=\"#000000\" fill-rule=\"nonzero\" fill-opacity=\"1\" /><path clip-path=\"url(#clip850)\" d=\"M98.2141 357.119 L116.57 357.119 L116.57 361.055 L102.496 361.055 L102.496 369.527 Q103.515 369.179 104.534 369.017 Q105.552 368.832 106.571 368.832 Q112.358 368.832 115.737 372.004 Q119.117 375.175 119.117 380.591 Q119.117 386.17 115.645 389.272 Q112.172 392.351 105.853 392.351 Q103.677 392.351 101.409 391.98 Q99.1632 391.61 96.7558 390.869 L96.7558 386.17 Q98.8391 387.304 101.061 387.86 Q103.284 388.415 105.76 388.415 Q109.765 388.415 112.103 386.309 Q114.441 384.203 114.441 380.591 Q114.441 376.98 112.103 374.874 Q109.765 372.767 105.76 372.767 Q103.885 372.767 102.01 373.184 Q100.159 373.601 98.2141 374.48 L98.2141 357.119 Z\" fill=\"#000000\" fill-rule=\"nonzero\" fill-opacity=\"1\" /><path clip-path=\"url(#clip850)\" d=\"M138.33 360.198 Q134.719 360.198 132.89 363.763 Q131.084 367.304 131.084 374.434 Q131.084 381.541 132.89 385.105 Q134.719 388.647 138.33 388.647 Q141.964 388.647 143.769 385.105 Q145.598 381.541 145.598 374.434 Q145.598 367.304 143.769 363.763 Q141.964 360.198 138.33 360.198 M138.33 356.494 Q144.14 356.494 147.195 361.101 Q150.274 365.684 150.274 374.434 Q150.274 383.161 147.195 387.767 Q144.14 392.351 138.33 392.351 Q132.519 392.351 129.441 387.767 Q126.385 383.161 126.385 374.434 Q126.385 365.684 129.441 361.101 Q132.519 356.494 138.33 356.494 Z\" fill=\"#000000\" fill-rule=\"nonzero\" fill-opacity=\"1\" /><path clip-path=\"url(#clip850)\" d=\"M54.7421 182.949 L62.381 182.949 L62.381 156.584 L54.0708 158.25 L54.0708 153.991 L62.3347 152.324 L67.0106 152.324 L67.0106 182.949 L74.6494 182.949 L74.6494 186.884 L54.7421 186.884 L54.7421 182.949 Z\" fill=\"#000000\" fill-rule=\"nonzero\" fill-opacity=\"1\" /><path clip-path=\"url(#clip850)\" d=\"M84.0938 181.005 L88.978 181.005 L88.978 186.884 L84.0938 186.884 L84.0938 181.005 Z\" fill=\"#000000\" fill-rule=\"nonzero\" fill-opacity=\"1\" /><path clip-path=\"url(#clip850)\" d=\"M97.9826 152.324 L120.205 152.324 L120.205 154.315 L107.658 186.884 L102.774 186.884 L114.58 156.26 L97.9826 156.26 L97.9826 152.324 Z\" fill=\"#000000\" fill-rule=\"nonzero\" fill-opacity=\"1\" /><path clip-path=\"url(#clip850)\" d=\"M129.371 152.324 L147.728 152.324 L147.728 156.26 L133.654 156.26 L133.654 164.732 Q134.672 164.384 135.691 164.222 Q136.709 164.037 137.728 164.037 Q143.515 164.037 146.894 167.209 Q150.274 170.38 150.274 175.796 Q150.274 181.375 146.802 184.477 Q143.33 187.556 137.01 187.556 Q134.834 187.556 132.566 187.185 Q130.32 186.815 127.913 186.074 L127.913 181.375 Q129.996 182.509 132.219 183.065 Q134.441 183.62 136.918 183.62 Q140.922 183.62 143.26 181.514 Q145.598 179.408 145.598 175.796 Q145.598 172.185 143.26 170.079 Q140.922 167.972 136.918 167.972 Q135.043 167.972 133.168 168.389 Q131.316 168.806 129.371 169.685 L129.371 152.324 Z\" fill=\"#000000\" fill-rule=\"nonzero\" fill-opacity=\"1\" /><circle clip-path=\"url(#clip852)\" cx=\"247.59\" cy=\"87.9763\" r=\"14.4\" fill=\"#009af9\" fill-rule=\"evenodd\" fill-opacity=\"1\" stroke=\"#000000\" stroke-opacity=\"1\" stroke-width=\"3.2\"/>\n",
       "<circle clip-path=\"url(#clip852)\" cx=\"451.975\" cy=\"222.246\" r=\"14.4\" fill=\"#009af9\" fill-rule=\"evenodd\" fill-opacity=\"1\" stroke=\"#000000\" stroke-opacity=\"1\" stroke-width=\"3.2\"/>\n",
       "<circle clip-path=\"url(#clip852)\" cx=\"656.36\" cy=\"573.27\" r=\"14.4\" fill=\"#009af9\" fill-rule=\"evenodd\" fill-opacity=\"1\" stroke=\"#000000\" stroke-opacity=\"1\" stroke-width=\"3.2\"/>\n",
       "<circle clip-path=\"url(#clip852)\" cx=\"860.745\" cy=\"688.453\" r=\"14.4\" fill=\"#009af9\" fill-rule=\"evenodd\" fill-opacity=\"1\" stroke=\"#000000\" stroke-opacity=\"1\" stroke-width=\"3.2\"/>\n",
       "<circle clip-path=\"url(#clip852)\" cx=\"1065.13\" cy=\"797.576\" r=\"14.4\" fill=\"#009af9\" fill-rule=\"evenodd\" fill-opacity=\"1\" stroke=\"#000000\" stroke-opacity=\"1\" stroke-width=\"3.2\"/>\n",
       "<circle clip-path=\"url(#clip852)\" cx=\"1269.51\" cy=\"906.388\" r=\"14.4\" fill=\"#009af9\" fill-rule=\"evenodd\" fill-opacity=\"1\" stroke=\"#000000\" stroke-opacity=\"1\" stroke-width=\"3.2\"/>\n",
       "<circle clip-path=\"url(#clip852)\" cx=\"1473.9\" cy=\"1017.21\" r=\"14.4\" fill=\"#009af9\" fill-rule=\"evenodd\" fill-opacity=\"1\" stroke=\"#000000\" stroke-opacity=\"1\" stroke-width=\"3.2\"/>\n",
       "<circle clip-path=\"url(#clip852)\" cx=\"1678.29\" cy=\"1075.24\" r=\"14.4\" fill=\"#009af9\" fill-rule=\"evenodd\" fill-opacity=\"1\" stroke=\"#000000\" stroke-opacity=\"1\" stroke-width=\"3.2\"/>\n",
       "<circle clip-path=\"url(#clip852)\" cx=\"1882.67\" cy=\"1310.24\" r=\"14.4\" fill=\"#009af9\" fill-rule=\"evenodd\" fill-opacity=\"1\" stroke=\"#000000\" stroke-opacity=\"1\" stroke-width=\"3.2\"/>\n",
       "<circle clip-path=\"url(#clip852)\" cx=\"2087.06\" cy=\"1349.47\" r=\"14.4\" fill=\"#009af9\" fill-rule=\"evenodd\" fill-opacity=\"1\" stroke=\"#000000\" stroke-opacity=\"1\" stroke-width=\"3.2\"/>\n",
       "<circle clip-path=\"url(#clip852)\" cx=\"2291.44\" cy=\"1445.72\" r=\"14.4\" fill=\"#009af9\" fill-rule=\"evenodd\" fill-opacity=\"1\" stroke=\"#000000\" stroke-opacity=\"1\" stroke-width=\"3.2\"/>\n",
       "<path clip-path=\"url(#clip850)\" d=\"M2011.46 198.898 L2280.54 198.898 L2280.54 95.2176 L2011.46 95.2176  Z\" fill=\"#ffffff\" fill-rule=\"evenodd\" fill-opacity=\"1\"/>\n",
       "<polyline clip-path=\"url(#clip850)\" style=\"stroke:#000000; stroke-linecap:round; stroke-linejoin:round; stroke-width:4; stroke-opacity:1; fill:none\" points=\"2011.46,198.898 2280.54,198.898 2280.54,95.2176 2011.46,95.2176 2011.46,198.898 \"/>\n",
       "<circle clip-path=\"url(#clip850)\" cx=\"2107.75\" cy=\"147.058\" r=\"20.48\" fill=\"#009af9\" fill-rule=\"evenodd\" fill-opacity=\"1\" stroke=\"#000000\" stroke-opacity=\"1\" stroke-width=\"4.55111\"/>\n",
       "<path clip-path=\"url(#clip850)\" d=\"M2217.88 166.745 Q2216.07 171.375 2214.36 172.787 Q2212.65 174.199 2209.78 174.199 L2206.38 174.199 L2206.38 170.634 L2208.88 170.634 Q2210.63 170.634 2211.61 169.8 Q2212.58 168.967 2213.76 165.865 L2214.52 163.921 L2204.04 138.412 L2208.55 138.412 L2216.65 158.689 L2224.76 138.412 L2229.27 138.412 L2217.88 166.745 Z\" fill=\"#000000\" fill-rule=\"nonzero\" fill-opacity=\"1\" /><path clip-path=\"url(#clip850)\" d=\"M2236.56 160.402 L2244.2 160.402 L2244.2 134.037 L2235.89 135.703 L2235.89 131.444 L2244.15 129.778 L2248.83 129.778 L2248.83 160.402 L2256.47 160.402 L2256.47 164.338 L2236.56 164.338 L2236.56 160.402 Z\" fill=\"#000000\" fill-rule=\"nonzero\" fill-opacity=\"1\" /></svg>\n"
      ],
      "text/html": [
       "<?xml version=\"1.0\" encoding=\"utf-8\"?>\n",
       "<svg xmlns=\"http://www.w3.org/2000/svg\" xmlns:xlink=\"http://www.w3.org/1999/xlink\" width=\"600\" height=\"400\" viewBox=\"0 0 2400 1600\">\n",
       "<defs>\n",
       "  <clipPath id=\"clip900\">\n",
       "    <rect x=\"0\" y=\"0\" width=\"2400\" height=\"1600\"/>\n",
       "  </clipPath>\n",
       "</defs>\n",
       "<path clip-path=\"url(#clip900)\" d=\"M0 1600 L2400 1600 L2400 0 L0 0  Z\" fill=\"#ffffff\" fill-rule=\"evenodd\" fill-opacity=\"1\"/>\n",
       "<defs>\n",
       "  <clipPath id=\"clip901\">\n",
       "    <rect x=\"480\" y=\"0\" width=\"1681\" height=\"1600\"/>\n",
       "  </clipPath>\n",
       "</defs>\n",
       "<path clip-path=\"url(#clip900)\" d=\"M186.274 1486.45 L2352.76 1486.45 L2352.76 47.2441 L186.274 47.2441  Z\" fill=\"#ffffff\" fill-rule=\"evenodd\" fill-opacity=\"1\"/>\n",
       "<defs>\n",
       "  <clipPath id=\"clip902\">\n",
       "    <rect x=\"186\" y=\"47\" width=\"2167\" height=\"1440\"/>\n",
       "  </clipPath>\n",
       "</defs>\n",
       "<polyline clip-path=\"url(#clip902)\" style=\"stroke:#000000; stroke-linecap:round; stroke-linejoin:round; stroke-width:2; stroke-opacity:0.1; fill:none\" points=\"247.59,1486.45 247.59,47.2441 \"/>\n",
       "<polyline clip-path=\"url(#clip902)\" style=\"stroke:#000000; stroke-linecap:round; stroke-linejoin:round; stroke-width:2; stroke-opacity:0.1; fill:none\" points=\"758.552,1486.45 758.552,47.2441 \"/>\n",
       "<polyline clip-path=\"url(#clip902)\" style=\"stroke:#000000; stroke-linecap:round; stroke-linejoin:round; stroke-width:2; stroke-opacity:0.1; fill:none\" points=\"1269.51,1486.45 1269.51,47.2441 \"/>\n",
       "<polyline clip-path=\"url(#clip902)\" style=\"stroke:#000000; stroke-linecap:round; stroke-linejoin:round; stroke-width:2; stroke-opacity:0.1; fill:none\" points=\"1780.48,1486.45 1780.48,47.2441 \"/>\n",
       "<polyline clip-path=\"url(#clip902)\" style=\"stroke:#000000; stroke-linecap:round; stroke-linejoin:round; stroke-width:2; stroke-opacity:0.1; fill:none\" points=\"2291.44,1486.45 2291.44,47.2441 \"/>\n",
       "<polyline clip-path=\"url(#clip902)\" style=\"stroke:#000000; stroke-linecap:round; stroke-linejoin:round; stroke-width:2; stroke-opacity:0.1; fill:none\" points=\"186.274,1398.37 2352.76,1398.37 \"/>\n",
       "<polyline clip-path=\"url(#clip902)\" style=\"stroke:#000000; stroke-linecap:round; stroke-linejoin:round; stroke-width:2; stroke-opacity:0.1; fill:none\" points=\"186.274,1193.58 2352.76,1193.58 \"/>\n",
       "<polyline clip-path=\"url(#clip902)\" style=\"stroke:#000000; stroke-linecap:round; stroke-linejoin:round; stroke-width:2; stroke-opacity:0.1; fill:none\" points=\"186.274,988.784 2352.76,988.784 \"/>\n",
       "<polyline clip-path=\"url(#clip902)\" style=\"stroke:#000000; stroke-linecap:round; stroke-linejoin:round; stroke-width:2; stroke-opacity:0.1; fill:none\" points=\"186.274,783.989 2352.76,783.989 \"/>\n",
       "<polyline clip-path=\"url(#clip902)\" style=\"stroke:#000000; stroke-linecap:round; stroke-linejoin:round; stroke-width:2; stroke-opacity:0.1; fill:none\" points=\"186.274,579.194 2352.76,579.194 \"/>\n",
       "<polyline clip-path=\"url(#clip902)\" style=\"stroke:#000000; stroke-linecap:round; stroke-linejoin:round; stroke-width:2; stroke-opacity:0.1; fill:none\" points=\"186.274,374.399 2352.76,374.399 \"/>\n",
       "<polyline clip-path=\"url(#clip902)\" style=\"stroke:#000000; stroke-linecap:round; stroke-linejoin:round; stroke-width:2; stroke-opacity:0.1; fill:none\" points=\"186.274,169.604 2352.76,169.604 \"/>\n",
       "<polyline clip-path=\"url(#clip900)\" style=\"stroke:#000000; stroke-linecap:round; stroke-linejoin:round; stroke-width:4; stroke-opacity:1; fill:none\" points=\"186.274,1486.45 2352.76,1486.45 \"/>\n",
       "<polyline clip-path=\"url(#clip900)\" style=\"stroke:#000000; stroke-linecap:round; stroke-linejoin:round; stroke-width:4; stroke-opacity:1; fill:none\" points=\"247.59,1486.45 247.59,1467.55 \"/>\n",
       "<polyline clip-path=\"url(#clip900)\" style=\"stroke:#000000; stroke-linecap:round; stroke-linejoin:round; stroke-width:4; stroke-opacity:1; fill:none\" points=\"758.552,1486.45 758.552,1467.55 \"/>\n",
       "<polyline clip-path=\"url(#clip900)\" style=\"stroke:#000000; stroke-linecap:round; stroke-linejoin:round; stroke-width:4; stroke-opacity:1; fill:none\" points=\"1269.51,1486.45 1269.51,1467.55 \"/>\n",
       "<polyline clip-path=\"url(#clip900)\" style=\"stroke:#000000; stroke-linecap:round; stroke-linejoin:round; stroke-width:4; stroke-opacity:1; fill:none\" points=\"1780.48,1486.45 1780.48,1467.55 \"/>\n",
       "<polyline clip-path=\"url(#clip900)\" style=\"stroke:#000000; stroke-linecap:round; stroke-linejoin:round; stroke-width:4; stroke-opacity:1; fill:none\" points=\"2291.44,1486.45 2291.44,1467.55 \"/>\n",
       "<path clip-path=\"url(#clip900)\" d=\"M209.893 1517.37 Q206.282 1517.37 204.453 1520.93 Q202.648 1524.47 202.648 1531.6 Q202.648 1538.71 204.453 1542.27 Q206.282 1545.82 209.893 1545.82 Q213.527 1545.82 215.333 1542.27 Q217.161 1538.71 217.161 1531.6 Q217.161 1524.47 215.333 1520.93 Q213.527 1517.37 209.893 1517.37 M209.893 1513.66 Q215.703 1513.66 218.759 1518.27 Q221.837 1522.85 221.837 1531.6 Q221.837 1540.33 218.759 1544.94 Q215.703 1549.52 209.893 1549.52 Q204.083 1549.52 201.004 1544.94 Q197.949 1540.33 197.949 1531.6 Q197.949 1522.85 201.004 1518.27 Q204.083 1513.66 209.893 1513.66 Z\" fill=\"#000000\" fill-rule=\"nonzero\" fill-opacity=\"1\" /><path clip-path=\"url(#clip900)\" d=\"M230.055 1542.97 L234.939 1542.97 L234.939 1548.85 L230.055 1548.85 L230.055 1542.97 Z\" fill=\"#000000\" fill-rule=\"nonzero\" fill-opacity=\"1\" /><path clip-path=\"url(#clip900)\" d=\"M255.124 1517.37 Q251.513 1517.37 249.684 1520.93 Q247.879 1524.47 247.879 1531.6 Q247.879 1538.71 249.684 1542.27 Q251.513 1545.82 255.124 1545.82 Q258.758 1545.82 260.564 1542.27 Q262.393 1538.71 262.393 1531.6 Q262.393 1524.47 260.564 1520.93 Q258.758 1517.37 255.124 1517.37 M255.124 1513.66 Q260.934 1513.66 263.99 1518.27 Q267.069 1522.85 267.069 1531.6 Q267.069 1540.33 263.99 1544.94 Q260.934 1549.52 255.124 1549.52 Q249.314 1549.52 246.235 1544.94 Q243.18 1540.33 243.18 1531.6 Q243.18 1522.85 246.235 1518.27 Q249.314 1513.66 255.124 1513.66 Z\" fill=\"#000000\" fill-rule=\"nonzero\" fill-opacity=\"1\" /><path clip-path=\"url(#clip900)\" d=\"M285.286 1517.37 Q281.675 1517.37 279.846 1520.93 Q278.041 1524.47 278.041 1531.6 Q278.041 1538.71 279.846 1542.27 Q281.675 1545.82 285.286 1545.82 Q288.92 1545.82 290.726 1542.27 Q292.555 1538.71 292.555 1531.6 Q292.555 1524.47 290.726 1520.93 Q288.92 1517.37 285.286 1517.37 M285.286 1513.66 Q291.096 1513.66 294.152 1518.27 Q297.23 1522.85 297.23 1531.6 Q297.23 1540.33 294.152 1544.94 Q291.096 1549.52 285.286 1549.52 Q279.476 1549.52 276.397 1544.94 Q273.342 1540.33 273.342 1531.6 Q273.342 1522.85 276.397 1518.27 Q279.476 1513.66 285.286 1513.66 Z\" fill=\"#000000\" fill-rule=\"nonzero\" fill-opacity=\"1\" /><path clip-path=\"url(#clip900)\" d=\"M721.353 1517.37 Q717.742 1517.37 715.914 1520.93 Q714.108 1524.47 714.108 1531.6 Q714.108 1538.71 715.914 1542.27 Q717.742 1545.82 721.353 1545.82 Q724.988 1545.82 726.793 1542.27 Q728.622 1538.71 728.622 1531.6 Q728.622 1524.47 726.793 1520.93 Q724.988 1517.37 721.353 1517.37 M721.353 1513.66 Q727.164 1513.66 730.219 1518.27 Q733.298 1522.85 733.298 1531.6 Q733.298 1540.33 730.219 1544.94 Q727.164 1549.52 721.353 1549.52 Q715.543 1549.52 712.465 1544.94 Q709.409 1540.33 709.409 1531.6 Q709.409 1522.85 712.465 1518.27 Q715.543 1513.66 721.353 1513.66 Z\" fill=\"#000000\" fill-rule=\"nonzero\" fill-opacity=\"1\" /><path clip-path=\"url(#clip900)\" d=\"M741.515 1542.97 L746.4 1542.97 L746.4 1548.85 L741.515 1548.85 L741.515 1542.97 Z\" fill=\"#000000\" fill-rule=\"nonzero\" fill-opacity=\"1\" /><path clip-path=\"url(#clip900)\" d=\"M760.612 1544.91 L776.932 1544.91 L776.932 1548.85 L754.987 1548.85 L754.987 1544.91 Q757.649 1542.16 762.233 1537.53 Q766.839 1532.88 768.02 1531.53 Q770.265 1529.01 771.145 1527.27 Q772.048 1525.51 772.048 1523.82 Q772.048 1521.07 770.103 1519.33 Q768.182 1517.6 765.08 1517.6 Q762.881 1517.6 760.427 1518.36 Q757.997 1519.13 755.219 1520.68 L755.219 1515.95 Q758.043 1514.82 760.497 1514.24 Q762.95 1513.66 764.987 1513.66 Q770.358 1513.66 773.552 1516.35 Q776.747 1519.03 776.747 1523.52 Q776.747 1525.65 775.936 1527.57 Q775.149 1529.47 773.043 1532.07 Q772.464 1532.74 769.362 1535.95 Q766.261 1539.15 760.612 1544.91 Z\" fill=\"#000000\" fill-rule=\"nonzero\" fill-opacity=\"1\" /><path clip-path=\"url(#clip900)\" d=\"M786.793 1514.29 L805.149 1514.29 L805.149 1518.22 L791.075 1518.22 L791.075 1526.7 Q792.094 1526.35 793.112 1526.19 Q794.131 1526 795.149 1526 Q800.936 1526 804.316 1529.17 Q807.695 1532.34 807.695 1537.76 Q807.695 1543.34 804.223 1546.44 Q800.751 1549.52 794.432 1549.52 Q792.256 1549.52 789.987 1549.15 Q787.742 1548.78 785.335 1548.04 L785.335 1543.34 Q787.418 1544.47 789.64 1545.03 Q791.862 1545.58 794.339 1545.58 Q798.344 1545.58 800.682 1543.48 Q803.02 1541.37 803.02 1537.76 Q803.02 1534.15 800.682 1532.04 Q798.344 1529.94 794.339 1529.94 Q792.464 1529.94 790.589 1530.35 Q788.737 1530.77 786.793 1531.65 L786.793 1514.29 Z\" fill=\"#000000\" fill-rule=\"nonzero\" fill-opacity=\"1\" /><path clip-path=\"url(#clip900)\" d=\"M1231.82 1517.37 Q1228.21 1517.37 1226.38 1520.93 Q1224.57 1524.47 1224.57 1531.6 Q1224.57 1538.71 1226.38 1542.27 Q1228.21 1545.82 1231.82 1545.82 Q1235.45 1545.82 1237.26 1542.27 Q1239.09 1538.71 1239.09 1531.6 Q1239.09 1524.47 1237.26 1520.93 Q1235.45 1517.37 1231.82 1517.37 M1231.82 1513.66 Q1237.63 1513.66 1240.68 1518.27 Q1243.76 1522.85 1243.76 1531.6 Q1243.76 1540.33 1240.68 1544.94 Q1237.63 1549.52 1231.82 1549.52 Q1226.01 1549.52 1222.93 1544.94 Q1219.87 1540.33 1219.87 1531.6 Q1219.87 1522.85 1222.93 1518.27 Q1226.01 1513.66 1231.82 1513.66 Z\" fill=\"#000000\" fill-rule=\"nonzero\" fill-opacity=\"1\" /><path clip-path=\"url(#clip900)\" d=\"M1251.98 1542.97 L1256.86 1542.97 L1256.86 1548.85 L1251.98 1548.85 L1251.98 1542.97 Z\" fill=\"#000000\" fill-rule=\"nonzero\" fill-opacity=\"1\" /><path clip-path=\"url(#clip900)\" d=\"M1267.1 1514.29 L1285.45 1514.29 L1285.45 1518.22 L1271.38 1518.22 L1271.38 1526.7 Q1272.4 1526.35 1273.42 1526.19 Q1274.43 1526 1275.45 1526 Q1281.24 1526 1284.62 1529.17 Q1288 1532.34 1288 1537.76 Q1288 1543.34 1284.53 1546.44 Q1281.05 1549.52 1274.73 1549.52 Q1272.56 1549.52 1270.29 1549.15 Q1268.05 1548.78 1265.64 1548.04 L1265.64 1543.34 Q1267.72 1544.47 1269.94 1545.03 Q1272.17 1545.58 1274.64 1545.58 Q1278.65 1545.58 1280.98 1543.48 Q1283.32 1541.37 1283.32 1537.76 Q1283.32 1534.15 1280.98 1532.04 Q1278.65 1529.94 1274.64 1529.94 Q1272.77 1529.94 1270.89 1530.35 Q1269.04 1530.77 1267.1 1531.65 L1267.1 1514.29 Z\" fill=\"#000000\" fill-rule=\"nonzero\" fill-opacity=\"1\" /><path clip-path=\"url(#clip900)\" d=\"M1307.21 1517.37 Q1303.6 1517.37 1301.77 1520.93 Q1299.97 1524.47 1299.97 1531.6 Q1299.97 1538.71 1301.77 1542.27 Q1303.6 1545.82 1307.21 1545.82 Q1310.85 1545.82 1312.65 1542.27 Q1314.48 1538.71 1314.48 1531.6 Q1314.48 1524.47 1312.65 1520.93 Q1310.85 1517.37 1307.21 1517.37 M1307.21 1513.66 Q1313.02 1513.66 1316.08 1518.27 Q1319.16 1522.85 1319.16 1531.6 Q1319.16 1540.33 1316.08 1544.94 Q1313.02 1549.52 1307.21 1549.52 Q1301.4 1549.52 1298.32 1544.94 Q1295.27 1540.33 1295.27 1531.6 Q1295.27 1522.85 1298.32 1518.27 Q1301.4 1513.66 1307.21 1513.66 Z\" fill=\"#000000\" fill-rule=\"nonzero\" fill-opacity=\"1\" /><path clip-path=\"url(#clip900)\" d=\"M1743.28 1517.37 Q1739.67 1517.37 1737.84 1520.93 Q1736.03 1524.47 1736.03 1531.6 Q1736.03 1538.71 1737.84 1542.27 Q1739.67 1545.82 1743.28 1545.82 Q1746.91 1545.82 1748.72 1542.27 Q1750.55 1538.71 1750.55 1531.6 Q1750.55 1524.47 1748.72 1520.93 Q1746.91 1517.37 1743.28 1517.37 M1743.28 1513.66 Q1749.09 1513.66 1752.14 1518.27 Q1755.22 1522.85 1755.22 1531.6 Q1755.22 1540.33 1752.14 1544.94 Q1749.09 1549.52 1743.28 1549.52 Q1737.47 1549.52 1734.39 1544.94 Q1731.33 1540.33 1731.33 1531.6 Q1731.33 1522.85 1734.39 1518.27 Q1737.47 1513.66 1743.28 1513.66 Z\" fill=\"#000000\" fill-rule=\"nonzero\" fill-opacity=\"1\" /><path clip-path=\"url(#clip900)\" d=\"M1763.44 1542.97 L1768.32 1542.97 L1768.32 1548.85 L1763.44 1548.85 L1763.44 1542.97 Z\" fill=\"#000000\" fill-rule=\"nonzero\" fill-opacity=\"1\" /><path clip-path=\"url(#clip900)\" d=\"M1777.33 1514.29 L1799.55 1514.29 L1799.55 1516.28 L1787.01 1548.85 L1782.12 1548.85 L1793.93 1518.22 L1777.33 1518.22 L1777.33 1514.29 Z\" fill=\"#000000\" fill-rule=\"nonzero\" fill-opacity=\"1\" /><path clip-path=\"url(#clip900)\" d=\"M1808.72 1514.29 L1827.07 1514.29 L1827.07 1518.22 L1813 1518.22 L1813 1526.7 Q1814.02 1526.35 1815.04 1526.19 Q1816.06 1526 1817.07 1526 Q1822.86 1526 1826.24 1529.17 Q1829.62 1532.34 1829.62 1537.76 Q1829.62 1543.34 1826.15 1546.44 Q1822.68 1549.52 1816.36 1549.52 Q1814.18 1549.52 1811.91 1549.15 Q1809.67 1548.78 1807.26 1548.04 L1807.26 1543.34 Q1809.34 1544.47 1811.57 1545.03 Q1813.79 1545.58 1816.26 1545.58 Q1820.27 1545.58 1822.61 1543.48 Q1824.95 1541.37 1824.95 1537.76 Q1824.95 1534.15 1822.61 1532.04 Q1820.27 1529.94 1816.26 1529.94 Q1814.39 1529.94 1812.51 1530.35 Q1810.66 1530.77 1808.72 1531.65 L1808.72 1514.29 Z\" fill=\"#000000\" fill-rule=\"nonzero\" fill-opacity=\"1\" /><path clip-path=\"url(#clip900)\" d=\"M2243.51 1544.91 L2251.15 1544.91 L2251.15 1518.55 L2242.84 1520.21 L2242.84 1515.95 L2251.1 1514.29 L2255.78 1514.29 L2255.78 1544.91 L2263.42 1544.91 L2263.42 1548.85 L2243.51 1548.85 L2243.51 1544.91 Z\" fill=\"#000000\" fill-rule=\"nonzero\" fill-opacity=\"1\" /><path clip-path=\"url(#clip900)\" d=\"M2272.86 1542.97 L2277.75 1542.97 L2277.75 1548.85 L2272.86 1548.85 L2272.86 1542.97 Z\" fill=\"#000000\" fill-rule=\"nonzero\" fill-opacity=\"1\" /><path clip-path=\"url(#clip900)\" d=\"M2297.93 1517.37 Q2294.32 1517.37 2292.49 1520.93 Q2290.69 1524.47 2290.69 1531.6 Q2290.69 1538.71 2292.49 1542.27 Q2294.32 1545.82 2297.93 1545.82 Q2301.57 1545.82 2303.37 1542.27 Q2305.2 1538.71 2305.2 1531.6 Q2305.2 1524.47 2303.37 1520.93 Q2301.57 1517.37 2297.93 1517.37 M2297.93 1513.66 Q2303.74 1513.66 2306.8 1518.27 Q2309.88 1522.85 2309.88 1531.6 Q2309.88 1540.33 2306.8 1544.94 Q2303.74 1549.52 2297.93 1549.52 Q2292.12 1549.52 2289.04 1544.94 Q2285.99 1540.33 2285.99 1531.6 Q2285.99 1522.85 2289.04 1518.27 Q2292.12 1513.66 2297.93 1513.66 Z\" fill=\"#000000\" fill-rule=\"nonzero\" fill-opacity=\"1\" /><path clip-path=\"url(#clip900)\" d=\"M2328.1 1517.37 Q2324.48 1517.37 2322.66 1520.93 Q2320.85 1524.47 2320.85 1531.6 Q2320.85 1538.71 2322.66 1542.27 Q2324.48 1545.82 2328.1 1545.82 Q2331.73 1545.82 2333.54 1542.27 Q2335.36 1538.71 2335.36 1531.6 Q2335.36 1524.47 2333.54 1520.93 Q2331.73 1517.37 2328.1 1517.37 M2328.1 1513.66 Q2333.91 1513.66 2336.96 1518.27 Q2340.04 1522.85 2340.04 1531.6 Q2340.04 1540.33 2336.96 1544.94 Q2333.91 1549.52 2328.1 1549.52 Q2322.29 1549.52 2319.21 1544.94 Q2316.15 1540.33 2316.15 1531.6 Q2316.15 1522.85 2319.21 1518.27 Q2322.29 1513.66 2328.1 1513.66 Z\" fill=\"#000000\" fill-rule=\"nonzero\" fill-opacity=\"1\" /><polyline clip-path=\"url(#clip900)\" style=\"stroke:#000000; stroke-linecap:round; stroke-linejoin:round; stroke-width:4; stroke-opacity:1; fill:none\" points=\"186.274,1486.45 186.274,47.2441 \"/>\n",
       "<polyline clip-path=\"url(#clip900)\" style=\"stroke:#000000; stroke-linecap:round; stroke-linejoin:round; stroke-width:4; stroke-opacity:1; fill:none\" points=\"186.274,1398.37 205.172,1398.37 \"/>\n",
       "<polyline clip-path=\"url(#clip900)\" style=\"stroke:#000000; stroke-linecap:round; stroke-linejoin:round; stroke-width:4; stroke-opacity:1; fill:none\" points=\"186.274,1193.58 205.172,1193.58 \"/>\n",
       "<polyline clip-path=\"url(#clip900)\" style=\"stroke:#000000; stroke-linecap:round; stroke-linejoin:round; stroke-width:4; stroke-opacity:1; fill:none\" points=\"186.274,988.784 205.172,988.784 \"/>\n",
       "<polyline clip-path=\"url(#clip900)\" style=\"stroke:#000000; stroke-linecap:round; stroke-linejoin:round; stroke-width:4; stroke-opacity:1; fill:none\" points=\"186.274,783.989 205.172,783.989 \"/>\n",
       "<polyline clip-path=\"url(#clip900)\" style=\"stroke:#000000; stroke-linecap:round; stroke-linejoin:round; stroke-width:4; stroke-opacity:1; fill:none\" points=\"186.274,579.194 205.172,579.194 \"/>\n",
       "<polyline clip-path=\"url(#clip900)\" style=\"stroke:#000000; stroke-linecap:round; stroke-linejoin:round; stroke-width:4; stroke-opacity:1; fill:none\" points=\"186.274,374.399 205.172,374.399 \"/>\n",
       "<polyline clip-path=\"url(#clip900)\" style=\"stroke:#000000; stroke-linecap:round; stroke-linejoin:round; stroke-width:4; stroke-opacity:1; fill:none\" points=\"186.274,169.604 205.172,169.604 \"/>\n",
       "<path clip-path=\"url(#clip900)\" d=\"M63.9319 1384.17 Q60.3208 1384.17 58.4921 1387.74 Q56.6865 1391.28 56.6865 1398.41 Q56.6865 1405.52 58.4921 1409.08 Q60.3208 1412.62 63.9319 1412.62 Q67.5661 1412.62 69.3717 1409.08 Q71.2004 1405.52 71.2004 1398.41 Q71.2004 1391.28 69.3717 1387.74 Q67.5661 1384.17 63.9319 1384.17 M63.9319 1380.47 Q69.742 1380.47 72.7976 1385.08 Q75.8763 1389.66 75.8763 1398.41 Q75.8763 1407.14 72.7976 1411.74 Q69.742 1416.33 63.9319 1416.33 Q58.1217 1416.33 55.043 1411.74 Q51.9875 1407.14 51.9875 1398.41 Q51.9875 1389.66 55.043 1385.08 Q58.1217 1380.47 63.9319 1380.47 Z\" fill=\"#000000\" fill-rule=\"nonzero\" fill-opacity=\"1\" /><path clip-path=\"url(#clip900)\" d=\"M84.0938 1409.77 L88.978 1409.77 L88.978 1415.65 L84.0938 1415.65 L84.0938 1409.77 Z\" fill=\"#000000\" fill-rule=\"nonzero\" fill-opacity=\"1\" /><path clip-path=\"url(#clip900)\" d=\"M103.191 1411.72 L119.51 1411.72 L119.51 1415.65 L97.566 1415.65 L97.566 1411.72 Q100.228 1408.96 104.811 1404.34 Q109.418 1399.68 110.598 1398.34 Q112.844 1395.82 113.723 1394.08 Q114.626 1392.32 114.626 1390.63 Q114.626 1387.88 112.682 1386.14 Q110.76 1384.4 107.658 1384.4 Q105.459 1384.4 103.006 1385.17 Q100.575 1385.93 97.7974 1387.48 L97.7974 1382.76 Q100.621 1381.63 103.075 1381.05 Q105.529 1380.47 107.566 1380.47 Q112.936 1380.47 116.131 1383.15 Q119.325 1385.84 119.325 1390.33 Q119.325 1392.46 118.515 1394.38 Q117.728 1396.28 115.621 1398.87 Q115.043 1399.54 111.941 1402.76 Q108.839 1405.96 103.191 1411.72 Z\" fill=\"#000000\" fill-rule=\"nonzero\" fill-opacity=\"1\" /><path clip-path=\"url(#clip900)\" d=\"M129.371 1381.09 L147.728 1381.09 L147.728 1385.03 L133.654 1385.03 L133.654 1393.5 Q134.672 1393.15 135.691 1392.99 Q136.709 1392.81 137.728 1392.81 Q143.515 1392.81 146.894 1395.98 Q150.274 1399.15 150.274 1404.57 Q150.274 1410.15 146.802 1413.25 Q143.33 1416.33 137.01 1416.33 Q134.834 1416.33 132.566 1415.96 Q130.32 1415.59 127.913 1414.84 L127.913 1410.15 Q129.996 1411.28 132.219 1411.84 Q134.441 1412.39 136.918 1412.39 Q140.922 1412.39 143.26 1410.28 Q145.598 1408.18 145.598 1404.57 Q145.598 1400.96 143.26 1398.85 Q140.922 1396.74 136.918 1396.74 Q135.043 1396.74 133.168 1397.16 Q131.316 1397.58 129.371 1398.46 L129.371 1381.09 Z\" fill=\"#000000\" fill-rule=\"nonzero\" fill-opacity=\"1\" /><path clip-path=\"url(#clip900)\" d=\"M62.9365 1179.38 Q59.3254 1179.38 57.4967 1182.94 Q55.6912 1186.48 55.6912 1193.61 Q55.6912 1200.72 57.4967 1204.29 Q59.3254 1207.83 62.9365 1207.83 Q66.5707 1207.83 68.3763 1204.29 Q70.205 1200.72 70.205 1193.61 Q70.205 1186.48 68.3763 1182.94 Q66.5707 1179.38 62.9365 1179.38 M62.9365 1175.67 Q68.7467 1175.67 71.8022 1180.28 Q74.8809 1184.86 74.8809 1193.61 Q74.8809 1202.34 71.8022 1206.95 Q68.7467 1211.53 62.9365 1211.53 Q57.1264 1211.53 54.0477 1206.95 Q50.9921 1202.34 50.9921 1193.61 Q50.9921 1184.86 54.0477 1180.28 Q57.1264 1175.67 62.9365 1175.67 Z\" fill=\"#000000\" fill-rule=\"nonzero\" fill-opacity=\"1\" /><path clip-path=\"url(#clip900)\" d=\"M83.0984 1204.98 L87.9827 1204.98 L87.9827 1210.86 L83.0984 1210.86 L83.0984 1204.98 Z\" fill=\"#000000\" fill-rule=\"nonzero\" fill-opacity=\"1\" /><path clip-path=\"url(#clip900)\" d=\"M98.2141 1176.3 L116.57 1176.3 L116.57 1180.23 L102.496 1180.23 L102.496 1188.71 Q103.515 1188.36 104.534 1188.2 Q105.552 1188.01 106.571 1188.01 Q112.358 1188.01 115.737 1191.18 Q119.117 1194.35 119.117 1199.77 Q119.117 1205.35 115.645 1208.45 Q112.172 1211.53 105.853 1211.53 Q103.677 1211.53 101.409 1211.16 Q99.1632 1210.79 96.7558 1210.05 L96.7558 1205.35 Q98.8391 1206.48 101.061 1207.04 Q103.284 1207.6 105.76 1207.6 Q109.765 1207.6 112.103 1205.49 Q114.441 1203.38 114.441 1199.77 Q114.441 1196.16 112.103 1194.05 Q109.765 1191.95 105.76 1191.95 Q103.885 1191.95 102.01 1192.36 Q100.159 1192.78 98.2141 1193.66 L98.2141 1176.3 Z\" fill=\"#000000\" fill-rule=\"nonzero\" fill-opacity=\"1\" /><path clip-path=\"url(#clip900)\" d=\"M138.33 1179.38 Q134.719 1179.38 132.89 1182.94 Q131.084 1186.48 131.084 1193.61 Q131.084 1200.72 132.89 1204.29 Q134.719 1207.83 138.33 1207.83 Q141.964 1207.83 143.769 1204.29 Q145.598 1200.72 145.598 1193.61 Q145.598 1186.48 143.769 1182.94 Q141.964 1179.38 138.33 1179.38 M138.33 1175.67 Q144.14 1175.67 147.195 1180.28 Q150.274 1184.86 150.274 1193.61 Q150.274 1202.34 147.195 1206.95 Q144.14 1211.53 138.33 1211.53 Q132.519 1211.53 129.441 1206.95 Q126.385 1202.34 126.385 1193.61 Q126.385 1184.86 129.441 1180.28 Q132.519 1175.67 138.33 1175.67 Z\" fill=\"#000000\" fill-rule=\"nonzero\" fill-opacity=\"1\" /><path clip-path=\"url(#clip900)\" d=\"M63.9319 974.583 Q60.3208 974.583 58.4921 978.148 Q56.6865 981.69 56.6865 988.819 Q56.6865 995.926 58.4921 999.49 Q60.3208 1003.03 63.9319 1003.03 Q67.5661 1003.03 69.3717 999.49 Q71.2004 995.926 71.2004 988.819 Q71.2004 981.69 69.3717 978.148 Q67.5661 974.583 63.9319 974.583 M63.9319 970.879 Q69.742 970.879 72.7976 975.486 Q75.8763 980.069 75.8763 988.819 Q75.8763 997.546 72.7976 1002.15 Q69.742 1006.74 63.9319 1006.74 Q58.1217 1006.74 55.043 1002.15 Q51.9875 997.546 51.9875 988.819 Q51.9875 980.069 55.043 975.486 Q58.1217 970.879 63.9319 970.879 Z\" fill=\"#000000\" fill-rule=\"nonzero\" fill-opacity=\"1\" /><path clip-path=\"url(#clip900)\" d=\"M84.0938 1000.18 L88.978 1000.18 L88.978 1006.06 L84.0938 1006.06 L84.0938 1000.18 Z\" fill=\"#000000\" fill-rule=\"nonzero\" fill-opacity=\"1\" /><path clip-path=\"url(#clip900)\" d=\"M97.9826 971.504 L120.205 971.504 L120.205 973.495 L107.658 1006.06 L102.774 1006.06 L114.58 975.44 L97.9826 975.44 L97.9826 971.504 Z\" fill=\"#000000\" fill-rule=\"nonzero\" fill-opacity=\"1\" /><path clip-path=\"url(#clip900)\" d=\"M129.371 971.504 L147.728 971.504 L147.728 975.44 L133.654 975.44 L133.654 983.912 Q134.672 983.565 135.691 983.402 Q136.709 983.217 137.728 983.217 Q143.515 983.217 146.894 986.389 Q150.274 989.56 150.274 994.977 Q150.274 1000.56 146.802 1003.66 Q143.33 1006.74 137.01 1006.74 Q134.834 1006.74 132.566 1006.37 Q130.32 1005.99 127.913 1005.25 L127.913 1000.56 Q129.996 1001.69 132.219 1002.24 Q134.441 1002.8 136.918 1002.8 Q140.922 1002.8 143.26 1000.69 Q145.598 998.588 145.598 994.977 Q145.598 991.365 143.26 989.259 Q140.922 987.152 136.918 987.152 Q135.043 987.152 133.168 987.569 Q131.316 987.986 129.371 988.865 L129.371 971.504 Z\" fill=\"#000000\" fill-rule=\"nonzero\" fill-opacity=\"1\" /><path clip-path=\"url(#clip900)\" d=\"M53.7467 797.334 L61.3856 797.334 L61.3856 770.969 L53.0754 772.635 L53.0754 768.376 L61.3393 766.709 L66.0152 766.709 L66.0152 797.334 L73.654 797.334 L73.654 801.269 L53.7467 801.269 L53.7467 797.334 Z\" fill=\"#000000\" fill-rule=\"nonzero\" fill-opacity=\"1\" /><path clip-path=\"url(#clip900)\" d=\"M83.0984 795.39 L87.9827 795.39 L87.9827 801.269 L83.0984 801.269 L83.0984 795.39 Z\" fill=\"#000000\" fill-rule=\"nonzero\" fill-opacity=\"1\" /><path clip-path=\"url(#clip900)\" d=\"M108.168 769.788 Q104.557 769.788 102.728 773.353 Q100.922 776.895 100.922 784.024 Q100.922 791.131 102.728 794.695 Q104.557 798.237 108.168 798.237 Q111.802 798.237 113.608 794.695 Q115.436 791.131 115.436 784.024 Q115.436 776.895 113.608 773.353 Q111.802 769.788 108.168 769.788 M108.168 766.084 Q113.978 766.084 117.033 770.691 Q120.112 775.274 120.112 784.024 Q120.112 792.751 117.033 797.357 Q113.978 801.941 108.168 801.941 Q102.358 801.941 99.2789 797.357 Q96.2234 792.751 96.2234 784.024 Q96.2234 775.274 99.2789 770.691 Q102.358 766.084 108.168 766.084 Z\" fill=\"#000000\" fill-rule=\"nonzero\" fill-opacity=\"1\" /><path clip-path=\"url(#clip900)\" d=\"M138.33 769.788 Q134.719 769.788 132.89 773.353 Q131.084 776.895 131.084 784.024 Q131.084 791.131 132.89 794.695 Q134.719 798.237 138.33 798.237 Q141.964 798.237 143.769 794.695 Q145.598 791.131 145.598 784.024 Q145.598 776.895 143.769 773.353 Q141.964 769.788 138.33 769.788 M138.33 766.084 Q144.14 766.084 147.195 770.691 Q150.274 775.274 150.274 784.024 Q150.274 792.751 147.195 797.357 Q144.14 801.941 138.33 801.941 Q132.519 801.941 129.441 797.357 Q126.385 792.751 126.385 784.024 Q126.385 775.274 129.441 770.691 Q132.519 766.084 138.33 766.084 Z\" fill=\"#000000\" fill-rule=\"nonzero\" fill-opacity=\"1\" /><path clip-path=\"url(#clip900)\" d=\"M54.7421 592.539 L62.381 592.539 L62.381 566.174 L54.0708 567.84 L54.0708 563.581 L62.3347 561.914 L67.0106 561.914 L67.0106 592.539 L74.6494 592.539 L74.6494 596.474 L54.7421 596.474 L54.7421 592.539 Z\" fill=\"#000000\" fill-rule=\"nonzero\" fill-opacity=\"1\" /><path clip-path=\"url(#clip900)\" d=\"M84.0938 590.595 L88.978 590.595 L88.978 596.474 L84.0938 596.474 L84.0938 590.595 Z\" fill=\"#000000\" fill-rule=\"nonzero\" fill-opacity=\"1\" /><path clip-path=\"url(#clip900)\" d=\"M103.191 592.539 L119.51 592.539 L119.51 596.474 L97.566 596.474 L97.566 592.539 Q100.228 589.785 104.811 585.155 Q109.418 580.502 110.598 579.16 Q112.844 576.637 113.723 574.9 Q114.626 573.141 114.626 571.451 Q114.626 568.697 112.682 566.961 Q110.76 565.225 107.658 565.225 Q105.459 565.225 103.006 565.988 Q100.575 566.752 97.7974 568.303 L97.7974 563.581 Q100.621 562.447 103.075 561.868 Q105.529 561.289 107.566 561.289 Q112.936 561.289 116.131 563.975 Q119.325 566.66 119.325 571.15 Q119.325 573.28 118.515 575.201 Q117.728 577.099 115.621 579.692 Q115.043 580.363 111.941 583.581 Q108.839 586.775 103.191 592.539 Z\" fill=\"#000000\" fill-rule=\"nonzero\" fill-opacity=\"1\" /><path clip-path=\"url(#clip900)\" d=\"M129.371 561.914 L147.728 561.914 L147.728 565.85 L133.654 565.85 L133.654 574.322 Q134.672 573.974 135.691 573.812 Q136.709 573.627 137.728 573.627 Q143.515 573.627 146.894 576.799 Q150.274 579.97 150.274 585.386 Q150.274 590.965 146.802 594.067 Q143.33 597.146 137.01 597.146 Q134.834 597.146 132.566 596.775 Q130.32 596.405 127.913 595.664 L127.913 590.965 Q129.996 592.099 132.219 592.655 Q134.441 593.211 136.918 593.211 Q140.922 593.211 143.26 591.104 Q145.598 588.998 145.598 585.386 Q145.598 581.775 143.26 579.669 Q140.922 577.562 136.918 577.562 Q135.043 577.562 133.168 577.979 Q131.316 578.396 129.371 579.275 L129.371 561.914 Z\" fill=\"#000000\" fill-rule=\"nonzero\" fill-opacity=\"1\" /><path clip-path=\"url(#clip900)\" d=\"M53.7467 387.744 L61.3856 387.744 L61.3856 361.379 L53.0754 363.045 L53.0754 358.786 L61.3393 357.119 L66.0152 357.119 L66.0152 387.744 L73.654 387.744 L73.654 391.679 L53.7467 391.679 L53.7467 387.744 Z\" fill=\"#000000\" fill-rule=\"nonzero\" fill-opacity=\"1\" /><path clip-path=\"url(#clip900)\" d=\"M83.0984 385.8 L87.9827 385.8 L87.9827 391.679 L83.0984 391.679 L83.0984 385.8 Z\" fill=\"#000000\" fill-rule=\"nonzero\" fill-opacity=\"1\" /><path clip-path=\"url(#clip900)\" d=\"M98.2141 357.119 L116.57 357.119 L116.57 361.055 L102.496 361.055 L102.496 369.527 Q103.515 369.179 104.534 369.017 Q105.552 368.832 106.571 368.832 Q112.358 368.832 115.737 372.004 Q119.117 375.175 119.117 380.591 Q119.117 386.17 115.645 389.272 Q112.172 392.351 105.853 392.351 Q103.677 392.351 101.409 391.98 Q99.1632 391.61 96.7558 390.869 L96.7558 386.17 Q98.8391 387.304 101.061 387.86 Q103.284 388.415 105.76 388.415 Q109.765 388.415 112.103 386.309 Q114.441 384.203 114.441 380.591 Q114.441 376.98 112.103 374.874 Q109.765 372.767 105.76 372.767 Q103.885 372.767 102.01 373.184 Q100.159 373.601 98.2141 374.48 L98.2141 357.119 Z\" fill=\"#000000\" fill-rule=\"nonzero\" fill-opacity=\"1\" /><path clip-path=\"url(#clip900)\" d=\"M138.33 360.198 Q134.719 360.198 132.89 363.763 Q131.084 367.304 131.084 374.434 Q131.084 381.541 132.89 385.105 Q134.719 388.647 138.33 388.647 Q141.964 388.647 143.769 385.105 Q145.598 381.541 145.598 374.434 Q145.598 367.304 143.769 363.763 Q141.964 360.198 138.33 360.198 M138.33 356.494 Q144.14 356.494 147.195 361.101 Q150.274 365.684 150.274 374.434 Q150.274 383.161 147.195 387.767 Q144.14 392.351 138.33 392.351 Q132.519 392.351 129.441 387.767 Q126.385 383.161 126.385 374.434 Q126.385 365.684 129.441 361.101 Q132.519 356.494 138.33 356.494 Z\" fill=\"#000000\" fill-rule=\"nonzero\" fill-opacity=\"1\" /><path clip-path=\"url(#clip900)\" d=\"M54.7421 182.949 L62.381 182.949 L62.381 156.584 L54.0708 158.25 L54.0708 153.991 L62.3347 152.324 L67.0106 152.324 L67.0106 182.949 L74.6494 182.949 L74.6494 186.884 L54.7421 186.884 L54.7421 182.949 Z\" fill=\"#000000\" fill-rule=\"nonzero\" fill-opacity=\"1\" /><path clip-path=\"url(#clip900)\" d=\"M84.0938 181.005 L88.978 181.005 L88.978 186.884 L84.0938 186.884 L84.0938 181.005 Z\" fill=\"#000000\" fill-rule=\"nonzero\" fill-opacity=\"1\" /><path clip-path=\"url(#clip900)\" d=\"M97.9826 152.324 L120.205 152.324 L120.205 154.315 L107.658 186.884 L102.774 186.884 L114.58 156.26 L97.9826 156.26 L97.9826 152.324 Z\" fill=\"#000000\" fill-rule=\"nonzero\" fill-opacity=\"1\" /><path clip-path=\"url(#clip900)\" d=\"M129.371 152.324 L147.728 152.324 L147.728 156.26 L133.654 156.26 L133.654 164.732 Q134.672 164.384 135.691 164.222 Q136.709 164.037 137.728 164.037 Q143.515 164.037 146.894 167.209 Q150.274 170.38 150.274 175.796 Q150.274 181.375 146.802 184.477 Q143.33 187.556 137.01 187.556 Q134.834 187.556 132.566 187.185 Q130.32 186.815 127.913 186.074 L127.913 181.375 Q129.996 182.509 132.219 183.065 Q134.441 183.62 136.918 183.62 Q140.922 183.62 143.26 181.514 Q145.598 179.408 145.598 175.796 Q145.598 172.185 143.26 170.079 Q140.922 167.972 136.918 167.972 Q135.043 167.972 133.168 168.389 Q131.316 168.806 129.371 169.685 L129.371 152.324 Z\" fill=\"#000000\" fill-rule=\"nonzero\" fill-opacity=\"1\" /><circle clip-path=\"url(#clip902)\" cx=\"247.59\" cy=\"87.9763\" r=\"14.4\" fill=\"#009af9\" fill-rule=\"evenodd\" fill-opacity=\"1\" stroke=\"#000000\" stroke-opacity=\"1\" stroke-width=\"3.2\"/>\n",
       "<circle clip-path=\"url(#clip902)\" cx=\"451.975\" cy=\"222.246\" r=\"14.4\" fill=\"#009af9\" fill-rule=\"evenodd\" fill-opacity=\"1\" stroke=\"#000000\" stroke-opacity=\"1\" stroke-width=\"3.2\"/>\n",
       "<circle clip-path=\"url(#clip902)\" cx=\"656.36\" cy=\"573.27\" r=\"14.4\" fill=\"#009af9\" fill-rule=\"evenodd\" fill-opacity=\"1\" stroke=\"#000000\" stroke-opacity=\"1\" stroke-width=\"3.2\"/>\n",
       "<circle clip-path=\"url(#clip902)\" cx=\"860.745\" cy=\"688.453\" r=\"14.4\" fill=\"#009af9\" fill-rule=\"evenodd\" fill-opacity=\"1\" stroke=\"#000000\" stroke-opacity=\"1\" stroke-width=\"3.2\"/>\n",
       "<circle clip-path=\"url(#clip902)\" cx=\"1065.13\" cy=\"797.576\" r=\"14.4\" fill=\"#009af9\" fill-rule=\"evenodd\" fill-opacity=\"1\" stroke=\"#000000\" stroke-opacity=\"1\" stroke-width=\"3.2\"/>\n",
       "<circle clip-path=\"url(#clip902)\" cx=\"1269.51\" cy=\"906.388\" r=\"14.4\" fill=\"#009af9\" fill-rule=\"evenodd\" fill-opacity=\"1\" stroke=\"#000000\" stroke-opacity=\"1\" stroke-width=\"3.2\"/>\n",
       "<circle clip-path=\"url(#clip902)\" cx=\"1473.9\" cy=\"1017.21\" r=\"14.4\" fill=\"#009af9\" fill-rule=\"evenodd\" fill-opacity=\"1\" stroke=\"#000000\" stroke-opacity=\"1\" stroke-width=\"3.2\"/>\n",
       "<circle clip-path=\"url(#clip902)\" cx=\"1678.29\" cy=\"1075.24\" r=\"14.4\" fill=\"#009af9\" fill-rule=\"evenodd\" fill-opacity=\"1\" stroke=\"#000000\" stroke-opacity=\"1\" stroke-width=\"3.2\"/>\n",
       "<circle clip-path=\"url(#clip902)\" cx=\"1882.67\" cy=\"1310.24\" r=\"14.4\" fill=\"#009af9\" fill-rule=\"evenodd\" fill-opacity=\"1\" stroke=\"#000000\" stroke-opacity=\"1\" stroke-width=\"3.2\"/>\n",
       "<circle clip-path=\"url(#clip902)\" cx=\"2087.06\" cy=\"1349.47\" r=\"14.4\" fill=\"#009af9\" fill-rule=\"evenodd\" fill-opacity=\"1\" stroke=\"#000000\" stroke-opacity=\"1\" stroke-width=\"3.2\"/>\n",
       "<circle clip-path=\"url(#clip902)\" cx=\"2291.44\" cy=\"1445.72\" r=\"14.4\" fill=\"#009af9\" fill-rule=\"evenodd\" fill-opacity=\"1\" stroke=\"#000000\" stroke-opacity=\"1\" stroke-width=\"3.2\"/>\n",
       "<path clip-path=\"url(#clip900)\" d=\"M2011.46 198.898 L2280.54 198.898 L2280.54 95.2176 L2011.46 95.2176  Z\" fill=\"#ffffff\" fill-rule=\"evenodd\" fill-opacity=\"1\"/>\n",
       "<polyline clip-path=\"url(#clip900)\" style=\"stroke:#000000; stroke-linecap:round; stroke-linejoin:round; stroke-width:4; stroke-opacity:1; fill:none\" points=\"2011.46,198.898 2280.54,198.898 2280.54,95.2176 2011.46,95.2176 2011.46,198.898 \"/>\n",
       "<circle clip-path=\"url(#clip900)\" cx=\"2107.75\" cy=\"147.058\" r=\"20.48\" fill=\"#009af9\" fill-rule=\"evenodd\" fill-opacity=\"1\" stroke=\"#000000\" stroke-opacity=\"1\" stroke-width=\"4.55111\"/>\n",
       "<path clip-path=\"url(#clip900)\" d=\"M2217.88 166.745 Q2216.07 171.375 2214.36 172.787 Q2212.65 174.199 2209.78 174.199 L2206.38 174.199 L2206.38 170.634 L2208.88 170.634 Q2210.63 170.634 2211.61 169.8 Q2212.58 168.967 2213.76 165.865 L2214.52 163.921 L2204.04 138.412 L2208.55 138.412 L2216.65 158.689 L2224.76 138.412 L2229.27 138.412 L2217.88 166.745 Z\" fill=\"#000000\" fill-rule=\"nonzero\" fill-opacity=\"1\" /><path clip-path=\"url(#clip900)\" d=\"M2236.56 160.402 L2244.2 160.402 L2244.2 134.037 L2235.89 135.703 L2235.89 131.444 L2244.15 129.778 L2248.83 129.778 L2248.83 160.402 L2256.47 160.402 L2256.47 164.338 L2236.56 164.338 L2236.56 160.402 Z\" fill=\"#000000\" fill-rule=\"nonzero\" fill-opacity=\"1\" /></svg>\n"
      ]
     },
     "metadata": {},
     "output_type": "display_data"
    }
   ],
   "source": [
    "scatter(x,y_exp)"
   ]
  },
  {
   "cell_type": "code",
   "execution_count": 9,
   "id": "622f95c1-e6f8-4e9d-8fe4-84d1af4b94bd",
   "metadata": {},
   "outputs": [
    {
     "data": {
      "text/plain": [
       "model (generic function with 1 method)"
      ]
     },
     "metadata": {},
     "output_type": "display_data"
    }
   ],
   "source": [
    "model(x,p) = p[1] .* exp.(-p[2] .* x)"
   ]
  },
  {
   "cell_type": "code",
   "execution_count": 10,
   "id": "fc487ac4-57b3-4900-b014-084d080b4ca1",
   "metadata": {},
   "outputs": [
    {
     "data": {
      "text/plain": [
       "LsqFit.LsqFitResult{Vector{Float64}, Vector{Float64}, Matrix{Float64}, Vector{Float64}, Vector{LsqFit.LMState{LsqFit.LevenbergMarquardt}}}([1.911299183858863, 1.790754093371114], [0.06165313390340521, -0.0878106523813389, 0.07870440433578363, 0.0002753055533593063, -0.04963755013583193, -0.06990706080811415, -0.0626161253101516, -0.09879205786511858, 0.09861633240229234, 0.07170764686561015, 0.12666129055241318], [0.9999999999959964 0.0; 0.8360428515766374 -0.15979280198250473; … ; 0.19955234740956065 -0.34326381487797913; 0.1668343135682439 -0.31887028737221346], true, Iter     Function value   Gradient norm \n",
       "------   --------------   --------------\n",
       ", Float64[])"
      ]
     },
     "metadata": {},
     "output_type": "display_data"
    }
   ],
   "source": [
    "fit = curve_fit(model, x, y_exp, [1.5,1.5])"
   ]
  },
  {
   "cell_type": "code",
   "execution_count": 11,
   "id": "72e72dd5-049f-47d3-85ba-0b42da5b5b45",
   "metadata": {},
   "outputs": [
    {
     "data": {
      "text/plain": [
       "2-element Vector{Float64}:\n",
       " 1.911299183858863\n",
       " 1.790754093371114"
      ]
     },
     "metadata": {},
     "output_type": "display_data"
    }
   ],
   "source": [
    "fit.param"
   ]
  },
  {
   "cell_type": "code",
   "execution_count": 12,
   "id": "f273bbaa-9bd6-499a-8543-b4a488221010",
   "metadata": {},
   "outputs": [
    {
     "data": {
      "text/plain": [
       "2×2 Matrix{Float64}:\n",
       " 0.00437283  0.00496683\n",
       " 0.00496683  0.0123531"
      ]
     },
     "metadata": {},
     "output_type": "display_data"
    }
   ],
   "source": [
    "cov = estimate_covar(fit)"
   ]
  },
  {
   "cell_type": "code",
   "execution_count": 13,
   "id": "c983b027-8c80-4ebc-a15b-b1cb9106c503",
   "metadata": {},
   "outputs": [
    {
     "data": {
      "text/plain": [
       "2×2 Matrix{Float64}:\n",
       " 0.0589724  0.029918\n",
       " 0.029918   0.107042"
      ]
     },
     "metadata": {},
     "output_type": "display_data"
    }
   ],
   "source": [
    "sqrt(estimate_covar(fit))"
   ]
  },
  {
   "cell_type": "code",
   "execution_count": 14,
   "id": "123fc3f3",
   "metadata": {},
   "outputs": [
    {
     "data": {
      "text/plain": [
       "2×2 Matrix{Float64}:\n",
       " 0.0589724  0.029918\n",
       " 0.029918   0.107042"
      ]
     },
     "metadata": {},
     "output_type": "display_data"
    }
   ],
   "source": [
    "sqrt(cov)\n"
   ]
  },
  {
   "cell_type": "code",
   "execution_count": 40,
   "id": "e96fa7fd-59fb-4ffa-9430-9df444dfed95",
   "metadata": {},
   "outputs": [
    {
     "data": {
      "text/plain": [
       "res (generic function with 1 method)"
      ]
     },
     "execution_count": 40,
     "metadata": {},
     "output_type": "execute_result"
    }
   ],
   "source": [
    "function res(u, (x,y))\n",
    "    return u[1] .* exp.( -u[2] .* x) .- y\n",
    "end"
   ]
  },
  {
   "cell_type": "code",
   "execution_count": null,
   "id": "401e5a72",
   "metadata": {},
   "outputs": [],
   "source": []
  },
  {
   "cell_type": "code",
   "execution_count": 41,
   "id": "71fbbfb5-69d0-4016-8a34-f6578d6e6940",
   "metadata": {},
   "outputs": [
    {
     "data": {
      "text/plain": [
       "11-element Vector{Float64}:\n",
       " -0.7047734515522985\n",
       " -0.32029896091058174\n",
       " -0.17925639873551535\n",
       " -0.04393790652448848\n",
       " -0.16826254667920737\n",
       " -0.1335227501628966\n",
       " -0.007497508389405216\n",
       "  0.06805754461485364\n",
       "  0.020705836583412796\n",
       " -0.190955711992981\n",
       " -0.06726976026334303"
      ]
     },
     "execution_count": 41,
     "metadata": {},
     "output_type": "execute_result"
    }
   ],
   "source": [
    "res([1.5,1.5],(x,y_exp))"
   ]
  },
  {
   "cell_type": "code",
   "execution_count": 42,
   "id": "23d550a6-5957-4839-83de-13d4fa8b7ec1",
   "metadata": {},
   "outputs": [
    {
     "data": {
      "text/plain": [
       "\u001b[38;2;86;182;194mNonlinearLeastSquaresProblem\u001b[0m with uType \u001b[38;2;86;182;194mVector{Float64}\u001b[0m. In-place: \u001b[38;2;86;182;194mfalse\u001b[0m\n",
       "u0: 2-element Vector{Float64}:\n",
       " 1.5\n",
       " 2.0"
      ]
     },
     "execution_count": 42,
     "metadata": {},
     "output_type": "execute_result"
    }
   ],
   "source": [
    "prob = NonlinearLeastSquaresProblem(res, [1.5,2.0], (x,y_exp))"
   ]
  },
  {
   "cell_type": "code",
   "execution_count": 43,
   "id": "89115a93-ad88-4b46-8a83-867707a3ea61",
   "metadata": {},
   "outputs": [
    {
     "data": {
      "text/plain": [
       "retcode: Stalled\n",
       "u: 2-element Vector{Float64}:\n",
       " 2.0463518324401155\n",
       " 1.9169899663437346"
      ]
     },
     "execution_count": 43,
     "metadata": {},
     "output_type": "execute_result"
    }
   ],
   "source": [
    "sol = solve(prob, GaussNewton(); maxiters =1000)"
   ]
  },
  {
   "cell_type": "code",
   "execution_count": 44,
   "id": "18a3c01b-8da9-40e2-a294-72a8bf26140d",
   "metadata": {},
   "outputs": [
    {
     "data": {
      "text/plain": [
       "chi2 (generic function with 1 method)"
      ]
     },
     "execution_count": 44,
     "metadata": {},
     "output_type": "execute_result"
    }
   ],
   "source": [
    "function chi2(u,(x,y))\n",
    "    sum(res(u,(x,y)) .^2 ./ 0.1^2)\n",
    "end"
   ]
  },
  {
   "cell_type": "code",
   "execution_count": 45,
   "id": "78d2d7ca-9401-4f04-9e42-7a2e12a04461",
   "metadata": {},
   "outputs": [
    {
     "data": {
      "text/plain": [
       "13.3496704138807"
      ]
     },
     "execution_count": 45,
     "metadata": {},
     "output_type": "execute_result"
    }
   ],
   "source": [
    "chi2(sol.u,(x,y_exp))"
   ]
  },
  {
   "cell_type": "code",
   "execution_count": 46,
   "id": "9ca622b5-351d-4d2d-be9b-6d217893f933",
   "metadata": {},
   "outputs": [
    {
     "data": {
      "text/plain": [
       "ourchi2 (generic function with 1 method)"
      ]
     },
     "execution_count": 46,
     "metadata": {},
     "output_type": "execute_result"
    }
   ],
   "source": [
    "ourchi2(u) = chi2(u,(x,y_exp))"
   ]
  },
  {
   "cell_type": "code",
   "execution_count": 25,
   "id": "866a2d6a-0f8f-4600-b693-0e091e3df35b",
   "metadata": {},
   "outputs": [
    {
     "data": {
      "text/plain": [
       "11.542979226703359"
      ]
     },
     "execution_count": 25,
     "metadata": {},
     "output_type": "execute_result"
    }
   ],
   "source": [
    "ourchi2(sol.u)"
   ]
  },
  {
   "cell_type": "code",
   "execution_count": 37,
   "id": "746402fe-8903-4340-8e0c-5bffe1ac0429",
   "metadata": {},
   "outputs": [
    {
     "data": {
      "text/plain": [
       "2×2 Matrix{Float64}:\n",
       "  618.77   -250.154\n",
       " -250.154   216.026"
      ]
     },
     "execution_count": 37,
     "metadata": {},
     "output_type": "execute_result"
    }
   ],
   "source": [
    "h = ForwardDiff.hessian(ourchi2,sol.u)"
   ]
  },
  {
   "cell_type": "code",
   "execution_count": 39,
   "id": "bd667e56-e158-4d73-9e70-50e2e60bcc2c",
   "metadata": {},
   "outputs": [
    {
     "data": {
      "text/plain": [
       "2×2 Matrix{Float64}:\n",
       " 0.0389783  0.0419444\n",
       " 0.0419444  0.0659683"
      ]
     },
     "execution_count": 39,
     "metadata": {},
     "output_type": "execute_result"
    }
   ],
   "source": [
    "sqrt.(inv(2*h))"
   ]
  },
  {
   "cell_type": "markdown",
   "id": "0182ec7f-ecee-4303-96a6-809e7198bced",
   "metadata": {},
   "source": [
    "As an experiment to test that this error estimation method is working, we can repeat the procedure many times and compare the standard deviation of the parameter to the estimation from the Hessian."
   ]
  },
  {
   "cell_type": "code",
   "execution_count": 69,
   "id": "7835e124-fe4c-484f-adcc-339c71b0bd1d",
   "metadata": {},
   "outputs": [
    {
     "data": {
      "text/plain": [
       "lsqfitting (generic function with 1 method)"
      ]
     },
     "execution_count": 69,
     "metadata": {},
     "output_type": "execute_result"
    }
   ],
   "source": [
    "function lsqfitting(fitfct, (x,y) , sigma, β0)\n",
    "    res(β,(x,y)) = fitfct(x,β) .- y\n",
    "    prob = NonlinearLeastSquaresProblem(res, β0, (x,y))\n",
    "    sol = solve(prob, GaussNewton(); maxiters =1000)\n",
    "    chi2(β) = sum(abs2, res(β,(x,y)) ./ sigma)\n",
    "    return sol.u, inv(2*ForwardDiff.hessian(chi2,sol.u))\n",
    "end"
   ]
  },
  {
   "cell_type": "code",
   "execution_count": 67,
   "id": "33a7998d-93c1-45b9-8064-f404cc965146",
   "metadata": {},
   "outputs": [
    {
     "data": {
      "text/plain": [
       "f (generic function with 1 method)"
      ]
     },
     "execution_count": 67,
     "metadata": {},
     "output_type": "execute_result"
    }
   ],
   "source": [
    "f(x,β) = β[1] .* exp.(-β[2] .* x)"
   ]
  },
  {
   "cell_type": "code",
   "execution_count": 71,
   "id": "06ed8c55-aefe-4596-a6e0-3a1af4c84043",
   "metadata": {},
   "outputs": [
    {
     "data": {
      "text/plain": [
       "([2.0463518329458, 1.916989967594574], [0.001519311444122659 0.001759335652709194; 0.001759335652709194 0.0043518196370285495])"
      ]
     },
     "execution_count": 71,
     "metadata": {},
     "output_type": "execute_result"
    }
   ],
   "source": [
    "bestbeta, covar = lsqfitting(f, (x,y_exp), 0.1, [1.5,1.5])"
   ]
  },
  {
   "cell_type": "code",
   "execution_count": 75,
   "id": "7b97588a-12ea-48a0-b294-bb2497f30029",
   "metadata": {},
   "outputs": [
    {
     "data": {
      "text/plain": [
       "2×2 Matrix{Float64}:\n",
       " 0.0389783  0.0419444\n",
       " 0.0419444  0.0659683"
      ]
     },
     "execution_count": 75,
     "metadata": {},
     "output_type": "execute_result"
    }
   ],
   "source": [
    "sqrt.(covar)"
   ]
  },
  {
   "cell_type": "code",
   "execution_count": null,
   "id": "0c4bd9f8-da4f-45ad-bdf8-1bc3b57c331a",
   "metadata": {},
   "outputs": [],
   "source": []
  }
 ],
 "metadata": {
  "kernelspec": {
   "display_name": "Julia 1.11.3",
   "language": "julia",
   "name": "julia-1.11"
  },
  "language_info": {
   "file_extension": ".jl",
   "mimetype": "application/julia",
   "name": "julia",
   "version": "1.11.3"
  }
 },
 "nbformat": 4,
 "nbformat_minor": 5
}
