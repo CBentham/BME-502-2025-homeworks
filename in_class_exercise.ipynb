{
 "cells": [
  {
   "cell_type": "markdown",
   "metadata": {},
   "source": []
  },
  {
   "cell_type": "code",
   "execution_count": 1,
   "metadata": {},
   "outputs": [
    {
     "ename": "Base.Meta.ParseError",
     "evalue": "ParseError:\n# Error @ jl_notebook_cell_df34fa98e69747e1a8f8a730347b8e2f_W2sdW50aXRsZWQ=.jl:2:4\nimport Pkg\r\nPkg activate(\".\")\n#  └────────────┘ ── extra tokens after end of expression",
     "output_type": "error",
     "traceback": [
      "ParseError:\n",
      "# Error @ jl_notebook_cell_df34fa98e69747e1a8f8a730347b8e2f_W2sdW50aXRsZWQ=.jl:2:4\n",
      "import Pkg\r\n",
      "Pkg activate(\".\")\n",
      "#  └────────────┘ ── extra tokens after end of expression\n",
      "\n",
      "Stacktrace:\n",
      " [1] top-level scope\n",
      "   @ jl_notebook_cell_df34fa98e69747e1a8f8a730347b8e2f_W2sdW50aXRsZWQ=.jl:2"
     ]
    }
   ],
   "source": [
    "import Pkg\n",
    "Pkg activate(\".\")"
   ]
  },
  {
   "cell_type": "code",
   "execution_count": 2,
   "metadata": {},
   "outputs": [
    {
     "ename": "Base.Meta.ParseError",
     "evalue": "ParseError:\n# Error @ jl_notebook_cell_df34fa98e69747e1a8f8a730347b8e2f_W3sdW50aXRsZWQ=.jl:1:4\nPkg add([\"Plots\",\"Distributions\",\"Random\",\"Polynomials\",\"Statistics\"])\n#  └─────────────────────────────────────────────────────────────────┘ ── extra tokens after end of expression",
     "output_type": "error",
     "traceback": [
      "ParseError:\n",
      "# Error @ jl_notebook_cell_df34fa98e69747e1a8f8a730347b8e2f_W3sdW50aXRsZWQ=.jl:1:4\n",
      "Pkg add([\"Plots\",\"Distributions\",\"Random\",\"Polynomials\",\"Statistics\"])\n",
      "#  └─────────────────────────────────────────────────────────────────┘ ── extra tokens after end of expression\n",
      "\n",
      "Stacktrace:\n",
      " [1] top-level scope\n",
      "   @ jl_notebook_cell_df34fa98e69747e1a8f8a730347b8e2f_W3sdW50aXRsZWQ=.jl:1"
     ]
    }
   ],
   "source": [
    "Pkg add([\"Plots\",\"Distributions\",\"Random\",\"Polynomials\",\"Statistics\"])"
   ]
  },
  {
   "cell_type": "code",
   "execution_count": null,
   "metadata": {},
   "outputs": [],
   "source": []
  }
 ],
 "metadata": {
  "kernelspec": {
   "display_name": "Julia 1.11.3",
   "language": "julia",
   "name": "julia-1.11"
  },
  "language_info": {
   "file_extension": ".jl",
   "mimetype": "application/julia",
   "name": "julia",
   "version": "1.11.3"
  }
 },
 "nbformat": 4,
 "nbformat_minor": 2
}
