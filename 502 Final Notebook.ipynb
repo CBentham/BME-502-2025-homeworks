{
 "cells": [
  {
   "cell_type": "code",
   "execution_count": 18,
   "id": "d20752f5",
   "metadata": {},
   "outputs": [
    {
     "name": "stdout",
     "output_type": "stream",
     "text": [
      "ANOVA result for TimePeriod:\n",
      "F-statistic: 0.3806355488358087\n",
      "p-value: 0.6870362139369878\n",
      "ANOVA result for MachineSwap:\n",
      "F-statistic: 0.0036253033200453416\n",
      "p-value: 0.9524156952478047\n"
     ]
    }
   ],
   "source": [
    "using SortingAlgorithms, GLM, CategoricalArrays, DataFrames, StatsBase, CSV\n",
    "\n",
    "#Sample data\n",
    "data = DataFrame(\n",
    "    TimePeriod = repeat([\"0-3\", \"0-6\", \"3-6\"], inner = 10),\n",
    "    MachineSwap = rand([0, 1], 30),\n",
    "    Response = rand(30)\n",
    ")\n",
    "\n",
    "#Perform one-way ANOVA for TimePeriod\n",
    "anova_result_timeperiod = DataFrame(var = String[], ss = Float64[], df = Int[], ms = Float64[], f = Float64[], p = Float64[])\n",
    "grouped_data_timeperiod = groupby(data, :TimePeriod)\n",
    "anova_result_timeperiod = combine(grouped_data_timeperiod, :Response => mean => :mean_response)\n",
    "\n",
    "#Calculate ANOVA table manually\n",
    "grouped_data_timeperiod = groupby(data, :TimePeriod)\n",
    "means_timeperiod = combine(grouped_data_timeperiod, :Response => mean)\n",
    "grand_mean_timeperiod = mean(data.Response)\n",
    "\n",
    "ss_between_timeperiod = sum(length(group.Response) * (mean(group.Response) - grand_mean_timeperiod)^2 for group in grouped_data_timeperiod)\n",
    "ss_within_timeperiod = sum(sum((group.Response .- mean(group.Response)) .^ 2) for group in grouped_data_timeperiod)\n",
    "ss_total_timeperiod = ss_between_timeperiod + ss_within_timeperiod\n",
    "\n",
    "df_between_timeperiod = length(unique(data.TimePeriod)) - 1\n",
    "df_within_timeperiod = length(data.TimePeriod) - length(unique(data.TimePeriod))\n",
    "\n",
    "ms_between_timeperiod = ss_between_timeperiod / df_between_timeperiod\n",
    "ms_within_timeperiod = ss_within_timeperiod / df_within_timeperiod\n",
    "\n",
    "f_stat_timeperiod = ms_between_timeperiod / ms_within_timeperiod\n",
    "\n",
    "using Distributions\n",
    "p_value_timeperiod = 1 - cdf(FDist(df_between_timeperiod, df_within_timeperiod), f_stat_timeperiod)\n",
    "\n",
    "println(\"ANOVA result for TimePeriod:\")\n",
    "println(\"F-statistic: \", f_stat_timeperiod)\n",
    "println(\"p-value: \", p_value_timeperiod)\n",
    "\n",
    "#Perform one-way ANOVA for MachineSwap\n",
    "grouped_data_machineswap = groupby(data, :MachineSwap)\n",
    "grand_mean_machineswap = mean(data.Response)\n",
    "\n",
    "ss_between_machineswap = sum(length(group.Response) * (mean(group.Response) - grand_mean_machineswap)^2 for group in grouped_data_machineswap)\n",
    "ss_within_machineswap = sum(sum((group.Response .- mean(group.Response)) .^ 2) for group in grouped_data_machineswap)\n",
    "ss_total_machineswap = ss_between_machineswap + ss_within_machineswap\n",
    "\n",
    "df_between_machineswap = length(unique(data.MachineSwap)) - 1\n",
    "df_within_machineswap = length(data.MachineSwap) - length(unique(data.MachineSwap))\n",
    "\n",
    "ms_between_machineswap = ss_between_machineswap / df_between_machineswap\n",
    "ms_within_machineswap = ss_within_machineswap / df_within_machineswap\n",
    "\n",
    "f_stat_machineswap = ms_between_machineswap / ms_within_machineswap\n",
    "\n",
    "p_value_machineswap = 1 - cdf(FDist(df_between_machineswap, df_within_machineswap), f_stat_machineswap)\n",
    "\n",
    "println(\"ANOVA result for MachineSwap:\")\n",
    "println(\"F-statistic: \", f_stat_machineswap)\n",
    "println(\"p-value: \", p_value_machineswap)"
   ]
  },
  {
   "cell_type": "code",
   "execution_count": 19,
   "id": "7b2ef497",
   "metadata": {},
   "outputs": [
    {
     "name": "stdout",
     "output_type": "stream",
     "text": [
      "ANOVA result for TimePeriod:\n",
      "F-statistic: 1.1952527965491104\n",
      "p-value: 0.30425966866240217\n",
      "ANOVA result for MachineSwap:\n",
      "F-statistic: 4.735994809603746\n",
      "p-value: 0.030421099548738506\n"
     ]
    }
   ],
   "source": [
    "using SortingAlgorithms, GLM, CategoricalArrays, DataFrames, StatsBase, CSV, Distributions\n",
    "\n",
    "#Load data from ECMO.csv\n",
    "data = CSV.read(\"ECMO.csv\", DataFrame)\n",
    "\n",
    "#Perform one-way ANOVA for TimePeriod\n",
    "anova_result_timeperiod = DataFrame(var = String[], ss = Float64[], df = Int[], ms = Float64[], f = Float64[], p = Float64[])\n",
    "grouped_data_timeperiod = groupby(data, :TimePeriod)\n",
    "anova_result_timeperiod = combine(grouped_data_timeperiod, :Response => mean => :mean_response)\n",
    "\n",
    "#Calculate ANOVA table manually for TimePeriod\n",
    "grouped_data_timeperiod = groupby(data, :TimePeriod)\n",
    "means_timeperiod = combine(grouped_data_timeperiod, :Response => mean)\n",
    "grand_mean_timeperiod = mean(data.Response)\n",
    "\n",
    "ss_between_timeperiod = sum(length(group.Response) * (mean(group.Response) - grand_mean_timeperiod)^2 for group in grouped_data_timeperiod)\n",
    "ss_within_timeperiod = sum(sum((group.Response .- mean(group.Response)) .^ 2) for group in grouped_data_timeperiod)\n",
    "ss_total_timeperiod = ss_between_timeperiod + ss_within_timeperiod\n",
    "\n",
    "df_between_timeperiod = length(unique(data.TimePeriod)) - 1\n",
    "df_within_timeperiod = length(data.TimePeriod) - length(unique(data.TimePeriod))\n",
    "\n",
    "ms_between_timeperiod = ss_between_timeperiod / df_between_timeperiod\n",
    "ms_within_timeperiod = ss_within_timeperiod / df_within_timeperiod\n",
    "\n",
    "f_stat_timeperiod = ms_between_timeperiod / ms_within_timeperiod\n",
    "p_value_timeperiod = 1 - cdf(FDist(df_between_timeperiod, df_within_timeperiod), f_stat_timeperiod)\n",
    "\n",
    "println(\"ANOVA result for TimePeriod:\")\n",
    "println(\"F-statistic: \", f_stat_timeperiod)\n",
    "println(\"p-value: \", p_value_timeperiod)\n",
    "\n",
    "#Perform one-way ANOVA for MachineSwap\n",
    "grouped_data_machineswap = groupby(data, :MachineSwap)\n",
    "grand_mean_machineswap = mean(data.Response)\n",
    "\n",
    "ss_between_machineswap = sum(length(group.Response) * (mean(group.Response) - grand_mean_machineswap)^2 for group in grouped_data_machineswap)\n",
    "ss_within_machineswap = sum(sum((group.Response .- mean(group.Response)) .^ 2) for group in grouped_data_machineswap)\n",
    "ss_total_machineswap = ss_between_machineswap + ss_within_machineswap\n",
    "\n",
    "df_between_machineswap = length(unique(data.MachineSwap)) - 1\n",
    "df_within_machineswap = length(data.MachineSwap) - length(unique(data.MachineSwap))\n",
    "\n",
    "ms_between_machineswap = ss_between_machineswap / df_between_machineswap\n",
    "ms_within_machineswap = ss_within_machineswap / df_within_machineswap\n",
    "\n",
    "f_stat_machineswap = ms_between_machineswap / ms_within_machineswap\n",
    "p_value_machineswap = 1 - cdf(FDist(df_between_machineswap, df_within_machineswap), f_stat_machineswap)\n",
    "\n",
    "println(\"ANOVA result for MachineSwap:\")\n",
    "println(\"F-statistic: \", f_stat_machineswap)\n",
    "println(\"p-value: \", p_value_machineswap)\n"
   ]
  },
  {
   "cell_type": "code",
   "execution_count": null,
   "id": "79d97172",
   "metadata": {},
   "outputs": [
    {
     "data": {
      "text/plain": [
       "read_ecmo_data (generic function with 1 method)"
      ]
     },
     "metadata": {},
     "output_type": "display_data"
    }
   ],
   "source": [
    "function read_ecmo_data()\n",
    "\n",
    "    data_text = read(\"ECMO.csv\", String)\n",
    "\n",
    "    #Create empty DataFrames\n",
    "    df_0_3 = DataFrame(Subject_ID = String[], Value = Float64[], Swap = Int[])\n",
    "    df_0_6 = DataFrame(Subject_ID = String[], Value = Float64[], Swap = Int[])\n",
    "    df_3_6 = DataFrame(Subject_ID = String[], Value = Float64[], Swap = Int[])\n",
    "\n",
    "    for row in eachrow(raw_data)\n",
    "        fields = collect(row)\n",
    "\n",
    "        if length(fields) < 9\n",
    "            continue\n",
    "        end\n",
    "\n",
    "        if !ismissing(fields[1]) && !ismissing(fields[2]) && !ismissing(fields[3])\n",
    "            push!(df_0_3, (string(fields[1]), Float64(fields[2]), Int(fields[3])))\n",
    "        end\n",
    "\n",
    "        if !ismissing(fields[4]) && !ismissing(fields[5]) && !ismissing(fields[6])\n",
    "            push!(df_0_6, (string(fields[4]), Float64(fields[5]), Int(fields[6])))\n",
    "        end\n",
    "\n",
    "        if !ismissing(fields[7]) && !ismissing(fields[8]) && !ismissing(fields[9])\n",
    "            push!(df_3_6, (string(fields[7]), Float64(fields[8]), Int(fields[9])))\n",
    "        end\n",
    "    end\n",
    "\n",
    "    return df_0_3, df_0_6, df_3_6\n",
    "end\n"
   ]
  },
  {
   "cell_type": "code",
   "execution_count": 12,
   "id": "9e6414aa",
   "metadata": {},
   "outputs": [
    {
     "ename": "UndefVarError",
     "evalue": "UndefVarError: `analyze_ecmo_data` not defined in `Main`\nSuggestion: check for spelling errors or missing imports.",
     "output_type": "error",
     "traceback": [
      "UndefVarError: `analyze_ecmo_data` not defined in `Main`\n",
      "Suggestion: check for spelling errors or missing imports.\n",
      "\n",
      "Stacktrace:\n",
      " [1] top-level scope\n",
      "   @ c:\\Users\\steal\\Downloads\\Zero2Hero-JuliaWorkshop-main\\BME-502-2025-homeworks\\jl_notebook_cell_df34fa98e69747e1a8f8a730347b8e2f_W5sZmlsZQ==.jl:1"
     ]
    }
   ],
   "source": [
    "df_combined, stats, anova_result, overall_corr, corr_by_period, posthoc_results, p1, p2, p3 = analyze_ecmo_data()\n",
    "\n",
    "println(\"\\n=== ANOVA Results ===\")\n",
    "println(anova_result)\n"
   ]
  },
  {
   "cell_type": "markdown",
   "id": "7a6cf368",
   "metadata": {},
   "source": [
    "The above function does not work, change to work in between hours"
   ]
  },
  {
   "cell_type": "code",
   "execution_count": 20,
   "id": "0451daee",
   "metadata": {},
   "outputs": [
    {
     "name": "stdout",
     "output_type": "stream",
     "text": [
      "Pairwise ANOVA results:\n",
      "0 vs 3 -> F = 0.00026630699609540224, p = 0.9869984517494873\n",
      "0 vs 6 -> F = 1.9542162964036995, p = 0.16389255305593164\n",
      "3 vs 6 -> F = 1.9362107042131993, p = 0.165836810165514\n"
     ]
    }
   ],
   "source": [
    "using CSV, DataFrames, StatsBase, Distributions, CategoricalArrays\n",
    "\n",
    "data = CSV.read(\"ECMO.csv\", DataFrame)\n",
    "\n",
    "#Ensure TimePeriod is treated as a categorical variable\n",
    "data.TimePeriod = categorical(data.TimePeriod)\n",
    "\n",
    "#One-way ANOVA for each time period\n",
    "function anova_pairwise(df::DataFrame, group1, group2)\n",
    "    subset = filter(row -> row.TimePeriod in (group1, group2), df)\n",
    "    grouped = groupby(subset, :TimePeriod)\n",
    "    grand_mean = mean(subset.Response)\n",
    "\n",
    "    ss_between = sum(length(g.Response) * (mean(g.Response) - grand_mean)^2 for g in grouped)\n",
    "    ss_within = sum(sum((g.Response .- mean(g.Response)) .^ 2) for g in grouped)\n",
    "\n",
    "    df_between = 1\n",
    "    df_within = nrow(subset) - 2\n",
    "\n",
    "    ms_between = ss_between / df_between\n",
    "    ms_within = ss_within / df_within\n",
    "\n",
    "    f_stat = ms_between / ms_within\n",
    "    p_value = 1 - cdf(FDist(df_between, df_within), f_stat)\n",
    "\n",
    "    return f_stat, p_value\n",
    "end\n",
    "\n",
    "#Perform the ANOVAs\n",
    "f_0_3, p_0_3 = anova_pairwise(data, 0, 3)\n",
    "f_0_6, p_0_6 = anova_pairwise(data, 0, 6)\n",
    "f_3_6, p_3_6 = anova_pairwise(data, 3, 6)\n",
    "\n",
    "println(\"Pairwise ANOVA results:\")\n",
    "println(\"0 vs 3 -> F = $f_0_3, p = $p_0_3\")\n",
    "println(\"0 vs 6 -> F = $f_0_6, p = $p_0_6\")\n",
    "println(\"3 vs 6 -> F = $f_3_6, p = $p_3_6\")\n"
   ]
  }
 ],
 "metadata": {
  "kernelspec": {
   "display_name": "Julia 1.11.3",
   "language": "julia",
   "name": "julia-1.11"
  },
  "language_info": {
   "file_extension": ".jl",
   "mimetype": "application/julia",
   "name": "julia",
   "version": "1.11.3"
  }
 },
 "nbformat": 4,
 "nbformat_minor": 5
}
