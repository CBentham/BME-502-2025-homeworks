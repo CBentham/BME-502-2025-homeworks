{
 "cells": [
  {
   "cell_type": "markdown",
   "id": "1fbe377b",
   "metadata": {},
   "source": [
    "<h1>HW4</h1>"
   ]
  },
  {
   "cell_type": "markdown",
   "id": "79813e24",
   "metadata": {},
   "source": [
    "# Question 1\n",
    "### (Binomial) Read the following example and complete the exercises \n",
    "\n",
    "#### Tossing a Biased Coin\n",
    "You are asked if you want to bet on a coin. \n",
    "```\n",
    "You have 10 coin tosses. \n",
    "```\n",
    "```\n",
    "If you get exactly 4 heads, you win 30 dollars. \n",
    "```\n",
    "```\n",
    "Otherwise you loss 5 dollars. \n",
    "```\n",
    "```\n",
    "Based on our previous observation, the coin is biased. The chance of getting head is approximately 0.4. \n",
    "```\n",
    "Now you need to think about if you want to play it or not. "
   ]
  },
  {
   "cell_type": "markdown",
   "id": "425f8583",
   "metadata": {},
   "source": [
    "### 1.1 \n",
    "\n",
    "You recall that binomial distribution is commonly used to determine the probability of observing a specified number of successful outcomes in a specified number of trials. The equation for pdf of binomial distribution is: \n",
    "\n",
    "\\begin{equation*}\n",
    "P(X = k) = \\frac{n!}{k!(n-k)!}p^k(1-p)^{n-k}\n",
    "\\end{equation*}\n",
    "\n",
    "Where \n",
    "```\n",
    "k: Number of successful trials\n",
    "n: Total number of trials\n",
    "p: Probability of success in one trial\n",
    "```\n",
    "\n",
    "Create a functon to calculate the pdf of a binomial distribution\n",
    "\n",
    "```\n",
    "Function name: binomial_p\n",
    "```\n",
    "```\n",
    "Input: n, k, p\n",
    "```\n",
    "```\n",
    "Output: pdf of a binomial distribution\n",
    "```\n",
    "```\n",
    "Example: binomial_p(10, 2, 0.4) = 0.12093235199999998\n",
    "```"
   ]
  },
  {
   "cell_type": "code",
   "execution_count": 6,
   "id": "bf70d1bf",
   "metadata": {},
   "outputs": [
    {
     "data": {
      "text/plain": [
       "0.250822656"
      ]
     },
     "metadata": {},
     "output_type": "display_data"
    }
   ],
   "source": [
    "function binomial_p(n::Int, k::Int, p::Float64)\n",
    "    if k < 0 || k > n || p < 0 || p > 1\n",
    "        return 0.0\n",
    "    end\n",
    "\n",
    "# Compute n! / (k!(n-k)!)\n",
    "    coef = binomial(n, k)  \n",
    "    prob = coef * (p^k) * ((1 - p)^(n - k))\n",
    "    return prob\n",
    "end    \n",
    "\n",
    "binomial_p(10, 4, 0.4)"
   ]
  },
  {
   "cell_type": "markdown",
   "id": "46c415b0",
   "metadata": {},
   "source": [
    "### 1.2 \n",
    "\n",
    "Now you want to use the function to calculate the probabilities of \n",
    "1. Winning the bet\n",
    "2. Losing the bet"
   ]
  },
  {
   "cell_type": "markdown",
   "id": "0cf77bdd",
   "metadata": {},
   "source": [
    "The chance of winning the bet:"
   ]
  },
  {
   "cell_type": "code",
   "execution_count": 7,
   "id": "2e10d66a",
   "metadata": {},
   "outputs": [
    {
     "name": "stdout",
     "output_type": "stream",
     "text": [
      "Winning Probability: 0.250822656\n"
     ]
    }
   ],
   "source": [
    "# Must be EXACTLY FOUR heads out of ten\n",
    "n = 10      # Number of tosses\n",
    "k = 4   # Winning condition (exactly 4 heads)\n",
    "p = 0.4     # Probability of getting heads\n",
    "\n",
    "win_prob = binomial_p(n, k, p)\n",
    "\n",
    "println(\"Winning Probability: \", win_prob)\n"
   ]
  },
  {
   "cell_type": "markdown",
   "id": "e96f28b3",
   "metadata": {},
   "source": [
    "The chance of losing the bet:"
   ]
  },
  {
   "cell_type": "code",
   "execution_count": 8,
   "id": "f7055864",
   "metadata": {},
   "outputs": [
    {
     "name": "stdout",
     "output_type": "stream",
     "text": [
      "Losing Probability: 0.749177344\n"
     ]
    }
   ],
   "source": [
    "# Losing is any outcome except exactly 4 heads\n",
    "loss_prob = 1 - win_prob  \n",
    "println(\"Losing Probability: \", loss_prob)\n",
    "\n"
   ]
  },
  {
   "cell_type": "markdown",
   "id": "a16fbf95",
   "metadata": {},
   "source": [
    "### 1.3\n",
    "\n",
    "Would you expect yourself earning or losing money in the game?\n",
    "\n",
    "\\*Hint: What is the expected outcome"
   ]
  },
  {
   "cell_type": "code",
   "execution_count": 30,
   "id": "054d4449",
   "metadata": {},
   "outputs": [
    {
     "name": "stdout",
     "output_type": "stream",
     "text": [
      "Expected Number of Heads: 3.778792959999999\n",
      "There is an expected value of getting 3.8 heads, which, since you cannot have an eighth of a coin toss, we would round up to four. I would expect to earn money!\n"
     ]
    }
   ],
   "source": [
    "win_amount = 30   # Dollars won if exactly 4 heads\n",
    "loss_amount = 5  # Dollars lost otherwise\n",
    "\n",
    "expected_value = (win_amount * win_prob) - (loss_amount * loss_prob)\n",
    "println(\"Expected Number of Heads: \", expected_value)\n",
    "println(\"There is an expected value of getting 3.8 heads, which, since you cannot have an eighth of a coin toss, we would round up to four. I would expect to earn money!\")"
   ]
  },
  {
   "cell_type": "markdown",
   "id": "c15b75ac",
   "metadata": {},
   "source": [
    "### 1.4\n",
    "\n",
    "1. What if you need to get exactly 3 heads to win the game? What are the probabilities of winning and losing? \n",
    "\n",
    "2. Would you expect yourself earning or losing money in this case?"
   ]
  },
  {
   "cell_type": "code",
   "execution_count": 39,
   "id": "7d406d7c",
   "metadata": {},
   "outputs": [
    {
     "name": "stdout",
     "output_type": "stream",
     "text": [
      "Winning Probability: 0.21499084799999998\n",
      "Losing Probability: 0.785009152\n"
     ]
    }
   ],
   "source": [
    "n2 = 10      # Number of tosses\n",
    "k2 = 3   # Winning condition (exactly 3 heads)\n",
    "p2 = 0.4     # Probability of getting heads\n",
    "\n",
    "win_prob2 = binomial_p(n2, k2, p2)\n",
    "loss_prob2 = 1-win_prob2\n",
    "\n",
    "println(\"Winning Probability: \", win_prob2)\n",
    "println(\"Losing Probability: \", loss_prob2)"
   ]
  },
  {
   "cell_type": "code",
   "execution_count": 40,
   "id": "d655dc66",
   "metadata": {},
   "outputs": [
    {
     "name": "stdout",
     "output_type": "stream",
     "text": [
      "Expected Number of Heads: 2.52467968\n",
      "In ten tosses, I would be expected to land heads 2.5 times. If we round 0.5 up, we should expect to earn money!.\n"
     ]
    }
   ],
   "source": [
    "win_amount2 = 30   # Dollars won if exactly 3 heads\n",
    "loss_amount2 = 5  # Dollars lost otherwise\n",
    "\n",
    "expected_value2 = (win_amount * win_prob2) - (loss_amount * loss_prob2)\n",
    "println(\"Expected Number of Heads: \", expected_value2)\n",
    "println(\"In ten tosses, I would be expected to land heads 2.5 times. If we round 0.5 up, we should expect to earn money!.\")"
   ]
  },
  {
   "cell_type": "markdown",
   "id": "f1450094",
   "metadata": {},
   "source": [
    "# Question 2\n",
    "### (Chi-Square) Complete the following exercises \n"
   ]
  },
  {
   "cell_type": "markdown",
   "id": "a90dd09d",
   "metadata": {},
   "source": [
    "#### Run the following three cells to define x, y_true, noise, and y_oberved\n",
    "\n",
    "1. x = 0:1:10\n",
    "2. y_true = 4x - 2\n",
    "3. noise = N(0, $\\sigma$ = 3)\n",
    "4. y_observed = y_true + noise\n"
   ]
  },
  {
   "cell_type": "code",
   "execution_count": 29,
   "id": "0ac3dc6e",
   "metadata": {},
   "outputs": [
    {
     "name": "stderr",
     "output_type": "stream",
     "text": [
      "\u001b[32m\u001b[1m    Updating\u001b[22m\u001b[39m registry at `C:\\Users\\steal\\.julia\\registries\\General.toml`\n",
      "\u001b[32m\u001b[1m   Resolving\u001b[22m\u001b[39m package versions...\n",
      "\u001b[32m\u001b[1m    Updating\u001b[22m\u001b[39m `C:\\Users\\steal\\Downloads\\Zero2Hero-JuliaWorkshop-main\\BME-502-2025-homeworks\\Project.toml`\n",
      "  \u001b[90m[10745b16] \u001b[39m\u001b[92m+ Statistics v1.11.1\u001b[39m\n",
      "\u001b[32m\u001b[1m  No Changes\u001b[22m\u001b[39m to `C:\\Users\\steal\\Downloads\\Zero2Hero-JuliaWorkshop-main\\BME-502-2025-homeworks\\Manifest.toml`\n"
     ]
    }
   ],
   "source": [
    "import Pkg\n",
    "Pkg.add([\"Distributions\", \"Plots\", \"Polynomials\", \"Random\", \"Statistics\"])"
   ]
  },
  {
   "cell_type": "code",
   "execution_count": 2,
   "id": "325c3dfc",
   "metadata": {},
   "outputs": [],
   "source": [
    "import Distributions as di\n",
    "import Plots\n",
    "import Polynomials\n",
    "import Random\n",
    "import Statistics"
   ]
  },
  {
   "cell_type": "code",
   "execution_count": 3,
   "id": "dd89fc6b",
   "metadata": {},
   "outputs": [],
   "source": [
    "x = 0:1:10\n",
    "y_true = 4 .* x .- 2\n",
    "sigma = 3\n",
    "noise = Random.rand(di.Normal(0,sigma),length(x))\n",
    "y_observed = y_true .+ noise;"
   ]
  },
  {
   "cell_type": "markdown",
   "id": "2d855477",
   "metadata": {},
   "source": [
    "### 2.1\n",
    "\n",
    "1. Fit the data with a first order polynomial\n",
    "2. Store the coefficients of the fitted polynomial in fit_coeff"
   ]
  },
  {
   "cell_type": "code",
   "execution_count": null,
   "id": "bc12f94f",
   "metadata": {
    "scrolled": true
   },
   "outputs": [
    {
     "name": "stdout",
     "output_type": "stream",
     "text": [
      "Fitted Coefficients: [0.6558800446612114, 3.804941143623864]\n"
     ]
    }
   ],
   "source": [
    "#using Dr. Strey's polynomial least squares fit notes\n",
    "using Polynomials  # Ensure Polynomials package is imported\n",
    "\n",
    "# Fit a first-order polynomial (linear regression)\n",
    "fit_poly = Polynomials.fit(x, y_observed, 1)\n",
    "\n",
    "# Extract coefficients\n",
    "fit_coeff = coeffs(fit_poly)\n",
    "\n",
    "println(\"Fitted Coefficients: \", fit_coeff)"
   ]
  },
  {
   "cell_type": "markdown",
   "id": "e2e88477",
   "metadata": {},
   "source": [
    "### 2.2\n",
    "\n",
    "Given $\\chi^2$ defined as:\n",
    "$$\\chi^{2}=\\sum_{i}^{N}{\\frac{(y_{i}-f(x_{i},\\theta))^2}{\\sigma_{i}^2}}$$\n",
    "\n",
    "Create a function to calculate Chi-square value for the $1^{st}$ order polynomial fit\n",
    "\n",
    "```\n",
    "Function name: chisqr\n",
    "```\n",
    "```\n",
    "Input: b, m, x, y_observed, sigma\n",
    "```\n",
    "```\n",
    "m and b are the coefficients in the first order polynomial in which m * x + b = y_fit\n",
    "```\n",
    "```\n",
    "Output: Chi-square value of the polynomial model\n",
    "```"
   ]
  },
  {
   "cell_type": "code",
   "execution_count": 42,
   "id": "cae4b725",
   "metadata": {},
   "outputs": [
    {
     "name": "stdout",
     "output_type": "stream",
     "text": [
      "Chi-square value: 19.398069182256364\n"
     ]
    }
   ],
   "source": [
    "function chisqr(b, m, x, y_observed, sigma)\n",
    "    y_fit = (m.*x) .+b\n",
    "    chi_sq = sum(((y_observed .- y_fit) .^2)./sigma^2)\n",
    "    return chi_sq\n",
    "end\n",
    "\n",
    "\n",
    "b, m = fit_coeff  # Extract coefficients from previous polynomial fit\n",
    "chi_square_value = chisqr(b, m, x, y_observed, sigma)\n",
    "\n",
    "println(\"Chi-square value: \", chi_square_value)"
   ]
  },
  {
   "cell_type": "markdown",
   "id": "040ab4a4",
   "metadata": {},
   "source": [
    "### 2.3\n",
    "\n",
    "\\* Don't define random seed anywhere in the notebook\n",
    "1. Create a empty list chi2_list\n",
    "2. Use a for/while loop to run through the data simulation and model fitting (as done in the previous steps) 10000 times\n",
    "3. In each iteration, calculate the Chi-square value for the fitted model and add it to the chi2_list\n"
   ]
  },
  {
   "cell_type": "code",
   "execution_count": 45,
   "id": "43bfeedb",
   "metadata": {},
   "outputs": [
    {
     "name": "stdout",
     "output_type": "stream",
     "text": [
      "Chi-square simulation complete!\n"
     ]
    }
   ],
   "source": [
    "chi2_list = []\n",
    "\n",
    "for i in 1:10000\n",
    "    noise = Random.rand(di.Normal(0, sigma), length(x))  # Generate new noise\n",
    "    y_observed = y_true .+ noise  # Create new noisy dataset\n",
    "\n",
    "    fit_poly = Polynomials.fit(x, y_observed, 1)  # Fit first-order polynomial\n",
    "    fit_coeff = coeffs(fit_poly)  # Get coefficients (b = fit_coeff[1], m = fit_coeff[2])\n",
    "\n",
    "    chi_sq = chisqr(fit_coeff[1], fit_coeff[2], x, y_observed, sigma)  # Compute Chi-square\n",
    "    push!(chi2_list, chi_sq)  # Store in list\n",
    "end\n",
    "\n",
    "println(\"Chi-square simulation complete!\")\n"
   ]
  },
  {
   "cell_type": "markdown",
   "id": "c128339c",
   "metadata": {},
   "source": [
    "### 2.4\n",
    "\n",
    "1. Calculate the mean of chi2_list\n",
    "2. Explain if the mean value (degree of freedom) make sense or not\n"
   ]
  },
  {
   "cell_type": "code",
   "execution_count": 46,
   "id": "16d7f492",
   "metadata": {
    "scrolled": true
   },
   "outputs": [
    {
     "name": "stdout",
     "output_type": "stream",
     "text": [
      "Mean Chi-square value: 9.017695281679174\n"
     ]
    }
   ],
   "source": [
    "using Statistics  # Import statistics package for mean calculation\n",
    "\n",
    "chi2_mean = mean(chi2_list)  # Calculate mean of chi2_list\n",
    "println(\"Mean Chi-square value: \", chi2_mean)\n"
   ]
  },
  {
   "cell_type": "markdown",
   "id": "57ced9dd",
   "metadata": {},
   "source": []
  },
  {
   "cell_type": "markdown",
   "id": "046892f1",
   "metadata": {},
   "source": [
    "### 2.5\n",
    "\n",
    "1. Define a Chi-square distribution using the Degree of freedom from 2.4\n",
    "2. Generate x_dist = 0:0.1:40\n",
    "3. Calculate pdf of the Chi-square distribution using x_dist\n",
    "4. Plot the chi2_list in a histogram with bin = 50 \n",
    "5. Plot the pdf on top of the chi2_list histogram "
   ]
  },
  {
   "cell_type": "code",
   "execution_count": 69,
   "id": "3de69f97",
   "metadata": {},
   "outputs": [
    {
     "data": {
      "image/png": "[encoded data removed]",
      "image/svg+xml": [
       "<?xml version=\"1.0\" encoding=\"utf-8\"?>\n",
       "<svg xmlns=\"http://www.w3.org/2000/svg\" xmlns:xlink=\"http://www.w3.org/1999/xlink\" width=\"600\" height=\"400\" viewBox=\"0 0 2400 1600\">\n",
       "<defs>\n",
       "  <clipPath id=\"clip180\">\n",
       "    <rect x=\"0\" y=\"0\" width=\"2400\" height=\"1600\"/>\n",
       "  </clipPath>\n",
       "</defs>\n",
       "<path clip-path=\"url(#clip180)\" d=\"M0 1600 L2400 1600 L2400 0 L0 0  Z\" fill=\"#ffffff\" fill-rule=\"evenodd\" fill-opacity=\"1\"/>\n",
       "<defs>\n",
       "  <clipPath id=\"clip181\">\n",
       "    <rect x=\"480\" y=\"0\" width=\"1681\" height=\"1600\"/>\n",
       "  </clipPath>\n",
       "</defs>\n",
       "<path clip-path=\"url(#clip180)\" d=\"M216.436 1486.45 L2352.76 1486.45 L2352.76 47.2441 L216.436 47.2441  Z\" fill=\"#ffffff\" fill-rule=\"evenodd\" fill-opacity=\"1\"/>\n",
       "<defs>\n",
       "  <clipPath id=\"clip182\">\n",
       "    <rect x=\"216\" y=\"47\" width=\"2137\" height=\"1440\"/>\n",
       "  </clipPath>\n",
       "</defs>\n",
       "<polyline clip-path=\"url(#clip182)\" style=\"stroke:#000000; stroke-linecap:round; stroke-linejoin:round; stroke-width:2; stroke-opacity:0.1; fill:none\" points=\"333.937,1486.45 333.937,47.2441 \"/>\n",
       "<polyline clip-path=\"url(#clip182)\" style=\"stroke:#000000; stroke-linecap:round; stroke-linejoin:round; stroke-width:2; stroke-opacity:0.1; fill:none\" points=\"809.267,1486.45 809.267,47.2441 \"/>\n",
       "<polyline clip-path=\"url(#clip182)\" style=\"stroke:#000000; stroke-linecap:round; stroke-linejoin:round; stroke-width:2; stroke-opacity:0.1; fill:none\" points=\"1284.6,1486.45 1284.6,47.2441 \"/>\n",
       "<polyline clip-path=\"url(#clip182)\" style=\"stroke:#000000; stroke-linecap:round; stroke-linejoin:round; stroke-width:2; stroke-opacity:0.1; fill:none\" points=\"1759.93,1486.45 1759.93,47.2441 \"/>\n",
       "<polyline clip-path=\"url(#clip182)\" style=\"stroke:#000000; stroke-linecap:round; stroke-linejoin:round; stroke-width:2; stroke-opacity:0.1; fill:none\" points=\"2235.25,1486.45 2235.25,47.2441 \"/>\n",
       "<polyline clip-path=\"url(#clip182)\" style=\"stroke:#000000; stroke-linecap:round; stroke-linejoin:round; stroke-width:2; stroke-opacity:0.1; fill:none\" points=\"216.436,1486.45 2352.76,1486.45 \"/>\n",
       "<polyline clip-path=\"url(#clip182)\" style=\"stroke:#000000; stroke-linecap:round; stroke-linejoin:round; stroke-width:2; stroke-opacity:0.1; fill:none\" points=\"216.436,1146.37 2352.76,1146.37 \"/>\n",
       "<polyline clip-path=\"url(#clip182)\" style=\"stroke:#000000; stroke-linecap:round; stroke-linejoin:round; stroke-width:2; stroke-opacity:0.1; fill:none\" points=\"216.436,806.295 2352.76,806.295 \"/>\n",
       "<polyline clip-path=\"url(#clip182)\" style=\"stroke:#000000; stroke-linecap:round; stroke-linejoin:round; stroke-width:2; stroke-opacity:0.1; fill:none\" points=\"216.436,466.218 2352.76,466.218 \"/>\n",
       "<polyline clip-path=\"url(#clip182)\" style=\"stroke:#000000; stroke-linecap:round; stroke-linejoin:round; stroke-width:2; stroke-opacity:0.1; fill:none\" points=\"216.436,126.142 2352.76,126.142 \"/>\n",
       "<polyline clip-path=\"url(#clip180)\" style=\"stroke:#000000; stroke-linecap:round; stroke-linejoin:round; stroke-width:4; stroke-opacity:1; fill:none\" points=\"216.436,1486.45 2352.76,1486.45 \"/>\n",
       "<polyline clip-path=\"url(#clip180)\" style=\"stroke:#000000; stroke-linecap:round; stroke-linejoin:round; stroke-width:4; stroke-opacity:1; fill:none\" points=\"333.937,1486.45 333.937,1467.55 \"/>\n",
       "<polyline clip-path=\"url(#clip180)\" style=\"stroke:#000000; stroke-linecap:round; stroke-linejoin:round; stroke-width:4; stroke-opacity:1; fill:none\" points=\"809.267,1486.45 809.267,1467.55 \"/>\n",
       "<polyline clip-path=\"url(#clip180)\" style=\"stroke:#000000; stroke-linecap:round; stroke-linejoin:round; stroke-width:4; stroke-opacity:1; fill:none\" points=\"1284.6,1486.45 1284.6,1467.55 \"/>\n",
       "<polyline clip-path=\"url(#clip180)\" style=\"stroke:#000000; stroke-linecap:round; stroke-linejoin:round; stroke-width:4; stroke-opacity:1; fill:none\" points=\"1759.93,1486.45 1759.93,1467.55 \"/>\n",
       "<polyline clip-path=\"url(#clip180)\" style=\"stroke:#000000; stroke-linecap:round; stroke-linejoin:round; stroke-width:4; stroke-opacity:1; fill:none\" points=\"2235.25,1486.45 2235.25,1467.55 \"/>\n",
       "<path clip-path=\"url(#clip180)\" d=\"M333.937 1517.37 Q330.326 1517.37 328.497 1520.93 Q326.692 1524.47 326.692 1531.6 Q326.692 1538.71 328.497 1542.27 Q330.326 1545.82 333.937 1545.82 Q337.572 1545.82 339.377 1542.27 Q341.206 1538.71 341.206 1531.6 Q341.206 1524.47 339.377 1520.93 Q337.572 1517.37 333.937 1517.37 M333.937 1513.66 Q339.747 1513.66 342.803 1518.27 Q345.882 1522.85 345.882 1531.6 Q345.882 1540.33 342.803 1544.94 Q339.747 1549.52 333.937 1549.52 Q328.127 1549.52 325.048 1544.94 Q321.993 1540.33 321.993 1531.6 Q321.993 1522.85 325.048 1518.27 Q328.127 1513.66 333.937 1513.66 Z\" fill=\"#000000\" fill-rule=\"nonzero\" fill-opacity=\"1\" /><path clip-path=\"url(#clip180)\" d=\"M783.954 1544.91 L791.593 1544.91 L791.593 1518.55 L783.283 1520.21 L783.283 1515.95 L791.547 1514.29 L796.223 1514.29 L796.223 1544.91 L803.862 1544.91 L803.862 1548.85 L783.954 1548.85 L783.954 1544.91 Z\" fill=\"#000000\" fill-rule=\"nonzero\" fill-opacity=\"1\" /><path clip-path=\"url(#clip180)\" d=\"M823.306 1517.37 Q819.695 1517.37 817.866 1520.93 Q816.061 1524.47 816.061 1531.6 Q816.061 1538.71 817.866 1542.27 Q819.695 1545.82 823.306 1545.82 Q826.94 1545.82 828.746 1542.27 Q830.574 1538.71 830.574 1531.6 Q830.574 1524.47 828.746 1520.93 Q826.94 1517.37 823.306 1517.37 M823.306 1513.66 Q829.116 1513.66 832.172 1518.27 Q835.25 1522.85 835.25 1531.6 Q835.25 1540.33 832.172 1544.94 Q829.116 1549.52 823.306 1549.52 Q817.496 1549.52 814.417 1544.94 Q811.361 1540.33 811.361 1531.6 Q811.361 1522.85 814.417 1518.27 Q817.496 1513.66 823.306 1513.66 Z\" fill=\"#000000\" fill-rule=\"nonzero\" fill-opacity=\"1\" /><path clip-path=\"url(#clip180)\" d=\"M1263.37 1544.91 L1279.69 1544.91 L1279.69 1548.85 L1257.74 1548.85 L1257.74 1544.91 Q1260.41 1542.16 1264.99 1537.53 Q1269.6 1532.88 1270.78 1531.53 Q1273.02 1529.01 1273.9 1527.27 Q1274.8 1525.51 1274.8 1523.82 Q1274.8 1521.07 1272.86 1519.33 Q1270.94 1517.6 1267.84 1517.6 Q1265.64 1517.6 1263.18 1518.36 Q1260.75 1519.13 1257.98 1520.68 L1257.98 1515.95 Q1260.8 1514.82 1263.25 1514.24 Q1265.71 1513.66 1267.74 1513.66 Q1273.11 1513.66 1276.31 1516.35 Q1279.5 1519.03 1279.5 1523.52 Q1279.5 1525.65 1278.69 1527.57 Q1277.91 1529.47 1275.8 1532.07 Q1275.22 1532.74 1272.12 1535.95 Q1269.02 1539.15 1263.37 1544.91 Z\" fill=\"#000000\" fill-rule=\"nonzero\" fill-opacity=\"1\" /><path clip-path=\"url(#clip180)\" d=\"M1299.5 1517.37 Q1295.89 1517.37 1294.06 1520.93 Q1292.26 1524.47 1292.26 1531.6 Q1292.26 1538.71 1294.06 1542.27 Q1295.89 1545.82 1299.5 1545.82 Q1303.14 1545.82 1304.94 1542.27 Q1306.77 1538.71 1306.77 1531.6 Q1306.77 1524.47 1304.94 1520.93 Q1303.14 1517.37 1299.5 1517.37 M1299.5 1513.66 Q1305.31 1513.66 1308.37 1518.27 Q1311.45 1522.85 1311.45 1531.6 Q1311.45 1540.33 1308.37 1544.94 Q1305.31 1549.52 1299.5 1549.52 Q1293.69 1549.52 1290.61 1544.94 Q1287.56 1540.33 1287.56 1531.6 Q1287.56 1522.85 1290.61 1518.27 Q1293.69 1513.66 1299.5 1513.66 Z\" fill=\"#000000\" fill-rule=\"nonzero\" fill-opacity=\"1\" /><path clip-path=\"url(#clip180)\" d=\"M1748.77 1530.21 Q1752.12 1530.93 1754 1533.2 Q1755.9 1535.47 1755.9 1538.8 Q1755.9 1543.92 1752.38 1546.72 Q1748.86 1549.52 1742.38 1549.52 Q1740.2 1549.52 1737.89 1549.08 Q1735.6 1548.66 1733.14 1547.81 L1733.14 1543.29 Q1735.09 1544.43 1737.4 1545.01 Q1739.72 1545.58 1742.24 1545.58 Q1746.64 1545.58 1748.93 1543.85 Q1751.24 1542.11 1751.24 1538.8 Q1751.24 1535.75 1749.09 1534.03 Q1746.96 1532.3 1743.14 1532.3 L1739.12 1532.3 L1739.12 1528.45 L1743.33 1528.45 Q1746.78 1528.45 1748.61 1527.09 Q1750.43 1525.7 1750.43 1523.11 Q1750.43 1520.45 1748.54 1519.03 Q1746.66 1517.6 1743.14 1517.6 Q1741.22 1517.6 1739.02 1518.01 Q1736.82 1518.43 1734.18 1519.31 L1734.18 1515.14 Q1736.85 1514.4 1739.16 1514.03 Q1741.5 1513.66 1743.56 1513.66 Q1748.88 1513.66 1751.99 1516.09 Q1755.09 1518.5 1755.09 1522.62 Q1755.09 1525.49 1753.44 1527.48 Q1751.8 1529.45 1748.77 1530.21 Z\" fill=\"#000000\" fill-rule=\"nonzero\" fill-opacity=\"1\" /><path clip-path=\"url(#clip180)\" d=\"M1774.76 1517.37 Q1771.15 1517.37 1769.32 1520.93 Q1767.52 1524.47 1767.52 1531.6 Q1767.52 1538.71 1769.32 1542.27 Q1771.15 1545.82 1774.76 1545.82 Q1778.4 1545.82 1780.2 1542.27 Q1782.03 1538.71 1782.03 1531.6 Q1782.03 1524.47 1780.2 1520.93 Q1778.4 1517.37 1774.76 1517.37 M1774.76 1513.66 Q1780.57 1513.66 1783.63 1518.27 Q1786.71 1522.85 1786.71 1531.6 Q1786.71 1540.33 1783.63 1544.94 Q1780.57 1549.52 1774.76 1549.52 Q1768.95 1549.52 1765.87 1544.94 Q1762.82 1540.33 1762.82 1531.6 Q1762.82 1522.85 1765.87 1518.27 Q1768.95 1513.66 1774.76 1513.66 Z\" fill=\"#000000\" fill-rule=\"nonzero\" fill-opacity=\"1\" /><path clip-path=\"url(#clip180)\" d=\"M2223.43 1518.36 L2211.62 1536.81 L2223.43 1536.81 L2223.43 1518.36 M2222.2 1514.29 L2228.08 1514.29 L2228.08 1536.81 L2233.01 1536.81 L2233.01 1540.7 L2228.08 1540.7 L2228.08 1548.85 L2223.43 1548.85 L2223.43 1540.7 L2207.82 1540.7 L2207.82 1536.19 L2222.2 1514.29 Z\" fill=\"#000000\" fill-rule=\"nonzero\" fill-opacity=\"1\" /><path clip-path=\"url(#clip180)\" d=\"M2250.74 1517.37 Q2247.13 1517.37 2245.3 1520.93 Q2243.5 1524.47 2243.5 1531.6 Q2243.5 1538.71 2245.3 1542.27 Q2247.13 1545.82 2250.74 1545.82 Q2254.37 1545.82 2256.18 1542.27 Q2258.01 1538.71 2258.01 1531.6 Q2258.01 1524.47 2256.18 1520.93 Q2254.37 1517.37 2250.74 1517.37 M2250.74 1513.66 Q2256.55 1513.66 2259.61 1518.27 Q2262.68 1522.85 2262.68 1531.6 Q2262.68 1540.33 2259.61 1544.94 Q2256.55 1549.52 2250.74 1549.52 Q2244.93 1549.52 2241.85 1544.94 Q2238.8 1540.33 2238.8 1531.6 Q2238.8 1522.85 2241.85 1518.27 Q2244.93 1513.66 2250.74 1513.66 Z\" fill=\"#000000\" fill-rule=\"nonzero\" fill-opacity=\"1\" /><polyline clip-path=\"url(#clip180)\" style=\"stroke:#000000; stroke-linecap:round; stroke-linejoin:round; stroke-width:4; stroke-opacity:1; fill:none\" points=\"216.436,1486.45 216.436,47.2441 \"/>\n",
       "<polyline clip-path=\"url(#clip180)\" style=\"stroke:#000000; stroke-linecap:round; stroke-linejoin:round; stroke-width:4; stroke-opacity:1; fill:none\" points=\"216.436,1486.45 235.334,1486.45 \"/>\n",
       "<polyline clip-path=\"url(#clip180)\" style=\"stroke:#000000; stroke-linecap:round; stroke-linejoin:round; stroke-width:4; stroke-opacity:1; fill:none\" points=\"216.436,1146.37 235.334,1146.37 \"/>\n",
       "<polyline clip-path=\"url(#clip180)\" style=\"stroke:#000000; stroke-linecap:round; stroke-linejoin:round; stroke-width:4; stroke-opacity:1; fill:none\" points=\"216.436,806.295 235.334,806.295 \"/>\n",
       "<polyline clip-path=\"url(#clip180)\" style=\"stroke:#000000; stroke-linecap:round; stroke-linejoin:round; stroke-width:4; stroke-opacity:1; fill:none\" points=\"216.436,466.218 235.334,466.218 \"/>\n",
       "<polyline clip-path=\"url(#clip180)\" style=\"stroke:#000000; stroke-linecap:round; stroke-linejoin:round; stroke-width:4; stroke-opacity:1; fill:none\" points=\"216.436,126.142 235.334,126.142 \"/>\n",
       "<path clip-path=\"url(#clip180)\" d=\"M62.9365 1472.25 Q59.3254 1472.25 57.4967 1475.81 Q55.6912 1479.35 55.6912 1486.48 Q55.6912 1493.59 57.4967 1497.15 Q59.3254 1500.7 62.9365 1500.7 Q66.5707 1500.7 68.3763 1497.15 Q70.205 1493.59 70.205 1486.48 Q70.205 1479.35 68.3763 1475.81 Q66.5707 1472.25 62.9365 1472.25 M62.9365 1468.54 Q68.7467 1468.54 71.8022 1473.15 Q74.8809 1477.73 74.8809 1486.48 Q74.8809 1495.21 71.8022 1499.82 Q68.7467 1504.4 62.9365 1504.4 Q57.1264 1504.4 54.0477 1499.82 Q50.9921 1495.21 50.9921 1486.48 Q50.9921 1477.73 54.0477 1473.15 Q57.1264 1468.54 62.9365 1468.54 Z\" fill=\"#000000\" fill-rule=\"nonzero\" fill-opacity=\"1\" /><path clip-path=\"url(#clip180)\" d=\"M83.0984 1497.85 L87.9827 1497.85 L87.9827 1503.73 L83.0984 1503.73 L83.0984 1497.85 Z\" fill=\"#000000\" fill-rule=\"nonzero\" fill-opacity=\"1\" /><path clip-path=\"url(#clip180)\" d=\"M108.168 1472.25 Q104.557 1472.25 102.728 1475.81 Q100.922 1479.35 100.922 1486.48 Q100.922 1493.59 102.728 1497.15 Q104.557 1500.7 108.168 1500.7 Q111.802 1500.7 113.608 1497.15 Q115.436 1493.59 115.436 1486.48 Q115.436 1479.35 113.608 1475.81 Q111.802 1472.25 108.168 1472.25 M108.168 1468.54 Q113.978 1468.54 117.033 1473.15 Q120.112 1477.73 120.112 1486.48 Q120.112 1495.21 117.033 1499.82 Q113.978 1504.4 108.168 1504.4 Q102.358 1504.4 99.2789 1499.82 Q96.2234 1495.21 96.2234 1486.48 Q96.2234 1477.73 99.2789 1473.15 Q102.358 1468.54 108.168 1468.54 Z\" fill=\"#000000\" fill-rule=\"nonzero\" fill-opacity=\"1\" /><path clip-path=\"url(#clip180)\" d=\"M138.33 1472.25 Q134.719 1472.25 132.89 1475.81 Q131.084 1479.35 131.084 1486.48 Q131.084 1493.59 132.89 1497.15 Q134.719 1500.7 138.33 1500.7 Q141.964 1500.7 143.769 1497.15 Q145.598 1493.59 145.598 1486.48 Q145.598 1479.35 143.769 1475.81 Q141.964 1472.25 138.33 1472.25 M138.33 1468.54 Q144.14 1468.54 147.195 1473.15 Q150.274 1477.73 150.274 1486.48 Q150.274 1495.21 147.195 1499.82 Q144.14 1504.4 138.33 1504.4 Q132.519 1504.4 129.441 1499.82 Q126.385 1495.21 126.385 1486.48 Q126.385 1477.73 129.441 1473.15 Q132.519 1468.54 138.33 1468.54 Z\" fill=\"#000000\" fill-rule=\"nonzero\" fill-opacity=\"1\" /><path clip-path=\"url(#clip180)\" d=\"M168.491 1472.25 Q164.88 1472.25 163.052 1475.81 Q161.246 1479.35 161.246 1486.48 Q161.246 1493.59 163.052 1497.15 Q164.88 1500.7 168.491 1500.7 Q172.126 1500.7 173.931 1497.15 Q175.76 1493.59 175.76 1486.48 Q175.76 1479.35 173.931 1475.81 Q172.126 1472.25 168.491 1472.25 M168.491 1468.54 Q174.302 1468.54 177.357 1473.15 Q180.436 1477.73 180.436 1486.48 Q180.436 1495.21 177.357 1499.82 Q174.302 1504.4 168.491 1504.4 Q162.681 1504.4 159.603 1499.82 Q156.547 1495.21 156.547 1486.48 Q156.547 1477.73 159.603 1473.15 Q162.681 1468.54 168.491 1468.54 Z\" fill=\"#000000\" fill-rule=\"nonzero\" fill-opacity=\"1\" /><path clip-path=\"url(#clip180)\" d=\"M63.9319 1132.17 Q60.3208 1132.17 58.4921 1135.73 Q56.6865 1139.28 56.6865 1146.41 Q56.6865 1153.51 58.4921 1157.08 Q60.3208 1160.62 63.9319 1160.62 Q67.5661 1160.62 69.3717 1157.08 Q71.2004 1153.51 71.2004 1146.41 Q71.2004 1139.28 69.3717 1135.73 Q67.5661 1132.17 63.9319 1132.17 M63.9319 1128.47 Q69.742 1128.47 72.7976 1133.07 Q75.8763 1137.66 75.8763 1146.41 Q75.8763 1155.13 72.7976 1159.74 Q69.742 1164.32 63.9319 1164.32 Q58.1217 1164.32 55.043 1159.74 Q51.9875 1155.13 51.9875 1146.41 Q51.9875 1137.66 55.043 1133.07 Q58.1217 1128.47 63.9319 1128.47 Z\" fill=\"#000000\" fill-rule=\"nonzero\" fill-opacity=\"1\" /><path clip-path=\"url(#clip180)\" d=\"M84.0938 1157.77 L88.978 1157.77 L88.978 1163.65 L84.0938 1163.65 L84.0938 1157.77 Z\" fill=\"#000000\" fill-rule=\"nonzero\" fill-opacity=\"1\" /><path clip-path=\"url(#clip180)\" d=\"M109.163 1132.17 Q105.552 1132.17 103.723 1135.73 Q101.918 1139.28 101.918 1146.41 Q101.918 1153.51 103.723 1157.08 Q105.552 1160.62 109.163 1160.62 Q112.797 1160.62 114.603 1157.08 Q116.432 1153.51 116.432 1146.41 Q116.432 1139.28 114.603 1135.73 Q112.797 1132.17 109.163 1132.17 M109.163 1128.47 Q114.973 1128.47 118.029 1133.07 Q121.107 1137.66 121.107 1146.41 Q121.107 1155.13 118.029 1159.74 Q114.973 1164.32 109.163 1164.32 Q103.353 1164.32 100.274 1159.74 Q97.2187 1155.13 97.2187 1146.41 Q97.2187 1137.66 100.274 1133.07 Q103.353 1128.47 109.163 1128.47 Z\" fill=\"#000000\" fill-rule=\"nonzero\" fill-opacity=\"1\" /><path clip-path=\"url(#clip180)\" d=\"M133.353 1159.72 L149.672 1159.72 L149.672 1163.65 L127.728 1163.65 L127.728 1159.72 Q130.39 1156.96 134.973 1152.33 Q139.58 1147.68 140.76 1146.34 Q143.006 1143.81 143.885 1142.08 Q144.788 1140.32 144.788 1138.63 Q144.788 1135.87 142.843 1134.14 Q140.922 1132.4 137.82 1132.4 Q135.621 1132.4 133.168 1133.17 Q130.737 1133.93 127.959 1135.48 L127.959 1130.76 Q130.783 1129.62 133.237 1129.05 Q135.691 1128.47 137.728 1128.47 Q143.098 1128.47 146.293 1131.15 Q149.487 1133.84 149.487 1138.33 Q149.487 1140.46 148.677 1142.38 Q147.89 1144.28 145.783 1146.87 Q145.205 1147.54 142.103 1150.76 Q139.001 1153.95 133.353 1159.72 Z\" fill=\"#000000\" fill-rule=\"nonzero\" fill-opacity=\"1\" /><path clip-path=\"url(#clip180)\" d=\"M159.533 1129.09 L177.89 1129.09 L177.89 1133.03 L163.816 1133.03 L163.816 1141.5 Q164.834 1141.15 165.853 1140.99 Q166.871 1140.8 167.89 1140.8 Q173.677 1140.8 177.056 1143.98 Q180.436 1147.15 180.436 1152.56 Q180.436 1158.14 176.964 1161.24 Q173.491 1164.32 167.172 1164.32 Q164.996 1164.32 162.728 1163.95 Q160.482 1163.58 158.075 1162.84 L158.075 1158.14 Q160.158 1159.28 162.38 1159.83 Q164.603 1160.39 167.079 1160.39 Q171.084 1160.39 173.422 1158.28 Q175.76 1156.17 175.76 1152.56 Q175.76 1148.95 173.422 1146.85 Q171.084 1144.74 167.079 1144.74 Q165.204 1144.74 163.329 1145.16 Q161.478 1145.57 159.533 1146.45 L159.533 1129.09 Z\" fill=\"#000000\" fill-rule=\"nonzero\" fill-opacity=\"1\" /><path clip-path=\"url(#clip180)\" d=\"M62.9365 792.094 Q59.3254 792.094 57.4967 795.658 Q55.6912 799.2 55.6912 806.33 Q55.6912 813.436 57.4967 817.001 Q59.3254 820.542 62.9365 820.542 Q66.5707 820.542 68.3763 817.001 Q70.205 813.436 70.205 806.33 Q70.205 799.2 68.3763 795.658 Q66.5707 792.094 62.9365 792.094 M62.9365 788.39 Q68.7467 788.39 71.8022 792.996 Q74.8809 797.58 74.8809 806.33 Q74.8809 815.056 71.8022 819.663 Q68.7467 824.246 62.9365 824.246 Q57.1264 824.246 54.0477 819.663 Q50.9921 815.056 50.9921 806.33 Q50.9921 797.58 54.0477 792.996 Q57.1264 788.39 62.9365 788.39 Z\" fill=\"#000000\" fill-rule=\"nonzero\" fill-opacity=\"1\" /><path clip-path=\"url(#clip180)\" d=\"M83.0984 817.695 L87.9827 817.695 L87.9827 823.575 L83.0984 823.575 L83.0984 817.695 Z\" fill=\"#000000\" fill-rule=\"nonzero\" fill-opacity=\"1\" /><path clip-path=\"url(#clip180)\" d=\"M108.168 792.094 Q104.557 792.094 102.728 795.658 Q100.922 799.2 100.922 806.33 Q100.922 813.436 102.728 817.001 Q104.557 820.542 108.168 820.542 Q111.802 820.542 113.608 817.001 Q115.436 813.436 115.436 806.33 Q115.436 799.2 113.608 795.658 Q111.802 792.094 108.168 792.094 M108.168 788.39 Q113.978 788.39 117.033 792.996 Q120.112 797.58 120.112 806.33 Q120.112 815.056 117.033 819.663 Q113.978 824.246 108.168 824.246 Q102.358 824.246 99.2789 819.663 Q96.2234 815.056 96.2234 806.33 Q96.2234 797.58 99.2789 792.996 Q102.358 788.39 108.168 788.39 Z\" fill=\"#000000\" fill-rule=\"nonzero\" fill-opacity=\"1\" /><path clip-path=\"url(#clip180)\" d=\"M128.376 789.015 L146.732 789.015 L146.732 792.95 L132.658 792.95 L132.658 801.422 Q133.677 801.075 134.695 800.913 Q135.714 800.728 136.732 800.728 Q142.519 800.728 145.899 803.899 Q149.279 807.07 149.279 812.487 Q149.279 818.066 145.806 821.167 Q142.334 824.246 136.015 824.246 Q133.839 824.246 131.57 823.876 Q129.325 823.505 126.918 822.765 L126.918 818.066 Q129.001 819.2 131.223 819.755 Q133.445 820.311 135.922 820.311 Q139.927 820.311 142.265 818.205 Q144.603 816.098 144.603 812.487 Q144.603 808.876 142.265 806.769 Q139.927 804.663 135.922 804.663 Q134.047 804.663 132.172 805.08 Q130.32 805.496 128.376 806.376 L128.376 789.015 Z\" fill=\"#000000\" fill-rule=\"nonzero\" fill-opacity=\"1\" /><path clip-path=\"url(#clip180)\" d=\"M168.491 792.094 Q164.88 792.094 163.052 795.658 Q161.246 799.2 161.246 806.33 Q161.246 813.436 163.052 817.001 Q164.88 820.542 168.491 820.542 Q172.126 820.542 173.931 817.001 Q175.76 813.436 175.76 806.33 Q175.76 799.2 173.931 795.658 Q172.126 792.094 168.491 792.094 M168.491 788.39 Q174.302 788.39 177.357 792.996 Q180.436 797.58 180.436 806.33 Q180.436 815.056 177.357 819.663 Q174.302 824.246 168.491 824.246 Q162.681 824.246 159.603 819.663 Q156.547 815.056 156.547 806.33 Q156.547 797.58 159.603 792.996 Q162.681 788.39 168.491 788.39 Z\" fill=\"#000000\" fill-rule=\"nonzero\" fill-opacity=\"1\" /><path clip-path=\"url(#clip180)\" d=\"M63.9319 452.017 Q60.3208 452.017 58.4921 455.582 Q56.6865 459.123 56.6865 466.253 Q56.6865 473.36 58.4921 476.924 Q60.3208 480.466 63.9319 480.466 Q67.5661 480.466 69.3717 476.924 Q71.2004 473.36 71.2004 466.253 Q71.2004 459.123 69.3717 455.582 Q67.5661 452.017 63.9319 452.017 M63.9319 448.313 Q69.742 448.313 72.7976 452.92 Q75.8763 457.503 75.8763 466.253 Q75.8763 474.98 72.7976 479.586 Q69.742 484.17 63.9319 484.17 Q58.1217 484.17 55.043 479.586 Q51.9875 474.98 51.9875 466.253 Q51.9875 457.503 55.043 452.92 Q58.1217 448.313 63.9319 448.313 Z\" fill=\"#000000\" fill-rule=\"nonzero\" fill-opacity=\"1\" /><path clip-path=\"url(#clip180)\" d=\"M84.0938 477.619 L88.978 477.619 L88.978 483.498 L84.0938 483.498 L84.0938 477.619 Z\" fill=\"#000000\" fill-rule=\"nonzero\" fill-opacity=\"1\" /><path clip-path=\"url(#clip180)\" d=\"M109.163 452.017 Q105.552 452.017 103.723 455.582 Q101.918 459.123 101.918 466.253 Q101.918 473.36 103.723 476.924 Q105.552 480.466 109.163 480.466 Q112.797 480.466 114.603 476.924 Q116.432 473.36 116.432 466.253 Q116.432 459.123 114.603 455.582 Q112.797 452.017 109.163 452.017 M109.163 448.313 Q114.973 448.313 118.029 452.92 Q121.107 457.503 121.107 466.253 Q121.107 474.98 118.029 479.586 Q114.973 484.17 109.163 484.17 Q103.353 484.17 100.274 479.586 Q97.2187 474.98 97.2187 466.253 Q97.2187 457.503 100.274 452.92 Q103.353 448.313 109.163 448.313 Z\" fill=\"#000000\" fill-rule=\"nonzero\" fill-opacity=\"1\" /><path clip-path=\"url(#clip180)\" d=\"M128.144 448.938 L150.367 448.938 L150.367 450.929 L137.82 483.498 L132.936 483.498 L144.742 452.874 L128.144 452.874 L128.144 448.938 Z\" fill=\"#000000\" fill-rule=\"nonzero\" fill-opacity=\"1\" /><path clip-path=\"url(#clip180)\" d=\"M159.533 448.938 L177.89 448.938 L177.89 452.874 L163.816 452.874 L163.816 461.346 Q164.834 460.998 165.853 460.836 Q166.871 460.651 167.89 460.651 Q173.677 460.651 177.056 463.823 Q180.436 466.994 180.436 472.41 Q180.436 477.989 176.964 481.091 Q173.491 484.17 167.172 484.17 Q164.996 484.17 162.728 483.799 Q160.482 483.429 158.075 482.688 L158.075 477.989 Q160.158 479.123 162.38 479.679 Q164.603 480.234 167.079 480.234 Q171.084 480.234 173.422 478.128 Q175.76 476.022 175.76 472.41 Q175.76 468.799 173.422 466.693 Q171.084 464.586 167.079 464.586 Q165.204 464.586 163.329 465.003 Q161.478 465.42 159.533 466.299 L159.533 448.938 Z\" fill=\"#000000\" fill-rule=\"nonzero\" fill-opacity=\"1\" /><path clip-path=\"url(#clip180)\" d=\"M62.9365 111.941 Q59.3254 111.941 57.4967 115.505 Q55.6912 119.047 55.6912 126.177 Q55.6912 133.283 57.4967 136.848 Q59.3254 140.389 62.9365 140.389 Q66.5707 140.389 68.3763 136.848 Q70.205 133.283 70.205 126.177 Q70.205 119.047 68.3763 115.505 Q66.5707 111.941 62.9365 111.941 M62.9365 108.237 Q68.7467 108.237 71.8022 112.843 Q74.8809 117.427 74.8809 126.177 Q74.8809 134.903 71.8022 139.51 Q68.7467 144.093 62.9365 144.093 Q57.1264 144.093 54.0477 139.51 Q50.9921 134.903 50.9921 126.177 Q50.9921 117.427 54.0477 112.843 Q57.1264 108.237 62.9365 108.237 Z\" fill=\"#000000\" fill-rule=\"nonzero\" fill-opacity=\"1\" /><path clip-path=\"url(#clip180)\" d=\"M83.0984 137.542 L87.9827 137.542 L87.9827 143.422 L83.0984 143.422 L83.0984 137.542 Z\" fill=\"#000000\" fill-rule=\"nonzero\" fill-opacity=\"1\" /><path clip-path=\"url(#clip180)\" d=\"M98.978 139.487 L106.617 139.487 L106.617 113.121 L98.3067 114.788 L98.3067 110.529 L106.571 108.862 L111.246 108.862 L111.246 139.487 L118.885 139.487 L118.885 143.422 L98.978 143.422 L98.978 139.487 Z\" fill=\"#000000\" fill-rule=\"nonzero\" fill-opacity=\"1\" /><path clip-path=\"url(#clip180)\" d=\"M138.33 111.941 Q134.719 111.941 132.89 115.505 Q131.084 119.047 131.084 126.177 Q131.084 133.283 132.89 136.848 Q134.719 140.389 138.33 140.389 Q141.964 140.389 143.769 136.848 Q145.598 133.283 145.598 126.177 Q145.598 119.047 143.769 115.505 Q141.964 111.941 138.33 111.941 M138.33 108.237 Q144.14 108.237 147.195 112.843 Q150.274 117.427 150.274 126.177 Q150.274 134.903 147.195 139.51 Q144.14 144.093 138.33 144.093 Q132.519 144.093 129.441 139.51 Q126.385 134.903 126.385 126.177 Q126.385 117.427 129.441 112.843 Q132.519 108.237 138.33 108.237 Z\" fill=\"#000000\" fill-rule=\"nonzero\" fill-opacity=\"1\" /><path clip-path=\"url(#clip180)\" d=\"M168.491 111.941 Q164.88 111.941 163.052 115.505 Q161.246 119.047 161.246 126.177 Q161.246 133.283 163.052 136.848 Q164.88 140.389 168.491 140.389 Q172.126 140.389 173.931 136.848 Q175.76 133.283 175.76 126.177 Q175.76 119.047 173.931 115.505 Q172.126 111.941 168.491 111.941 M168.491 108.237 Q174.302 108.237 177.357 112.843 Q180.436 117.427 180.436 126.177 Q180.436 134.903 177.357 139.51 Q174.302 144.093 168.491 144.093 Q162.681 144.093 159.603 139.51 Q156.547 134.903 156.547 126.177 Q156.547 117.427 159.603 112.843 Q162.681 108.237 168.491 108.237 Z\" fill=\"#000000\" fill-rule=\"nonzero\" fill-opacity=\"1\" /><path clip-path=\"url(#clip182)\" d=\"M333.937 1472.84 L333.937 1486.45 L381.47 1486.45 L381.47 1472.84 L333.937 1472.84 L333.937 1472.84  Z\" fill=\"#009af9\" fill-rule=\"evenodd\" fill-opacity=\"0.6\"/>\n",
       "<polyline clip-path=\"url(#clip182)\" style=\"stroke:#000000; stroke-linecap:round; stroke-linejoin:round; stroke-width:4; stroke-opacity:0.6; fill:none\" points=\"333.937,1472.84 333.937,1486.45 381.47,1486.45 381.47,1472.84 333.937,1472.84 \"/>\n",
       "<path clip-path=\"url(#clip182)\" d=\"M381.47 1392.59 L381.47 1486.45 L429.003 1486.45 L429.003 1392.59 L381.47 1392.59 L381.47 1392.59  Z\" fill=\"#009af9\" fill-rule=\"evenodd\" fill-opacity=\"0.6\"/>\n",
       "<polyline clip-path=\"url(#clip182)\" style=\"stroke:#000000; stroke-linecap:round; stroke-linejoin:round; stroke-width:4; stroke-opacity:0.6; fill:none\" points=\"381.47,1392.59 381.47,1486.45 429.003,1486.45 429.003,1392.59 381.47,1392.59 \"/>\n",
       "<path clip-path=\"url(#clip182)\" d=\"M429.003 1115.08 L429.003 1486.45 L476.536 1486.45 L476.536 1115.08 L429.003 1115.08 L429.003 1115.08  Z\" fill=\"#009af9\" fill-rule=\"evenodd\" fill-opacity=\"0.6\"/>\n",
       "<polyline clip-path=\"url(#clip182)\" style=\"stroke:#000000; stroke-linecap:round; stroke-linejoin:round; stroke-width:4; stroke-opacity:0.6; fill:none\" points=\"429.003,1115.08 429.003,1486.45 476.536,1486.45 476.536,1115.08 429.003,1115.08 \"/>\n",
       "<path clip-path=\"url(#clip182)\" d=\"M476.536 783.17 L476.536 1486.45 L524.069 1486.45 L524.069 783.17 L476.536 783.17 L476.536 783.17  Z\" fill=\"#009af9\" fill-rule=\"evenodd\" fill-opacity=\"0.6\"/>\n",
       "<polyline clip-path=\"url(#clip182)\" style=\"stroke:#000000; stroke-linecap:round; stroke-linejoin:round; stroke-width:4; stroke-opacity:0.6; fill:none\" points=\"476.536,783.17 476.536,1486.45 524.069,1486.45 524.069,783.17 476.536,783.17 \"/>\n",
       "<path clip-path=\"url(#clip182)\" d=\"M524.069 414.527 L524.069 1486.45 L571.602 1486.45 L571.602 414.527 L524.069 414.527 L524.069 414.527  Z\" fill=\"#009af9\" fill-rule=\"evenodd\" fill-opacity=\"0.6\"/>\n",
       "<polyline clip-path=\"url(#clip182)\" style=\"stroke:#000000; stroke-linecap:round; stroke-linejoin:round; stroke-width:4; stroke-opacity:0.6; fill:none\" points=\"524.069,414.527 524.069,1486.45 571.602,1486.45 571.602,414.527 524.069,414.527 \"/>\n",
       "<path clip-path=\"url(#clip182)\" d=\"M571.602 164.23 L571.602 1486.45 L619.135 1486.45 L619.135 164.23 L571.602 164.23 L571.602 164.23  Z\" fill=\"#009af9\" fill-rule=\"evenodd\" fill-opacity=\"0.6\"/>\n",
       "<polyline clip-path=\"url(#clip182)\" style=\"stroke:#000000; stroke-linecap:round; stroke-linejoin:round; stroke-width:4; stroke-opacity:0.6; fill:none\" points=\"571.602,164.23 571.602,1486.45 619.135,1486.45 619.135,164.23 571.602,164.23 \"/>\n",
       "<path clip-path=\"url(#clip182)\" d=\"M619.135 138.385 L619.135 1486.45 L666.668 1486.45 L666.668 138.385 L619.135 138.385 L619.135 138.385  Z\" fill=\"#009af9\" fill-rule=\"evenodd\" fill-opacity=\"0.6\"/>\n",
       "<polyline clip-path=\"url(#clip182)\" style=\"stroke:#000000; stroke-linecap:round; stroke-linejoin:round; stroke-width:4; stroke-opacity:0.6; fill:none\" points=\"619.135,138.385 619.135,1486.45 666.668,1486.45 666.668,138.385 619.135,138.385 \"/>\n",
       "<path clip-path=\"url(#clip182)\" d=\"M666.668 47.2441 L666.668 1486.45 L714.201 1486.45 L714.201 47.2441 L666.668 47.2441 L666.668 47.2441  Z\" fill=\"#009af9\" fill-rule=\"evenodd\" fill-opacity=\"0.6\"/>\n",
       "<polyline clip-path=\"url(#clip182)\" style=\"stroke:#000000; stroke-linecap:round; stroke-linejoin:round; stroke-width:4; stroke-opacity:0.6; fill:none\" points=\"666.668,47.2441 666.668,1486.45 714.201,1486.45 714.201,47.2441 666.668,47.2441 \"/>\n",
       "<path clip-path=\"url(#clip182)\" d=\"M714.201 220.003 L714.201 1486.45 L761.734 1486.45 L761.734 220.003 L714.201 220.003 L714.201 220.003  Z\" fill=\"#009af9\" fill-rule=\"evenodd\" fill-opacity=\"0.6\"/>\n",
       "<polyline clip-path=\"url(#clip182)\" style=\"stroke:#000000; stroke-linecap:round; stroke-linejoin:round; stroke-width:4; stroke-opacity:0.6; fill:none\" points=\"714.201,220.003 714.201,1486.45 761.734,1486.45 761.734,220.003 714.201,220.003 \"/>\n",
       "<path clip-path=\"url(#clip182)\" d=\"M761.734 375.078 L761.734 1486.45 L809.267 1486.45 L809.267 375.078 L761.734 375.078 L761.734 375.078  Z\" fill=\"#009af9\" fill-rule=\"evenodd\" fill-opacity=\"0.6\"/>\n",
       "<polyline clip-path=\"url(#clip182)\" style=\"stroke:#000000; stroke-linecap:round; stroke-linejoin:round; stroke-width:4; stroke-opacity:0.6; fill:none\" points=\"761.734,375.078 761.734,1486.45 809.267,1486.45 809.267,375.078 761.734,375.078 \"/>\n",
       "<path clip-path=\"url(#clip182)\" d=\"M809.267 419.968 L809.267 1486.45 L856.8 1486.45 L856.8 419.968 L809.267 419.968 L809.267 419.968  Z\" fill=\"#009af9\" fill-rule=\"evenodd\" fill-opacity=\"0.6\"/>\n",
       "<polyline clip-path=\"url(#clip182)\" style=\"stroke:#000000; stroke-linecap:round; stroke-linejoin:round; stroke-width:4; stroke-opacity:0.6; fill:none\" points=\"809.267,419.968 809.267,1486.45 856.8,1486.45 856.8,419.968 809.267,419.968 \"/>\n",
       "<path clip-path=\"url(#clip182)\" d=\"M856.8 638.977 L856.8 1486.45 L904.332 1486.45 L904.332 638.977 L856.8 638.977 L856.8 638.977  Z\" fill=\"#009af9\" fill-rule=\"evenodd\" fill-opacity=\"0.6\"/>\n",
       "<polyline clip-path=\"url(#clip182)\" style=\"stroke:#000000; stroke-linecap:round; stroke-linejoin:round; stroke-width:4; stroke-opacity:0.6; fill:none\" points=\"856.8,638.977 856.8,1486.45 904.332,1486.45 904.332,638.977 856.8,638.977 \"/>\n",
       "<path clip-path=\"url(#clip182)\" d=\"M904.332 799.493 L904.332 1486.45 L951.865 1486.45 L951.865 799.493 L904.332 799.493 L904.332 799.493  Z\" fill=\"#009af9\" fill-rule=\"evenodd\" fill-opacity=\"0.6\"/>\n",
       "<polyline clip-path=\"url(#clip182)\" style=\"stroke:#000000; stroke-linecap:round; stroke-linejoin:round; stroke-width:4; stroke-opacity:0.6; fill:none\" points=\"904.332,799.493 904.332,1486.45 951.865,1486.45 951.865,799.493 904.332,799.493 \"/>\n",
       "<path clip-path=\"url(#clip182)\" d=\"M951.865 926.002 L951.865 1486.45 L999.398 1486.45 L999.398 926.002 L951.865 926.002 L951.865 926.002  Z\" fill=\"#009af9\" fill-rule=\"evenodd\" fill-opacity=\"0.6\"/>\n",
       "<polyline clip-path=\"url(#clip182)\" style=\"stroke:#000000; stroke-linecap:round; stroke-linejoin:round; stroke-width:4; stroke-opacity:0.6; fill:none\" points=\"951.865,926.002 951.865,1486.45 999.398,1486.45 999.398,926.002 951.865,926.002 \"/>\n",
       "<path clip-path=\"url(#clip182)\" d=\"M999.398 1034.83 L999.398 1486.45 L1046.93 1486.45 L1046.93 1034.83 L999.398 1034.83 L999.398 1034.83  Z\" fill=\"#009af9\" fill-rule=\"evenodd\" fill-opacity=\"0.6\"/>\n",
       "<polyline clip-path=\"url(#clip182)\" style=\"stroke:#000000; stroke-linecap:round; stroke-linejoin:round; stroke-width:4; stroke-opacity:0.6; fill:none\" points=\"999.398,1034.83 999.398,1486.45 1046.93,1486.45 1046.93,1034.83 999.398,1034.83 \"/>\n",
       "<path clip-path=\"url(#clip182)\" d=\"M1046.93 1136.85 L1046.93 1486.45 L1094.46 1486.45 L1094.46 1136.85 L1046.93 1136.85 L1046.93 1136.85  Z\" fill=\"#009af9\" fill-rule=\"evenodd\" fill-opacity=\"0.6\"/>\n",
       "<polyline clip-path=\"url(#clip182)\" style=\"stroke:#000000; stroke-linecap:round; stroke-linejoin:round; stroke-width:4; stroke-opacity:0.6; fill:none\" points=\"1046.93,1136.85 1046.93,1486.45 1094.46,1486.45 1094.46,1136.85 1046.93,1136.85 \"/>\n",
       "<path clip-path=\"url(#clip182)\" d=\"M1094.46 1240.23 L1094.46 1486.45 L1142 1486.45 L1142 1240.23 L1094.46 1240.23 L1094.46 1240.23  Z\" fill=\"#009af9\" fill-rule=\"evenodd\" fill-opacity=\"0.6\"/>\n",
       "<polyline clip-path=\"url(#clip182)\" style=\"stroke:#000000; stroke-linecap:round; stroke-linejoin:round; stroke-width:4; stroke-opacity:0.6; fill:none\" points=\"1094.46,1240.23 1094.46,1486.45 1142,1486.45 1142,1240.23 1094.46,1240.23 \"/>\n",
       "<path clip-path=\"url(#clip182)\" d=\"M1142 1302.81 L1142 1486.45 L1189.53 1486.45 L1189.53 1302.81 L1142 1302.81 L1142 1302.81  Z\" fill=\"#009af9\" fill-rule=\"evenodd\" fill-opacity=\"0.6\"/>\n",
       "<polyline clip-path=\"url(#clip182)\" style=\"stroke:#000000; stroke-linecap:round; stroke-linejoin:round; stroke-width:4; stroke-opacity:0.6; fill:none\" points=\"1142,1302.81 1142,1486.45 1189.53,1486.45 1189.53,1302.81 1142,1302.81 \"/>\n",
       "<path clip-path=\"url(#clip182)\" d=\"M1189.53 1362.66 L1189.53 1486.45 L1237.06 1486.45 L1237.06 1362.66 L1189.53 1362.66 L1189.53 1362.66  Z\" fill=\"#009af9\" fill-rule=\"evenodd\" fill-opacity=\"0.6\"/>\n",
       "<polyline clip-path=\"url(#clip182)\" style=\"stroke:#000000; stroke-linecap:round; stroke-linejoin:round; stroke-width:4; stroke-opacity:0.6; fill:none\" points=\"1189.53,1362.66 1189.53,1486.45 1237.06,1486.45 1237.06,1362.66 1189.53,1362.66 \"/>\n",
       "<path clip-path=\"url(#clip182)\" d=\"M1237.06 1387.15 L1237.06 1486.45 L1284.6 1486.45 L1284.6 1387.15 L1237.06 1387.15 L1237.06 1387.15  Z\" fill=\"#009af9\" fill-rule=\"evenodd\" fill-opacity=\"0.6\"/>\n",
       "<polyline clip-path=\"url(#clip182)\" style=\"stroke:#000000; stroke-linecap:round; stroke-linejoin:round; stroke-width:4; stroke-opacity:0.6; fill:none\" points=\"1237.06,1387.15 1237.06,1486.45 1284.6,1486.45 1284.6,1387.15 1237.06,1387.15 \"/>\n",
       "<path clip-path=\"url(#clip182)\" d=\"M1284.6 1410.27 L1284.6 1486.45 L1332.13 1486.45 L1332.13 1410.27 L1284.6 1410.27 L1284.6 1410.27  Z\" fill=\"#009af9\" fill-rule=\"evenodd\" fill-opacity=\"0.6\"/>\n",
       "<polyline clip-path=\"url(#clip182)\" style=\"stroke:#000000; stroke-linecap:round; stroke-linejoin:round; stroke-width:4; stroke-opacity:0.6; fill:none\" points=\"1284.6,1410.27 1284.6,1486.45 1332.13,1486.45 1332.13,1410.27 1284.6,1410.27 \"/>\n",
       "<path clip-path=\"url(#clip182)\" d=\"M1332.13 1451.08 L1332.13 1486.45 L1379.66 1486.45 L1379.66 1451.08 L1332.13 1451.08 L1332.13 1451.08  Z\" fill=\"#009af9\" fill-rule=\"evenodd\" fill-opacity=\"0.6\"/>\n",
       "<polyline clip-path=\"url(#clip182)\" style=\"stroke:#000000; stroke-linecap:round; stroke-linejoin:round; stroke-width:4; stroke-opacity:0.6; fill:none\" points=\"1332.13,1451.08 1332.13,1486.45 1379.66,1486.45 1379.66,1451.08 1332.13,1451.08 \"/>\n",
       "<path clip-path=\"url(#clip182)\" d=\"M1379.66 1438.84 L1379.66 1486.45 L1427.19 1486.45 L1427.19 1438.84 L1379.66 1438.84 L1379.66 1438.84  Z\" fill=\"#009af9\" fill-rule=\"evenodd\" fill-opacity=\"0.6\"/>\n",
       "<polyline clip-path=\"url(#clip182)\" style=\"stroke:#000000; stroke-linecap:round; stroke-linejoin:round; stroke-width:4; stroke-opacity:0.6; fill:none\" points=\"1379.66,1438.84 1379.66,1486.45 1427.19,1486.45 1427.19,1438.84 1379.66,1438.84 \"/>\n",
       "<path clip-path=\"url(#clip182)\" d=\"M1427.19 1457.88 L1427.19 1486.45 L1474.73 1486.45 L1474.73 1457.88 L1427.19 1457.88 L1427.19 1457.88  Z\" fill=\"#009af9\" fill-rule=\"evenodd\" fill-opacity=\"0.6\"/>\n",
       "<polyline clip-path=\"url(#clip182)\" style=\"stroke:#000000; stroke-linecap:round; stroke-linejoin:round; stroke-width:4; stroke-opacity:0.6; fill:none\" points=\"1427.19,1457.88 1427.19,1486.45 1474.73,1486.45 1474.73,1457.88 1427.19,1457.88 \"/>\n",
       "<path clip-path=\"url(#clip182)\" d=\"M1474.73 1464.68 L1474.73 1486.45 L1522.26 1486.45 L1522.26 1464.68 L1474.73 1464.68 L1474.73 1464.68  Z\" fill=\"#009af9\" fill-rule=\"evenodd\" fill-opacity=\"0.6\"/>\n",
       "<polyline clip-path=\"url(#clip182)\" style=\"stroke:#000000; stroke-linecap:round; stroke-linejoin:round; stroke-width:4; stroke-opacity:0.6; fill:none\" points=\"1474.73,1464.68 1474.73,1486.45 1522.26,1486.45 1522.26,1464.68 1474.73,1464.68 \"/>\n",
       "<path clip-path=\"url(#clip182)\" d=\"M1522.26 1467.4 L1522.26 1486.45 L1569.79 1486.45 L1569.79 1467.4 L1522.26 1467.4 L1522.26 1467.4  Z\" fill=\"#009af9\" fill-rule=\"evenodd\" fill-opacity=\"0.6\"/>\n",
       "<polyline clip-path=\"url(#clip182)\" style=\"stroke:#000000; stroke-linecap:round; stroke-linejoin:round; stroke-width:4; stroke-opacity:0.6; fill:none\" points=\"1522.26,1467.4 1522.26,1486.45 1569.79,1486.45 1569.79,1467.4 1522.26,1467.4 \"/>\n",
       "<path clip-path=\"url(#clip182)\" d=\"M1569.79 1483.73 L1569.79 1486.45 L1617.33 1486.45 L1617.33 1483.73 L1569.79 1483.73 L1569.79 1483.73  Z\" fill=\"#009af9\" fill-rule=\"evenodd\" fill-opacity=\"0.6\"/>\n",
       "<polyline clip-path=\"url(#clip182)\" style=\"stroke:#000000; stroke-linecap:round; stroke-linejoin:round; stroke-width:4; stroke-opacity:0.6; fill:none\" points=\"1569.79,1483.73 1569.79,1486.45 1617.33,1486.45 1617.33,1483.73 1569.79,1483.73 \"/>\n",
       "<path clip-path=\"url(#clip182)\" d=\"M1617.33 1482.37 L1617.33 1486.45 L1664.86 1486.45 L1664.86 1482.37 L1617.33 1482.37 L1617.33 1482.37  Z\" fill=\"#009af9\" fill-rule=\"evenodd\" fill-opacity=\"0.6\"/>\n",
       "<polyline clip-path=\"url(#clip182)\" style=\"stroke:#000000; stroke-linecap:round; stroke-linejoin:round; stroke-width:4; stroke-opacity:0.6; fill:none\" points=\"1617.33,1482.37 1617.33,1486.45 1664.86,1486.45 1664.86,1482.37 1617.33,1482.37 \"/>\n",
       "<path clip-path=\"url(#clip182)\" d=\"M1664.86 1482.37 L1664.86 1486.45 L1712.39 1486.45 L1712.39 1482.37 L1664.86 1482.37 L1664.86 1482.37  Z\" fill=\"#009af9\" fill-rule=\"evenodd\" fill-opacity=\"0.6\"/>\n",
       "<polyline clip-path=\"url(#clip182)\" style=\"stroke:#000000; stroke-linecap:round; stroke-linejoin:round; stroke-width:4; stroke-opacity:0.6; fill:none\" points=\"1664.86,1482.37 1664.86,1486.45 1712.39,1486.45 1712.39,1482.37 1664.86,1482.37 \"/>\n",
       "<path clip-path=\"url(#clip182)\" d=\"M1712.39 1482.37 L1712.39 1486.45 L1759.93 1486.45 L1759.93 1482.37 L1712.39 1482.37 L1712.39 1482.37  Z\" fill=\"#009af9\" fill-rule=\"evenodd\" fill-opacity=\"0.6\"/>\n",
       "<polyline clip-path=\"url(#clip182)\" style=\"stroke:#000000; stroke-linecap:round; stroke-linejoin:round; stroke-width:4; stroke-opacity:0.6; fill:none\" points=\"1712.39,1482.37 1712.39,1486.45 1759.93,1486.45 1759.93,1482.37 1712.39,1482.37 \"/>\n",
       "<path clip-path=\"url(#clip182)\" d=\"M1759.93 1486.45 L1759.93 1486.45 L1807.46 1486.45 L1807.46 1486.45 L1759.93 1486.45 L1759.93 1486.45  Z\" fill=\"#009af9\" fill-rule=\"evenodd\" fill-opacity=\"0.6\"/>\n",
       "<polyline clip-path=\"url(#clip182)\" style=\"stroke:#000000; stroke-linecap:round; stroke-linejoin:round; stroke-width:4; stroke-opacity:0.6; fill:none\" points=\"1759.93,1486.45 1759.93,1486.45 1807.46,1486.45 1759.93,1486.45 \"/>\n",
       "<path clip-path=\"url(#clip182)\" d=\"M1807.46 1485.09 L1807.46 1486.45 L1854.99 1486.45 L1854.99 1485.09 L1807.46 1485.09 L1807.46 1485.09  Z\" fill=\"#009af9\" fill-rule=\"evenodd\" fill-opacity=\"0.6\"/>\n",
       "<polyline clip-path=\"url(#clip182)\" style=\"stroke:#000000; stroke-linecap:round; stroke-linejoin:round; stroke-width:4; stroke-opacity:0.6; fill:none\" points=\"1807.46,1485.09 1807.46,1486.45 1854.99,1486.45 1854.99,1485.09 1807.46,1485.09 \"/>\n",
       "<path clip-path=\"url(#clip182)\" d=\"M1854.99 1486.45 L1854.99 1486.45 L1902.52 1486.45 L1902.52 1486.45 L1854.99 1486.45 L1854.99 1486.45  Z\" fill=\"#009af9\" fill-rule=\"evenodd\" fill-opacity=\"0.6\"/>\n",
       "<polyline clip-path=\"url(#clip182)\" style=\"stroke:#000000; stroke-linecap:round; stroke-linejoin:round; stroke-width:4; stroke-opacity:0.6; fill:none\" points=\"1854.99,1486.45 1854.99,1486.45 1902.52,1486.45 1854.99,1486.45 \"/>\n",
       "<path clip-path=\"url(#clip182)\" d=\"M1902.52 1486.45 L1902.52 1486.45 L1950.06 1486.45 L1950.06 1486.45 L1902.52 1486.45 L1902.52 1486.45  Z\" fill=\"#009af9\" fill-rule=\"evenodd\" fill-opacity=\"0.6\"/>\n",
       "<polyline clip-path=\"url(#clip182)\" style=\"stroke:#000000; stroke-linecap:round; stroke-linejoin:round; stroke-width:4; stroke-opacity:0.6; fill:none\" points=\"1902.52,1486.45 1902.52,1486.45 1950.06,1486.45 1902.52,1486.45 \"/>\n",
       "<path clip-path=\"url(#clip182)\" d=\"M1950.06 1486.45 L1950.06 1486.45 L1997.59 1486.45 L1997.59 1486.45 L1950.06 1486.45 L1950.06 1486.45  Z\" fill=\"#009af9\" fill-rule=\"evenodd\" fill-opacity=\"0.6\"/>\n",
       "<polyline clip-path=\"url(#clip182)\" style=\"stroke:#000000; stroke-linecap:round; stroke-linejoin:round; stroke-width:4; stroke-opacity:0.6; fill:none\" points=\"1950.06,1486.45 1950.06,1486.45 1997.59,1486.45 1950.06,1486.45 \"/>\n",
       "<path clip-path=\"url(#clip182)\" d=\"M1997.59 1486.45 L1997.59 1486.45 L2045.12 1486.45 L2045.12 1486.45 L1997.59 1486.45 L1997.59 1486.45  Z\" fill=\"#009af9\" fill-rule=\"evenodd\" fill-opacity=\"0.6\"/>\n",
       "<polyline clip-path=\"url(#clip182)\" style=\"stroke:#000000; stroke-linecap:round; stroke-linejoin:round; stroke-width:4; stroke-opacity:0.6; fill:none\" points=\"1997.59,1486.45 1997.59,1486.45 2045.12,1486.45 1997.59,1486.45 \"/>\n",
       "<path clip-path=\"url(#clip182)\" d=\"M2045.12 1486.45 L2045.12 1486.45 L2092.66 1486.45 L2092.66 1486.45 L2045.12 1486.45 L2045.12 1486.45  Z\" fill=\"#009af9\" fill-rule=\"evenodd\" fill-opacity=\"0.6\"/>\n",
       "<polyline clip-path=\"url(#clip182)\" style=\"stroke:#000000; stroke-linecap:round; stroke-linejoin:round; stroke-width:4; stroke-opacity:0.6; fill:none\" points=\"2045.12,1486.45 2045.12,1486.45 2092.66,1486.45 2045.12,1486.45 \"/>\n",
       "<path clip-path=\"url(#clip182)\" d=\"M2092.66 1486.45 L2092.66 1486.45 L2140.19 1486.45 L2140.19 1486.45 L2092.66 1486.45 L2092.66 1486.45  Z\" fill=\"#009af9\" fill-rule=\"evenodd\" fill-opacity=\"0.6\"/>\n",
       "<polyline clip-path=\"url(#clip182)\" style=\"stroke:#000000; stroke-linecap:round; stroke-linejoin:round; stroke-width:4; stroke-opacity:0.6; fill:none\" points=\"2092.66,1486.45 2092.66,1486.45 2140.19,1486.45 2092.66,1486.45 \"/>\n",
       "<path clip-path=\"url(#clip182)\" d=\"M2140.19 1486.45 L2140.19 1486.45 L2187.72 1486.45 L2187.72 1486.45 L2140.19 1486.45 L2140.19 1486.45  Z\" fill=\"#009af9\" fill-rule=\"evenodd\" fill-opacity=\"0.6\"/>\n",
       "<polyline clip-path=\"url(#clip182)\" style=\"stroke:#000000; stroke-linecap:round; stroke-linejoin:round; stroke-width:4; stroke-opacity:0.6; fill:none\" points=\"2140.19,1486.45 2140.19,1486.45 2187.72,1486.45 2140.19,1486.45 \"/>\n",
       "<path clip-path=\"url(#clip182)\" d=\"M2187.72 1485.09 L2187.72 1486.45 L2235.25 1486.45 L2235.25 1485.09 L2187.72 1485.09 L2187.72 1485.09  Z\" fill=\"#009af9\" fill-rule=\"evenodd\" fill-opacity=\"0.6\"/>\n",
       "<polyline clip-path=\"url(#clip182)\" style=\"stroke:#000000; stroke-linecap:round; stroke-linejoin:round; stroke-width:4; stroke-opacity:0.6; fill:none\" points=\"2187.72,1485.09 2187.72,1486.45 2235.25,1486.45 2235.25,1485.09 2187.72,1485.09 \"/>\n",
       "<circle clip-path=\"url(#clip182)\" style=\"fill:#009af9; stroke:none; fill-opacity:0\" cx=\"357.704\" cy=\"1472.84\" r=\"2\"/>\n",
       "<circle clip-path=\"url(#clip182)\" style=\"fill:#009af9; stroke:none; fill-opacity:0\" cx=\"405.237\" cy=\"1392.59\" r=\"2\"/>\n",
       "<circle clip-path=\"url(#clip182)\" style=\"fill:#009af9; stroke:none; fill-opacity:0\" cx=\"452.77\" cy=\"1115.08\" r=\"2\"/>\n",
       "<circle clip-path=\"url(#clip182)\" style=\"fill:#009af9; stroke:none; fill-opacity:0\" cx=\"500.303\" cy=\"783.17\" r=\"2\"/>\n",
       "<circle clip-path=\"url(#clip182)\" style=\"fill:#009af9; stroke:none; fill-opacity:0\" cx=\"547.835\" cy=\"414.527\" r=\"2\"/>\n",
       "<circle clip-path=\"url(#clip182)\" style=\"fill:#009af9; stroke:none; fill-opacity:0\" cx=\"595.368\" cy=\"164.23\" r=\"2\"/>\n",
       "<circle clip-path=\"url(#clip182)\" style=\"fill:#009af9; stroke:none; fill-opacity:0\" cx=\"642.901\" cy=\"138.385\" r=\"2\"/>\n",
       "<circle clip-path=\"url(#clip182)\" style=\"fill:#009af9; stroke:none; fill-opacity:0\" cx=\"690.434\" cy=\"47.2441\" r=\"2\"/>\n",
       "<circle clip-path=\"url(#clip182)\" style=\"fill:#009af9; stroke:none; fill-opacity:0\" cx=\"737.967\" cy=\"220.003\" r=\"2\"/>\n",
       "<circle clip-path=\"url(#clip182)\" style=\"fill:#009af9; stroke:none; fill-opacity:0\" cx=\"785.5\" cy=\"375.078\" r=\"2\"/>\n",
       "<circle clip-path=\"url(#clip182)\" style=\"fill:#009af9; stroke:none; fill-opacity:0\" cx=\"833.033\" cy=\"419.968\" r=\"2\"/>\n",
       "<circle clip-path=\"url(#clip182)\" style=\"fill:#009af9; stroke:none; fill-opacity:0\" cx=\"880.566\" cy=\"638.977\" r=\"2\"/>\n",
       "<circle clip-path=\"url(#clip182)\" style=\"fill:#009af9; stroke:none; fill-opacity:0\" cx=\"928.099\" cy=\"799.493\" r=\"2\"/>\n",
       "<circle clip-path=\"url(#clip182)\" style=\"fill:#009af9; stroke:none; fill-opacity:0\" cx=\"975.632\" cy=\"926.002\" r=\"2\"/>\n",
       "<circle clip-path=\"url(#clip182)\" style=\"fill:#009af9; stroke:none; fill-opacity:0\" cx=\"1023.16\" cy=\"1034.83\" r=\"2\"/>\n",
       "<circle clip-path=\"url(#clip182)\" style=\"fill:#009af9; stroke:none; fill-opacity:0\" cx=\"1070.7\" cy=\"1136.85\" r=\"2\"/>\n",
       "<circle clip-path=\"url(#clip182)\" style=\"fill:#009af9; stroke:none; fill-opacity:0\" cx=\"1118.23\" cy=\"1240.23\" r=\"2\"/>\n",
       "<circle clip-path=\"url(#clip182)\" style=\"fill:#009af9; stroke:none; fill-opacity:0\" cx=\"1165.76\" cy=\"1302.81\" r=\"2\"/>\n",
       "<circle clip-path=\"url(#clip182)\" style=\"fill:#009af9; stroke:none; fill-opacity:0\" cx=\"1213.3\" cy=\"1362.66\" r=\"2\"/>\n",
       "<circle clip-path=\"url(#clip182)\" style=\"fill:#009af9; stroke:none; fill-opacity:0\" cx=\"1260.83\" cy=\"1387.15\" r=\"2\"/>\n",
       "<circle clip-path=\"url(#clip182)\" style=\"fill:#009af9; stroke:none; fill-opacity:0\" cx=\"1308.36\" cy=\"1410.27\" r=\"2\"/>\n",
       "<circle clip-path=\"url(#clip182)\" style=\"fill:#009af9; stroke:none; fill-opacity:0\" cx=\"1355.9\" cy=\"1451.08\" r=\"2\"/>\n",
       "<circle clip-path=\"url(#clip182)\" style=\"fill:#009af9; stroke:none; fill-opacity:0\" cx=\"1403.43\" cy=\"1438.84\" r=\"2\"/>\n",
       "<circle clip-path=\"url(#clip182)\" style=\"fill:#009af9; stroke:none; fill-opacity:0\" cx=\"1450.96\" cy=\"1457.88\" r=\"2\"/>\n",
       "<circle clip-path=\"url(#clip182)\" style=\"fill:#009af9; stroke:none; fill-opacity:0\" cx=\"1498.49\" cy=\"1464.68\" r=\"2\"/>\n",
       "<circle clip-path=\"url(#clip182)\" style=\"fill:#009af9; stroke:none; fill-opacity:0\" cx=\"1546.03\" cy=\"1467.4\" r=\"2\"/>\n",
       "<circle clip-path=\"url(#clip182)\" style=\"fill:#009af9; stroke:none; fill-opacity:0\" cx=\"1593.56\" cy=\"1483.73\" r=\"2\"/>\n",
       "<circle clip-path=\"url(#clip182)\" style=\"fill:#009af9; stroke:none; fill-opacity:0\" cx=\"1641.09\" cy=\"1482.37\" r=\"2\"/>\n",
       "<circle clip-path=\"url(#clip182)\" style=\"fill:#009af9; stroke:none; fill-opacity:0\" cx=\"1688.63\" cy=\"1482.37\" r=\"2\"/>\n",
       "<circle clip-path=\"url(#clip182)\" style=\"fill:#009af9; stroke:none; fill-opacity:0\" cx=\"1736.16\" cy=\"1482.37\" r=\"2\"/>\n",
       "<circle clip-path=\"url(#clip182)\" style=\"fill:#009af9; stroke:none; fill-opacity:0\" cx=\"1783.69\" cy=\"1486.45\" r=\"2\"/>\n",
       "<circle clip-path=\"url(#clip182)\" style=\"fill:#009af9; stroke:none; fill-opacity:0\" cx=\"1831.22\" cy=\"1485.09\" r=\"2\"/>\n",
       "<circle clip-path=\"url(#clip182)\" style=\"fill:#009af9; stroke:none; fill-opacity:0\" cx=\"1878.76\" cy=\"1486.45\" r=\"2\"/>\n",
       "<circle clip-path=\"url(#clip182)\" style=\"fill:#009af9; stroke:none; fill-opacity:0\" cx=\"1926.29\" cy=\"1486.45\" r=\"2\"/>\n",
       "<circle clip-path=\"url(#clip182)\" style=\"fill:#009af9; stroke:none; fill-opacity:0\" cx=\"1973.82\" cy=\"1486.45\" r=\"2\"/>\n",
       "<circle clip-path=\"url(#clip182)\" style=\"fill:#009af9; stroke:none; fill-opacity:0\" cx=\"2021.36\" cy=\"1486.45\" r=\"2\"/>\n",
       "<circle clip-path=\"url(#clip182)\" style=\"fill:#009af9; stroke:none; fill-opacity:0\" cx=\"2068.89\" cy=\"1486.45\" r=\"2\"/>\n",
       "<circle clip-path=\"url(#clip182)\" style=\"fill:#009af9; stroke:none; fill-opacity:0\" cx=\"2116.42\" cy=\"1486.45\" r=\"2\"/>\n",
       "<circle clip-path=\"url(#clip182)\" style=\"fill:#009af9; stroke:none; fill-opacity:0\" cx=\"2163.96\" cy=\"1486.45\" r=\"2\"/>\n",
       "<circle clip-path=\"url(#clip182)\" style=\"fill:#009af9; stroke:none; fill-opacity:0\" cx=\"2211.49\" cy=\"1485.09\" r=\"2\"/>\n",
       "<polyline clip-path=\"url(#clip182)\" style=\"stroke:#ff0000; stroke-linecap:round; stroke-linejoin:round; stroke-width:8; stroke-opacity:1; fill:none\" points=\"333.937,1486.45 338.691,1486.43 343.444,1486.28 348.197,1485.79 352.95,1484.74 357.704,1482.89 362.457,1480.04 367.21,1476 371.964,1470.58 376.717,1463.66 381.47,1455.1 386.224,1444.82 390.977,1432.76 395.73,1418.86 400.483,1403.12 405.237,1385.53 409.99,1366.13 414.743,1344.94 419.497,1322.03 424.25,1297.47 429.003,1271.33 433.756,1243.72 438.51,1214.73 443.263,1184.48 448.016,1153.06 452.77,1120.62 457.523,1087.26 462.276,1053.1 467.029,1018.28 471.783,982.92 476.536,947.136 481.289,911.052 486.043,874.786 490.796,838.455 495.549,802.169 500.303,766.037 505.056,730.162 509.809,694.642 514.562,659.572 519.316,625.039 524.069,591.128 528.822,557.915 533.576,525.474 538.329,493.872 543.082,463.169 547.835,433.423 552.589,404.684 557.342,376.998 562.095,350.404 566.849,324.94 571.602,300.635 576.355,277.515 581.109,255.603 585.862,234.914 590.615,215.463 595.368,197.258 600.122,180.304 604.875,164.604 609.628,150.156 614.382,136.955 619.135,124.993 623.888,114.26 628.641,104.743 633.395,96.4258 638.148,89.2917 642.901,83.3206 647.655,78.4909 652.408,74.7795 657.161,72.1615 661.915,70.6109 666.668,70.1003 671.421,70.6013 676.174,72.0845 680.928,74.5199 685.681,77.8766 690.434,82.1233 695.188,87.2281 699.941,93.159 704.694,99.8836 709.447,107.369 714.201,115.584 718.954,124.494 723.707,134.069 728.461,144.275 733.214,155.08 737.967,166.453 742.72,178.364 747.474,190.78 752.227,203.671 756.98,217.008 761.734,230.762 766.487,244.903 771.24,259.404 775.994,274.236 780.747,289.374 785.5,304.791 790.253,320.462 795.007,336.362 799.76,352.467 804.513,368.754 809.267,385.2 814.02,401.784 818.773,418.485 823.526,435.282 828.28,452.157 833.033,469.09 837.786,486.063 842.54,503.059 847.293,520.063 852.046,537.057 856.8,554.027 861.553,570.958 866.306,587.838 871.059,604.652 875.813,621.389 880.566,638.036 885.319,654.584 890.073,671.021 894.826,687.337 899.579,703.524 904.332,719.572 909.086,735.474 913.839,751.223 918.592,766.81 923.346,782.229 928.099,797.475 932.852,812.542 937.605,827.425 942.359,842.119 947.112,856.62 951.865,870.924 956.619,885.028 961.372,898.928 966.125,912.622 970.879,926.108 975.632,939.384 980.385,952.448 985.138,965.299 989.892,977.935 994.645,990.356 999.398,1002.56 1004.15,1014.55 1008.9,1026.32 1013.66,1037.88 1018.41,1049.22 1023.16,1060.35 1027.92,1071.26 1032.67,1081.96 1037.42,1092.45 1042.18,1102.73 1046.93,1112.8 1051.68,1122.66 1056.44,1132.31 1061.19,1141.76 1065.94,1151.01 1070.7,1160.06 1075.45,1168.91 1080.2,1177.56 1084.96,1186.03 1089.71,1194.3 1094.46,1202.38 1099.22,1210.28 1103.97,1217.99 1108.72,1225.52 1113.48,1232.88 1118.23,1240.06 1122.98,1247.07 1127.74,1253.9 1132.49,1260.57 1137.24,1267.08 1142,1273.43 1146.75,1279.61 1151.5,1285.64 1156.26,1291.52 1161.01,1297.25 1165.76,1302.83 1170.52,1308.27 1175.27,1313.56 1180.02,1318.72 1184.78,1323.74 1189.53,1328.63 1194.28,1333.39 1199.04,1338.02 1203.79,1342.52 1208.54,1346.9 1213.3,1351.17 1218.05,1355.31 1222.8,1359.35 1227.56,1363.27 1232.31,1367.08 1237.06,1370.78 1241.82,1374.38 1246.57,1377.88 1251.32,1381.28 1256.08,1384.59 1260.83,1387.8 1265.58,1390.91 1270.34,1393.94 1275.09,1396.88 1279.84,1399.73 1284.6,1402.5 1289.35,1405.19 1294.1,1407.8 1298.86,1410.33 1303.61,1412.78 1308.36,1415.17 1313.12,1417.48 1317.87,1419.72 1322.62,1421.89 1327.38,1424 1332.13,1426.05 1336.88,1428.03 1341.64,1429.95 1346.39,1431.82 1351.14,1433.62 1355.9,1435.37 1360.65,1437.07 1365.4,1438.71 1370.16,1440.3 1374.91,1441.84 1379.66,1443.34 1384.42,1444.78 1389.17,1446.18 1393.92,1447.54 1398.67,1448.85 1403.43,1450.12 1408.18,1451.36 1412.93,1452.55 1417.69,1453.7 1422.44,1454.82 1427.19,1455.9 1431.95,1456.94 1436.7,1457.95 1441.45,1458.93 1446.21,1459.88 1450.96,1460.8 1455.71,1461.68 1460.47,1462.54 1465.22,1463.37 1469.97,1464.17 1474.73,1464.94 1479.48,1465.69 1484.23,1466.41 1488.99,1467.11 1493.74,1467.79 1498.49,1468.45 1503.25,1469.08 1508,1469.69 1512.75,1470.28 1517.51,1470.85 1522.26,1471.4 1527.01,1471.93 1531.77,1472.45 1536.52,1472.94 1541.27,1473.42 1546.03,1473.89 1550.78,1474.34 1555.53,1474.77 1560.29,1475.19 1565.04,1475.59 1569.79,1475.98 1574.55,1476.35 1579.3,1476.72 1584.05,1477.07 1588.81,1477.41 1593.56,1477.73 1598.31,1478.05 1603.07,1478.35 1607.82,1478.64 1612.57,1478.93 1617.33,1479.2 1622.08,1479.46 1626.83,1479.72 1631.59,1479.96 1636.34,1480.2 1641.09,1480.43 1645.85,1480.65 1650.6,1480.86 1655.35,1481.07 1660.11,1481.27 1664.86,1481.46 1669.61,1481.64 1674.37,1481.82 1679.12,1481.99 1683.87,1482.15 1688.63,1482.31 1693.38,1482.46 1698.13,1482.61 1702.89,1482.75 1707.64,1482.89 1712.39,1483.02 1717.15,1483.15 1721.9,1483.27 1726.65,1483.39 1731.41,1483.51 1736.16,1483.62 1740.91,1483.72 1745.67,1483.83 1750.42,1483.92 1755.17,1484.02 1759.93,1484.11 1764.68,1484.2 1769.43,1484.28 1774.19,1484.36 1778.94,1484.44 1783.69,1484.52 1788.44,1484.59 1793.2,1484.66 1797.95,1484.73 1802.7,1484.79 1807.46,1484.86 1812.21,1484.92 1816.96,1484.98 1821.72,1485.03 1826.47,1485.09 1831.22,1485.14 1835.98,1485.19 1840.73,1485.24 1845.48,1485.28 1850.24,1485.33 1854.99,1485.37 1859.74,1485.41 1864.5,1485.45 1869.25,1485.49 1874,1485.53 1878.76,1485.56 1883.51,1485.6 1888.26,1485.63 1893.02,1485.66 1897.77,1485.69 1902.52,1485.72 1907.28,1485.75 1912.03,1485.77 1916.78,1485.8 1921.54,1485.83 1926.29,1485.85 1931.04,1485.87 1935.8,1485.9 1940.55,1485.92 1945.3,1485.94 1950.06,1485.96 1954.81,1485.98 1959.56,1485.99 1964.32,1486.01 1969.07,1486.03 1973.82,1486.05 1978.58,1486.06 1983.33,1486.08 1988.08,1486.09 1992.84,1486.11 1997.59,1486.12 2002.34,1486.13 2007.1,1486.14 2011.85,1486.16 2016.6,1486.17 2021.36,1486.18 2026.11,1486.19 2030.86,1486.2 2035.62,1486.21 2040.37,1486.22 2045.12,1486.23 2049.88,1486.24 2054.63,1486.24 2059.38,1486.25 2064.14,1486.26 2068.89,1486.27 2073.64,1486.27 2078.4,1486.28 2083.15,1486.29 2087.9,1486.29 2092.66,1486.3 2097.41,1486.31 2102.16,1486.31 2106.92,1486.32 2111.67,1486.32 2116.42,1486.33 2121.18,1486.33 2125.93,1486.34 2130.68,1486.34 2135.44,1486.35 2140.19,1486.35 2144.94,1486.35 2149.7,1486.36 2154.45,1486.36 2159.2,1486.36 2163.96,1486.37 2168.71,1486.37 2173.46,1486.37 2178.21,1486.38 2182.97,1486.38 2187.72,1486.38 2192.47,1486.39 2197.23,1486.39 2201.98,1486.39 2206.73,1486.39 2211.49,1486.39 2216.24,1486.4 2220.99,1486.4 2225.75,1486.4 2230.5,1486.4 2235.25,1486.4 \"/>\n",
       "<path clip-path=\"url(#clip180)\" d=\"M1394.54 250.738 L2281.55 250.738 L2281.55 95.2176 L1394.54 95.2176  Z\" fill=\"#ffffff\" fill-rule=\"evenodd\" fill-opacity=\"1\"/>\n",
       "<polyline clip-path=\"url(#clip180)\" style=\"stroke:#000000; stroke-linecap:round; stroke-linejoin:round; stroke-width:4; stroke-opacity:1; fill:none\" points=\"1394.54,250.738 2281.55,250.738 2281.55,95.2176 1394.54,95.2176 1394.54,250.738 \"/>\n",
       "<path clip-path=\"url(#clip180)\" d=\"M1418.27 167.794 L1560.7 167.794 L1560.7 126.322 L1418.27 126.322 L1418.27 167.794  Z\" fill=\"#009af9\" fill-rule=\"evenodd\" fill-opacity=\"0.6\"/>\n",
       "<polyline clip-path=\"url(#clip180)\" style=\"stroke:#000000; stroke-linecap:round; stroke-linejoin:round; stroke-width:4; stroke-opacity:1; fill:none\" points=\"1418.27,167.794 1560.7,167.794 1560.7,126.322 1418.27,126.322 1418.27,167.794 \"/>\n",
       "<path clip-path=\"url(#clip180)\" d=\"M1606.68 130.912 L1606.68 135.472 Q1604.02 134.199 1601.65 133.574 Q1599.29 132.949 1597.09 132.949 Q1593.27 132.949 1591.19 134.43 Q1589.13 135.912 1589.13 138.643 Q1589.13 140.935 1590.5 142.115 Q1591.89 143.273 1595.73 143.99 L1598.55 144.569 Q1603.78 145.565 1606.26 148.088 Q1608.76 150.588 1608.76 154.801 Q1608.76 159.824 1605.38 162.416 Q1602.02 165.009 1595.52 165.009 Q1593.07 165.009 1590.29 164.453 Q1587.53 163.898 1584.57 162.81 L1584.57 157.995 Q1587.42 159.592 1590.15 160.402 Q1592.88 161.213 1595.52 161.213 Q1599.52 161.213 1601.7 159.639 Q1603.88 158.064 1603.88 155.148 Q1603.88 152.602 1602.3 151.166 Q1600.75 149.731 1597.19 149.014 L1594.34 148.458 Q1589.11 147.416 1586.77 145.194 Q1584.43 142.972 1584.43 139.014 Q1584.43 134.43 1587.65 131.791 Q1590.89 129.153 1596.56 129.153 Q1598.99 129.153 1601.52 129.592 Q1604.04 130.032 1606.68 130.912 Z\" fill=\"#000000\" fill-rule=\"nonzero\" fill-opacity=\"1\" /><path clip-path=\"url(#clip180)\" d=\"M1615.87 138.412 L1620.13 138.412 L1620.13 164.338 L1615.87 164.338 L1615.87 138.412 M1615.87 128.319 L1620.13 128.319 L1620.13 133.713 L1615.87 133.713 L1615.87 128.319 Z\" fill=\"#000000\" fill-rule=\"nonzero\" fill-opacity=\"1\" /><path clip-path=\"url(#clip180)\" d=\"M1649.22 143.389 Q1650.82 140.518 1653.04 139.153 Q1655.27 137.787 1658.27 137.787 Q1662.33 137.787 1664.52 140.634 Q1666.72 143.458 1666.72 148.689 L1666.72 164.338 L1662.44 164.338 L1662.44 148.828 Q1662.44 145.102 1661.12 143.296 Q1659.8 141.49 1657.09 141.49 Q1653.78 141.49 1651.86 143.69 Q1649.94 145.889 1649.94 149.685 L1649.94 164.338 L1645.66 164.338 L1645.66 148.828 Q1645.66 145.078 1644.34 143.296 Q1643.02 141.49 1640.27 141.49 Q1637 141.49 1635.08 143.713 Q1633.16 145.912 1633.16 149.685 L1633.16 164.338 L1628.88 164.338 L1628.88 138.412 L1633.16 138.412 L1633.16 142.44 Q1634.62 140.055 1636.65 138.921 Q1638.69 137.787 1641.49 137.787 Q1644.32 137.787 1646.28 139.222 Q1648.27 140.657 1649.22 143.389 Z\" fill=\"#000000\" fill-rule=\"nonzero\" fill-opacity=\"1\" /><path clip-path=\"url(#clip180)\" d=\"M1674.78 154.106 L1674.78 138.412 L1679.04 138.412 L1679.04 153.944 Q1679.04 157.625 1680.47 159.476 Q1681.91 161.305 1684.78 161.305 Q1688.23 161.305 1690.22 159.106 Q1692.23 156.907 1692.23 153.111 L1692.23 138.412 L1696.49 138.412 L1696.49 164.338 L1692.23 164.338 L1692.23 160.356 Q1690.68 162.717 1688.62 163.875 Q1686.58 165.009 1683.88 165.009 Q1679.41 165.009 1677.09 162.231 Q1674.78 159.453 1674.78 154.106 M1685.5 137.787 L1685.5 137.787 Z\" fill=\"#000000\" fill-rule=\"nonzero\" fill-opacity=\"1\" /><path clip-path=\"url(#clip180)\" d=\"M1705.27 128.319 L1709.52 128.319 L1709.52 164.338 L1705.27 164.338 L1705.27 128.319 Z\" fill=\"#000000\" fill-rule=\"nonzero\" fill-opacity=\"1\" /><path clip-path=\"url(#clip180)\" d=\"M1730.22 151.305 Q1725.06 151.305 1723.07 152.486 Q1721.08 153.666 1721.08 156.514 Q1721.08 158.782 1722.56 160.125 Q1724.06 161.444 1726.63 161.444 Q1730.17 161.444 1732.3 158.944 Q1734.45 156.421 1734.45 152.254 L1734.45 151.305 L1730.22 151.305 M1738.71 149.546 L1738.71 164.338 L1734.45 164.338 L1734.45 160.402 Q1733 162.763 1730.82 163.898 Q1728.64 165.009 1725.5 165.009 Q1721.51 165.009 1719.15 162.787 Q1716.82 160.541 1716.82 156.791 Q1716.82 152.416 1719.73 150.194 Q1722.67 147.972 1728.48 147.972 L1734.45 147.972 L1734.45 147.555 Q1734.45 144.615 1732.51 143.018 Q1730.59 141.398 1727.09 141.398 Q1724.87 141.398 1722.76 141.93 Q1720.66 142.463 1718.71 143.527 L1718.71 139.592 Q1721.05 138.69 1723.25 138.25 Q1725.45 137.787 1727.53 137.787 Q1733.16 137.787 1735.94 140.703 Q1738.71 143.62 1738.71 149.546 Z\" fill=\"#000000\" fill-rule=\"nonzero\" fill-opacity=\"1\" /><path clip-path=\"url(#clip180)\" d=\"M1751.7 131.051 L1751.7 138.412 L1760.47 138.412 L1760.47 141.722 L1751.7 141.722 L1751.7 155.796 Q1751.7 158.967 1752.56 159.87 Q1753.44 160.773 1756.1 160.773 L1760.47 160.773 L1760.47 164.338 L1756.1 164.338 Q1751.17 164.338 1749.29 162.509 Q1747.42 160.657 1747.42 155.796 L1747.42 141.722 L1744.29 141.722 L1744.29 138.412 L1747.42 138.412 L1747.42 131.051 L1751.7 131.051 Z\" fill=\"#000000\" fill-rule=\"nonzero\" fill-opacity=\"1\" /><path clip-path=\"url(#clip180)\" d=\"M1788.25 150.31 L1788.25 152.393 L1768.67 152.393 Q1768.95 156.791 1771.31 159.106 Q1773.69 161.398 1777.93 161.398 Q1780.38 161.398 1782.67 160.796 Q1784.99 160.194 1787.26 158.99 L1787.26 163.018 Q1784.96 163.99 1782.56 164.5 Q1780.15 165.009 1777.67 165.009 Q1771.47 165.009 1767.83 161.398 Q1764.22 157.787 1764.22 151.629 Q1764.22 145.264 1767.65 141.537 Q1771.1 137.787 1776.93 137.787 Q1782.16 137.787 1785.2 141.166 Q1788.25 144.523 1788.25 150.31 M1783.99 149.06 Q1783.95 145.565 1782.02 143.481 Q1780.13 141.398 1776.98 141.398 Q1773.41 141.398 1771.26 143.412 Q1769.13 145.426 1768.81 149.083 L1783.99 149.06 Z\" fill=\"#000000\" fill-rule=\"nonzero\" fill-opacity=\"1\" /><path clip-path=\"url(#clip180)\" d=\"M1812.3 142.347 L1812.3 128.319 L1816.56 128.319 L1816.56 164.338 L1812.3 164.338 L1812.3 160.449 Q1810.96 162.763 1808.9 163.898 Q1806.86 165.009 1803.99 165.009 Q1799.29 165.009 1796.33 161.259 Q1793.39 157.509 1793.39 151.398 Q1793.39 145.287 1796.33 141.537 Q1799.29 137.787 1803.99 137.787 Q1806.86 137.787 1808.9 138.921 Q1810.96 140.032 1812.3 142.347 M1797.79 151.398 Q1797.79 156.097 1799.71 158.782 Q1801.65 161.444 1805.03 161.444 Q1808.41 161.444 1810.36 158.782 Q1812.3 156.097 1812.3 151.398 Q1812.3 146.699 1810.36 144.037 Q1808.41 141.352 1805.03 141.352 Q1801.65 141.352 1799.71 144.037 Q1797.79 146.699 1797.79 151.398 Z\" fill=\"#000000\" fill-rule=\"nonzero\" fill-opacity=\"1\" /><path clip-path=\"url(#clip180)\" d=\"M1866.47 132.44 L1866.47 137.37 Q1864.11 135.171 1861.42 134.083 Q1858.76 132.995 1855.75 132.995 Q1849.82 132.995 1846.68 136.629 Q1843.53 140.24 1843.53 147.092 Q1843.53 153.921 1846.68 157.555 Q1849.82 161.166 1855.75 161.166 Q1858.76 161.166 1861.42 160.078 Q1864.11 158.99 1866.47 156.791 L1866.47 161.676 Q1864.01 163.342 1861.26 164.176 Q1858.53 165.009 1855.47 165.009 Q1847.63 165.009 1843.11 160.217 Q1838.6 155.402 1838.6 147.092 Q1838.6 138.759 1843.11 133.967 Q1847.63 129.153 1855.47 129.153 Q1858.57 129.153 1861.31 129.986 Q1864.06 130.796 1866.47 132.44 Z\" fill=\"#000000\" fill-rule=\"nonzero\" fill-opacity=\"1\" /><path clip-path=\"url(#clip180)\" d=\"M1895.06 148.689 L1895.06 164.338 L1890.8 164.338 L1890.8 148.828 Q1890.8 145.148 1889.36 143.319 Q1887.93 141.49 1885.06 141.49 Q1881.61 141.49 1879.62 143.69 Q1877.63 145.889 1877.63 149.685 L1877.63 164.338 L1873.34 164.338 L1873.34 128.319 L1877.63 128.319 L1877.63 142.44 Q1879.15 140.102 1881.21 138.944 Q1883.3 137.787 1886 137.787 Q1890.47 137.787 1892.76 140.565 Q1895.06 143.319 1895.06 148.689 Z\" fill=\"#000000\" fill-rule=\"nonzero\" fill-opacity=\"1\" /><path clip-path=\"url(#clip180)\" d=\"M1903.55 138.412 L1907.81 138.412 L1907.81 164.338 L1903.55 164.338 L1903.55 138.412 M1903.55 128.319 L1907.81 128.319 L1907.81 133.713 L1903.55 133.713 L1903.55 128.319 Z\" fill=\"#000000\" fill-rule=\"nonzero\" fill-opacity=\"1\" /><path clip-path=\"url(#clip180)\" d=\"M1914.57 149.453 L1927.05 149.453 L1927.05 153.25 L1914.57 153.25 L1914.57 149.453 Z\" fill=\"#000000\" fill-rule=\"nonzero\" fill-opacity=\"1\" /><path clip-path=\"url(#clip180)\" d=\"M1950.36 139.176 L1950.36 143.203 Q1948.55 142.277 1946.61 141.815 Q1944.66 141.352 1942.58 141.352 Q1939.41 141.352 1937.81 142.324 Q1936.24 143.296 1936.24 145.24 Q1936.24 146.722 1937.37 147.578 Q1938.5 148.412 1941.93 149.176 L1943.39 149.5 Q1947.93 150.472 1949.82 152.254 Q1951.75 154.014 1951.75 157.185 Q1951.75 160.796 1948.87 162.902 Q1946.03 165.009 1941.03 165.009 Q1938.94 165.009 1936.68 164.592 Q1934.43 164.199 1931.93 163.388 L1931.93 158.99 Q1934.29 160.217 1936.58 160.842 Q1938.87 161.444 1941.12 161.444 Q1944.13 161.444 1945.75 160.426 Q1947.37 159.384 1947.37 157.509 Q1947.37 155.773 1946.19 154.847 Q1945.03 153.921 1941.07 153.064 L1939.59 152.717 Q1935.63 151.884 1933.87 150.171 Q1932.12 148.435 1932.12 145.426 Q1932.12 141.768 1934.71 139.778 Q1937.3 137.787 1942.07 137.787 Q1944.43 137.787 1946.51 138.134 Q1948.6 138.481 1950.36 139.176 Z\" fill=\"#000000\" fill-rule=\"nonzero\" fill-opacity=\"1\" /><path clip-path=\"url(#clip180)\" d=\"M1961.07 151.398 Q1961.07 156.097 1963 158.782 Q1964.94 161.444 1968.32 161.444 Q1971.7 161.444 1973.64 158.782 Q1975.59 156.097 1975.59 151.398 Q1975.59 146.699 1973.64 144.037 Q1971.7 141.352 1968.32 141.352 Q1964.94 141.352 1963 144.037 Q1961.07 146.699 1961.07 151.398 M1975.59 160.449 Q1974.25 162.763 1972.18 163.898 Q1970.15 165.009 1967.28 165.009 Q1962.58 165.009 1959.62 161.259 Q1956.68 157.509 1956.68 151.398 Q1956.68 145.287 1959.62 141.537 Q1962.58 137.787 1967.28 137.787 Q1970.15 137.787 1972.18 138.921 Q1974.25 140.032 1975.59 142.347 L1975.59 138.412 L1979.85 138.412 L1979.85 174.199 L1975.59 174.199 L1975.59 160.449 Z\" fill=\"#000000\" fill-rule=\"nonzero\" fill-opacity=\"1\" /><path clip-path=\"url(#clip180)\" d=\"M1988.18 154.106 L1988.18 138.412 L1992.44 138.412 L1992.44 153.944 Q1992.44 157.625 1993.87 159.476 Q1995.31 161.305 1998.18 161.305 Q2001.63 161.305 2003.62 159.106 Q2005.63 156.907 2005.63 153.111 L2005.63 138.412 L2009.89 138.412 L2009.89 164.338 L2005.63 164.338 L2005.63 160.356 Q2004.08 162.717 2002.02 163.875 Q1999.99 165.009 1997.28 165.009 Q1992.81 165.009 1990.49 162.231 Q1988.18 159.453 1988.18 154.106 M1998.9 137.787 L1998.9 137.787 Z\" fill=\"#000000\" fill-rule=\"nonzero\" fill-opacity=\"1\" /><path clip-path=\"url(#clip180)\" d=\"M2030.45 151.305 Q2025.29 151.305 2023.3 152.486 Q2021.3 153.666 2021.3 156.514 Q2021.3 158.782 2022.79 160.125 Q2024.29 161.444 2026.86 161.444 Q2030.4 161.444 2032.53 158.944 Q2034.68 156.421 2034.68 152.254 L2034.68 151.305 L2030.45 151.305 M2038.94 149.546 L2038.94 164.338 L2034.68 164.338 L2034.68 160.402 Q2033.23 162.763 2031.05 163.898 Q2028.87 165.009 2025.73 165.009 Q2021.74 165.009 2019.38 162.787 Q2017.05 160.541 2017.05 156.791 Q2017.05 152.416 2019.96 150.194 Q2022.9 147.972 2028.71 147.972 L2034.68 147.972 L2034.68 147.555 Q2034.68 144.615 2032.74 143.018 Q2030.82 141.398 2027.32 141.398 Q2025.1 141.398 2022.99 141.93 Q2020.89 142.463 2018.94 143.527 L2018.94 139.592 Q2021.28 138.69 2023.48 138.25 Q2025.68 137.787 2027.76 137.787 Q2033.39 137.787 2036.17 140.703 Q2038.94 143.62 2038.94 149.546 Z\" fill=\"#000000\" fill-rule=\"nonzero\" fill-opacity=\"1\" /><path clip-path=\"url(#clip180)\" d=\"M2062.74 142.393 Q2062.02 141.977 2061.17 141.791 Q2060.33 141.583 2059.31 141.583 Q2055.7 141.583 2053.76 143.944 Q2051.84 146.282 2051.84 150.68 L2051.84 164.338 L2047.55 164.338 L2047.55 138.412 L2051.84 138.412 L2051.84 142.44 Q2053.18 140.078 2055.33 138.944 Q2057.49 137.787 2060.56 137.787 Q2061 137.787 2061.54 137.856 Q2062.07 137.903 2062.72 138.018 L2062.74 142.393 Z\" fill=\"#000000\" fill-rule=\"nonzero\" fill-opacity=\"1\" /><path clip-path=\"url(#clip180)\" d=\"M2088.34 150.31 L2088.34 152.393 L2068.76 152.393 Q2069.04 156.791 2071.4 159.106 Q2073.78 161.398 2078.02 161.398 Q2080.47 161.398 2082.76 160.796 Q2085.08 160.194 2087.35 158.99 L2087.35 163.018 Q2085.05 163.99 2082.65 164.5 Q2080.24 165.009 2077.76 165.009 Q2071.56 165.009 2067.93 161.398 Q2064.31 157.787 2064.31 151.629 Q2064.31 145.264 2067.74 141.537 Q2071.19 137.787 2077.02 137.787 Q2082.25 137.787 2085.29 141.166 Q2088.34 144.523 2088.34 150.31 M2084.08 149.06 Q2084.04 145.565 2082.11 143.481 Q2080.22 141.398 2077.07 141.398 Q2073.5 141.398 2071.35 143.412 Q2069.22 145.426 2068.9 149.083 L2084.08 149.06 Z\" fill=\"#000000\" fill-rule=\"nonzero\" fill-opacity=\"1\" /><path clip-path=\"url(#clip180)\" d=\"M2107.35 138.412 L2111.86 138.412 L2119.96 160.171 L2128.06 138.412 L2132.58 138.412 L2122.86 164.338 L2117.07 164.338 L2107.35 138.412 Z\" fill=\"#000000\" fill-rule=\"nonzero\" fill-opacity=\"1\" /><path clip-path=\"url(#clip180)\" d=\"M2150.24 151.305 Q2145.08 151.305 2143.09 152.486 Q2141.1 153.666 2141.1 156.514 Q2141.1 158.782 2142.58 160.125 Q2144.08 161.444 2146.65 161.444 Q2150.19 161.444 2152.32 158.944 Q2154.48 156.421 2154.48 152.254 L2154.48 151.305 L2150.24 151.305 M2158.73 149.546 L2158.73 164.338 L2154.48 164.338 L2154.48 160.402 Q2153.02 162.763 2150.84 163.898 Q2148.67 165.009 2145.52 165.009 Q2141.54 165.009 2139.17 162.787 Q2136.84 160.541 2136.84 156.791 Q2136.84 152.416 2139.75 150.194 Q2142.69 147.972 2148.5 147.972 L2154.48 147.972 L2154.48 147.555 Q2154.48 144.615 2152.53 143.018 Q2150.61 141.398 2147.11 141.398 Q2144.89 141.398 2142.79 141.93 Q2140.68 142.463 2138.73 143.527 L2138.73 139.592 Q2141.07 138.69 2143.27 138.25 Q2145.47 137.787 2147.55 137.787 Q2153.18 137.787 2155.96 140.703 Q2158.73 143.62 2158.73 149.546 Z\" fill=\"#000000\" fill-rule=\"nonzero\" fill-opacity=\"1\" /><path clip-path=\"url(#clip180)\" d=\"M2167.51 128.319 L2171.77 128.319 L2171.77 164.338 L2167.51 164.338 L2167.51 128.319 Z\" fill=\"#000000\" fill-rule=\"nonzero\" fill-opacity=\"1\" /><path clip-path=\"url(#clip180)\" d=\"M2180.24 154.106 L2180.24 138.412 L2184.5 138.412 L2184.5 153.944 Q2184.5 157.625 2185.93 159.476 Q2187.37 161.305 2190.24 161.305 Q2193.69 161.305 2195.68 159.106 Q2197.69 156.907 2197.69 153.111 L2197.69 138.412 L2201.95 138.412 L2201.95 164.338 L2197.69 164.338 L2197.69 160.356 Q2196.14 162.717 2194.08 163.875 Q2192.04 165.009 2189.34 165.009 Q2184.87 165.009 2182.55 162.231 Q2180.24 159.453 2180.24 154.106 M2190.96 137.787 L2190.96 137.787 Z\" fill=\"#000000\" fill-rule=\"nonzero\" fill-opacity=\"1\" /><path clip-path=\"url(#clip180)\" d=\"M2232.9 150.31 L2232.9 152.393 L2213.32 152.393 Q2213.6 156.791 2215.96 159.106 Q2218.34 161.398 2222.58 161.398 Q2225.03 161.398 2227.32 160.796 Q2229.64 160.194 2231.91 158.99 L2231.91 163.018 Q2229.61 163.99 2227.21 164.5 Q2224.8 165.009 2222.32 165.009 Q2216.12 165.009 2212.48 161.398 Q2208.87 157.787 2208.87 151.629 Q2208.87 145.264 2212.3 141.537 Q2215.75 137.787 2221.58 137.787 Q2226.81 137.787 2229.85 141.166 Q2232.9 144.523 2232.9 150.31 M2228.64 149.06 Q2228.6 145.565 2226.67 143.481 Q2224.78 141.398 2221.63 141.398 Q2218.06 141.398 2215.91 143.412 Q2213.78 145.426 2213.46 149.083 L2228.64 149.06 Z\" fill=\"#000000\" fill-rule=\"nonzero\" fill-opacity=\"1\" /><path clip-path=\"url(#clip180)\" d=\"M2256.42 139.176 L2256.42 143.203 Q2254.61 142.277 2252.67 141.815 Q2250.73 141.352 2248.64 141.352 Q2245.47 141.352 2243.87 142.324 Q2242.3 143.296 2242.3 145.24 Q2242.3 146.722 2243.43 147.578 Q2244.57 148.412 2247.99 149.176 L2249.45 149.5 Q2253.99 150.472 2255.89 152.254 Q2257.81 154.014 2257.81 157.185 Q2257.81 160.796 2254.94 162.902 Q2252.09 165.009 2247.09 165.009 Q2245.01 165.009 2242.74 164.592 Q2240.49 164.199 2237.99 163.388 L2237.99 158.99 Q2240.35 160.217 2242.65 160.842 Q2244.94 161.444 2247.18 161.444 Q2250.19 161.444 2251.81 160.426 Q2253.43 159.384 2253.43 157.509 Q2253.43 155.773 2252.25 154.847 Q2251.1 153.921 2247.14 153.064 L2245.66 152.717 Q2241.7 151.884 2239.94 150.171 Q2238.18 148.435 2238.18 145.426 Q2238.18 141.768 2240.77 139.778 Q2243.36 137.787 2248.13 137.787 Q2250.49 137.787 2252.58 138.134 Q2254.66 138.481 2256.42 139.176 Z\" fill=\"#000000\" fill-rule=\"nonzero\" fill-opacity=\"1\" /><polyline clip-path=\"url(#clip180)\" style=\"stroke:#ff0000; stroke-linecap:round; stroke-linejoin:round; stroke-width:8; stroke-opacity:1; fill:none\" points=\"1418.27,198.898 1560.7,198.898 \"/>\n",
       "<path clip-path=\"url(#clip180)\" d=\"M1612.3 184.28 L1612.3 189.21 Q1609.94 187.011 1607.26 185.923 Q1604.59 184.835 1601.59 184.835 Q1595.66 184.835 1592.51 188.469 Q1589.36 192.08 1589.36 198.932 Q1589.36 205.761 1592.51 209.395 Q1595.66 213.006 1601.59 213.006 Q1604.59 213.006 1607.26 211.918 Q1609.94 210.83 1612.3 208.631 L1612.3 213.516 Q1609.85 215.182 1607.09 216.016 Q1604.36 216.849 1601.31 216.849 Q1593.46 216.849 1588.95 212.057 Q1584.43 207.242 1584.43 198.932 Q1584.43 190.599 1588.95 185.807 Q1593.46 180.993 1601.31 180.993 Q1604.41 180.993 1607.14 181.826 Q1609.9 182.636 1612.3 184.28 Z\" fill=\"#000000\" fill-rule=\"nonzero\" fill-opacity=\"1\" /><path clip-path=\"url(#clip180)\" d=\"M1640.89 200.529 L1640.89 216.178 L1636.63 216.178 L1636.63 200.668 Q1636.63 196.988 1635.2 195.159 Q1633.76 193.33 1630.89 193.33 Q1627.44 193.33 1625.45 195.53 Q1623.46 197.729 1623.46 201.525 L1623.46 216.178 L1619.18 216.178 L1619.18 180.159 L1623.46 180.159 L1623.46 194.28 Q1624.99 191.942 1627.05 190.784 Q1629.13 189.627 1631.84 189.627 Q1636.31 189.627 1638.6 192.405 Q1640.89 195.159 1640.89 200.529 Z\" fill=\"#000000\" fill-rule=\"nonzero\" fill-opacity=\"1\" /><path clip-path=\"url(#clip180)\" d=\"M1649.39 190.252 L1653.64 190.252 L1653.64 216.178 L1649.39 216.178 L1649.39 190.252 M1649.39 180.159 L1653.64 180.159 L1653.64 185.553 L1649.39 185.553 L1649.39 180.159 Z\" fill=\"#000000\" fill-rule=\"nonzero\" fill-opacity=\"1\" /><path clip-path=\"url(#clip180)\" d=\"M1660.4 201.293 L1672.88 201.293 L1672.88 205.09 L1660.4 205.09 L1660.4 201.293 Z\" fill=\"#000000\" fill-rule=\"nonzero\" fill-opacity=\"1\" /><path clip-path=\"url(#clip180)\" d=\"M1696.19 191.016 L1696.19 195.043 Q1694.39 194.117 1692.44 193.655 Q1690.5 193.192 1688.41 193.192 Q1685.24 193.192 1683.64 194.164 Q1682.07 195.136 1682.07 197.08 Q1682.07 198.562 1683.2 199.418 Q1684.34 200.252 1687.77 201.016 L1689.22 201.34 Q1693.76 202.312 1695.66 204.094 Q1697.58 205.854 1697.58 209.025 Q1697.58 212.636 1694.71 214.742 Q1691.86 216.849 1686.86 216.849 Q1684.78 216.849 1682.51 216.432 Q1680.27 216.039 1677.77 215.228 L1677.77 210.83 Q1680.13 212.057 1682.42 212.682 Q1684.71 213.284 1686.95 213.284 Q1689.96 213.284 1691.58 212.266 Q1693.2 211.224 1693.2 209.349 Q1693.2 207.613 1692.02 206.687 Q1690.87 205.761 1686.91 204.904 L1685.43 204.557 Q1681.47 203.724 1679.71 202.011 Q1677.95 200.275 1677.95 197.266 Q1677.95 193.608 1680.54 191.618 Q1683.14 189.627 1687.9 189.627 Q1690.27 189.627 1692.35 189.974 Q1694.43 190.321 1696.19 191.016 Z\" fill=\"#000000\" fill-rule=\"nonzero\" fill-opacity=\"1\" /><path clip-path=\"url(#clip180)\" d=\"M1706.91 203.238 Q1706.91 207.937 1708.83 210.622 Q1710.77 213.284 1714.15 213.284 Q1717.53 213.284 1719.48 210.622 Q1721.42 207.937 1721.42 203.238 Q1721.42 198.539 1719.48 195.877 Q1717.53 193.192 1714.15 193.192 Q1710.77 193.192 1708.83 195.877 Q1706.91 198.539 1706.91 203.238 M1721.42 212.289 Q1720.08 214.603 1718.02 215.738 Q1715.98 216.849 1713.11 216.849 Q1708.41 216.849 1705.45 213.099 Q1702.51 209.349 1702.51 203.238 Q1702.51 197.127 1705.45 193.377 Q1708.41 189.627 1713.11 189.627 Q1715.98 189.627 1718.02 190.761 Q1720.08 191.872 1721.42 194.187 L1721.42 190.252 L1725.68 190.252 L1725.68 226.039 L1721.42 226.039 L1721.42 212.289 Z\" fill=\"#000000\" fill-rule=\"nonzero\" fill-opacity=\"1\" /><path clip-path=\"url(#clip180)\" d=\"M1734.01 205.946 L1734.01 190.252 L1738.27 190.252 L1738.27 205.784 Q1738.27 209.465 1739.71 211.316 Q1741.14 213.145 1744.01 213.145 Q1747.46 213.145 1749.45 210.946 Q1751.47 208.747 1751.47 204.951 L1751.47 190.252 L1755.73 190.252 L1755.73 216.178 L1751.47 216.178 L1751.47 212.196 Q1749.92 214.557 1747.86 215.715 Q1745.82 216.849 1743.11 216.849 Q1738.64 216.849 1736.33 214.071 Q1734.01 211.293 1734.01 205.946 M1744.73 189.627 L1744.73 189.627 Z\" fill=\"#000000\" fill-rule=\"nonzero\" fill-opacity=\"1\" /><path clip-path=\"url(#clip180)\" d=\"M1776.28 203.145 Q1771.12 203.145 1769.13 204.326 Q1767.14 205.506 1767.14 208.354 Q1767.14 210.622 1768.62 211.965 Q1770.13 213.284 1772.7 213.284 Q1776.24 213.284 1778.37 210.784 Q1780.52 208.261 1780.52 204.094 L1780.52 203.145 L1776.28 203.145 M1784.78 201.386 L1784.78 216.178 L1780.52 216.178 L1780.52 212.242 Q1779.06 214.603 1776.88 215.738 Q1774.71 216.849 1771.56 216.849 Q1767.58 216.849 1765.22 214.627 Q1762.88 212.381 1762.88 208.631 Q1762.88 204.256 1765.8 202.034 Q1768.74 199.812 1774.55 199.812 L1780.52 199.812 L1780.52 199.395 Q1780.52 196.455 1778.57 194.858 Q1776.65 193.238 1773.16 193.238 Q1770.94 193.238 1768.83 193.77 Q1766.72 194.303 1764.78 195.367 L1764.78 191.432 Q1767.12 190.53 1769.32 190.09 Q1771.51 189.627 1773.6 189.627 Q1779.22 189.627 1782 192.543 Q1784.78 195.46 1784.78 201.386 Z\" fill=\"#000000\" fill-rule=\"nonzero\" fill-opacity=\"1\" /><path clip-path=\"url(#clip180)\" d=\"M1808.57 194.233 Q1807.86 193.817 1807 193.631 Q1806.17 193.423 1805.15 193.423 Q1801.54 193.423 1799.59 195.784 Q1797.67 198.122 1797.67 202.52 L1797.67 216.178 L1793.39 216.178 L1793.39 190.252 L1797.67 190.252 L1797.67 194.28 Q1799.01 191.918 1801.17 190.784 Q1803.32 189.627 1806.4 189.627 Q1806.84 189.627 1807.37 189.696 Q1807.9 189.743 1808.55 189.858 L1808.57 194.233 Z\" fill=\"#000000\" fill-rule=\"nonzero\" fill-opacity=\"1\" /><path clip-path=\"url(#clip180)\" d=\"M1834.18 202.15 L1834.18 204.233 L1814.59 204.233 Q1814.87 208.631 1817.23 210.946 Q1819.62 213.238 1823.85 213.238 Q1826.31 213.238 1828.6 212.636 Q1830.91 212.034 1833.18 210.83 L1833.18 214.858 Q1830.89 215.83 1828.48 216.34 Q1826.07 216.849 1823.6 216.849 Q1817.39 216.849 1813.76 213.238 Q1810.15 209.627 1810.15 203.469 Q1810.15 197.104 1813.57 193.377 Q1817.02 189.627 1822.86 189.627 Q1828.09 189.627 1831.12 193.006 Q1834.18 196.363 1834.18 202.15 M1829.92 200.9 Q1829.87 197.405 1827.95 195.321 Q1826.05 193.238 1822.9 193.238 Q1819.34 193.238 1817.19 195.252 Q1815.06 197.266 1814.73 200.923 L1829.92 200.9 Z\" fill=\"#000000\" fill-rule=\"nonzero\" fill-opacity=\"1\" /><path clip-path=\"url(#clip180)\" d=\"M1861.1 185.46 L1861.1 198.446 L1866.98 198.446 Q1870.24 198.446 1872.02 196.756 Q1873.81 195.067 1873.81 191.942 Q1873.81 188.84 1872.02 187.15 Q1870.24 185.46 1866.98 185.46 L1861.1 185.46 M1856.42 181.618 L1866.98 181.618 Q1872.79 181.618 1875.75 184.256 Q1878.74 186.872 1878.74 191.942 Q1878.74 197.057 1875.75 199.673 Q1872.79 202.289 1866.98 202.289 L1861.1 202.289 L1861.1 216.178 L1856.42 216.178 L1856.42 181.618 Z\" fill=\"#000000\" fill-rule=\"nonzero\" fill-opacity=\"1\" /><path clip-path=\"url(#clip180)\" d=\"M1889.69 185.46 L1889.69 212.335 L1895.33 212.335 Q1902.49 212.335 1905.8 209.094 Q1909.13 205.854 1909.13 198.863 Q1909.13 191.918 1905.8 188.701 Q1902.49 185.46 1895.33 185.46 L1889.69 185.46 M1885.01 181.618 L1894.62 181.618 Q1904.66 181.618 1909.36 185.807 Q1914.06 189.974 1914.06 198.863 Q1914.06 207.798 1909.34 211.988 Q1904.62 216.178 1894.62 216.178 L1885.01 216.178 L1885.01 181.618 Z\" fill=\"#000000\" fill-rule=\"nonzero\" fill-opacity=\"1\" /><path clip-path=\"url(#clip180)\" d=\"M1921.51 181.618 L1941.37 181.618 L1941.37 185.553 L1926.19 185.553 L1926.19 195.738 L1939.89 195.738 L1939.89 199.673 L1926.19 199.673 L1926.19 216.178 L1921.51 216.178 L1921.51 181.618 Z\" fill=\"#000000\" fill-rule=\"nonzero\" fill-opacity=\"1\" /><path clip-path=\"url(#clip180)\" d=\"M1973.9 180.206 Q1970.8 185.53 1969.29 190.738 Q1967.79 195.946 1967.79 201.293 Q1967.79 206.641 1969.29 211.895 Q1970.82 217.127 1973.9 222.428 L1970.19 222.428 Q1966.72 216.988 1964.99 211.733 Q1963.27 206.479 1963.27 201.293 Q1963.27 196.131 1964.99 190.9 Q1966.7 185.668 1970.19 180.206 L1973.9 180.206 Z\" fill=\"#000000\" fill-rule=\"nonzero\" fill-opacity=\"1\" /><path clip-path=\"url(#clip180)\" d=\"M1987.32 216.178 L1979.41 190.252 L1983.99 190.252 L1990.68 212.011 Q1993.46 209.141 1995.77 205.159 Q1997.53 202.173 1997.62 199.58 Q1997.67 198.354 1997.12 196.039 Q1996.47 193.284 1994.01 190.252 L1998.32 190.252 L1998.32 190.252 Q1999.92 192.312 2000.98 195.182 Q2001.95 197.821 2001.95 199.627 Q2001.95 204.164 1998.81 208.215 Q1994.71 213.492 1991.86 216.178 L1987.32 216.178 Z\" fill=\"#000000\" fill-rule=\"nonzero\" fill-opacity=\"1\" /><path clip-path=\"url(#clip180)\" d=\"M2009.2 194.65 L2038.87 194.65 L2038.87 198.539 L2009.2 198.539 L2009.2 194.65 M2009.2 204.094 L2038.87 204.094 L2038.87 208.029 L2009.2 208.029 L2009.2 204.094 Z\" fill=\"#000000\" fill-rule=\"nonzero\" fill-opacity=\"1\" /><path clip-path=\"url(#clip180)\" d=\"M2049.11 215.46 L2049.11 211.201 Q2050.87 212.034 2052.67 212.474 Q2054.48 212.914 2056.21 212.914 Q2060.84 212.914 2063.27 209.812 Q2065.73 206.687 2066.07 200.344 Q2064.73 202.335 2062.67 203.4 Q2060.61 204.465 2058.11 204.465 Q2052.93 204.465 2049.89 201.34 Q2046.88 198.192 2046.88 192.752 Q2046.88 187.428 2050.03 184.21 Q2053.18 180.993 2058.41 180.993 Q2064.41 180.993 2067.55 185.599 Q2070.73 190.182 2070.73 198.932 Q2070.73 207.104 2066.84 211.988 Q2062.97 216.849 2056.42 216.849 Q2054.66 216.849 2052.86 216.502 Q2051.05 216.154 2049.11 215.46 M2058.41 200.807 Q2061.56 200.807 2063.39 198.654 Q2065.24 196.502 2065.24 192.752 Q2065.24 189.025 2063.39 186.872 Q2061.56 184.696 2058.41 184.696 Q2055.26 184.696 2053.41 186.872 Q2051.58 189.025 2051.58 192.752 Q2051.58 196.502 2053.41 198.654 Q2055.26 200.807 2058.41 200.807 Z\" fill=\"#000000\" fill-rule=\"nonzero\" fill-opacity=\"1\" /><path clip-path=\"url(#clip180)\" d=\"M2077.86 180.206 L2081.56 180.206 Q2085.03 185.668 2086.74 190.9 Q2088.48 196.131 2088.48 201.293 Q2088.48 206.479 2086.74 211.733 Q2085.03 216.988 2081.56 222.428 L2077.86 222.428 Q2080.93 217.127 2082.44 211.895 Q2083.97 206.641 2083.97 201.293 Q2083.97 195.946 2082.44 190.738 Q2080.93 185.53 2077.86 180.206 Z\" fill=\"#000000\" fill-rule=\"nonzero\" fill-opacity=\"1\" /></svg>\n"
      ],
      "text/html": [
       "<?xml version=\"1.0\" encoding=\"utf-8\"?>\n",
       "<svg xmlns=\"http://www.w3.org/2000/svg\" xmlns:xlink=\"http://www.w3.org/1999/xlink\" width=\"600\" height=\"400\" viewBox=\"0 0 2400 1600\">\n",
       "<defs>\n",
       "  <clipPath id=\"clip230\">\n",
       "    <rect x=\"0\" y=\"0\" width=\"2400\" height=\"1600\"/>\n",
       "  </clipPath>\n",
       "</defs>\n",
       "<path clip-path=\"url(#clip230)\" d=\"M0 1600 L2400 1600 L2400 0 L0 0  Z\" fill=\"#ffffff\" fill-rule=\"evenodd\" fill-opacity=\"1\"/>\n",
       "<defs>\n",
       "  <clipPath id=\"clip231\">\n",
       "    <rect x=\"480\" y=\"0\" width=\"1681\" height=\"1600\"/>\n",
       "  </clipPath>\n",
       "</defs>\n",
       "<path clip-path=\"url(#clip230)\" d=\"M216.436 1486.45 L2352.76 1486.45 L2352.76 47.2441 L216.436 47.2441  Z\" fill=\"#ffffff\" fill-rule=\"evenodd\" fill-opacity=\"1\"/>\n",
       "<defs>\n",
       "  <clipPath id=\"clip232\">\n",
       "    <rect x=\"216\" y=\"47\" width=\"2137\" height=\"1440\"/>\n",
       "  </clipPath>\n",
       "</defs>\n",
       "<polyline clip-path=\"url(#clip232)\" style=\"stroke:#000000; stroke-linecap:round; stroke-linejoin:round; stroke-width:2; stroke-opacity:0.1; fill:none\" points=\"333.937,1486.45 333.937,47.2441 \"/>\n",
       "<polyline clip-path=\"url(#clip232)\" style=\"stroke:#000000; stroke-linecap:round; stroke-linejoin:round; stroke-width:2; stroke-opacity:0.1; fill:none\" points=\"809.267,1486.45 809.267,47.2441 \"/>\n",
       "<polyline clip-path=\"url(#clip232)\" style=\"stroke:#000000; stroke-linecap:round; stroke-linejoin:round; stroke-width:2; stroke-opacity:0.1; fill:none\" points=\"1284.6,1486.45 1284.6,47.2441 \"/>\n",
       "<polyline clip-path=\"url(#clip232)\" style=\"stroke:#000000; stroke-linecap:round; stroke-linejoin:round; stroke-width:2; stroke-opacity:0.1; fill:none\" points=\"1759.93,1486.45 1759.93,47.2441 \"/>\n",
       "<polyline clip-path=\"url(#clip232)\" style=\"stroke:#000000; stroke-linecap:round; stroke-linejoin:round; stroke-width:2; stroke-opacity:0.1; fill:none\" points=\"2235.25,1486.45 2235.25,47.2441 \"/>\n",
       "<polyline clip-path=\"url(#clip232)\" style=\"stroke:#000000; stroke-linecap:round; stroke-linejoin:round; stroke-width:2; stroke-opacity:0.1; fill:none\" points=\"216.436,1486.45 2352.76,1486.45 \"/>\n",
       "<polyline clip-path=\"url(#clip232)\" style=\"stroke:#000000; stroke-linecap:round; stroke-linejoin:round; stroke-width:2; stroke-opacity:0.1; fill:none\" points=\"216.436,1146.37 2352.76,1146.37 \"/>\n",
       "<polyline clip-path=\"url(#clip232)\" style=\"stroke:#000000; stroke-linecap:round; stroke-linejoin:round; stroke-width:2; stroke-opacity:0.1; fill:none\" points=\"216.436,806.295 2352.76,806.295 \"/>\n",
       "<polyline clip-path=\"url(#clip232)\" style=\"stroke:#000000; stroke-linecap:round; stroke-linejoin:round; stroke-width:2; stroke-opacity:0.1; fill:none\" points=\"216.436,466.218 2352.76,466.218 \"/>\n",
       "<polyline clip-path=\"url(#clip232)\" style=\"stroke:#000000; stroke-linecap:round; stroke-linejoin:round; stroke-width:2; stroke-opacity:0.1; fill:none\" points=\"216.436,126.142 2352.76,126.142 \"/>\n",
       "<polyline clip-path=\"url(#clip230)\" style=\"stroke:#000000; stroke-linecap:round; stroke-linejoin:round; stroke-width:4; stroke-opacity:1; fill:none\" points=\"216.436,1486.45 2352.76,1486.45 \"/>\n",
       "<polyline clip-path=\"url(#clip230)\" style=\"stroke:#000000; stroke-linecap:round; stroke-linejoin:round; stroke-width:4; stroke-opacity:1; fill:none\" points=\"333.937,1486.45 333.937,1467.55 \"/>\n",
       "<polyline clip-path=\"url(#clip230)\" style=\"stroke:#000000; stroke-linecap:round; stroke-linejoin:round; stroke-width:4; stroke-opacity:1; fill:none\" points=\"809.267,1486.45 809.267,1467.55 \"/>\n",
       "<polyline clip-path=\"url(#clip230)\" style=\"stroke:#000000; stroke-linecap:round; stroke-linejoin:round; stroke-width:4; stroke-opacity:1; fill:none\" points=\"1284.6,1486.45 1284.6,1467.55 \"/>\n",
       "<polyline clip-path=\"url(#clip230)\" style=\"stroke:#000000; stroke-linecap:round; stroke-linejoin:round; stroke-width:4; stroke-opacity:1; fill:none\" points=\"1759.93,1486.45 1759.93,1467.55 \"/>\n",
       "<polyline clip-path=\"url(#clip230)\" style=\"stroke:#000000; stroke-linecap:round; stroke-linejoin:round; stroke-width:4; stroke-opacity:1; fill:none\" points=\"2235.25,1486.45 2235.25,1467.55 \"/>\n",
       "<path clip-path=\"url(#clip230)\" d=\"M333.937 1517.37 Q330.326 1517.37 328.497 1520.93 Q326.692 1524.47 326.692 1531.6 Q326.692 1538.71 328.497 1542.27 Q330.326 1545.82 333.937 1545.82 Q337.572 1545.82 339.377 1542.27 Q341.206 1538.71 341.206 1531.6 Q341.206 1524.47 339.377 1520.93 Q337.572 1517.37 333.937 1517.37 M333.937 1513.66 Q339.747 1513.66 342.803 1518.27 Q345.882 1522.85 345.882 1531.6 Q345.882 1540.33 342.803 1544.94 Q339.747 1549.52 333.937 1549.52 Q328.127 1549.52 325.048 1544.94 Q321.993 1540.33 321.993 1531.6 Q321.993 1522.85 325.048 1518.27 Q328.127 1513.66 333.937 1513.66 Z\" fill=\"#000000\" fill-rule=\"nonzero\" fill-opacity=\"1\" /><path clip-path=\"url(#clip230)\" d=\"M783.954 1544.91 L791.593 1544.91 L791.593 1518.55 L783.283 1520.21 L783.283 1515.95 L791.547 1514.29 L796.223 1514.29 L796.223 1544.91 L803.862 1544.91 L803.862 1548.85 L783.954 1548.85 L783.954 1544.91 Z\" fill=\"#000000\" fill-rule=\"nonzero\" fill-opacity=\"1\" /><path clip-path=\"url(#clip230)\" d=\"M823.306 1517.37 Q819.695 1517.37 817.866 1520.93 Q816.061 1524.47 816.061 1531.6 Q816.061 1538.71 817.866 1542.27 Q819.695 1545.82 823.306 1545.82 Q826.94 1545.82 828.746 1542.27 Q830.574 1538.71 830.574 1531.6 Q830.574 1524.47 828.746 1520.93 Q826.94 1517.37 823.306 1517.37 M823.306 1513.66 Q829.116 1513.66 832.172 1518.27 Q835.25 1522.85 835.25 1531.6 Q835.25 1540.33 832.172 1544.94 Q829.116 1549.52 823.306 1549.52 Q817.496 1549.52 814.417 1544.94 Q811.361 1540.33 811.361 1531.6 Q811.361 1522.85 814.417 1518.27 Q817.496 1513.66 823.306 1513.66 Z\" fill=\"#000000\" fill-rule=\"nonzero\" fill-opacity=\"1\" /><path clip-path=\"url(#clip230)\" d=\"M1263.37 1544.91 L1279.69 1544.91 L1279.69 1548.85 L1257.74 1548.85 L1257.74 1544.91 Q1260.41 1542.16 1264.99 1537.53 Q1269.6 1532.88 1270.78 1531.53 Q1273.02 1529.01 1273.9 1527.27 Q1274.8 1525.51 1274.8 1523.82 Q1274.8 1521.07 1272.86 1519.33 Q1270.94 1517.6 1267.84 1517.6 Q1265.64 1517.6 1263.18 1518.36 Q1260.75 1519.13 1257.98 1520.68 L1257.98 1515.95 Q1260.8 1514.82 1263.25 1514.24 Q1265.71 1513.66 1267.74 1513.66 Q1273.11 1513.66 1276.31 1516.35 Q1279.5 1519.03 1279.5 1523.52 Q1279.5 1525.65 1278.69 1527.57 Q1277.91 1529.47 1275.8 1532.07 Q1275.22 1532.74 1272.12 1535.95 Q1269.02 1539.15 1263.37 1544.91 Z\" fill=\"#000000\" fill-rule=\"nonzero\" fill-opacity=\"1\" /><path clip-path=\"url(#clip230)\" d=\"M1299.5 1517.37 Q1295.89 1517.37 1294.06 1520.93 Q1292.26 1524.47 1292.26 1531.6 Q1292.26 1538.71 1294.06 1542.27 Q1295.89 1545.82 1299.5 1545.82 Q1303.14 1545.82 1304.94 1542.27 Q1306.77 1538.71 1306.77 1531.6 Q1306.77 1524.47 1304.94 1520.93 Q1303.14 1517.37 1299.5 1517.37 M1299.5 1513.66 Q1305.31 1513.66 1308.37 1518.27 Q1311.45 1522.85 1311.45 1531.6 Q1311.45 1540.33 1308.37 1544.94 Q1305.31 1549.52 1299.5 1549.52 Q1293.69 1549.52 1290.61 1544.94 Q1287.56 1540.33 1287.56 1531.6 Q1287.56 1522.85 1290.61 1518.27 Q1293.69 1513.66 1299.5 1513.66 Z\" fill=\"#000000\" fill-rule=\"nonzero\" fill-opacity=\"1\" /><path clip-path=\"url(#clip230)\" d=\"M1748.77 1530.21 Q1752.12 1530.93 1754 1533.2 Q1755.9 1535.47 1755.9 1538.8 Q1755.9 1543.92 1752.38 1546.72 Q1748.86 1549.52 1742.38 1549.52 Q1740.2 1549.52 1737.89 1549.08 Q1735.6 1548.66 1733.14 1547.81 L1733.14 1543.29 Q1735.09 1544.43 1737.4 1545.01 Q1739.72 1545.58 1742.24 1545.58 Q1746.64 1545.58 1748.93 1543.85 Q1751.24 1542.11 1751.24 1538.8 Q1751.24 1535.75 1749.09 1534.03 Q1746.96 1532.3 1743.14 1532.3 L1739.12 1532.3 L1739.12 1528.45 L1743.33 1528.45 Q1746.78 1528.45 1748.61 1527.09 Q1750.43 1525.7 1750.43 1523.11 Q1750.43 1520.45 1748.54 1519.03 Q1746.66 1517.6 1743.14 1517.6 Q1741.22 1517.6 1739.02 1518.01 Q1736.82 1518.43 1734.18 1519.31 L1734.18 1515.14 Q1736.85 1514.4 1739.16 1514.03 Q1741.5 1513.66 1743.56 1513.66 Q1748.88 1513.66 1751.99 1516.09 Q1755.09 1518.5 1755.09 1522.62 Q1755.09 1525.49 1753.44 1527.48 Q1751.8 1529.45 1748.77 1530.21 Z\" fill=\"#000000\" fill-rule=\"nonzero\" fill-opacity=\"1\" /><path clip-path=\"url(#clip230)\" d=\"M1774.76 1517.37 Q1771.15 1517.37 1769.32 1520.93 Q1767.52 1524.47 1767.52 1531.6 Q1767.52 1538.71 1769.32 1542.27 Q1771.15 1545.82 1774.76 1545.82 Q1778.4 1545.82 1780.2 1542.27 Q1782.03 1538.71 1782.03 1531.6 Q1782.03 1524.47 1780.2 1520.93 Q1778.4 1517.37 1774.76 1517.37 M1774.76 1513.66 Q1780.57 1513.66 1783.63 1518.27 Q1786.71 1522.85 1786.71 1531.6 Q1786.71 1540.33 1783.63 1544.94 Q1780.57 1549.52 1774.76 1549.52 Q1768.95 1549.52 1765.87 1544.94 Q1762.82 1540.33 1762.82 1531.6 Q1762.82 1522.85 1765.87 1518.27 Q1768.95 1513.66 1774.76 1513.66 Z\" fill=\"#000000\" fill-rule=\"nonzero\" fill-opacity=\"1\" /><path clip-path=\"url(#clip230)\" d=\"M2223.43 1518.36 L2211.62 1536.81 L2223.43 1536.81 L2223.43 1518.36 M2222.2 1514.29 L2228.08 1514.29 L2228.08 1536.81 L2233.01 1536.81 L2233.01 1540.7 L2228.08 1540.7 L2228.08 1548.85 L2223.43 1548.85 L2223.43 1540.7 L2207.82 1540.7 L2207.82 1536.19 L2222.2 1514.29 Z\" fill=\"#000000\" fill-rule=\"nonzero\" fill-opacity=\"1\" /><path clip-path=\"url(#clip230)\" d=\"M2250.74 1517.37 Q2247.13 1517.37 2245.3 1520.93 Q2243.5 1524.47 2243.5 1531.6 Q2243.5 1538.71 2245.3 1542.27 Q2247.13 1545.82 2250.74 1545.82 Q2254.37 1545.82 2256.18 1542.27 Q2258.01 1538.71 2258.01 1531.6 Q2258.01 1524.47 2256.18 1520.93 Q2254.37 1517.37 2250.74 1517.37 M2250.74 1513.66 Q2256.55 1513.66 2259.61 1518.27 Q2262.68 1522.85 2262.68 1531.6 Q2262.68 1540.33 2259.61 1544.94 Q2256.55 1549.52 2250.74 1549.52 Q2244.93 1549.52 2241.85 1544.94 Q2238.8 1540.33 2238.8 1531.6 Q2238.8 1522.85 2241.85 1518.27 Q2244.93 1513.66 2250.74 1513.66 Z\" fill=\"#000000\" fill-rule=\"nonzero\" fill-opacity=\"1\" /><polyline clip-path=\"url(#clip230)\" style=\"stroke:#000000; stroke-linecap:round; stroke-linejoin:round; stroke-width:4; stroke-opacity:1; fill:none\" points=\"216.436,1486.45 216.436,47.2441 \"/>\n",
       "<polyline clip-path=\"url(#clip230)\" style=\"stroke:#000000; stroke-linecap:round; stroke-linejoin:round; stroke-width:4; stroke-opacity:1; fill:none\" points=\"216.436,1486.45 235.334,1486.45 \"/>\n",
       "<polyline clip-path=\"url(#clip230)\" style=\"stroke:#000000; stroke-linecap:round; stroke-linejoin:round; stroke-width:4; stroke-opacity:1; fill:none\" points=\"216.436,1146.37 235.334,1146.37 \"/>\n",
       "<polyline clip-path=\"url(#clip230)\" style=\"stroke:#000000; stroke-linecap:round; stroke-linejoin:round; stroke-width:4; stroke-opacity:1; fill:none\" points=\"216.436,806.295 235.334,806.295 \"/>\n",
       "<polyline clip-path=\"url(#clip230)\" style=\"stroke:#000000; stroke-linecap:round; stroke-linejoin:round; stroke-width:4; stroke-opacity:1; fill:none\" points=\"216.436,466.218 235.334,466.218 \"/>\n",
       "<polyline clip-path=\"url(#clip230)\" style=\"stroke:#000000; stroke-linecap:round; stroke-linejoin:round; stroke-width:4; stroke-opacity:1; fill:none\" points=\"216.436,126.142 235.334,126.142 \"/>\n",
       "<path clip-path=\"url(#clip230)\" d=\"M62.9365 1472.25 Q59.3254 1472.25 57.4967 1475.81 Q55.6912 1479.35 55.6912 1486.48 Q55.6912 1493.59 57.4967 1497.15 Q59.3254 1500.7 62.9365 1500.7 Q66.5707 1500.7 68.3763 1497.15 Q70.205 1493.59 70.205 1486.48 Q70.205 1479.35 68.3763 1475.81 Q66.5707 1472.25 62.9365 1472.25 M62.9365 1468.54 Q68.7467 1468.54 71.8022 1473.15 Q74.8809 1477.73 74.8809 1486.48 Q74.8809 1495.21 71.8022 1499.82 Q68.7467 1504.4 62.9365 1504.4 Q57.1264 1504.4 54.0477 1499.82 Q50.9921 1495.21 50.9921 1486.48 Q50.9921 1477.73 54.0477 1473.15 Q57.1264 1468.54 62.9365 1468.54 Z\" fill=\"#000000\" fill-rule=\"nonzero\" fill-opacity=\"1\" /><path clip-path=\"url(#clip230)\" d=\"M83.0984 1497.85 L87.9827 1497.85 L87.9827 1503.73 L83.0984 1503.73 L83.0984 1497.85 Z\" fill=\"#000000\" fill-rule=\"nonzero\" fill-opacity=\"1\" /><path clip-path=\"url(#clip230)\" d=\"M108.168 1472.25 Q104.557 1472.25 102.728 1475.81 Q100.922 1479.35 100.922 1486.48 Q100.922 1493.59 102.728 1497.15 Q104.557 1500.7 108.168 1500.7 Q111.802 1500.7 113.608 1497.15 Q115.436 1493.59 115.436 1486.48 Q115.436 1479.35 113.608 1475.81 Q111.802 1472.25 108.168 1472.25 M108.168 1468.54 Q113.978 1468.54 117.033 1473.15 Q120.112 1477.73 120.112 1486.48 Q120.112 1495.21 117.033 1499.82 Q113.978 1504.4 108.168 1504.4 Q102.358 1504.4 99.2789 1499.82 Q96.2234 1495.21 96.2234 1486.48 Q96.2234 1477.73 99.2789 1473.15 Q102.358 1468.54 108.168 1468.54 Z\" fill=\"#000000\" fill-rule=\"nonzero\" fill-opacity=\"1\" /><path clip-path=\"url(#clip230)\" d=\"M138.33 1472.25 Q134.719 1472.25 132.89 1475.81 Q131.084 1479.35 131.084 1486.48 Q131.084 1493.59 132.89 1497.15 Q134.719 1500.7 138.33 1500.7 Q141.964 1500.7 143.769 1497.15 Q145.598 1493.59 145.598 1486.48 Q145.598 1479.35 143.769 1475.81 Q141.964 1472.25 138.33 1472.25 M138.33 1468.54 Q144.14 1468.54 147.195 1473.15 Q150.274 1477.73 150.274 1486.48 Q150.274 1495.21 147.195 1499.82 Q144.14 1504.4 138.33 1504.4 Q132.519 1504.4 129.441 1499.82 Q126.385 1495.21 126.385 1486.48 Q126.385 1477.73 129.441 1473.15 Q132.519 1468.54 138.33 1468.54 Z\" fill=\"#000000\" fill-rule=\"nonzero\" fill-opacity=\"1\" /><path clip-path=\"url(#clip230)\" d=\"M168.491 1472.25 Q164.88 1472.25 163.052 1475.81 Q161.246 1479.35 161.246 1486.48 Q161.246 1493.59 163.052 1497.15 Q164.88 1500.7 168.491 1500.7 Q172.126 1500.7 173.931 1497.15 Q175.76 1493.59 175.76 1486.48 Q175.76 1479.35 173.931 1475.81 Q172.126 1472.25 168.491 1472.25 M168.491 1468.54 Q174.302 1468.54 177.357 1473.15 Q180.436 1477.73 180.436 1486.48 Q180.436 1495.21 177.357 1499.82 Q174.302 1504.4 168.491 1504.4 Q162.681 1504.4 159.603 1499.82 Q156.547 1495.21 156.547 1486.48 Q156.547 1477.73 159.603 1473.15 Q162.681 1468.54 168.491 1468.54 Z\" fill=\"#000000\" fill-rule=\"nonzero\" fill-opacity=\"1\" /><path clip-path=\"url(#clip230)\" d=\"M63.9319 1132.17 Q60.3208 1132.17 58.4921 1135.73 Q56.6865 1139.28 56.6865 1146.41 Q56.6865 1153.51 58.4921 1157.08 Q60.3208 1160.62 63.9319 1160.62 Q67.5661 1160.62 69.3717 1157.08 Q71.2004 1153.51 71.2004 1146.41 Q71.2004 1139.28 69.3717 1135.73 Q67.5661 1132.17 63.9319 1132.17 M63.9319 1128.47 Q69.742 1128.47 72.7976 1133.07 Q75.8763 1137.66 75.8763 1146.41 Q75.8763 1155.13 72.7976 1159.74 Q69.742 1164.32 63.9319 1164.32 Q58.1217 1164.32 55.043 1159.74 Q51.9875 1155.13 51.9875 1146.41 Q51.9875 1137.66 55.043 1133.07 Q58.1217 1128.47 63.9319 1128.47 Z\" fill=\"#000000\" fill-rule=\"nonzero\" fill-opacity=\"1\" /><path clip-path=\"url(#clip230)\" d=\"M84.0938 1157.77 L88.978 1157.77 L88.978 1163.65 L84.0938 1163.65 L84.0938 1157.77 Z\" fill=\"#000000\" fill-rule=\"nonzero\" fill-opacity=\"1\" /><path clip-path=\"url(#clip230)\" d=\"M109.163 1132.17 Q105.552 1132.17 103.723 1135.73 Q101.918 1139.28 101.918 1146.41 Q101.918 1153.51 103.723 1157.08 Q105.552 1160.62 109.163 1160.62 Q112.797 1160.62 114.603 1157.08 Q116.432 1153.51 116.432 1146.41 Q116.432 1139.28 114.603 1135.73 Q112.797 1132.17 109.163 1132.17 M109.163 1128.47 Q114.973 1128.47 118.029 1133.07 Q121.107 1137.66 121.107 1146.41 Q121.107 1155.13 118.029 1159.74 Q114.973 1164.32 109.163 1164.32 Q103.353 1164.32 100.274 1159.74 Q97.2187 1155.13 97.2187 1146.41 Q97.2187 1137.66 100.274 1133.07 Q103.353 1128.47 109.163 1128.47 Z\" fill=\"#000000\" fill-rule=\"nonzero\" fill-opacity=\"1\" /><path clip-path=\"url(#clip230)\" d=\"M133.353 1159.72 L149.672 1159.72 L149.672 1163.65 L127.728 1163.65 L127.728 1159.72 Q130.39 1156.96 134.973 1152.33 Q139.58 1147.68 140.76 1146.34 Q143.006 1143.81 143.885 1142.08 Q144.788 1140.32 144.788 1138.63 Q144.788 1135.87 142.843 1134.14 Q140.922 1132.4 137.82 1132.4 Q135.621 1132.4 133.168 1133.17 Q130.737 1133.93 127.959 1135.48 L127.959 1130.76 Q130.783 1129.62 133.237 1129.05 Q135.691 1128.47 137.728 1128.47 Q143.098 1128.47 146.293 1131.15 Q149.487 1133.84 149.487 1138.33 Q149.487 1140.46 148.677 1142.38 Q147.89 1144.28 145.783 1146.87 Q145.205 1147.54 142.103 1150.76 Q139.001 1153.95 133.353 1159.72 Z\" fill=\"#000000\" fill-rule=\"nonzero\" fill-opacity=\"1\" /><path clip-path=\"url(#clip230)\" d=\"M159.533 1129.09 L177.89 1129.09 L177.89 1133.03 L163.816 1133.03 L163.816 1141.5 Q164.834 1141.15 165.853 1140.99 Q166.871 1140.8 167.89 1140.8 Q173.677 1140.8 177.056 1143.98 Q180.436 1147.15 180.436 1152.56 Q180.436 1158.14 176.964 1161.24 Q173.491 1164.32 167.172 1164.32 Q164.996 1164.32 162.728 1163.95 Q160.482 1163.58 158.075 1162.84 L158.075 1158.14 Q160.158 1159.28 162.38 1159.83 Q164.603 1160.39 167.079 1160.39 Q171.084 1160.39 173.422 1158.28 Q175.76 1156.17 175.76 1152.56 Q175.76 1148.95 173.422 1146.85 Q171.084 1144.74 167.079 1144.74 Q165.204 1144.74 163.329 1145.16 Q161.478 1145.57 159.533 1146.45 L159.533 1129.09 Z\" fill=\"#000000\" fill-rule=\"nonzero\" fill-opacity=\"1\" /><path clip-path=\"url(#clip230)\" d=\"M62.9365 792.094 Q59.3254 792.094 57.4967 795.658 Q55.6912 799.2 55.6912 806.33 Q55.6912 813.436 57.4967 817.001 Q59.3254 820.542 62.9365 820.542 Q66.5707 820.542 68.3763 817.001 Q70.205 813.436 70.205 806.33 Q70.205 799.2 68.3763 795.658 Q66.5707 792.094 62.9365 792.094 M62.9365 788.39 Q68.7467 788.39 71.8022 792.996 Q74.8809 797.58 74.8809 806.33 Q74.8809 815.056 71.8022 819.663 Q68.7467 824.246 62.9365 824.246 Q57.1264 824.246 54.0477 819.663 Q50.9921 815.056 50.9921 806.33 Q50.9921 797.58 54.0477 792.996 Q57.1264 788.39 62.9365 788.39 Z\" fill=\"#000000\" fill-rule=\"nonzero\" fill-opacity=\"1\" /><path clip-path=\"url(#clip230)\" d=\"M83.0984 817.695 L87.9827 817.695 L87.9827 823.575 L83.0984 823.575 L83.0984 817.695 Z\" fill=\"#000000\" fill-rule=\"nonzero\" fill-opacity=\"1\" /><path clip-path=\"url(#clip230)\" d=\"M108.168 792.094 Q104.557 792.094 102.728 795.658 Q100.922 799.2 100.922 806.33 Q100.922 813.436 102.728 817.001 Q104.557 820.542 108.168 820.542 Q111.802 820.542 113.608 817.001 Q115.436 813.436 115.436 806.33 Q115.436 799.2 113.608 795.658 Q111.802 792.094 108.168 792.094 M108.168 788.39 Q113.978 788.39 117.033 792.996 Q120.112 797.58 120.112 806.33 Q120.112 815.056 117.033 819.663 Q113.978 824.246 108.168 824.246 Q102.358 824.246 99.2789 819.663 Q96.2234 815.056 96.2234 806.33 Q96.2234 797.58 99.2789 792.996 Q102.358 788.39 108.168 788.39 Z\" fill=\"#000000\" fill-rule=\"nonzero\" fill-opacity=\"1\" /><path clip-path=\"url(#clip230)\" d=\"M128.376 789.015 L146.732 789.015 L146.732 792.95 L132.658 792.95 L132.658 801.422 Q133.677 801.075 134.695 800.913 Q135.714 800.728 136.732 800.728 Q142.519 800.728 145.899 803.899 Q149.279 807.07 149.279 812.487 Q149.279 818.066 145.806 821.167 Q142.334 824.246 136.015 824.246 Q133.839 824.246 131.57 823.876 Q129.325 823.505 126.918 822.765 L126.918 818.066 Q129.001 819.2 131.223 819.755 Q133.445 820.311 135.922 820.311 Q139.927 820.311 142.265 818.205 Q144.603 816.098 144.603 812.487 Q144.603 808.876 142.265 806.769 Q139.927 804.663 135.922 804.663 Q134.047 804.663 132.172 805.08 Q130.32 805.496 128.376 806.376 L128.376 789.015 Z\" fill=\"#000000\" fill-rule=\"nonzero\" fill-opacity=\"1\" /><path clip-path=\"url(#clip230)\" d=\"M168.491 792.094 Q164.88 792.094 163.052 795.658 Q161.246 799.2 161.246 806.33 Q161.246 813.436 163.052 817.001 Q164.88 820.542 168.491 820.542 Q172.126 820.542 173.931 817.001 Q175.76 813.436 175.76 806.33 Q175.76 799.2 173.931 795.658 Q172.126 792.094 168.491 792.094 M168.491 788.39 Q174.302 788.39 177.357 792.996 Q180.436 797.58 180.436 806.33 Q180.436 815.056 177.357 819.663 Q174.302 824.246 168.491 824.246 Q162.681 824.246 159.603 819.663 Q156.547 815.056 156.547 806.33 Q156.547 797.58 159.603 792.996 Q162.681 788.39 168.491 788.39 Z\" fill=\"#000000\" fill-rule=\"nonzero\" fill-opacity=\"1\" /><path clip-path=\"url(#clip230)\" d=\"M63.9319 452.017 Q60.3208 452.017 58.4921 455.582 Q56.6865 459.123 56.6865 466.253 Q56.6865 473.36 58.4921 476.924 Q60.3208 480.466 63.9319 480.466 Q67.5661 480.466 69.3717 476.924 Q71.2004 473.36 71.2004 466.253 Q71.2004 459.123 69.3717 455.582 Q67.5661 452.017 63.9319 452.017 M63.9319 448.313 Q69.742 448.313 72.7976 452.92 Q75.8763 457.503 75.8763 466.253 Q75.8763 474.98 72.7976 479.586 Q69.742 484.17 63.9319 484.17 Q58.1217 484.17 55.043 479.586 Q51.9875 474.98 51.9875 466.253 Q51.9875 457.503 55.043 452.92 Q58.1217 448.313 63.9319 448.313 Z\" fill=\"#000000\" fill-rule=\"nonzero\" fill-opacity=\"1\" /><path clip-path=\"url(#clip230)\" d=\"M84.0938 477.619 L88.978 477.619 L88.978 483.498 L84.0938 483.498 L84.0938 477.619 Z\" fill=\"#000000\" fill-rule=\"nonzero\" fill-opacity=\"1\" /><path clip-path=\"url(#clip230)\" d=\"M109.163 452.017 Q105.552 452.017 103.723 455.582 Q101.918 459.123 101.918 466.253 Q101.918 473.36 103.723 476.924 Q105.552 480.466 109.163 480.466 Q112.797 480.466 114.603 476.924 Q116.432 473.36 116.432 466.253 Q116.432 459.123 114.603 455.582 Q112.797 452.017 109.163 452.017 M109.163 448.313 Q114.973 448.313 118.029 452.92 Q121.107 457.503 121.107 466.253 Q121.107 474.98 118.029 479.586 Q114.973 484.17 109.163 484.17 Q103.353 484.17 100.274 479.586 Q97.2187 474.98 97.2187 466.253 Q97.2187 457.503 100.274 452.92 Q103.353 448.313 109.163 448.313 Z\" fill=\"#000000\" fill-rule=\"nonzero\" fill-opacity=\"1\" /><path clip-path=\"url(#clip230)\" d=\"M128.144 448.938 L150.367 448.938 L150.367 450.929 L137.82 483.498 L132.936 483.498 L144.742 452.874 L128.144 452.874 L128.144 448.938 Z\" fill=\"#000000\" fill-rule=\"nonzero\" fill-opacity=\"1\" /><path clip-path=\"url(#clip230)\" d=\"M159.533 448.938 L177.89 448.938 L177.89 452.874 L163.816 452.874 L163.816 461.346 Q164.834 460.998 165.853 460.836 Q166.871 460.651 167.89 460.651 Q173.677 460.651 177.056 463.823 Q180.436 466.994 180.436 472.41 Q180.436 477.989 176.964 481.091 Q173.491 484.17 167.172 484.17 Q164.996 484.17 162.728 483.799 Q160.482 483.429 158.075 482.688 L158.075 477.989 Q160.158 479.123 162.38 479.679 Q164.603 480.234 167.079 480.234 Q171.084 480.234 173.422 478.128 Q175.76 476.022 175.76 472.41 Q175.76 468.799 173.422 466.693 Q171.084 464.586 167.079 464.586 Q165.204 464.586 163.329 465.003 Q161.478 465.42 159.533 466.299 L159.533 448.938 Z\" fill=\"#000000\" fill-rule=\"nonzero\" fill-opacity=\"1\" /><path clip-path=\"url(#clip230)\" d=\"M62.9365 111.941 Q59.3254 111.941 57.4967 115.505 Q55.6912 119.047 55.6912 126.177 Q55.6912 133.283 57.4967 136.848 Q59.3254 140.389 62.9365 140.389 Q66.5707 140.389 68.3763 136.848 Q70.205 133.283 70.205 126.177 Q70.205 119.047 68.3763 115.505 Q66.5707 111.941 62.9365 111.941 M62.9365 108.237 Q68.7467 108.237 71.8022 112.843 Q74.8809 117.427 74.8809 126.177 Q74.8809 134.903 71.8022 139.51 Q68.7467 144.093 62.9365 144.093 Q57.1264 144.093 54.0477 139.51 Q50.9921 134.903 50.9921 126.177 Q50.9921 117.427 54.0477 112.843 Q57.1264 108.237 62.9365 108.237 Z\" fill=\"#000000\" fill-rule=\"nonzero\" fill-opacity=\"1\" /><path clip-path=\"url(#clip230)\" d=\"M83.0984 137.542 L87.9827 137.542 L87.9827 143.422 L83.0984 143.422 L83.0984 137.542 Z\" fill=\"#000000\" fill-rule=\"nonzero\" fill-opacity=\"1\" /><path clip-path=\"url(#clip230)\" d=\"M98.978 139.487 L106.617 139.487 L106.617 113.121 L98.3067 114.788 L98.3067 110.529 L106.571 108.862 L111.246 108.862 L111.246 139.487 L118.885 139.487 L118.885 143.422 L98.978 143.422 L98.978 139.487 Z\" fill=\"#000000\" fill-rule=\"nonzero\" fill-opacity=\"1\" /><path clip-path=\"url(#clip230)\" d=\"M138.33 111.941 Q134.719 111.941 132.89 115.505 Q131.084 119.047 131.084 126.177 Q131.084 133.283 132.89 136.848 Q134.719 140.389 138.33 140.389 Q141.964 140.389 143.769 136.848 Q145.598 133.283 145.598 126.177 Q145.598 119.047 143.769 115.505 Q141.964 111.941 138.33 111.941 M138.33 108.237 Q144.14 108.237 147.195 112.843 Q150.274 117.427 150.274 126.177 Q150.274 134.903 147.195 139.51 Q144.14 144.093 138.33 144.093 Q132.519 144.093 129.441 139.51 Q126.385 134.903 126.385 126.177 Q126.385 117.427 129.441 112.843 Q132.519 108.237 138.33 108.237 Z\" fill=\"#000000\" fill-rule=\"nonzero\" fill-opacity=\"1\" /><path clip-path=\"url(#clip230)\" d=\"M168.491 111.941 Q164.88 111.941 163.052 115.505 Q161.246 119.047 161.246 126.177 Q161.246 133.283 163.052 136.848 Q164.88 140.389 168.491 140.389 Q172.126 140.389 173.931 136.848 Q175.76 133.283 175.76 126.177 Q175.76 119.047 173.931 115.505 Q172.126 111.941 168.491 111.941 M168.491 108.237 Q174.302 108.237 177.357 112.843 Q180.436 117.427 180.436 126.177 Q180.436 134.903 177.357 139.51 Q174.302 144.093 168.491 144.093 Q162.681 144.093 159.603 139.51 Q156.547 134.903 156.547 126.177 Q156.547 117.427 159.603 112.843 Q162.681 108.237 168.491 108.237 Z\" fill=\"#000000\" fill-rule=\"nonzero\" fill-opacity=\"1\" /><path clip-path=\"url(#clip232)\" d=\"M333.937 1472.84 L333.937 1486.45 L381.47 1486.45 L381.47 1472.84 L333.937 1472.84 L333.937 1472.84  Z\" fill=\"#009af9\" fill-rule=\"evenodd\" fill-opacity=\"0.6\"/>\n",
       "<polyline clip-path=\"url(#clip232)\" style=\"stroke:#000000; stroke-linecap:round; stroke-linejoin:round; stroke-width:4; stroke-opacity:0.6; fill:none\" points=\"333.937,1472.84 333.937,1486.45 381.47,1486.45 381.47,1472.84 333.937,1472.84 \"/>\n",
       "<path clip-path=\"url(#clip232)\" d=\"M381.47 1392.59 L381.47 1486.45 L429.003 1486.45 L429.003 1392.59 L381.47 1392.59 L381.47 1392.59  Z\" fill=\"#009af9\" fill-rule=\"evenodd\" fill-opacity=\"0.6\"/>\n",
       "<polyline clip-path=\"url(#clip232)\" style=\"stroke:#000000; stroke-linecap:round; stroke-linejoin:round; stroke-width:4; stroke-opacity:0.6; fill:none\" points=\"381.47,1392.59 381.47,1486.45 429.003,1486.45 429.003,1392.59 381.47,1392.59 \"/>\n",
       "<path clip-path=\"url(#clip232)\" d=\"M429.003 1115.08 L429.003 1486.45 L476.536 1486.45 L476.536 1115.08 L429.003 1115.08 L429.003 1115.08  Z\" fill=\"#009af9\" fill-rule=\"evenodd\" fill-opacity=\"0.6\"/>\n",
       "<polyline clip-path=\"url(#clip232)\" style=\"stroke:#000000; stroke-linecap:round; stroke-linejoin:round; stroke-width:4; stroke-opacity:0.6; fill:none\" points=\"429.003,1115.08 429.003,1486.45 476.536,1486.45 476.536,1115.08 429.003,1115.08 \"/>\n",
       "<path clip-path=\"url(#clip232)\" d=\"M476.536 783.17 L476.536 1486.45 L524.069 1486.45 L524.069 783.17 L476.536 783.17 L476.536 783.17  Z\" fill=\"#009af9\" fill-rule=\"evenodd\" fill-opacity=\"0.6\"/>\n",
       "<polyline clip-path=\"url(#clip232)\" style=\"stroke:#000000; stroke-linecap:round; stroke-linejoin:round; stroke-width:4; stroke-opacity:0.6; fill:none\" points=\"476.536,783.17 476.536,1486.45 524.069,1486.45 524.069,783.17 476.536,783.17 \"/>\n",
       "<path clip-path=\"url(#clip232)\" d=\"M524.069 414.527 L524.069 1486.45 L571.602 1486.45 L571.602 414.527 L524.069 414.527 L524.069 414.527  Z\" fill=\"#009af9\" fill-rule=\"evenodd\" fill-opacity=\"0.6\"/>\n",
       "<polyline clip-path=\"url(#clip232)\" style=\"stroke:#000000; stroke-linecap:round; stroke-linejoin:round; stroke-width:4; stroke-opacity:0.6; fill:none\" points=\"524.069,414.527 524.069,1486.45 571.602,1486.45 571.602,414.527 524.069,414.527 \"/>\n",
       "<path clip-path=\"url(#clip232)\" d=\"M571.602 164.23 L571.602 1486.45 L619.135 1486.45 L619.135 164.23 L571.602 164.23 L571.602 164.23  Z\" fill=\"#009af9\" fill-rule=\"evenodd\" fill-opacity=\"0.6\"/>\n",
       "<polyline clip-path=\"url(#clip232)\" style=\"stroke:#000000; stroke-linecap:round; stroke-linejoin:round; stroke-width:4; stroke-opacity:0.6; fill:none\" points=\"571.602,164.23 571.602,1486.45 619.135,1486.45 619.135,164.23 571.602,164.23 \"/>\n",
       "<path clip-path=\"url(#clip232)\" d=\"M619.135 138.385 L619.135 1486.45 L666.668 1486.45 L666.668 138.385 L619.135 138.385 L619.135 138.385  Z\" fill=\"#009af9\" fill-rule=\"evenodd\" fill-opacity=\"0.6\"/>\n",
       "<polyline clip-path=\"url(#clip232)\" style=\"stroke:#000000; stroke-linecap:round; stroke-linejoin:round; stroke-width:4; stroke-opacity:0.6; fill:none\" points=\"619.135,138.385 619.135,1486.45 666.668,1486.45 666.668,138.385 619.135,138.385 \"/>\n",
       "<path clip-path=\"url(#clip232)\" d=\"M666.668 47.2441 L666.668 1486.45 L714.201 1486.45 L714.201 47.2441 L666.668 47.2441 L666.668 47.2441  Z\" fill=\"#009af9\" fill-rule=\"evenodd\" fill-opacity=\"0.6\"/>\n",
       "<polyline clip-path=\"url(#clip232)\" style=\"stroke:#000000; stroke-linecap:round; stroke-linejoin:round; stroke-width:4; stroke-opacity:0.6; fill:none\" points=\"666.668,47.2441 666.668,1486.45 714.201,1486.45 714.201,47.2441 666.668,47.2441 \"/>\n",
       "<path clip-path=\"url(#clip232)\" d=\"M714.201 220.003 L714.201 1486.45 L761.734 1486.45 L761.734 220.003 L714.201 220.003 L714.201 220.003  Z\" fill=\"#009af9\" fill-rule=\"evenodd\" fill-opacity=\"0.6\"/>\n",
       "<polyline clip-path=\"url(#clip232)\" style=\"stroke:#000000; stroke-linecap:round; stroke-linejoin:round; stroke-width:4; stroke-opacity:0.6; fill:none\" points=\"714.201,220.003 714.201,1486.45 761.734,1486.45 761.734,220.003 714.201,220.003 \"/>\n",
       "<path clip-path=\"url(#clip232)\" d=\"M761.734 375.078 L761.734 1486.45 L809.267 1486.45 L809.267 375.078 L761.734 375.078 L761.734 375.078  Z\" fill=\"#009af9\" fill-rule=\"evenodd\" fill-opacity=\"0.6\"/>\n",
       "<polyline clip-path=\"url(#clip232)\" style=\"stroke:#000000; stroke-linecap:round; stroke-linejoin:round; stroke-width:4; stroke-opacity:0.6; fill:none\" points=\"761.734,375.078 761.734,1486.45 809.267,1486.45 809.267,375.078 761.734,375.078 \"/>\n",
       "<path clip-path=\"url(#clip232)\" d=\"M809.267 419.968 L809.267 1486.45 L856.8 1486.45 L856.8 419.968 L809.267 419.968 L809.267 419.968  Z\" fill=\"#009af9\" fill-rule=\"evenodd\" fill-opacity=\"0.6\"/>\n",
       "<polyline clip-path=\"url(#clip232)\" style=\"stroke:#000000; stroke-linecap:round; stroke-linejoin:round; stroke-width:4; stroke-opacity:0.6; fill:none\" points=\"809.267,419.968 809.267,1486.45 856.8,1486.45 856.8,419.968 809.267,419.968 \"/>\n",
       "<path clip-path=\"url(#clip232)\" d=\"M856.8 638.977 L856.8 1486.45 L904.332 1486.45 L904.332 638.977 L856.8 638.977 L856.8 638.977  Z\" fill=\"#009af9\" fill-rule=\"evenodd\" fill-opacity=\"0.6\"/>\n",
       "<polyline clip-path=\"url(#clip232)\" style=\"stroke:#000000; stroke-linecap:round; stroke-linejoin:round; stroke-width:4; stroke-opacity:0.6; fill:none\" points=\"856.8,638.977 856.8,1486.45 904.332,1486.45 904.332,638.977 856.8,638.977 \"/>\n",
       "<path clip-path=\"url(#clip232)\" d=\"M904.332 799.493 L904.332 1486.45 L951.865 1486.45 L951.865 799.493 L904.332 799.493 L904.332 799.493  Z\" fill=\"#009af9\" fill-rule=\"evenodd\" fill-opacity=\"0.6\"/>\n",
       "<polyline clip-path=\"url(#clip232)\" style=\"stroke:#000000; stroke-linecap:round; stroke-linejoin:round; stroke-width:4; stroke-opacity:0.6; fill:none\" points=\"904.332,799.493 904.332,1486.45 951.865,1486.45 951.865,799.493 904.332,799.493 \"/>\n",
       "<path clip-path=\"url(#clip232)\" d=\"M951.865 926.002 L951.865 1486.45 L999.398 1486.45 L999.398 926.002 L951.865 926.002 L951.865 926.002  Z\" fill=\"#009af9\" fill-rule=\"evenodd\" fill-opacity=\"0.6\"/>\n",
       "<polyline clip-path=\"url(#clip232)\" style=\"stroke:#000000; stroke-linecap:round; stroke-linejoin:round; stroke-width:4; stroke-opacity:0.6; fill:none\" points=\"951.865,926.002 951.865,1486.45 999.398,1486.45 999.398,926.002 951.865,926.002 \"/>\n",
       "<path clip-path=\"url(#clip232)\" d=\"M999.398 1034.83 L999.398 1486.45 L1046.93 1486.45 L1046.93 1034.83 L999.398 1034.83 L999.398 1034.83  Z\" fill=\"#009af9\" fill-rule=\"evenodd\" fill-opacity=\"0.6\"/>\n",
       "<polyline clip-path=\"url(#clip232)\" style=\"stroke:#000000; stroke-linecap:round; stroke-linejoin:round; stroke-width:4; stroke-opacity:0.6; fill:none\" points=\"999.398,1034.83 999.398,1486.45 1046.93,1486.45 1046.93,1034.83 999.398,1034.83 \"/>\n",
       "<path clip-path=\"url(#clip232)\" d=\"M1046.93 1136.85 L1046.93 1486.45 L1094.46 1486.45 L1094.46 1136.85 L1046.93 1136.85 L1046.93 1136.85  Z\" fill=\"#009af9\" fill-rule=\"evenodd\" fill-opacity=\"0.6\"/>\n",
       "<polyline clip-path=\"url(#clip232)\" style=\"stroke:#000000; stroke-linecap:round; stroke-linejoin:round; stroke-width:4; stroke-opacity:0.6; fill:none\" points=\"1046.93,1136.85 1046.93,1486.45 1094.46,1486.45 1094.46,1136.85 1046.93,1136.85 \"/>\n",
       "<path clip-path=\"url(#clip232)\" d=\"M1094.46 1240.23 L1094.46 1486.45 L1142 1486.45 L1142 1240.23 L1094.46 1240.23 L1094.46 1240.23  Z\" fill=\"#009af9\" fill-rule=\"evenodd\" fill-opacity=\"0.6\"/>\n",
       "<polyline clip-path=\"url(#clip232)\" style=\"stroke:#000000; stroke-linecap:round; stroke-linejoin:round; stroke-width:4; stroke-opacity:0.6; fill:none\" points=\"1094.46,1240.23 1094.46,1486.45 1142,1486.45 1142,1240.23 1094.46,1240.23 \"/>\n",
       "<path clip-path=\"url(#clip232)\" d=\"M1142 1302.81 L1142 1486.45 L1189.53 1486.45 L1189.53 1302.81 L1142 1302.81 L1142 1302.81  Z\" fill=\"#009af9\" fill-rule=\"evenodd\" fill-opacity=\"0.6\"/>\n",
       "<polyline clip-path=\"url(#clip232)\" style=\"stroke:#000000; stroke-linecap:round; stroke-linejoin:round; stroke-width:4; stroke-opacity:0.6; fill:none\" points=\"1142,1302.81 1142,1486.45 1189.53,1486.45 1189.53,1302.81 1142,1302.81 \"/>\n",
       "<path clip-path=\"url(#clip232)\" d=\"M1189.53 1362.66 L1189.53 1486.45 L1237.06 1486.45 L1237.06 1362.66 L1189.53 1362.66 L1189.53 1362.66  Z\" fill=\"#009af9\" fill-rule=\"evenodd\" fill-opacity=\"0.6\"/>\n",
       "<polyline clip-path=\"url(#clip232)\" style=\"stroke:#000000; stroke-linecap:round; stroke-linejoin:round; stroke-width:4; stroke-opacity:0.6; fill:none\" points=\"1189.53,1362.66 1189.53,1486.45 1237.06,1486.45 1237.06,1362.66 1189.53,1362.66 \"/>\n",
       "<path clip-path=\"url(#clip232)\" d=\"M1237.06 1387.15 L1237.06 1486.45 L1284.6 1486.45 L1284.6 1387.15 L1237.06 1387.15 L1237.06 1387.15  Z\" fill=\"#009af9\" fill-rule=\"evenodd\" fill-opacity=\"0.6\"/>\n",
       "<polyline clip-path=\"url(#clip232)\" style=\"stroke:#000000; stroke-linecap:round; stroke-linejoin:round; stroke-width:4; stroke-opacity:0.6; fill:none\" points=\"1237.06,1387.15 1237.06,1486.45 1284.6,1486.45 1284.6,1387.15 1237.06,1387.15 \"/>\n",
       "<path clip-path=\"url(#clip232)\" d=\"M1284.6 1410.27 L1284.6 1486.45 L1332.13 1486.45 L1332.13 1410.27 L1284.6 1410.27 L1284.6 1410.27  Z\" fill=\"#009af9\" fill-rule=\"evenodd\" fill-opacity=\"0.6\"/>\n",
       "<polyline clip-path=\"url(#clip232)\" style=\"stroke:#000000; stroke-linecap:round; stroke-linejoin:round; stroke-width:4; stroke-opacity:0.6; fill:none\" points=\"1284.6,1410.27 1284.6,1486.45 1332.13,1486.45 1332.13,1410.27 1284.6,1410.27 \"/>\n",
       "<path clip-path=\"url(#clip232)\" d=\"M1332.13 1451.08 L1332.13 1486.45 L1379.66 1486.45 L1379.66 1451.08 L1332.13 1451.08 L1332.13 1451.08  Z\" fill=\"#009af9\" fill-rule=\"evenodd\" fill-opacity=\"0.6\"/>\n",
       "<polyline clip-path=\"url(#clip232)\" style=\"stroke:#000000; stroke-linecap:round; stroke-linejoin:round; stroke-width:4; stroke-opacity:0.6; fill:none\" points=\"1332.13,1451.08 1332.13,1486.45 1379.66,1486.45 1379.66,1451.08 1332.13,1451.08 \"/>\n",
       "<path clip-path=\"url(#clip232)\" d=\"M1379.66 1438.84 L1379.66 1486.45 L1427.19 1486.45 L1427.19 1438.84 L1379.66 1438.84 L1379.66 1438.84  Z\" fill=\"#009af9\" fill-rule=\"evenodd\" fill-opacity=\"0.6\"/>\n",
       "<polyline clip-path=\"url(#clip232)\" style=\"stroke:#000000; stroke-linecap:round; stroke-linejoin:round; stroke-width:4; stroke-opacity:0.6; fill:none\" points=\"1379.66,1438.84 1379.66,1486.45 1427.19,1486.45 1427.19,1438.84 1379.66,1438.84 \"/>\n",
       "<path clip-path=\"url(#clip232)\" d=\"M1427.19 1457.88 L1427.19 1486.45 L1474.73 1486.45 L1474.73 1457.88 L1427.19 1457.88 L1427.19 1457.88  Z\" fill=\"#009af9\" fill-rule=\"evenodd\" fill-opacity=\"0.6\"/>\n",
       "<polyline clip-path=\"url(#clip232)\" style=\"stroke:#000000; stroke-linecap:round; stroke-linejoin:round; stroke-width:4; stroke-opacity:0.6; fill:none\" points=\"1427.19,1457.88 1427.19,1486.45 1474.73,1486.45 1474.73,1457.88 1427.19,1457.88 \"/>\n",
       "<path clip-path=\"url(#clip232)\" d=\"M1474.73 1464.68 L1474.73 1486.45 L1522.26 1486.45 L1522.26 1464.68 L1474.73 1464.68 L1474.73 1464.68  Z\" fill=\"#009af9\" fill-rule=\"evenodd\" fill-opacity=\"0.6\"/>\n",
       "<polyline clip-path=\"url(#clip232)\" style=\"stroke:#000000; stroke-linecap:round; stroke-linejoin:round; stroke-width:4; stroke-opacity:0.6; fill:none\" points=\"1474.73,1464.68 1474.73,1486.45 1522.26,1486.45 1522.26,1464.68 1474.73,1464.68 \"/>\n",
       "<path clip-path=\"url(#clip232)\" d=\"M1522.26 1467.4 L1522.26 1486.45 L1569.79 1486.45 L1569.79 1467.4 L1522.26 1467.4 L1522.26 1467.4  Z\" fill=\"#009af9\" fill-rule=\"evenodd\" fill-opacity=\"0.6\"/>\n",
       "<polyline clip-path=\"url(#clip232)\" style=\"stroke:#000000; stroke-linecap:round; stroke-linejoin:round; stroke-width:4; stroke-opacity:0.6; fill:none\" points=\"1522.26,1467.4 1522.26,1486.45 1569.79,1486.45 1569.79,1467.4 1522.26,1467.4 \"/>\n",
       "<path clip-path=\"url(#clip232)\" d=\"M1569.79 1483.73 L1569.79 1486.45 L1617.33 1486.45 L1617.33 1483.73 L1569.79 1483.73 L1569.79 1483.73  Z\" fill=\"#009af9\" fill-rule=\"evenodd\" fill-opacity=\"0.6\"/>\n",
       "<polyline clip-path=\"url(#clip232)\" style=\"stroke:#000000; stroke-linecap:round; stroke-linejoin:round; stroke-width:4; stroke-opacity:0.6; fill:none\" points=\"1569.79,1483.73 1569.79,1486.45 1617.33,1486.45 1617.33,1483.73 1569.79,1483.73 \"/>\n",
       "<path clip-path=\"url(#clip232)\" d=\"M1617.33 1482.37 L1617.33 1486.45 L1664.86 1486.45 L1664.86 1482.37 L1617.33 1482.37 L1617.33 1482.37  Z\" fill=\"#009af9\" fill-rule=\"evenodd\" fill-opacity=\"0.6\"/>\n",
       "<polyline clip-path=\"url(#clip232)\" style=\"stroke:#000000; stroke-linecap:round; stroke-linejoin:round; stroke-width:4; stroke-opacity:0.6; fill:none\" points=\"1617.33,1482.37 1617.33,1486.45 1664.86,1486.45 1664.86,1482.37 1617.33,1482.37 \"/>\n",
       "<path clip-path=\"url(#clip232)\" d=\"M1664.86 1482.37 L1664.86 1486.45 L1712.39 1486.45 L1712.39 1482.37 L1664.86 1482.37 L1664.86 1482.37  Z\" fill=\"#009af9\" fill-rule=\"evenodd\" fill-opacity=\"0.6\"/>\n",
       "<polyline clip-path=\"url(#clip232)\" style=\"stroke:#000000; stroke-linecap:round; stroke-linejoin:round; stroke-width:4; stroke-opacity:0.6; fill:none\" points=\"1664.86,1482.37 1664.86,1486.45 1712.39,1486.45 1712.39,1482.37 1664.86,1482.37 \"/>\n",
       "<path clip-path=\"url(#clip232)\" d=\"M1712.39 1482.37 L1712.39 1486.45 L1759.93 1486.45 L1759.93 1482.37 L1712.39 1482.37 L1712.39 1482.37  Z\" fill=\"#009af9\" fill-rule=\"evenodd\" fill-opacity=\"0.6\"/>\n",
       "<polyline clip-path=\"url(#clip232)\" style=\"stroke:#000000; stroke-linecap:round; stroke-linejoin:round; stroke-width:4; stroke-opacity:0.6; fill:none\" points=\"1712.39,1482.37 1712.39,1486.45 1759.93,1486.45 1759.93,1482.37 1712.39,1482.37 \"/>\n",
       "<path clip-path=\"url(#clip232)\" d=\"M1759.93 1486.45 L1759.93 1486.45 L1807.46 1486.45 L1807.46 1486.45 L1759.93 1486.45 L1759.93 1486.45  Z\" fill=\"#009af9\" fill-rule=\"evenodd\" fill-opacity=\"0.6\"/>\n",
       "<polyline clip-path=\"url(#clip232)\" style=\"stroke:#000000; stroke-linecap:round; stroke-linejoin:round; stroke-width:4; stroke-opacity:0.6; fill:none\" points=\"1759.93,1486.45 1759.93,1486.45 1807.46,1486.45 1759.93,1486.45 \"/>\n",
       "<path clip-path=\"url(#clip232)\" d=\"M1807.46 1485.09 L1807.46 1486.45 L1854.99 1486.45 L1854.99 1485.09 L1807.46 1485.09 L1807.46 1485.09  Z\" fill=\"#009af9\" fill-rule=\"evenodd\" fill-opacity=\"0.6\"/>\n",
       "<polyline clip-path=\"url(#clip232)\" style=\"stroke:#000000; stroke-linecap:round; stroke-linejoin:round; stroke-width:4; stroke-opacity:0.6; fill:none\" points=\"1807.46,1485.09 1807.46,1486.45 1854.99,1486.45 1854.99,1485.09 1807.46,1485.09 \"/>\n",
       "<path clip-path=\"url(#clip232)\" d=\"M1854.99 1486.45 L1854.99 1486.45 L1902.52 1486.45 L1902.52 1486.45 L1854.99 1486.45 L1854.99 1486.45  Z\" fill=\"#009af9\" fill-rule=\"evenodd\" fill-opacity=\"0.6\"/>\n",
       "<polyline clip-path=\"url(#clip232)\" style=\"stroke:#000000; stroke-linecap:round; stroke-linejoin:round; stroke-width:4; stroke-opacity:0.6; fill:none\" points=\"1854.99,1486.45 1854.99,1486.45 1902.52,1486.45 1854.99,1486.45 \"/>\n",
       "<path clip-path=\"url(#clip232)\" d=\"M1902.52 1486.45 L1902.52 1486.45 L1950.06 1486.45 L1950.06 1486.45 L1902.52 1486.45 L1902.52 1486.45  Z\" fill=\"#009af9\" fill-rule=\"evenodd\" fill-opacity=\"0.6\"/>\n",
       "<polyline clip-path=\"url(#clip232)\" style=\"stroke:#000000; stroke-linecap:round; stroke-linejoin:round; stroke-width:4; stroke-opacity:0.6; fill:none\" points=\"1902.52,1486.45 1902.52,1486.45 1950.06,1486.45 1902.52,1486.45 \"/>\n",
       "<path clip-path=\"url(#clip232)\" d=\"M1950.06 1486.45 L1950.06 1486.45 L1997.59 1486.45 L1997.59 1486.45 L1950.06 1486.45 L1950.06 1486.45  Z\" fill=\"#009af9\" fill-rule=\"evenodd\" fill-opacity=\"0.6\"/>\n",
       "<polyline clip-path=\"url(#clip232)\" style=\"stroke:#000000; stroke-linecap:round; stroke-linejoin:round; stroke-width:4; stroke-opacity:0.6; fill:none\" points=\"1950.06,1486.45 1950.06,1486.45 1997.59,1486.45 1950.06,1486.45 \"/>\n",
       "<path clip-path=\"url(#clip232)\" d=\"M1997.59 1486.45 L1997.59 1486.45 L2045.12 1486.45 L2045.12 1486.45 L1997.59 1486.45 L1997.59 1486.45  Z\" fill=\"#009af9\" fill-rule=\"evenodd\" fill-opacity=\"0.6\"/>\n",
       "<polyline clip-path=\"url(#clip232)\" style=\"stroke:#000000; stroke-linecap:round; stroke-linejoin:round; stroke-width:4; stroke-opacity:0.6; fill:none\" points=\"1997.59,1486.45 1997.59,1486.45 2045.12,1486.45 1997.59,1486.45 \"/>\n",
       "<path clip-path=\"url(#clip232)\" d=\"M2045.12 1486.45 L2045.12 1486.45 L2092.66 1486.45 L2092.66 1486.45 L2045.12 1486.45 L2045.12 1486.45  Z\" fill=\"#009af9\" fill-rule=\"evenodd\" fill-opacity=\"0.6\"/>\n",
       "<polyline clip-path=\"url(#clip232)\" style=\"stroke:#000000; stroke-linecap:round; stroke-linejoin:round; stroke-width:4; stroke-opacity:0.6; fill:none\" points=\"2045.12,1486.45 2045.12,1486.45 2092.66,1486.45 2045.12,1486.45 \"/>\n",
       "<path clip-path=\"url(#clip232)\" d=\"M2092.66 1486.45 L2092.66 1486.45 L2140.19 1486.45 L2140.19 1486.45 L2092.66 1486.45 L2092.66 1486.45  Z\" fill=\"#009af9\" fill-rule=\"evenodd\" fill-opacity=\"0.6\"/>\n",
       "<polyline clip-path=\"url(#clip232)\" style=\"stroke:#000000; stroke-linecap:round; stroke-linejoin:round; stroke-width:4; stroke-opacity:0.6; fill:none\" points=\"2092.66,1486.45 2092.66,1486.45 2140.19,1486.45 2092.66,1486.45 \"/>\n",
       "<path clip-path=\"url(#clip232)\" d=\"M2140.19 1486.45 L2140.19 1486.45 L2187.72 1486.45 L2187.72 1486.45 L2140.19 1486.45 L2140.19 1486.45  Z\" fill=\"#009af9\" fill-rule=\"evenodd\" fill-opacity=\"0.6\"/>\n",
       "<polyline clip-path=\"url(#clip232)\" style=\"stroke:#000000; stroke-linecap:round; stroke-linejoin:round; stroke-width:4; stroke-opacity:0.6; fill:none\" points=\"2140.19,1486.45 2140.19,1486.45 2187.72,1486.45 2140.19,1486.45 \"/>\n",
       "<path clip-path=\"url(#clip232)\" d=\"M2187.72 1485.09 L2187.72 1486.45 L2235.25 1486.45 L2235.25 1485.09 L2187.72 1485.09 L2187.72 1485.09  Z\" fill=\"#009af9\" fill-rule=\"evenodd\" fill-opacity=\"0.6\"/>\n",
       "<polyline clip-path=\"url(#clip232)\" style=\"stroke:#000000; stroke-linecap:round; stroke-linejoin:round; stroke-width:4; stroke-opacity:0.6; fill:none\" points=\"2187.72,1485.09 2187.72,1486.45 2235.25,1486.45 2235.25,1485.09 2187.72,1485.09 \"/>\n",
       "<circle clip-path=\"url(#clip232)\" style=\"fill:#009af9; stroke:none; fill-opacity:0\" cx=\"357.704\" cy=\"1472.84\" r=\"2\"/>\n",
       "<circle clip-path=\"url(#clip232)\" style=\"fill:#009af9; stroke:none; fill-opacity:0\" cx=\"405.237\" cy=\"1392.59\" r=\"2\"/>\n",
       "<circle clip-path=\"url(#clip232)\" style=\"fill:#009af9; stroke:none; fill-opacity:0\" cx=\"452.77\" cy=\"1115.08\" r=\"2\"/>\n",
       "<circle clip-path=\"url(#clip232)\" style=\"fill:#009af9; stroke:none; fill-opacity:0\" cx=\"500.303\" cy=\"783.17\" r=\"2\"/>\n",
       "<circle clip-path=\"url(#clip232)\" style=\"fill:#009af9; stroke:none; fill-opacity:0\" cx=\"547.835\" cy=\"414.527\" r=\"2\"/>\n",
       "<circle clip-path=\"url(#clip232)\" style=\"fill:#009af9; stroke:none; fill-opacity:0\" cx=\"595.368\" cy=\"164.23\" r=\"2\"/>\n",
       "<circle clip-path=\"url(#clip232)\" style=\"fill:#009af9; stroke:none; fill-opacity:0\" cx=\"642.901\" cy=\"138.385\" r=\"2\"/>\n",
       "<circle clip-path=\"url(#clip232)\" style=\"fill:#009af9; stroke:none; fill-opacity:0\" cx=\"690.434\" cy=\"47.2441\" r=\"2\"/>\n",
       "<circle clip-path=\"url(#clip232)\" style=\"fill:#009af9; stroke:none; fill-opacity:0\" cx=\"737.967\" cy=\"220.003\" r=\"2\"/>\n",
       "<circle clip-path=\"url(#clip232)\" style=\"fill:#009af9; stroke:none; fill-opacity:0\" cx=\"785.5\" cy=\"375.078\" r=\"2\"/>\n",
       "<circle clip-path=\"url(#clip232)\" style=\"fill:#009af9; stroke:none; fill-opacity:0\" cx=\"833.033\" cy=\"419.968\" r=\"2\"/>\n",
       "<circle clip-path=\"url(#clip232)\" style=\"fill:#009af9; stroke:none; fill-opacity:0\" cx=\"880.566\" cy=\"638.977\" r=\"2\"/>\n",
       "<circle clip-path=\"url(#clip232)\" style=\"fill:#009af9; stroke:none; fill-opacity:0\" cx=\"928.099\" cy=\"799.493\" r=\"2\"/>\n",
       "<circle clip-path=\"url(#clip232)\" style=\"fill:#009af9; stroke:none; fill-opacity:0\" cx=\"975.632\" cy=\"926.002\" r=\"2\"/>\n",
       "<circle clip-path=\"url(#clip232)\" style=\"fill:#009af9; stroke:none; fill-opacity:0\" cx=\"1023.16\" cy=\"1034.83\" r=\"2\"/>\n",
       "<circle clip-path=\"url(#clip232)\" style=\"fill:#009af9; stroke:none; fill-opacity:0\" cx=\"1070.7\" cy=\"1136.85\" r=\"2\"/>\n",
       "<circle clip-path=\"url(#clip232)\" style=\"fill:#009af9; stroke:none; fill-opacity:0\" cx=\"1118.23\" cy=\"1240.23\" r=\"2\"/>\n",
       "<circle clip-path=\"url(#clip232)\" style=\"fill:#009af9; stroke:none; fill-opacity:0\" cx=\"1165.76\" cy=\"1302.81\" r=\"2\"/>\n",
       "<circle clip-path=\"url(#clip232)\" style=\"fill:#009af9; stroke:none; fill-opacity:0\" cx=\"1213.3\" cy=\"1362.66\" r=\"2\"/>\n",
       "<circle clip-path=\"url(#clip232)\" style=\"fill:#009af9; stroke:none; fill-opacity:0\" cx=\"1260.83\" cy=\"1387.15\" r=\"2\"/>\n",
       "<circle clip-path=\"url(#clip232)\" style=\"fill:#009af9; stroke:none; fill-opacity:0\" cx=\"1308.36\" cy=\"1410.27\" r=\"2\"/>\n",
       "<circle clip-path=\"url(#clip232)\" style=\"fill:#009af9; stroke:none; fill-opacity:0\" cx=\"1355.9\" cy=\"1451.08\" r=\"2\"/>\n",
       "<circle clip-path=\"url(#clip232)\" style=\"fill:#009af9; stroke:none; fill-opacity:0\" cx=\"1403.43\" cy=\"1438.84\" r=\"2\"/>\n",
       "<circle clip-path=\"url(#clip232)\" style=\"fill:#009af9; stroke:none; fill-opacity:0\" cx=\"1450.96\" cy=\"1457.88\" r=\"2\"/>\n",
       "<circle clip-path=\"url(#clip232)\" style=\"fill:#009af9; stroke:none; fill-opacity:0\" cx=\"1498.49\" cy=\"1464.68\" r=\"2\"/>\n",
       "<circle clip-path=\"url(#clip232)\" style=\"fill:#009af9; stroke:none; fill-opacity:0\" cx=\"1546.03\" cy=\"1467.4\" r=\"2\"/>\n",
       "<circle clip-path=\"url(#clip232)\" style=\"fill:#009af9; stroke:none; fill-opacity:0\" cx=\"1593.56\" cy=\"1483.73\" r=\"2\"/>\n",
       "<circle clip-path=\"url(#clip232)\" style=\"fill:#009af9; stroke:none; fill-opacity:0\" cx=\"1641.09\" cy=\"1482.37\" r=\"2\"/>\n",
       "<circle clip-path=\"url(#clip232)\" style=\"fill:#009af9; stroke:none; fill-opacity:0\" cx=\"1688.63\" cy=\"1482.37\" r=\"2\"/>\n",
       "<circle clip-path=\"url(#clip232)\" style=\"fill:#009af9; stroke:none; fill-opacity:0\" cx=\"1736.16\" cy=\"1482.37\" r=\"2\"/>\n",
       "<circle clip-path=\"url(#clip232)\" style=\"fill:#009af9; stroke:none; fill-opacity:0\" cx=\"1783.69\" cy=\"1486.45\" r=\"2\"/>\n",
       "<circle clip-path=\"url(#clip232)\" style=\"fill:#009af9; stroke:none; fill-opacity:0\" cx=\"1831.22\" cy=\"1485.09\" r=\"2\"/>\n",
       "<circle clip-path=\"url(#clip232)\" style=\"fill:#009af9; stroke:none; fill-opacity:0\" cx=\"1878.76\" cy=\"1486.45\" r=\"2\"/>\n",
       "<circle clip-path=\"url(#clip232)\" style=\"fill:#009af9; stroke:none; fill-opacity:0\" cx=\"1926.29\" cy=\"1486.45\" r=\"2\"/>\n",
       "<circle clip-path=\"url(#clip232)\" style=\"fill:#009af9; stroke:none; fill-opacity:0\" cx=\"1973.82\" cy=\"1486.45\" r=\"2\"/>\n",
       "<circle clip-path=\"url(#clip232)\" style=\"fill:#009af9; stroke:none; fill-opacity:0\" cx=\"2021.36\" cy=\"1486.45\" r=\"2\"/>\n",
       "<circle clip-path=\"url(#clip232)\" style=\"fill:#009af9; stroke:none; fill-opacity:0\" cx=\"2068.89\" cy=\"1486.45\" r=\"2\"/>\n",
       "<circle clip-path=\"url(#clip232)\" style=\"fill:#009af9; stroke:none; fill-opacity:0\" cx=\"2116.42\" cy=\"1486.45\" r=\"2\"/>\n",
       "<circle clip-path=\"url(#clip232)\" style=\"fill:#009af9; stroke:none; fill-opacity:0\" cx=\"2163.96\" cy=\"1486.45\" r=\"2\"/>\n",
       "<circle clip-path=\"url(#clip232)\" style=\"fill:#009af9; stroke:none; fill-opacity:0\" cx=\"2211.49\" cy=\"1485.09\" r=\"2\"/>\n",
       "<polyline clip-path=\"url(#clip232)\" style=\"stroke:#ff0000; stroke-linecap:round; stroke-linejoin:round; stroke-width:8; stroke-opacity:1; fill:none\" points=\"333.937,1486.45 338.691,1486.43 343.444,1486.28 348.197,1485.79 352.95,1484.74 357.704,1482.89 362.457,1480.04 367.21,1476 371.964,1470.58 376.717,1463.66 381.47,1455.1 386.224,1444.82 390.977,1432.76 395.73,1418.86 400.483,1403.12 405.237,1385.53 409.99,1366.13 414.743,1344.94 419.497,1322.03 424.25,1297.47 429.003,1271.33 433.756,1243.72 438.51,1214.73 443.263,1184.48 448.016,1153.06 452.77,1120.62 457.523,1087.26 462.276,1053.1 467.029,1018.28 471.783,982.92 476.536,947.136 481.289,911.052 486.043,874.786 490.796,838.455 495.549,802.169 500.303,766.037 505.056,730.162 509.809,694.642 514.562,659.572 519.316,625.039 524.069,591.128 528.822,557.915 533.576,525.474 538.329,493.872 543.082,463.169 547.835,433.423 552.589,404.684 557.342,376.998 562.095,350.404 566.849,324.94 571.602,300.635 576.355,277.515 581.109,255.603 585.862,234.914 590.615,215.463 595.368,197.258 600.122,180.304 604.875,164.604 609.628,150.156 614.382,136.955 619.135,124.993 623.888,114.26 628.641,104.743 633.395,96.4258 638.148,89.2917 642.901,83.3206 647.655,78.4909 652.408,74.7795 657.161,72.1615 661.915,70.6109 666.668,70.1003 671.421,70.6013 676.174,72.0845 680.928,74.5199 685.681,77.8766 690.434,82.1233 695.188,87.2281 699.941,93.159 704.694,99.8836 709.447,107.369 714.201,115.584 718.954,124.494 723.707,134.069 728.461,144.275 733.214,155.08 737.967,166.453 742.72,178.364 747.474,190.78 752.227,203.671 756.98,217.008 761.734,230.762 766.487,244.903 771.24,259.404 775.994,274.236 780.747,289.374 785.5,304.791 790.253,320.462 795.007,336.362 799.76,352.467 804.513,368.754 809.267,385.2 814.02,401.784 818.773,418.485 823.526,435.282 828.28,452.157 833.033,469.09 837.786,486.063 842.54,503.059 847.293,520.063 852.046,537.057 856.8,554.027 861.553,570.958 866.306,587.838 871.059,604.652 875.813,621.389 880.566,638.036 885.319,654.584 890.073,671.021 894.826,687.337 899.579,703.524 904.332,719.572 909.086,735.474 913.839,751.223 918.592,766.81 923.346,782.229 928.099,797.475 932.852,812.542 937.605,827.425 942.359,842.119 947.112,856.62 951.865,870.924 956.619,885.028 961.372,898.928 966.125,912.622 970.879,926.108 975.632,939.384 980.385,952.448 985.138,965.299 989.892,977.935 994.645,990.356 999.398,1002.56 1004.15,1014.55 1008.9,1026.32 1013.66,1037.88 1018.41,1049.22 1023.16,1060.35 1027.92,1071.26 1032.67,1081.96 1037.42,1092.45 1042.18,1102.73 1046.93,1112.8 1051.68,1122.66 1056.44,1132.31 1061.19,1141.76 1065.94,1151.01 1070.7,1160.06 1075.45,1168.91 1080.2,1177.56 1084.96,1186.03 1089.71,1194.3 1094.46,1202.38 1099.22,1210.28 1103.97,1217.99 1108.72,1225.52 1113.48,1232.88 1118.23,1240.06 1122.98,1247.07 1127.74,1253.9 1132.49,1260.57 1137.24,1267.08 1142,1273.43 1146.75,1279.61 1151.5,1285.64 1156.26,1291.52 1161.01,1297.25 1165.76,1302.83 1170.52,1308.27 1175.27,1313.56 1180.02,1318.72 1184.78,1323.74 1189.53,1328.63 1194.28,1333.39 1199.04,1338.02 1203.79,1342.52 1208.54,1346.9 1213.3,1351.17 1218.05,1355.31 1222.8,1359.35 1227.56,1363.27 1232.31,1367.08 1237.06,1370.78 1241.82,1374.38 1246.57,1377.88 1251.32,1381.28 1256.08,1384.59 1260.83,1387.8 1265.58,1390.91 1270.34,1393.94 1275.09,1396.88 1279.84,1399.73 1284.6,1402.5 1289.35,1405.19 1294.1,1407.8 1298.86,1410.33 1303.61,1412.78 1308.36,1415.17 1313.12,1417.48 1317.87,1419.72 1322.62,1421.89 1327.38,1424 1332.13,1426.05 1336.88,1428.03 1341.64,1429.95 1346.39,1431.82 1351.14,1433.62 1355.9,1435.37 1360.65,1437.07 1365.4,1438.71 1370.16,1440.3 1374.91,1441.84 1379.66,1443.34 1384.42,1444.78 1389.17,1446.18 1393.92,1447.54 1398.67,1448.85 1403.43,1450.12 1408.18,1451.36 1412.93,1452.55 1417.69,1453.7 1422.44,1454.82 1427.19,1455.9 1431.95,1456.94 1436.7,1457.95 1441.45,1458.93 1446.21,1459.88 1450.96,1460.8 1455.71,1461.68 1460.47,1462.54 1465.22,1463.37 1469.97,1464.17 1474.73,1464.94 1479.48,1465.69 1484.23,1466.41 1488.99,1467.11 1493.74,1467.79 1498.49,1468.45 1503.25,1469.08 1508,1469.69 1512.75,1470.28 1517.51,1470.85 1522.26,1471.4 1527.01,1471.93 1531.77,1472.45 1536.52,1472.94 1541.27,1473.42 1546.03,1473.89 1550.78,1474.34 1555.53,1474.77 1560.29,1475.19 1565.04,1475.59 1569.79,1475.98 1574.55,1476.35 1579.3,1476.72 1584.05,1477.07 1588.81,1477.41 1593.56,1477.73 1598.31,1478.05 1603.07,1478.35 1607.82,1478.64 1612.57,1478.93 1617.33,1479.2 1622.08,1479.46 1626.83,1479.72 1631.59,1479.96 1636.34,1480.2 1641.09,1480.43 1645.85,1480.65 1650.6,1480.86 1655.35,1481.07 1660.11,1481.27 1664.86,1481.46 1669.61,1481.64 1674.37,1481.82 1679.12,1481.99 1683.87,1482.15 1688.63,1482.31 1693.38,1482.46 1698.13,1482.61 1702.89,1482.75 1707.64,1482.89 1712.39,1483.02 1717.15,1483.15 1721.9,1483.27 1726.65,1483.39 1731.41,1483.51 1736.16,1483.62 1740.91,1483.72 1745.67,1483.83 1750.42,1483.92 1755.17,1484.02 1759.93,1484.11 1764.68,1484.2 1769.43,1484.28 1774.19,1484.36 1778.94,1484.44 1783.69,1484.52 1788.44,1484.59 1793.2,1484.66 1797.95,1484.73 1802.7,1484.79 1807.46,1484.86 1812.21,1484.92 1816.96,1484.98 1821.72,1485.03 1826.47,1485.09 1831.22,1485.14 1835.98,1485.19 1840.73,1485.24 1845.48,1485.28 1850.24,1485.33 1854.99,1485.37 1859.74,1485.41 1864.5,1485.45 1869.25,1485.49 1874,1485.53 1878.76,1485.56 1883.51,1485.6 1888.26,1485.63 1893.02,1485.66 1897.77,1485.69 1902.52,1485.72 1907.28,1485.75 1912.03,1485.77 1916.78,1485.8 1921.54,1485.83 1926.29,1485.85 1931.04,1485.87 1935.8,1485.9 1940.55,1485.92 1945.3,1485.94 1950.06,1485.96 1954.81,1485.98 1959.56,1485.99 1964.32,1486.01 1969.07,1486.03 1973.82,1486.05 1978.58,1486.06 1983.33,1486.08 1988.08,1486.09 1992.84,1486.11 1997.59,1486.12 2002.34,1486.13 2007.1,1486.14 2011.85,1486.16 2016.6,1486.17 2021.36,1486.18 2026.11,1486.19 2030.86,1486.2 2035.62,1486.21 2040.37,1486.22 2045.12,1486.23 2049.88,1486.24 2054.63,1486.24 2059.38,1486.25 2064.14,1486.26 2068.89,1486.27 2073.64,1486.27 2078.4,1486.28 2083.15,1486.29 2087.9,1486.29 2092.66,1486.3 2097.41,1486.31 2102.16,1486.31 2106.92,1486.32 2111.67,1486.32 2116.42,1486.33 2121.18,1486.33 2125.93,1486.34 2130.68,1486.34 2135.44,1486.35 2140.19,1486.35 2144.94,1486.35 2149.7,1486.36 2154.45,1486.36 2159.2,1486.36 2163.96,1486.37 2168.71,1486.37 2173.46,1486.37 2178.21,1486.38 2182.97,1486.38 2187.72,1486.38 2192.47,1486.39 2197.23,1486.39 2201.98,1486.39 2206.73,1486.39 2211.49,1486.39 2216.24,1486.4 2220.99,1486.4 2225.75,1486.4 2230.5,1486.4 2235.25,1486.4 \"/>\n",
       "<path clip-path=\"url(#clip230)\" d=\"M1394.54 250.738 L2281.55 250.738 L2281.55 95.2176 L1394.54 95.2176  Z\" fill=\"#ffffff\" fill-rule=\"evenodd\" fill-opacity=\"1\"/>\n",
       "<polyline clip-path=\"url(#clip230)\" style=\"stroke:#000000; stroke-linecap:round; stroke-linejoin:round; stroke-width:4; stroke-opacity:1; fill:none\" points=\"1394.54,250.738 2281.55,250.738 2281.55,95.2176 1394.54,95.2176 1394.54,250.738 \"/>\n",
       "<path clip-path=\"url(#clip230)\" d=\"M1418.27 167.794 L1560.7 167.794 L1560.7 126.322 L1418.27 126.322 L1418.27 167.794  Z\" fill=\"#009af9\" fill-rule=\"evenodd\" fill-opacity=\"0.6\"/>\n",
       "<polyline clip-path=\"url(#clip230)\" style=\"stroke:#000000; stroke-linecap:round; stroke-linejoin:round; stroke-width:4; stroke-opacity:1; fill:none\" points=\"1418.27,167.794 1560.7,167.794 1560.7,126.322 1418.27,126.322 1418.27,167.794 \"/>\n",
       "<path clip-path=\"url(#clip230)\" d=\"M1606.68 130.912 L1606.68 135.472 Q1604.02 134.199 1601.65 133.574 Q1599.29 132.949 1597.09 132.949 Q1593.27 132.949 1591.19 134.43 Q1589.13 135.912 1589.13 138.643 Q1589.13 140.935 1590.5 142.115 Q1591.89 143.273 1595.73 143.99 L1598.55 144.569 Q1603.78 145.565 1606.26 148.088 Q1608.76 150.588 1608.76 154.801 Q1608.76 159.824 1605.38 162.416 Q1602.02 165.009 1595.52 165.009 Q1593.07 165.009 1590.29 164.453 Q1587.53 163.898 1584.57 162.81 L1584.57 157.995 Q1587.42 159.592 1590.15 160.402 Q1592.88 161.213 1595.52 161.213 Q1599.52 161.213 1601.7 159.639 Q1603.88 158.064 1603.88 155.148 Q1603.88 152.602 1602.3 151.166 Q1600.75 149.731 1597.19 149.014 L1594.34 148.458 Q1589.11 147.416 1586.77 145.194 Q1584.43 142.972 1584.43 139.014 Q1584.43 134.43 1587.65 131.791 Q1590.89 129.153 1596.56 129.153 Q1598.99 129.153 1601.52 129.592 Q1604.04 130.032 1606.68 130.912 Z\" fill=\"#000000\" fill-rule=\"nonzero\" fill-opacity=\"1\" /><path clip-path=\"url(#clip230)\" d=\"M1615.87 138.412 L1620.13 138.412 L1620.13 164.338 L1615.87 164.338 L1615.87 138.412 M1615.87 128.319 L1620.13 128.319 L1620.13 133.713 L1615.87 133.713 L1615.87 128.319 Z\" fill=\"#000000\" fill-rule=\"nonzero\" fill-opacity=\"1\" /><path clip-path=\"url(#clip230)\" d=\"M1649.22 143.389 Q1650.82 140.518 1653.04 139.153 Q1655.27 137.787 1658.27 137.787 Q1662.33 137.787 1664.52 140.634 Q1666.72 143.458 1666.72 148.689 L1666.72 164.338 L1662.44 164.338 L1662.44 148.828 Q1662.44 145.102 1661.12 143.296 Q1659.8 141.49 1657.09 141.49 Q1653.78 141.49 1651.86 143.69 Q1649.94 145.889 1649.94 149.685 L1649.94 164.338 L1645.66 164.338 L1645.66 148.828 Q1645.66 145.078 1644.34 143.296 Q1643.02 141.49 1640.27 141.49 Q1637 141.49 1635.08 143.713 Q1633.16 145.912 1633.16 149.685 L1633.16 164.338 L1628.88 164.338 L1628.88 138.412 L1633.16 138.412 L1633.16 142.44 Q1634.62 140.055 1636.65 138.921 Q1638.69 137.787 1641.49 137.787 Q1644.32 137.787 1646.28 139.222 Q1648.27 140.657 1649.22 143.389 Z\" fill=\"#000000\" fill-rule=\"nonzero\" fill-opacity=\"1\" /><path clip-path=\"url(#clip230)\" d=\"M1674.78 154.106 L1674.78 138.412 L1679.04 138.412 L1679.04 153.944 Q1679.04 157.625 1680.47 159.476 Q1681.91 161.305 1684.78 161.305 Q1688.23 161.305 1690.22 159.106 Q1692.23 156.907 1692.23 153.111 L1692.23 138.412 L1696.49 138.412 L1696.49 164.338 L1692.23 164.338 L1692.23 160.356 Q1690.68 162.717 1688.62 163.875 Q1686.58 165.009 1683.88 165.009 Q1679.41 165.009 1677.09 162.231 Q1674.78 159.453 1674.78 154.106 M1685.5 137.787 L1685.5 137.787 Z\" fill=\"#000000\" fill-rule=\"nonzero\" fill-opacity=\"1\" /><path clip-path=\"url(#clip230)\" d=\"M1705.27 128.319 L1709.52 128.319 L1709.52 164.338 L1705.27 164.338 L1705.27 128.319 Z\" fill=\"#000000\" fill-rule=\"nonzero\" fill-opacity=\"1\" /><path clip-path=\"url(#clip230)\" d=\"M1730.22 151.305 Q1725.06 151.305 1723.07 152.486 Q1721.08 153.666 1721.08 156.514 Q1721.08 158.782 1722.56 160.125 Q1724.06 161.444 1726.63 161.444 Q1730.17 161.444 1732.3 158.944 Q1734.45 156.421 1734.45 152.254 L1734.45 151.305 L1730.22 151.305 M1738.71 149.546 L1738.71 164.338 L1734.45 164.338 L1734.45 160.402 Q1733 162.763 1730.82 163.898 Q1728.64 165.009 1725.5 165.009 Q1721.51 165.009 1719.15 162.787 Q1716.82 160.541 1716.82 156.791 Q1716.82 152.416 1719.73 150.194 Q1722.67 147.972 1728.48 147.972 L1734.45 147.972 L1734.45 147.555 Q1734.45 144.615 1732.51 143.018 Q1730.59 141.398 1727.09 141.398 Q1724.87 141.398 1722.76 141.93 Q1720.66 142.463 1718.71 143.527 L1718.71 139.592 Q1721.05 138.69 1723.25 138.25 Q1725.45 137.787 1727.53 137.787 Q1733.16 137.787 1735.94 140.703 Q1738.71 143.62 1738.71 149.546 Z\" fill=\"#000000\" fill-rule=\"nonzero\" fill-opacity=\"1\" /><path clip-path=\"url(#clip230)\" d=\"M1751.7 131.051 L1751.7 138.412 L1760.47 138.412 L1760.47 141.722 L1751.7 141.722 L1751.7 155.796 Q1751.7 158.967 1752.56 159.87 Q1753.44 160.773 1756.1 160.773 L1760.47 160.773 L1760.47 164.338 L1756.1 164.338 Q1751.17 164.338 1749.29 162.509 Q1747.42 160.657 1747.42 155.796 L1747.42 141.722 L1744.29 141.722 L1744.29 138.412 L1747.42 138.412 L1747.42 131.051 L1751.7 131.051 Z\" fill=\"#000000\" fill-rule=\"nonzero\" fill-opacity=\"1\" /><path clip-path=\"url(#clip230)\" d=\"M1788.25 150.31 L1788.25 152.393 L1768.67 152.393 Q1768.95 156.791 1771.31 159.106 Q1773.69 161.398 1777.93 161.398 Q1780.38 161.398 1782.67 160.796 Q1784.99 160.194 1787.26 158.99 L1787.26 163.018 Q1784.96 163.99 1782.56 164.5 Q1780.15 165.009 1777.67 165.009 Q1771.47 165.009 1767.83 161.398 Q1764.22 157.787 1764.22 151.629 Q1764.22 145.264 1767.65 141.537 Q1771.1 137.787 1776.93 137.787 Q1782.16 137.787 1785.2 141.166 Q1788.25 144.523 1788.25 150.31 M1783.99 149.06 Q1783.95 145.565 1782.02 143.481 Q1780.13 141.398 1776.98 141.398 Q1773.41 141.398 1771.26 143.412 Q1769.13 145.426 1768.81 149.083 L1783.99 149.06 Z\" fill=\"#000000\" fill-rule=\"nonzero\" fill-opacity=\"1\" /><path clip-path=\"url(#clip230)\" d=\"M1812.3 142.347 L1812.3 128.319 L1816.56 128.319 L1816.56 164.338 L1812.3 164.338 L1812.3 160.449 Q1810.96 162.763 1808.9 163.898 Q1806.86 165.009 1803.99 165.009 Q1799.29 165.009 1796.33 161.259 Q1793.39 157.509 1793.39 151.398 Q1793.39 145.287 1796.33 141.537 Q1799.29 137.787 1803.99 137.787 Q1806.86 137.787 1808.9 138.921 Q1810.96 140.032 1812.3 142.347 M1797.79 151.398 Q1797.79 156.097 1799.71 158.782 Q1801.65 161.444 1805.03 161.444 Q1808.41 161.444 1810.36 158.782 Q1812.3 156.097 1812.3 151.398 Q1812.3 146.699 1810.36 144.037 Q1808.41 141.352 1805.03 141.352 Q1801.65 141.352 1799.71 144.037 Q1797.79 146.699 1797.79 151.398 Z\" fill=\"#000000\" fill-rule=\"nonzero\" fill-opacity=\"1\" /><path clip-path=\"url(#clip230)\" d=\"M1866.47 132.44 L1866.47 137.37 Q1864.11 135.171 1861.42 134.083 Q1858.76 132.995 1855.75 132.995 Q1849.82 132.995 1846.68 136.629 Q1843.53 140.24 1843.53 147.092 Q1843.53 153.921 1846.68 157.555 Q1849.82 161.166 1855.75 161.166 Q1858.76 161.166 1861.42 160.078 Q1864.11 158.99 1866.47 156.791 L1866.47 161.676 Q1864.01 163.342 1861.26 164.176 Q1858.53 165.009 1855.47 165.009 Q1847.63 165.009 1843.11 160.217 Q1838.6 155.402 1838.6 147.092 Q1838.6 138.759 1843.11 133.967 Q1847.63 129.153 1855.47 129.153 Q1858.57 129.153 1861.31 129.986 Q1864.06 130.796 1866.47 132.44 Z\" fill=\"#000000\" fill-rule=\"nonzero\" fill-opacity=\"1\" /><path clip-path=\"url(#clip230)\" d=\"M1895.06 148.689 L1895.06 164.338 L1890.8 164.338 L1890.8 148.828 Q1890.8 145.148 1889.36 143.319 Q1887.93 141.49 1885.06 141.49 Q1881.61 141.49 1879.62 143.69 Q1877.63 145.889 1877.63 149.685 L1877.63 164.338 L1873.34 164.338 L1873.34 128.319 L1877.63 128.319 L1877.63 142.44 Q1879.15 140.102 1881.21 138.944 Q1883.3 137.787 1886 137.787 Q1890.47 137.787 1892.76 140.565 Q1895.06 143.319 1895.06 148.689 Z\" fill=\"#000000\" fill-rule=\"nonzero\" fill-opacity=\"1\" /><path clip-path=\"url(#clip230)\" d=\"M1903.55 138.412 L1907.81 138.412 L1907.81 164.338 L1903.55 164.338 L1903.55 138.412 M1903.55 128.319 L1907.81 128.319 L1907.81 133.713 L1903.55 133.713 L1903.55 128.319 Z\" fill=\"#000000\" fill-rule=\"nonzero\" fill-opacity=\"1\" /><path clip-path=\"url(#clip230)\" d=\"M1914.57 149.453 L1927.05 149.453 L1927.05 153.25 L1914.57 153.25 L1914.57 149.453 Z\" fill=\"#000000\" fill-rule=\"nonzero\" fill-opacity=\"1\" /><path clip-path=\"url(#clip230)\" d=\"M1950.36 139.176 L1950.36 143.203 Q1948.55 142.277 1946.61 141.815 Q1944.66 141.352 1942.58 141.352 Q1939.41 141.352 1937.81 142.324 Q1936.24 143.296 1936.24 145.24 Q1936.24 146.722 1937.37 147.578 Q1938.5 148.412 1941.93 149.176 L1943.39 149.5 Q1947.93 150.472 1949.82 152.254 Q1951.75 154.014 1951.75 157.185 Q1951.75 160.796 1948.87 162.902 Q1946.03 165.009 1941.03 165.009 Q1938.94 165.009 1936.68 164.592 Q1934.43 164.199 1931.93 163.388 L1931.93 158.99 Q1934.29 160.217 1936.58 160.842 Q1938.87 161.444 1941.12 161.444 Q1944.13 161.444 1945.75 160.426 Q1947.37 159.384 1947.37 157.509 Q1947.37 155.773 1946.19 154.847 Q1945.03 153.921 1941.07 153.064 L1939.59 152.717 Q1935.63 151.884 1933.87 150.171 Q1932.12 148.435 1932.12 145.426 Q1932.12 141.768 1934.71 139.778 Q1937.3 137.787 1942.07 137.787 Q1944.43 137.787 1946.51 138.134 Q1948.6 138.481 1950.36 139.176 Z\" fill=\"#000000\" fill-rule=\"nonzero\" fill-opacity=\"1\" /><path clip-path=\"url(#clip230)\" d=\"M1961.07 151.398 Q1961.07 156.097 1963 158.782 Q1964.94 161.444 1968.32 161.444 Q1971.7 161.444 1973.64 158.782 Q1975.59 156.097 1975.59 151.398 Q1975.59 146.699 1973.64 144.037 Q1971.7 141.352 1968.32 141.352 Q1964.94 141.352 1963 144.037 Q1961.07 146.699 1961.07 151.398 M1975.59 160.449 Q1974.25 162.763 1972.18 163.898 Q1970.15 165.009 1967.28 165.009 Q1962.58 165.009 1959.62 161.259 Q1956.68 157.509 1956.68 151.398 Q1956.68 145.287 1959.62 141.537 Q1962.58 137.787 1967.28 137.787 Q1970.15 137.787 1972.18 138.921 Q1974.25 140.032 1975.59 142.347 L1975.59 138.412 L1979.85 138.412 L1979.85 174.199 L1975.59 174.199 L1975.59 160.449 Z\" fill=\"#000000\" fill-rule=\"nonzero\" fill-opacity=\"1\" /><path clip-path=\"url(#clip230)\" d=\"M1988.18 154.106 L1988.18 138.412 L1992.44 138.412 L1992.44 153.944 Q1992.44 157.625 1993.87 159.476 Q1995.31 161.305 1998.18 161.305 Q2001.63 161.305 2003.62 159.106 Q2005.63 156.907 2005.63 153.111 L2005.63 138.412 L2009.89 138.412 L2009.89 164.338 L2005.63 164.338 L2005.63 160.356 Q2004.08 162.717 2002.02 163.875 Q1999.99 165.009 1997.28 165.009 Q1992.81 165.009 1990.49 162.231 Q1988.18 159.453 1988.18 154.106 M1998.9 137.787 L1998.9 137.787 Z\" fill=\"#000000\" fill-rule=\"nonzero\" fill-opacity=\"1\" /><path clip-path=\"url(#clip230)\" d=\"M2030.45 151.305 Q2025.29 151.305 2023.3 152.486 Q2021.3 153.666 2021.3 156.514 Q2021.3 158.782 2022.79 160.125 Q2024.29 161.444 2026.86 161.444 Q2030.4 161.444 2032.53 158.944 Q2034.68 156.421 2034.68 152.254 L2034.68 151.305 L2030.45 151.305 M2038.94 149.546 L2038.94 164.338 L2034.68 164.338 L2034.68 160.402 Q2033.23 162.763 2031.05 163.898 Q2028.87 165.009 2025.73 165.009 Q2021.74 165.009 2019.38 162.787 Q2017.05 160.541 2017.05 156.791 Q2017.05 152.416 2019.96 150.194 Q2022.9 147.972 2028.71 147.972 L2034.68 147.972 L2034.68 147.555 Q2034.68 144.615 2032.74 143.018 Q2030.82 141.398 2027.32 141.398 Q2025.1 141.398 2022.99 141.93 Q2020.89 142.463 2018.94 143.527 L2018.94 139.592 Q2021.28 138.69 2023.48 138.25 Q2025.68 137.787 2027.76 137.787 Q2033.39 137.787 2036.17 140.703 Q2038.94 143.62 2038.94 149.546 Z\" fill=\"#000000\" fill-rule=\"nonzero\" fill-opacity=\"1\" /><path clip-path=\"url(#clip230)\" d=\"M2062.74 142.393 Q2062.02 141.977 2061.17 141.791 Q2060.33 141.583 2059.31 141.583 Q2055.7 141.583 2053.76 143.944 Q2051.84 146.282 2051.84 150.68 L2051.84 164.338 L2047.55 164.338 L2047.55 138.412 L2051.84 138.412 L2051.84 142.44 Q2053.18 140.078 2055.33 138.944 Q2057.49 137.787 2060.56 137.787 Q2061 137.787 2061.54 137.856 Q2062.07 137.903 2062.72 138.018 L2062.74 142.393 Z\" fill=\"#000000\" fill-rule=\"nonzero\" fill-opacity=\"1\" /><path clip-path=\"url(#clip230)\" d=\"M2088.34 150.31 L2088.34 152.393 L2068.76 152.393 Q2069.04 156.791 2071.4 159.106 Q2073.78 161.398 2078.02 161.398 Q2080.47 161.398 2082.76 160.796 Q2085.08 160.194 2087.35 158.99 L2087.35 163.018 Q2085.05 163.99 2082.65 164.5 Q2080.24 165.009 2077.76 165.009 Q2071.56 165.009 2067.93 161.398 Q2064.31 157.787 2064.31 151.629 Q2064.31 145.264 2067.74 141.537 Q2071.19 137.787 2077.02 137.787 Q2082.25 137.787 2085.29 141.166 Q2088.34 144.523 2088.34 150.31 M2084.08 149.06 Q2084.04 145.565 2082.11 143.481 Q2080.22 141.398 2077.07 141.398 Q2073.5 141.398 2071.35 143.412 Q2069.22 145.426 2068.9 149.083 L2084.08 149.06 Z\" fill=\"#000000\" fill-rule=\"nonzero\" fill-opacity=\"1\" /><path clip-path=\"url(#clip230)\" d=\"M2107.35 138.412 L2111.86 138.412 L2119.96 160.171 L2128.06 138.412 L2132.58 138.412 L2122.86 164.338 L2117.07 164.338 L2107.35 138.412 Z\" fill=\"#000000\" fill-rule=\"nonzero\" fill-opacity=\"1\" /><path clip-path=\"url(#clip230)\" d=\"M2150.24 151.305 Q2145.08 151.305 2143.09 152.486 Q2141.1 153.666 2141.1 156.514 Q2141.1 158.782 2142.58 160.125 Q2144.08 161.444 2146.65 161.444 Q2150.19 161.444 2152.32 158.944 Q2154.48 156.421 2154.48 152.254 L2154.48 151.305 L2150.24 151.305 M2158.73 149.546 L2158.73 164.338 L2154.48 164.338 L2154.48 160.402 Q2153.02 162.763 2150.84 163.898 Q2148.67 165.009 2145.52 165.009 Q2141.54 165.009 2139.17 162.787 Q2136.84 160.541 2136.84 156.791 Q2136.84 152.416 2139.75 150.194 Q2142.69 147.972 2148.5 147.972 L2154.48 147.972 L2154.48 147.555 Q2154.48 144.615 2152.53 143.018 Q2150.61 141.398 2147.11 141.398 Q2144.89 141.398 2142.79 141.93 Q2140.68 142.463 2138.73 143.527 L2138.73 139.592 Q2141.07 138.69 2143.27 138.25 Q2145.47 137.787 2147.55 137.787 Q2153.18 137.787 2155.96 140.703 Q2158.73 143.62 2158.73 149.546 Z\" fill=\"#000000\" fill-rule=\"nonzero\" fill-opacity=\"1\" /><path clip-path=\"url(#clip230)\" d=\"M2167.51 128.319 L2171.77 128.319 L2171.77 164.338 L2167.51 164.338 L2167.51 128.319 Z\" fill=\"#000000\" fill-rule=\"nonzero\" fill-opacity=\"1\" /><path clip-path=\"url(#clip230)\" d=\"M2180.24 154.106 L2180.24 138.412 L2184.5 138.412 L2184.5 153.944 Q2184.5 157.625 2185.93 159.476 Q2187.37 161.305 2190.24 161.305 Q2193.69 161.305 2195.68 159.106 Q2197.69 156.907 2197.69 153.111 L2197.69 138.412 L2201.95 138.412 L2201.95 164.338 L2197.69 164.338 L2197.69 160.356 Q2196.14 162.717 2194.08 163.875 Q2192.04 165.009 2189.34 165.009 Q2184.87 165.009 2182.55 162.231 Q2180.24 159.453 2180.24 154.106 M2190.96 137.787 L2190.96 137.787 Z\" fill=\"#000000\" fill-rule=\"nonzero\" fill-opacity=\"1\" /><path clip-path=\"url(#clip230)\" d=\"M2232.9 150.31 L2232.9 152.393 L2213.32 152.393 Q2213.6 156.791 2215.96 159.106 Q2218.34 161.398 2222.58 161.398 Q2225.03 161.398 2227.32 160.796 Q2229.64 160.194 2231.91 158.99 L2231.91 163.018 Q2229.61 163.99 2227.21 164.5 Q2224.8 165.009 2222.32 165.009 Q2216.12 165.009 2212.48 161.398 Q2208.87 157.787 2208.87 151.629 Q2208.87 145.264 2212.3 141.537 Q2215.75 137.787 2221.58 137.787 Q2226.81 137.787 2229.85 141.166 Q2232.9 144.523 2232.9 150.31 M2228.64 149.06 Q2228.6 145.565 2226.67 143.481 Q2224.78 141.398 2221.63 141.398 Q2218.06 141.398 2215.91 143.412 Q2213.78 145.426 2213.46 149.083 L2228.64 149.06 Z\" fill=\"#000000\" fill-rule=\"nonzero\" fill-opacity=\"1\" /><path clip-path=\"url(#clip230)\" d=\"M2256.42 139.176 L2256.42 143.203 Q2254.61 142.277 2252.67 141.815 Q2250.73 141.352 2248.64 141.352 Q2245.47 141.352 2243.87 142.324 Q2242.3 143.296 2242.3 145.24 Q2242.3 146.722 2243.43 147.578 Q2244.57 148.412 2247.99 149.176 L2249.45 149.5 Q2253.99 150.472 2255.89 152.254 Q2257.81 154.014 2257.81 157.185 Q2257.81 160.796 2254.94 162.902 Q2252.09 165.009 2247.09 165.009 Q2245.01 165.009 2242.74 164.592 Q2240.49 164.199 2237.99 163.388 L2237.99 158.99 Q2240.35 160.217 2242.65 160.842 Q2244.94 161.444 2247.18 161.444 Q2250.19 161.444 2251.81 160.426 Q2253.43 159.384 2253.43 157.509 Q2253.43 155.773 2252.25 154.847 Q2251.1 153.921 2247.14 153.064 L2245.66 152.717 Q2241.7 151.884 2239.94 150.171 Q2238.18 148.435 2238.18 145.426 Q2238.18 141.768 2240.77 139.778 Q2243.36 137.787 2248.13 137.787 Q2250.49 137.787 2252.58 138.134 Q2254.66 138.481 2256.42 139.176 Z\" fill=\"#000000\" fill-rule=\"nonzero\" fill-opacity=\"1\" /><polyline clip-path=\"url(#clip230)\" style=\"stroke:#ff0000; stroke-linecap:round; stroke-linejoin:round; stroke-width:8; stroke-opacity:1; fill:none\" points=\"1418.27,198.898 1560.7,198.898 \"/>\n",
       "<path clip-path=\"url(#clip230)\" d=\"M1612.3 184.28 L1612.3 189.21 Q1609.94 187.011 1607.26 185.923 Q1604.59 184.835 1601.59 184.835 Q1595.66 184.835 1592.51 188.469 Q1589.36 192.08 1589.36 198.932 Q1589.36 205.761 1592.51 209.395 Q1595.66 213.006 1601.59 213.006 Q1604.59 213.006 1607.26 211.918 Q1609.94 210.83 1612.3 208.631 L1612.3 213.516 Q1609.85 215.182 1607.09 216.016 Q1604.36 216.849 1601.31 216.849 Q1593.46 216.849 1588.95 212.057 Q1584.43 207.242 1584.43 198.932 Q1584.43 190.599 1588.95 185.807 Q1593.46 180.993 1601.31 180.993 Q1604.41 180.993 1607.14 181.826 Q1609.9 182.636 1612.3 184.28 Z\" fill=\"#000000\" fill-rule=\"nonzero\" fill-opacity=\"1\" /><path clip-path=\"url(#clip230)\" d=\"M1640.89 200.529 L1640.89 216.178 L1636.63 216.178 L1636.63 200.668 Q1636.63 196.988 1635.2 195.159 Q1633.76 193.33 1630.89 193.33 Q1627.44 193.33 1625.45 195.53 Q1623.46 197.729 1623.46 201.525 L1623.46 216.178 L1619.18 216.178 L1619.18 180.159 L1623.46 180.159 L1623.46 194.28 Q1624.99 191.942 1627.05 190.784 Q1629.13 189.627 1631.84 189.627 Q1636.31 189.627 1638.6 192.405 Q1640.89 195.159 1640.89 200.529 Z\" fill=\"#000000\" fill-rule=\"nonzero\" fill-opacity=\"1\" /><path clip-path=\"url(#clip230)\" d=\"M1649.39 190.252 L1653.64 190.252 L1653.64 216.178 L1649.39 216.178 L1649.39 190.252 M1649.39 180.159 L1653.64 180.159 L1653.64 185.553 L1649.39 185.553 L1649.39 180.159 Z\" fill=\"#000000\" fill-rule=\"nonzero\" fill-opacity=\"1\" /><path clip-path=\"url(#clip230)\" d=\"M1660.4 201.293 L1672.88 201.293 L1672.88 205.09 L1660.4 205.09 L1660.4 201.293 Z\" fill=\"#000000\" fill-rule=\"nonzero\" fill-opacity=\"1\" /><path clip-path=\"url(#clip230)\" d=\"M1696.19 191.016 L1696.19 195.043 Q1694.39 194.117 1692.44 193.655 Q1690.5 193.192 1688.41 193.192 Q1685.24 193.192 1683.64 194.164 Q1682.07 195.136 1682.07 197.08 Q1682.07 198.562 1683.2 199.418 Q1684.34 200.252 1687.77 201.016 L1689.22 201.34 Q1693.76 202.312 1695.66 204.094 Q1697.58 205.854 1697.58 209.025 Q1697.58 212.636 1694.71 214.742 Q1691.86 216.849 1686.86 216.849 Q1684.78 216.849 1682.51 216.432 Q1680.27 216.039 1677.77 215.228 L1677.77 210.83 Q1680.13 212.057 1682.42 212.682 Q1684.71 213.284 1686.95 213.284 Q1689.96 213.284 1691.58 212.266 Q1693.2 211.224 1693.2 209.349 Q1693.2 207.613 1692.02 206.687 Q1690.87 205.761 1686.91 204.904 L1685.43 204.557 Q1681.47 203.724 1679.71 202.011 Q1677.95 200.275 1677.95 197.266 Q1677.95 193.608 1680.54 191.618 Q1683.14 189.627 1687.9 189.627 Q1690.27 189.627 1692.35 189.974 Q1694.43 190.321 1696.19 191.016 Z\" fill=\"#000000\" fill-rule=\"nonzero\" fill-opacity=\"1\" /><path clip-path=\"url(#clip230)\" d=\"M1706.91 203.238 Q1706.91 207.937 1708.83 210.622 Q1710.77 213.284 1714.15 213.284 Q1717.53 213.284 1719.48 210.622 Q1721.42 207.937 1721.42 203.238 Q1721.42 198.539 1719.48 195.877 Q1717.53 193.192 1714.15 193.192 Q1710.77 193.192 1708.83 195.877 Q1706.91 198.539 1706.91 203.238 M1721.42 212.289 Q1720.08 214.603 1718.02 215.738 Q1715.98 216.849 1713.11 216.849 Q1708.41 216.849 1705.45 213.099 Q1702.51 209.349 1702.51 203.238 Q1702.51 197.127 1705.45 193.377 Q1708.41 189.627 1713.11 189.627 Q1715.98 189.627 1718.02 190.761 Q1720.08 191.872 1721.42 194.187 L1721.42 190.252 L1725.68 190.252 L1725.68 226.039 L1721.42 226.039 L1721.42 212.289 Z\" fill=\"#000000\" fill-rule=\"nonzero\" fill-opacity=\"1\" /><path clip-path=\"url(#clip230)\" d=\"M1734.01 205.946 L1734.01 190.252 L1738.27 190.252 L1738.27 205.784 Q1738.27 209.465 1739.71 211.316 Q1741.14 213.145 1744.01 213.145 Q1747.46 213.145 1749.45 210.946 Q1751.47 208.747 1751.47 204.951 L1751.47 190.252 L1755.73 190.252 L1755.73 216.178 L1751.47 216.178 L1751.47 212.196 Q1749.92 214.557 1747.86 215.715 Q1745.82 216.849 1743.11 216.849 Q1738.64 216.849 1736.33 214.071 Q1734.01 211.293 1734.01 205.946 M1744.73 189.627 L1744.73 189.627 Z\" fill=\"#000000\" fill-rule=\"nonzero\" fill-opacity=\"1\" /><path clip-path=\"url(#clip230)\" d=\"M1776.28 203.145 Q1771.12 203.145 1769.13 204.326 Q1767.14 205.506 1767.14 208.354 Q1767.14 210.622 1768.62 211.965 Q1770.13 213.284 1772.7 213.284 Q1776.24 213.284 1778.37 210.784 Q1780.52 208.261 1780.52 204.094 L1780.52 203.145 L1776.28 203.145 M1784.78 201.386 L1784.78 216.178 L1780.52 216.178 L1780.52 212.242 Q1779.06 214.603 1776.88 215.738 Q1774.71 216.849 1771.56 216.849 Q1767.58 216.849 1765.22 214.627 Q1762.88 212.381 1762.88 208.631 Q1762.88 204.256 1765.8 202.034 Q1768.74 199.812 1774.55 199.812 L1780.52 199.812 L1780.52 199.395 Q1780.52 196.455 1778.57 194.858 Q1776.65 193.238 1773.16 193.238 Q1770.94 193.238 1768.83 193.77 Q1766.72 194.303 1764.78 195.367 L1764.78 191.432 Q1767.12 190.53 1769.32 190.09 Q1771.51 189.627 1773.6 189.627 Q1779.22 189.627 1782 192.543 Q1784.78 195.46 1784.78 201.386 Z\" fill=\"#000000\" fill-rule=\"nonzero\" fill-opacity=\"1\" /><path clip-path=\"url(#clip230)\" d=\"M1808.57 194.233 Q1807.86 193.817 1807 193.631 Q1806.17 193.423 1805.15 193.423 Q1801.54 193.423 1799.59 195.784 Q1797.67 198.122 1797.67 202.52 L1797.67 216.178 L1793.39 216.178 L1793.39 190.252 L1797.67 190.252 L1797.67 194.28 Q1799.01 191.918 1801.17 190.784 Q1803.32 189.627 1806.4 189.627 Q1806.84 189.627 1807.37 189.696 Q1807.9 189.743 1808.55 189.858 L1808.57 194.233 Z\" fill=\"#000000\" fill-rule=\"nonzero\" fill-opacity=\"1\" /><path clip-path=\"url(#clip230)\" d=\"M1834.18 202.15 L1834.18 204.233 L1814.59 204.233 Q1814.87 208.631 1817.23 210.946 Q1819.62 213.238 1823.85 213.238 Q1826.31 213.238 1828.6 212.636 Q1830.91 212.034 1833.18 210.83 L1833.18 214.858 Q1830.89 215.83 1828.48 216.34 Q1826.07 216.849 1823.6 216.849 Q1817.39 216.849 1813.76 213.238 Q1810.15 209.627 1810.15 203.469 Q1810.15 197.104 1813.57 193.377 Q1817.02 189.627 1822.86 189.627 Q1828.09 189.627 1831.12 193.006 Q1834.18 196.363 1834.18 202.15 M1829.92 200.9 Q1829.87 197.405 1827.95 195.321 Q1826.05 193.238 1822.9 193.238 Q1819.34 193.238 1817.19 195.252 Q1815.06 197.266 1814.73 200.923 L1829.92 200.9 Z\" fill=\"#000000\" fill-rule=\"nonzero\" fill-opacity=\"1\" /><path clip-path=\"url(#clip230)\" d=\"M1861.1 185.46 L1861.1 198.446 L1866.98 198.446 Q1870.24 198.446 1872.02 196.756 Q1873.81 195.067 1873.81 191.942 Q1873.81 188.84 1872.02 187.15 Q1870.24 185.46 1866.98 185.46 L1861.1 185.46 M1856.42 181.618 L1866.98 181.618 Q1872.79 181.618 1875.75 184.256 Q1878.74 186.872 1878.74 191.942 Q1878.74 197.057 1875.75 199.673 Q1872.79 202.289 1866.98 202.289 L1861.1 202.289 L1861.1 216.178 L1856.42 216.178 L1856.42 181.618 Z\" fill=\"#000000\" fill-rule=\"nonzero\" fill-opacity=\"1\" /><path clip-path=\"url(#clip230)\" d=\"M1889.69 185.46 L1889.69 212.335 L1895.33 212.335 Q1902.49 212.335 1905.8 209.094 Q1909.13 205.854 1909.13 198.863 Q1909.13 191.918 1905.8 188.701 Q1902.49 185.46 1895.33 185.46 L1889.69 185.46 M1885.01 181.618 L1894.62 181.618 Q1904.66 181.618 1909.36 185.807 Q1914.06 189.974 1914.06 198.863 Q1914.06 207.798 1909.34 211.988 Q1904.62 216.178 1894.62 216.178 L1885.01 216.178 L1885.01 181.618 Z\" fill=\"#000000\" fill-rule=\"nonzero\" fill-opacity=\"1\" /><path clip-path=\"url(#clip230)\" d=\"M1921.51 181.618 L1941.37 181.618 L1941.37 185.553 L1926.19 185.553 L1926.19 195.738 L1939.89 195.738 L1939.89 199.673 L1926.19 199.673 L1926.19 216.178 L1921.51 216.178 L1921.51 181.618 Z\" fill=\"#000000\" fill-rule=\"nonzero\" fill-opacity=\"1\" /><path clip-path=\"url(#clip230)\" d=\"M1973.9 180.206 Q1970.8 185.53 1969.29 190.738 Q1967.79 195.946 1967.79 201.293 Q1967.79 206.641 1969.29 211.895 Q1970.82 217.127 1973.9 222.428 L1970.19 222.428 Q1966.72 216.988 1964.99 211.733 Q1963.27 206.479 1963.27 201.293 Q1963.27 196.131 1964.99 190.9 Q1966.7 185.668 1970.19 180.206 L1973.9 180.206 Z\" fill=\"#000000\" fill-rule=\"nonzero\" fill-opacity=\"1\" /><path clip-path=\"url(#clip230)\" d=\"M1987.32 216.178 L1979.41 190.252 L1983.99 190.252 L1990.68 212.011 Q1993.46 209.141 1995.77 205.159 Q1997.53 202.173 1997.62 199.58 Q1997.67 198.354 1997.12 196.039 Q1996.47 193.284 1994.01 190.252 L1998.32 190.252 L1998.32 190.252 Q1999.92 192.312 2000.98 195.182 Q2001.95 197.821 2001.95 199.627 Q2001.95 204.164 1998.81 208.215 Q1994.71 213.492 1991.86 216.178 L1987.32 216.178 Z\" fill=\"#000000\" fill-rule=\"nonzero\" fill-opacity=\"1\" /><path clip-path=\"url(#clip230)\" d=\"M2009.2 194.65 L2038.87 194.65 L2038.87 198.539 L2009.2 198.539 L2009.2 194.65 M2009.2 204.094 L2038.87 204.094 L2038.87 208.029 L2009.2 208.029 L2009.2 204.094 Z\" fill=\"#000000\" fill-rule=\"nonzero\" fill-opacity=\"1\" /><path clip-path=\"url(#clip230)\" d=\"M2049.11 215.46 L2049.11 211.201 Q2050.87 212.034 2052.67 212.474 Q2054.48 212.914 2056.21 212.914 Q2060.84 212.914 2063.27 209.812 Q2065.73 206.687 2066.07 200.344 Q2064.73 202.335 2062.67 203.4 Q2060.61 204.465 2058.11 204.465 Q2052.93 204.465 2049.89 201.34 Q2046.88 198.192 2046.88 192.752 Q2046.88 187.428 2050.03 184.21 Q2053.18 180.993 2058.41 180.993 Q2064.41 180.993 2067.55 185.599 Q2070.73 190.182 2070.73 198.932 Q2070.73 207.104 2066.84 211.988 Q2062.97 216.849 2056.42 216.849 Q2054.66 216.849 2052.86 216.502 Q2051.05 216.154 2049.11 215.46 M2058.41 200.807 Q2061.56 200.807 2063.39 198.654 Q2065.24 196.502 2065.24 192.752 Q2065.24 189.025 2063.39 186.872 Q2061.56 184.696 2058.41 184.696 Q2055.26 184.696 2053.41 186.872 Q2051.58 189.025 2051.58 192.752 Q2051.58 196.502 2053.41 198.654 Q2055.26 200.807 2058.41 200.807 Z\" fill=\"#000000\" fill-rule=\"nonzero\" fill-opacity=\"1\" /><path clip-path=\"url(#clip230)\" d=\"M2077.86 180.206 L2081.56 180.206 Q2085.03 185.668 2086.74 190.9 Q2088.48 196.131 2088.48 201.293 Q2088.48 206.479 2086.74 211.733 Q2085.03 216.988 2081.56 222.428 L2077.86 222.428 Q2080.93 217.127 2082.44 211.895 Q2083.97 206.641 2083.97 201.293 Q2083.97 195.946 2082.44 190.738 Q2080.93 185.53 2077.86 180.206 Z\" fill=\"#000000\" fill-rule=\"nonzero\" fill-opacity=\"1\" /></svg>\n"
      ]
     },
     "metadata": {},
     "output_type": "display_data"
    }
   ],
   "source": [
    "using Plots, Distributions  # Import required packages\n",
    "\n",
    "# Define degrees of freedom (from 2.4)\n",
    "dof = 9  \n",
    "\n",
    "# Define Chi-square distribution\n",
    "chi2_dist = di.Chisq(dof)  \n",
    "\n",
    "# Generate x values for PDF plot\n",
    "x_dist = 0:0.1:40  \n",
    "\n",
    "# Compute Chi-square PDF\n",
    "pdf_values = pdf.(chi2_dist, x_dist)  \n",
    "\n",
    "# Plot histogram of chi2_list\n",
    "histogram(chi2_list, bins=50, norm=true, alpha=0.6, label=\"Simulated Chi-square values\")\n",
    "\n",
    "# Overlay Chi-square PDF\n",
    "plot!(x_dist, pdf_values, linewidth=2, label=\"Chi-square PDF (ν=9)\", color=:red)\n"
   ]
  },
  {
   "cell_type": "markdown",
   "id": "a6d61ce7",
   "metadata": {},
   "source": [
    "### 2.6\n",
    "\n",
    "Given the likelihood is:\n",
    "$$P(\\{y_{i}(x_{i})\\}\\mid \\theta)\\propto \\exp\\big(-\\frac{\\chi^2}{2}\\big)$$\n",
    "\n",
    "1. Run the following cell to create a function to calculate the likelihood (make sure you named the variables as asked in the previous questions)\n",
    "2. Define m_range = 1:0.01:8\n",
    "3. Define b_range = -9:0.01:10\n",
    "4. Make a contour plot to visualize the distribution of the likelihood\n"
   ]
  },
  {
   "cell_type": "code",
   "execution_count": 56,
   "id": "9e31d371",
   "metadata": {},
   "outputs": [],
   "source": [
    "chi2poly(b, m) = chisqr(b, m, x, y_observed, sigma)\n",
    "p_chi2poly(b, m) = exp(-chi2poly(b, m)/2);"
   ]
  },
  {
   "cell_type": "code",
   "execution_count": 70,
   "id": "59e744a8",
   "metadata": {},
   "outputs": [
    {
     "name": "stdout",
     "output_type": "stream",
     "text": []
    },
    {
     "name": "stderr",
     "output_type": "stream",
     "text": [
      "attempt to save state beyond implementation limit\n",
      "attempt to save state beyond implementation limit\n",
      "attempt to save state beyond implementation limit\n"
     ]
    }
   ],
   "source": [
    "using Plots, Distributions, Statistics\n",
    "\n",
    "function likelihood(m, b, x, y_observed, sigma)\n",
    "    chi_sq = chisqr(b, m, x, y_observed, sigma)\n",
    "    return exp(-chi_sq / 2) \n",
    "end\n",
    "\n",
    "m_range = 1:0.01:8\n",
    "b_range = -9:0.01:10\n",
    "\n",
    "likelihood_values = [likelihood(m, b, x, y_observed, sigma) for m in m_range, b in b_range]\n",
    "\n",
    "# Contour plot of likelihood\n",
    "p = contour(m_range, b_range, likelihood_values, xlabel=\"Slope (m)\", ylabel=\"Intercept (b)\", title=\"Likelihood Distribution\", color=:viridis)\n",
    "display(p)"
   ]
  },
  {
   "cell_type": "markdown",
   "id": "fbdc910a",
   "metadata": {},
   "source": [
    "### 2.7\n",
    "\n",
    "1. Redefine x = 0:0.5:4 and update y_observed. Plot the likelihood with the new x, y_observed and explain how the plot is different from 2.6\n",
    "2. Redefine x = 0:2:20 and update y_observed. Plot the likelihood with the new x, y_observed and explain how the plot is different from 2.6"
   ]
  },
  {
   "cell_type": "code",
   "execution_count": 55,
   "id": "55a82a55",
   "metadata": {},
   "outputs": [
    {
     "name": "stdout",
     "output_type": "stream",
     "text": []
    },
    {
     "name": "stderr",
     "output_type": "stream",
     "text": [
      "attempt to save state beyond implementation limit\n",
      "attempt to save state beyond implementation limit\n",
      "attempt to save state beyond implementation limit\n"
     ]
    }
   ],
   "source": [
    "x = 0:0.5:4\n",
    "y_true = 4 .* x .- 2\n",
    "noise = Random.rand(di.Normal(0, sigma), length(x))\n",
    "y_observed = y_true .+ noise\n",
    "\n",
    "# Compute new likelihood values\n",
    "likelihood_values = [likelihood(m, b, x, y_observed, sigma) for m in m_range, b in b_range]\n",
    "\n",
    "# Plot the new likelihood\n",
    "contourf(m_range, b_range, likelihood_values, xlabel=\"Slope (m)\", ylabel=\"Intercept (b)\", title=\"Likelihood with x = 0:0.5:4\", color=:viridis)\n"
   ]
  },
  {
   "cell_type": "markdown",
   "id": "13c0cfb2",
   "metadata": {},
   "source": []
  },
  {
   "cell_type": "code",
   "execution_count": 51,
   "id": "d1028489",
   "metadata": {},
   "outputs": [
    {
     "name": "stdout",
     "output_type": "stream",
     "text": []
    }
   ],
   "source": [
    "x = 0:2:20\n",
    "y_true = 4 .* x .- 2\n",
    "noise = Random.rand(di.Normal(0, sigma), length(x))\n",
    "y_observed = y_true .+ noise\n",
    "\n",
    "# Compute new likelihood values\n",
    "likelihood_values = [likelihood(m, b, x, y_observed, sigma) for m in m_range, b in b_range]\n",
    "\n",
    "# Plot the new likelihood\n",
    "contour(m_range, b_range, likelihood_values, xlabel=\"Slope (m)\", ylabel=\"Intercept (b)\", title=\"Likelihood with x = 0:2:20\", color=:viridis)\n"
   ]
  },
  {
   "cell_type": "markdown",
   "id": "cf49354e",
   "metadata": {},
   "source": []
  },
  {
   "cell_type": "markdown",
   "id": "00eb3d9e",
   "metadata": {},
   "source": [
    "### 2.8\n",
    "\n",
    "Change x back to x = 0:1:10\n",
    "\n",
    "1. Redefine sigma = 6 and update y_observed. Plot the likelihood with the new y_observed and explain how the plot is different from 2.6\n",
    "2. Redefine sigma = 1.5 and update y_observed. Plot the likelihood with the new y_observed and explain how the plot is different from 2.6"
   ]
  },
  {
   "cell_type": "code",
   "execution_count": 52,
   "id": "97327480",
   "metadata": {},
   "outputs": [
    {
     "name": "stdout",
     "output_type": "stream",
     "text": []
    }
   ],
   "source": [
    "x = 0:1:10\n",
    "sigma = 6\n",
    "y_true = 4 .* x .- 2\n",
    "noise = Random.rand(di.Normal(0, sigma), length(x))\n",
    "y_observed = y_true .+ noise\n",
    "\n",
    "# Compute new likelihood values\n",
    "likelihood_values = [likelihood(m, b, x, y_observed, sigma) for m in m_range, b in b_range]\n",
    "\n",
    "# Plot the new likelihood\n",
    "contour(m_range, b_range, likelihood_values, xlabel=\"Slope (m)\", ylabel=\"Intercept (b)\", title=\"Likelihood with sigma = 6\", color=:viridis)\n"
   ]
  },
  {
   "cell_type": "markdown",
   "id": "04b13298",
   "metadata": {},
   "source": []
  },
  {
   "cell_type": "code",
   "execution_count": 54,
   "id": "0bad212f",
   "metadata": {},
   "outputs": [
    {
     "name": "stdout",
     "output_type": "stream",
     "text": []
    },
    {
     "name": "stderr",
     "output_type": "stream",
     "text": [
      "attempt to save state beyond implementation limit\n",
      "attempt to save state beyond implementation limit\n",
      "attempt to save state beyond implementation limit\n"
     ]
    }
   ],
   "source": [
    "sigma = 1.5\n",
    "y_true = 4 .* x .- 2\n",
    "noise = Random.rand(di.Normal(0, sigma), length(x))\n",
    "y_observed = y_true .+ noise\n",
    "\n",
    "# Compute new likelihood values\n",
    "likelihood_values = [likelihood(m, b, x, y_observed, sigma) for m in m_range, b in b_range]\n",
    "\n",
    "# Plot the new likelihood\n",
    "contour(m_range, b_range, likelihood_values, xlabel=\"Slope (m)\", ylabel=\"Intercept (b)\", title=\"Likelihood with sigma = 1.5\", color=:viridis)\n"
   ]
  },
  {
   "cell_type": "markdown",
   "id": "7fb95b7a",
   "metadata": {},
   "source": []
  }
 ],
 "metadata": {
  "kernelspec": {
   "display_name": "Julia 1.11.3",
   "language": "julia",
   "name": "julia-1.11"
  },
  "language_info": {
   "file_extension": ".jl",
   "mimetype": "application/julia",
   "name": "julia",
   "version": "1.11.3"
  }
 },
 "nbformat": 4,
 "nbformat_minor": 5
}
