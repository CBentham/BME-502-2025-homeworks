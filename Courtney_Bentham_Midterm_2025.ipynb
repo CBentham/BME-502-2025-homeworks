{
 "cells": [
  {
   "cell_type": "markdown",
   "id": "d215c5da-15b4-4fa7-9c46-f66a70fc1809",
   "metadata": {},
   "source": [
    "## Midterm BME 502 2025"
   ]
  },
  {
   "cell_type": "markdown",
   "id": "427d2fd8-4718-470b-acf0-49d28537d269",
   "metadata": {},
   "source": [
    "In this midterm exam, you are tasked to develop a method to tell whether data is better described by a line fit or a sigmoidal fit."
   ]
  },
  {
   "cell_type": "code",
   "execution_count": null,
   "id": "67c13ce5-256a-491a-9ba4-bf74bb16b695",
   "metadata": {},
   "outputs": [],
   "source": [
    "import Pkg\n",
    "Pkg.activate(\".\")"
   ]
  },
  {
   "cell_type": "code",
   "execution_count": null,
   "id": "5db81cf0-9a50-4e27-9dec-da90e8e38230",
   "metadata": {},
   "outputs": [],
   "source": [
    "Pkg.add([\"Plots\",\"Distributions\",\"Random\",\"Statistics\",\"NonlinearSolve\",\"ForwardDiff\", \"Optim\"])"
   ]
  },
  {
   "cell_type": "code",
   "execution_count": null,
   "id": "8cb70db7-0496-4df3-97df-0d66d5068c64",
   "metadata": {},
   "outputs": [],
   "source": [
    "using Plots, Distributions, Random, Statistics, NonlinearSolve, ForwardDiff, LinearAlgebra"
   ]
  },
  {
   "cell_type": "code",
   "execution_count": null,
   "id": "f9df96f9-2e4e-44a2-819d-2f599fee9e0a",
   "metadata": {},
   "outputs": [],
   "source": [
    "line_fit(x,p) = p[1] .+ p[2] .* x"
   ]
  },
  {
   "cell_type": "code",
   "execution_count": null,
   "id": "05a2d16d-b1fe-4e89-a85a-4a13ebdb1552",
   "metadata": {},
   "outputs": [],
   "source": [
    "sigmoid_fit(x,p) = p[1] .+ p[2] ./ (1 .+ exp.(-p[3]*(x .- p[4])))"
   ]
  },
  {
   "cell_type": "markdown",
   "id": "9c696120-6a34-4118-a23c-a70e3e7d8796",
   "metadata": {},
   "source": [
    "Let's create some plots to see how these functions look"
   ]
  },
  {
   "cell_type": "code",
   "execution_count": null,
   "id": "b3c68264-636c-4a1b-a985-7bb486c8db0f",
   "metadata": {},
   "outputs": [],
   "source": [
    "x = 0:0.1:10"
   ]
  },
  {
   "cell_type": "code",
   "execution_count": null,
   "id": "91b0f4b8-7853-4714-8fcf-01f398f54e41",
   "metadata": {},
   "outputs": [],
   "source": [
    "y_line = line_fit(x,[2,0.5])"
   ]
  },
  {
   "cell_type": "code",
   "execution_count": null,
   "id": "03c54986-22af-47c6-aaf4-62b29447d89a",
   "metadata": {},
   "outputs": [],
   "source": [
    "y_sigmoid = sigmoid_fit(x,[2.5,3.5,0.1,5.5])"
   ]
  },
  {
   "cell_type": "code",
   "execution_count": null,
   "id": "ee442b35-2a63-45e3-ae60-2b36b7d62fbd",
   "metadata": {},
   "outputs": [],
   "source": [
    "y_line = line_fit(x,[2,0.5])\n",
    "y_sigmoid = sigmoid_fit(x,[2.2,4.7,1,5.0])\n",
    "plot(x, y_line, label = \"line\")\n",
    "plot!(x, y_sigmoid, label = \"sigmoid\")"
   ]
  },
  {
   "cell_type": "markdown",
   "id": "7e0a06dd-360e-4016-a6cb-bbf51be1082f",
   "metadata": {},
   "source": [
    "Let us add some serious noise to it"
   ]
  },
  {
   "cell_type": "code",
   "execution_count": null,
   "id": "1c9427d0-03c8-4554-825e-f92e729dc58f",
   "metadata": {},
   "outputs": [],
   "source": [
    "nd = Normal(0,5)\n",
    "x_line = 10*rand(200)\n",
    "y_line_n = line_fit(x_line,[2,0.5]) .+ rand(nd,length(x_line))\n",
    "x_sigmoid = 10*rand(200)\n",
    "y_sigmoid_n = sigmoid_fit(x_sigmoid,[2.2,4.7,1,5.0]) .+ rand(nd,length(x_sigmoid))"
   ]
  },
  {
   "cell_type": "code",
   "execution_count": null,
   "id": "edf2ecad-1c33-477c-a7a2-fa8a3937253e",
   "metadata": {},
   "outputs": [],
   "source": [
    "plot(x, y_line, label = \"line\")\n",
    "scatter!(x_line, y_line_n, label = \"line data\")"
   ]
  },
  {
   "cell_type": "code",
   "execution_count": null,
   "id": "9d292b9b-6221-48bc-93fb-f8cee18a871c",
   "metadata": {},
   "outputs": [],
   "source": [
    "plot(x, y_sigmoid, label = \"sigmoid\")\n",
    "scatter!(x_sigmoid, y_sigmoid_n, label = \"data\")"
   ]
  },
  {
   "cell_type": "code",
   "execution_count": null,
   "id": "18aa2fb3-b927-49a2-9b26-58f7b4c2c2de",
   "metadata": {},
   "outputs": [],
   "source": [
    "# let's plot it all together\n",
    "plot(x, y_line, label = \"line\")\n",
    "scatter!(x_line, y_line_n, label = \"line data\")\n",
    "plot!(x, y_sigmoid, label = \"sigmoid\")\n",
    "scatter!(x_sigmoid, y_sigmoid_n, label = \"sigmoid data\")"
   ]
  },
  {
   "cell_type": "markdown",
   "id": "9b5c671f-7b6c-4b75-9c52-37358401c8f0",
   "metadata": {},
   "source": [
    "# Question:\n",
    "\n",
    "If you take the sigmoid data, which fit is better? The linear or sigmoid?\n",
    "\n",
    "How uncertain are the parameters?\n",
    "\n",
    "At what noise level are the two fits equally likely?"
   ]
  },
  {
   "cell_type": "markdown",
   "id": "dbf30f75-0dda-4a8e-9828-556ffc5af2d2",
   "metadata": {},
   "source": [
    "# Part 1 (20 points)\n",
    "Create a function line_fitting(x,y; sigma=[]) that returns the best parameters and the covariance matrix.  The standard deviation of the measurement error, sigma, can be supplied as a number (assuming that all measurements share the same error) or as a vector with the same length as y. If sigma (standard deviation of measurement error) is not specified (sigma=[]), estimate the measurement error using the sum of least squares to estimate $\\mathcal{X}^2$."
   ]
  },
  {
   "cell_type": "code",
   "execution_count": 64,
   "id": "2cb8b567",
   "metadata": {},
   "outputs": [
    {
     "data": {
      "text/plain": [
       "line_fitting (generic function with 1 method)"
      ]
     },
     "metadata": {},
     "output_type": "display_data"
    }
   ],
   "source": [
    "function line_fitting(x, y; sigma=[])\n",
    "    #Parameters initial guess\n",
    "    p0 = [1.0, 2.0]\n",
    "\n",
    "    #Fit the model to the data\n",
    "    fit = curve_fit(line_fit, x, y, p0)\n",
    "    #Best-fit parameters\n",
    "    p_fit = fit.param\n",
    "\n",
    "    #Define the residuals function\n",
    "    local_residuals(p) = y .- line_fit(x, p)\n",
    "\n",
    "    #Estimation of sigma if it is not given\n",
    "    if isempty(sigma)\n",
    "        #Calculate residuals and use their standard deviation as the error estimate\n",
    "        residuals = local_residuals(p_fit)\n",
    "       \n",
    "        #Estimate sigma as the std of residuals (least squares)\n",
    "        sigma_value = std(residuals)\n",
    "        sigma = sigma_value * ones(length(x))  # Assign sigma for each data point\n",
    "       \n",
    "        println(\"Estimated sigma: \", sigma[1])\n",
    "    end\n",
    "   \n",
    "    #Calculate chi-squared\n",
    "    chi2 = p -> sum((local_residuals(p) ./ sigma).^2)\n",
    "\n",
    "    #Hessian matrix\n",
    "    hess = ForwardDiff.hessian(chi2, p_fit)\n",
    "   \n",
    "    #Covariance matrix (inverse of the Hessian matrix)\n",
    "    covariance_matrix = inv(2 * hess)\n",
    "   \n",
    "    #Errors (standard deviations of the parameters)\n",
    "    errors = sqrt.(diag(covariance_matrix))\n",
    "   \n",
    "    #Final chi-squared value\n",
    "    chi2_val = chi2(p_fit)\n",
    "\n",
    "    return p_fit, covariance_matrix, chi2_val, errors\n",
    "end"
   ]
  },
  {
   "cell_type": "code",
   "execution_count": 67,
   "id": "536812c3",
   "metadata": {},
   "outputs": [
    {
     "name": "stdout",
     "output_type": "stream",
     "text": [
      "Estimated sigma: 0.09528172098044049\n",
      "Parameters: [1.0043035703464787, 1.9975504306648506]\n",
      "Covariance Matrix: [4.432650300575068e-5 -7.0338568942292124e-6; -7.033856894229213e-6 1.5002357679045474e-6]\n",
      "Chi2 value: 199.00000000000006\n",
      "Errors: [0.00665781518260688, 0.0012248411194536815]\n",
      "Reduced chi-squared: 1.0050505050505054\n"
     ]
    }
   ],
   "source": [
    "x = 10 .* rand(200)\n",
    "p = [1.0, 2.0]\n",
    "line_fit(x, p) = p[1] .+ p[2] .* x\n",
    "y_exp = line_fit(x, p) .+ 0.1 .* randn(length(x))\n",
    "\n",
    "#Call the line_fitting function with the data (if sigma is not specified, the estimated sigma will be shown)\n",
    "p_fit, covariance_matrix, chi2_val, errors = line_fitting(x, y_exp)\n",
    "\n",
    "println(\"Parameters: \", p_fit)\n",
    "println(\"Covariance Matrix: \", covariance_matrix)\n",
    "println(\"Chi2 value: \", chi2_val)\n",
    "println(\"Errors: \", errors)\n",
    "reduced_chi2 = chi2_val ./ (length(y_exp) .- length(p_fit))\n",
    "println(\"Reduced chi-squared: \", reduced_chi2)\n"
   ]
  },
  {
   "cell_type": "markdown",
   "id": "a47c76ec-e949-482e-adf3-a95ea8673265",
   "metadata": {},
   "source": [
    "# Part 2 (20 points)\n",
    "Similarily, create a function sigmoid_fitting(x,y; sigma=[]) that returns the best parameters and the covariance matrix. Treat sigma the same way as in Part 1."
   ]
  },
  {
   "cell_type": "code",
   "execution_count": 68,
   "id": "854e67d6",
   "metadata": {},
   "outputs": [
    {
     "data": {
      "text/plain": [
       "sigmoid_fitting (generic function with 1 method)"
      ]
     },
     "metadata": {},
     "output_type": "display_data"
    }
   ],
   "source": [
    "using LsqFit, Plots, Distributions, Random, Statistics, NonlinearSolve, ForwardDiff, LinearAlgebra\n",
    "sigmoid_fit(x, p) = p[1] .+ p[2] ./ (1 .+ exp.(-p[3] .* (x .- p[4])))\n",
    "\n",
    "function sigmoid_fitting(x, y; sigma=[])\n",
    "    # Initial guess for parameters [offset, scale, steepness, midpoint]\n",
    "    p0 = [0.0, 1.0, 1.0, 5.0]  # Adjust initial guess as needed\n",
    "\n",
    "    # Fit the model to the data\n",
    "    fit = curve_fit(sigmoid_fit, x, y, p0)\n",
    "    # Best-fit parameters\n",
    "    p_fit = fit.param\n",
    "\n",
    "    # Define the residuals function\n",
    "    local_residuals(p) = y .- sigmoid_fit(x, p)  # Use sigmoid_fit here\n",
    "\n",
    "    # Estimation of sigma if it is not given\n",
    "    if isempty(sigma)\n",
    "        # Calculate residuals and use their standard deviation as the error estimate\n",
    "        residuals = local_residuals(p_fit)\n",
    "       \n",
    "        # Estimate sigma as the std of residuals (least squares)\n",
    "        sigma_value = std(residuals)\n",
    "        sigma = sigma_value * ones(length(x))  # Assign sigma for each data point\n",
    "       \n",
    "        println(\"Estimated sigma: \", sigma[1])\n",
    "    end\n",
    "   \n",
    "    # Calculate chi-squared\n",
    "    chi2 = p -> sum((local_residuals(p) ./ sigma).^2)\n",
    "\n",
    "    # Compute Hessian matrix using ForwardDiff\n",
    "    hess = ForwardDiff.hessian(chi2, p_fit)\n",
    "   \n",
    "    # Covariance matrix (inverse of the Hessian matrix)\n",
    "    covariance_matrix = inv(2 * hess)\n",
    "   \n",
    "    # Errors (standard deviations of the parameters)\n",
    "    errors = sqrt.(diag(covariance_matrix))\n",
    "   \n",
    "    # Final chi-squared value\n",
    "    chi2_val = chi2(p_fit)\n",
    "\n",
    "    return p_fit, covariance_matrix, chi2_val, errors\n",
    "end"
   ]
  },
  {
   "cell_type": "code",
   "execution_count": 70,
   "id": "a916ea35",
   "metadata": {},
   "outputs": [
    {
     "name": "stdout",
     "output_type": "stream",
     "text": [
      "Estimated sigma: 0.10481378023121948\n",
      "Parameters: [1.9957183404299408, 1.0163492369215665, 2.6207255072534155, 5.00142693664567]\n",
      "Covariance Matrix: [3.6593514399374835e-5 -3.915222439708643e-5 0.00026425996548565007 4.523243311969598e-5; -3.915222439708642e-5 8.394874682657246e-5 -0.00048219632346817667 -5.391559076853324e-6; 0.00026425996548565023 -0.0004821963234681767 0.013171658236892751 0.00041859145293560857; 4.523243311969598e-5 -5.391559076853328e-6 0.00041859145293560716 0.00039699180319909157]\n",
      "Chi2 value: 198.99999999999997\n",
      "Errors: [0.00604925734279629, 0.00916235487342487, 0.11476784496056704, 0.019924653151287015]\n",
      "Reduced chi-squared: 1.0153061224489794\n"
     ]
    }
   ],
   "source": [
    "x = 10 .* rand(200)\n",
    "p = [2.0, 1.0, 3.0, 5.0]  # Example parameters for the sigmoid model\n",
    "y_exp = p[1] .+ p[2] ./ (1 .+ exp.(-p[3] .* (x .- p[4]))) .+ 0.1 .* randn(length(x))\n",
    "\n",
    "# Call the sigmoid_fitting function with the data (if sigma is not specified, the estimated sigma will be shown)\n",
    "p_fit, covariance_matrix, chi2_val, errors = sigmoid_fitting(x, y_exp)\n",
    "\n",
    "println(\"Parameters: \", p_fit)\n",
    "println(\"Covariance Matrix: \", covariance_matrix)\n",
    "println(\"Chi2 value: \", chi2_val)\n",
    "println(\"Errors: \", errors)\n",
    "reduced_chi2 = chi2_val / (length(y_exp) - length(p_fit))\n",
    "println(\"Reduced chi-squared: \", reduced_chi2)"
   ]
  },
  {
   "cell_type": "markdown",
   "id": "4b6a0cff-b3a5-4e34-b9e1-fb4953ef4dae",
   "metadata": {},
   "source": [
    "# Part 3 (30 points)\n",
    "Create a function p_ratio_sig_line(x,y; sigma=[]) that returns the Posterior ratio between a fit to a sigmoid and to a line.  Treat sigma the same way as in Part 1-2."
   ]
  },
  {
   "cell_type": "code",
   "execution_count": 71,
   "id": "9c64312f",
   "metadata": {},
   "outputs": [
    {
     "data": {
      "text/plain": [
       "p_ratio_sig_line (generic function with 1 method)"
      ]
     },
     "metadata": {},
     "output_type": "display_data"
    }
   ],
   "source": [
    "# Define models\n",
    "line_fit(x, p) = p[1] .* x .+ p[2]\n",
    "sigmoid_fit(x, p) = p[1] .+ p[2] ./ (1 .+ exp.(-p[3] .* (x .- p[4])))\n",
    "\n",
    "# Posterior ratio between sigmoid and line fit\n",
    "function p_ratio_sig_line(x, y; sigma=[])\n",
    "    function fit_model(fit_func, p0)\n",
    "        fit = curve_fit(fit_func, x, y, p0)\n",
    "        p_fit = fit.param\n",
    "        residuals = y .- fit_func(x, p_fit)\n",
    "        σ = isempty(sigma) ? std(residuals) * ones(length(x)) :\n",
    "             (length(sigma) == 1 ? fill(sigma, length(x)) : sigma)\n",
    "        chi2 = sum((residuals ./ σ).^2)\n",
    "        logL = -0.5 * chi2\n",
    "        bic = length(p_fit) * log(length(y)) - 2 * logL\n",
    "        return bic\n",
    "    end\n",
    "\n",
    "    bic_line = fit_model(line_fit, [1.0, 1.0])\n",
    "    bic_sigmoid = fit_model(sigmoid_fit, [1.0, 2.0, 1.0, 5.0])\n",
    "    return exp((bic_line - bic_sigmoid) / 2)\n",
    "end\n",
    "\n"
   ]
  },
  {
   "cell_type": "code",
   "execution_count": 74,
   "id": "d0e61379",
   "metadata": {},
   "outputs": [
    {
     "name": "stdout",
     "output_type": "stream",
     "text": [
      "Posterior Ratio (Sigmoid vs Line): 0.004999999999999731\n"
     ]
    }
   ],
   "source": [
    "x = 10 .* rand(200)\n",
    "p_sig = [1.0, 2.0, 1.5, 5.0]\n",
    "y = sigmoid_fit(x, p_sig) .+ 0.1 .* randn(length(x))\n",
    "\n",
    "posterior_ratio = p_ratio_sig_line(x, y)\n",
    "println(\"Posterior Ratio (Sigmoid vs Line): \", posterior_ratio)"
   ]
  },
  {
   "cell_type": "markdown",
   "id": "7e02ec20-71fe-4e78-9dc4-ff16b7d55e55",
   "metadata": {},
   "source": [
    "# Part 4 (30 points)\n",
    "Create a function sig_p_ratio_is_one(x,y; sigma=[]) that returns the measurement error (either as a number or array depending on how the sigma is supplied) that would result in a posterior ratio between sigmoid and line of one. If sigma is not provided (sigma=[]), proceed as in Part 1-3."
   ]
  },
  {
   "cell_type": "code",
   "execution_count": null,
   "id": "4ff38eee-14a7-49bc-b562-d04c904dc7bb",
   "metadata": {},
   "outputs": [
    {
     "data": {
      "text/plain": [
       "sig_p_ratio_is_one (generic function with 1 method)"
      ]
     },
     "metadata": {},
     "output_type": "display_data"
    }
   ],
   "source": [
    "using LsqFit, ForwardDiff, Statistics, Optim\n",
    "\n",
    "function sig_p_ratio_is_one(x, y; sigma=[])\n",
    "    #Define models\n",
    "    line_fit(x, p) = p[1] .* x .+ p[2]\n",
    "    sigmoid_fit(x, p) = p[1] .+ p[2] ./ (1 .+ exp.(-p[3] .* (x .- p[4])))\n",
    "\n",
    "    #BIC calculation\n",
    "    function compute_bic(fit_func, p0, x, y, sigma)\n",
    "        fit = curve_fit(fit_func, x, y, p0)\n",
    "        residuals = y .- fit_func(x, fit.param)\n",
    "        chi2 = sum((residuals ./ sigma).^2)\n",
    "        log_likelihood = -0.5 * chi2\n",
    "        k = length(fit.param)\n",
    "        bic = k * log(length(y)) - 2 * log_likelihood\n",
    "        return bic\n",
    "    end\n",
    "\n",
    "    #Estimate sigma if not provided\n",
    "    if isempty(sigma)\n",
    "        p0_line = [1.0, 1.0]\n",
    "        fit_line = curve_fit(line_fit, x, y, p0_line)\n",
    "        residuals = y .- line_fit(x, fit_line.param)\n",
    "        sigma = std(residuals)\n",
    "    end\n",
    "\n",
    "    #Function to find sigma that makes posterior ratio = 1\n",
    "    function diff_in_bic(log_sigma)\n",
    "        test_sigma = fill(exp(log_sigma), length(y))\n",
    "        bic_line = compute_bic(line_fit, [1.0, 1.0], x, y, test_sigma)\n",
    "        bic_sigmoid = compute_bic(sigmoid_fit, [1.0, 2.0, 1.0, 5.0], x, y, test_sigma)\n",
    "        return (bic_line - bic_sigmoid) / 2  # log posterior ratio\n",
    "    end\n",
    "\n",
    "    #Optimize log(sigma) to find where posterior ratio = 1\n",
    "    result = Optim.optimize(x -> abs(diff_in_bic(x)), log(1e-3), log(10.0))\n",
    "    optimal_log_sigma = Optim.minimizer(result)\n",
    "    optimal_sigma = exp(optimal_log_sigma)\n",
    "\n",
    "    return fill(optimal_sigma, length(y))\n",
    "end"
   ]
  },
  {
   "cell_type": "code",
   "execution_count": 59,
   "id": "142ed5c7",
   "metadata": {},
   "outputs": [
    {
     "name": "stdout",
     "output_type": "stream",
     "text": [
      "Estimated sigma where posterior ratio is 1: 1.1732533487047951\n"
     ]
    }
   ],
   "source": [
    "x = 10 .* rand(200)\n",
    "true_params = [1.0, 2.0, 1.5, 5.0]\n",
    "sigmoid_fit(x, p) = p[1] .+ p[2] ./ (1 .+ exp.(-p[3] .* (x .- p[4])))\n",
    "y = sigmoid_fit(x, true_params) .+ 0.1 .* randn(length(x))\n",
    "\n",
    "sigma_balance = sig_p_ratio_is_one(x, y)\n",
    "println(\"Estimated sigma where posterior ratio is 1: \", sigma_balance[1])\n"
   ]
  },
  {
   "cell_type": "code",
   "execution_count": 35,
   "id": "22517888",
   "metadata": {},
   "outputs": [
    {
     "name": "stderr",
     "output_type": "stream",
     "text": [
      "\u001b[32m\u001b[1m   Resolving\u001b[22m\u001b[39m package versions...\n",
      "\u001b[32m\u001b[1m   Installed\u001b[22m\u001b[39m Roots ─ v2.2.7\n",
      "\u001b[32m\u001b[1m    Updating\u001b[22m\u001b[39m `C:\\Users\\steal\\Downloads\\Zero2Hero-JuliaWorkshop-main\\BME-502-2025-homeworks\\Project.toml`\n",
      "  \u001b[90m[f2b01f46] \u001b[39m\u001b[92m+ Roots v2.2.7\u001b[39m\n",
      "\u001b[32m\u001b[1m    Updating\u001b[22m\u001b[39m `C:\\Users\\steal\\Downloads\\Zero2Hero-JuliaWorkshop-main\\BME-502-2025-homeworks\\Manifest.toml`\n",
      "  \u001b[90m[f2b01f46] \u001b[39m\u001b[93m↑ Roots v2.2.5 ⇒ v2.2.7\u001b[39m\n",
      "\u001b[92m\u001b[1mPrecompiling\u001b[22m\u001b[39m project...\n",
      "   7314.4 ms\u001b[32m  ✓ \u001b[39mRoots\n",
      "   1928.9 ms\u001b[32m  ✓ \u001b[39mRoots → RootsChainRulesCoreExt\n",
      "   3125.1 ms\u001b[32m  ✓ \u001b[39mRoots → RootsForwardDiffExt\n",
      "   8747.8 ms\u001b[32m  ✓ \u001b[39m\u001b[90mBijectors\u001b[39m\n",
      "   4344.0 ms\u001b[32m  ✓ \u001b[39m\u001b[90mBijectors → BijectorsEnzymeCoreExt\u001b[39m\n",
      "   4536.7 ms\u001b[32m  ✓ \u001b[39m\u001b[90mBijectors → BijectorsForwardDiffExt\u001b[39m\n",
      "   4719.9 ms\u001b[32m  ✓ \u001b[39m\u001b[90mBijectors → BijectorsDistributionsADExt\u001b[39m\n",
      "   4762.1 ms\u001b[32m  ✓ \u001b[39m\u001b[90mBijectors → BijectorsLazyArraysExt\u001b[39m\n",
      "   7129.4 ms\u001b[32m  ✓ \u001b[39m\u001b[90mBijectors → BijectorsTrackerExt\u001b[39m\n",
      "   6381.8 ms\u001b[32m  ✓ \u001b[39m\u001b[90mAdvancedVI\u001b[39m\n",
      "  20305.4 ms\u001b[32m  ✓ \u001b[39m\u001b[90mDynamicPPL\u001b[39m\n",
      "   5555.0 ms\u001b[32m  ✓ \u001b[39m\u001b[90mDynamicPPL → DynamicPPLChainRulesCoreExt\u001b[39m\n",
      "   5643.9 ms\u001b[32m  ✓ \u001b[39m\u001b[90mDynamicPPL → DynamicPPLEnzymeCoreExt\u001b[39m\n",
      "   5807.9 ms\u001b[32m  ✓ \u001b[39m\u001b[90mDynamicPPL → DynamicPPLForwardDiffExt\u001b[39m\n",
      "   7821.9 ms\u001b[32m  ✓ \u001b[39m\u001b[90mDynamicPPL → DynamicPPLZygoteRulesExt\u001b[39m\n",
      "   8158.9 ms\u001b[32m  ✓ \u001b[39m\u001b[90mDynamicPPL → DynamicPPLMCMCChainsExt\u001b[39m\n",
      "  12439.2 ms\u001b[32m  ✓ \u001b[39mTuring\n",
      "   7862.5 ms\u001b[32m  ✓ \u001b[39mTuring → TuringOptimExt\n",
      "  18 dependencies successfully precompiled in 71 seconds. 524 already precompiled.\n"
     ]
    }
   ],
   "source": [
    "import Pkg; Pkg.add(\"Roots\")"
   ]
  },
  {
   "cell_type": "markdown",
   "id": "7c788c67",
   "metadata": {},
   "source": [
    "This is a quicker alternative to the above code for Part 4:"
   ]
  },
  {
   "cell_type": "code",
   "execution_count": 60,
   "id": "639276d7",
   "metadata": {},
   "outputs": [
    {
     "data": {
      "text/plain": [
       "p_ratio_sig_line (generic function with 1 method)"
      ]
     },
     "metadata": {},
     "output_type": "display_data"
    }
   ],
   "source": [
    "using LsqFit, Statistics\n",
    "\n",
    "function p_ratio_sig_line(x, y; sigma, lambda_beta=1.0)\n",
    "    #Define models\n",
    "    line_fit(x, p) = p[1] .* x .+ p[2]\n",
    "    sigmoid_fit(x, p) = p[1] .+ p[2] ./ (1 .+ exp.(-p[3] .* (x .- p[4])))\n",
    "\n",
    "    #Helper for BIC\n",
    "    function compute_bic(fit_func, p0, x, y, sigma)\n",
    "        fit = curve_fit(fit_func, x, y, p0)\n",
    "        residuals = y .- fit_func(x, fit.param)\n",
    "        chi2 = sum((residuals ./ sigma).^2)\n",
    "        logL = -0.5 * chi2\n",
    "        k = length(fit.param)\n",
    "        n = length(y)\n",
    "        bic = k * log(n) - 2 * logL\n",
    "        return bic\n",
    "    end\n",
    "\n",
    "    #Making sure sigma is an array\n",
    "    if !isa(sigma, AbstractArray)\n",
    "        sigma = fill(sigma, length(y))\n",
    "    end\n",
    "\n",
    "    #Compute BICs\n",
    "    bic_line = compute_bic(line_fit, [1.0, 1.0], x, y, sigma)\n",
    "    bic_sigmoid = compute_bic(sigmoid_fit, [1.0, 2.0, 1.0, 5.0], x, y, sigma)\n",
    "\n",
    "    #Return posterior ratio\n",
    "    return exp(-0.5 * (bic_sigmoid - bic_line))\n",
    "end\n"
   ]
  },
  {
   "cell_type": "code",
   "execution_count": 63,
   "id": "0aed253d",
   "metadata": {},
   "outputs": [
    {
     "name": "stdout",
     "output_type": "stream",
     "text": [
      "Sigma where posterior ratio is 1: 1.2130972659969494\n",
      "Posterior ratio at that sigma: 1.0\n"
     ]
    }
   ],
   "source": [
    "using Roots\n",
    "\n",
    "function sig_p_ratio_is_one(x, y; sigma = [], lambda_beta=1.0)\n",
    "    f(s) = p_ratio_sig_line(x, y; sigma=s, lambda_beta=lambda_beta) - 1\n",
    "    root = find_zero(f, 1.0, Order1())  # Or use Bisection() with interval\n",
    "    return root\n",
    "end\n",
    "\n",
    "# Example test\n",
    "x = 10 .* rand(200)\n",
    "true_params = [1.0, 2.0, 1.5, 5.0]\n",
    "sigmoid_fit(x, p) = p[1] .+ p[2] ./ (1 .+ exp.(-p[3] .* (x .- p[4])))\n",
    "y = sigmoid_fit(x, true_params) .+ 0.2 .* randn(length(x))\n",
    "\n",
    "sol = sig_p_ratio_is_one(x, y)\n",
    "println(\"Sigma where posterior ratio is 1: \", sol)\n",
    "\n",
    "ratio = p_ratio_sig_line(x, y; sigma=sol)\n",
    "println(\"Posterior ratio at that sigma: \", ratio)\n"
   ]
  },
  {
   "cell_type": "markdown",
   "id": "a16fcae5-d30d-4949-80bd-7b6296339969",
   "metadata": {},
   "source": [
    "## Programming Advice:\n",
    "To make your program more efficient you should think about creating functions that provide information that you can use for all of the parts.  Don't write each function individually, but think what are the common task that need to be done, and then call these more general functions, to get you the result for the specific questions.  I will reward good programming style with a bonus 10 points total."
   ]
  },
  {
   "cell_type": "code",
   "execution_count": null,
   "id": "b2031104-7374-4f89-87ee-e715097abe98",
   "metadata": {},
   "outputs": [],
   "source": []
  }
 ],
 "metadata": {
  "kernelspec": {
   "display_name": "Julia 1.11.3",
   "language": "julia",
   "name": "julia-1.11"
  },
  "language_info": {
   "file_extension": ".jl",
   "mimetype": "application/julia",
   "name": "julia",
   "version": "1.11.3"
  }
 },
 "nbformat": 4,
 "nbformat_minor": 5
}
