{
 "cells": [
  {
   "cell_type": "code",
   "execution_count": null,
   "id": "47528c12",
   "metadata": {},
   "outputs": [],
   "source": [
    "using CSV\n",
    "using DataFrames\n",
    "using StatsModels\n",
    "using GLM\n",
    "using StatsPlots\n",
    "using HypothesisTests\n"
   ]
  }
 ],
 "metadata": {
  "language_info": {
   "name": "python"
  }
 },
 "nbformat": 4,
 "nbformat_minor": 5
}
