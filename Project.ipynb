{
 "cells": [
  {
   "cell_type": "code",
   "execution_count": 1,
   "id": "2d5224e3",
   "metadata": {},
   "outputs": [
    {
     "name": "stderr",
     "output_type": "stream",
     "text": [
      "\u001b[32m\u001b[1m  Activating\u001b[22m\u001b[39m project at `c:\\Users\\steal\\Downloads\\Zero2Hero-JuliaWorkshop-main\\BME-502-2025-homeworks`\n",
      "\u001b[32m\u001b[1m    Updating\u001b[22m\u001b[39m registry at `C:\\Users\\steal\\.julia\\registries\\General.toml`\n",
      "\u001b[32m\u001b[1m   Resolving\u001b[22m\u001b[39m package versions...\n",
      "\u001b[32m\u001b[1m  No Changes\u001b[22m\u001b[39m to `C:\\Users\\steal\\Downloads\\Zero2Hero-JuliaWorkshop-main\\BME-502-2025-homeworks\\Project.toml`\n",
      "\u001b[32m\u001b[1m  No Changes\u001b[22m\u001b[39m to `C:\\Users\\steal\\Downloads\\Zero2Hero-JuliaWorkshop-main\\BME-502-2025-homeworks\\Manifest.toml`\n"
     ]
    }
   ],
   "source": [
    "import Pkg\n",
    "Pkg.activate(\".\")\n",
    "Pkg.add([\"Distributions\",\"Plots\",\"Statistics\",\"Turing\",\"StatsPlots\"])"
   ]
  },
  {
   "cell_type": "code",
   "execution_count": 2,
   "id": "8515246d",
   "metadata": {},
   "outputs": [],
   "source": [
    "using Turing, Statistics, Plots, StatsPlots, Distributions"
   ]
  },
  {
   "cell_type": "code",
   "execution_count": 3,
   "id": "b220938d",
   "metadata": {},
   "outputs": [
    {
     "data": {
      "text/plain": [
       "invlogit (generic function with 1 method)"
      ]
     },
     "metadata": {},
     "output_type": "display_data"
    }
   ],
   "source": [
    "invlogit(x) = exp(x)/(1+exp(x))"
   ]
  },
  {
   "cell_type": "code",
   "execution_count": null,
   "id": "f2d485d2",
   "metadata": {},
   "outputs": [],
   "source": [
    "dose = "
   ]
  }
 ],
 "metadata": {
  "kernelspec": {
   "display_name": "Julia 1.11.3",
   "language": "julia",
   "name": "julia-1.11"
  },
  "language_info": {
   "file_extension": ".jl",
   "mimetype": "application/julia",
   "name": "julia",
   "version": "1.11.3"
  }
 },
 "nbformat": 4,
 "nbformat_minor": 5
}
